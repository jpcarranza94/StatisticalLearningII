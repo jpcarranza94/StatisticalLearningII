{
 "cells": [
  {
   "cell_type": "markdown",
   "metadata": {},
   "source": [
    "## Maldición de la dimensionalidad"
   ]
  },
  {
   "cell_type": "markdown",
   "metadata": {},
   "source": [
    "Es un hecho conocido que en Machine Learning, al momento de que tenemos un aumento de features, la cantidad de parámetros puede incrementar muy rápidamente, hasta al punto en el que se vuelva poco práctico entrenar estos modelos. Al aumentar la cantidad de parámtros entrenables incrementa la posibilidad de que nuestro modelo sufra de overfitting, o sobreajuste, y este tenga un error de generalización mayor de lo deseado. Para combatir esto generalmente se suele recurrir a técnicas de regularización, o a tener que aumentar mucho la cantidad de datos en nuestro set de entrenamiento.\n",
    "\n",
    "A continuación se muestra cómo al utilizar un modelo de regresión polinomial que toma en cuenta los términos de interacción entre variables, al incrementar el grado del polinomio con el que se desea modelar los datos la cantidad de parámetros incrementa rápidamente.\n",
    "\n"
   ]
  },
  {
   "cell_type": "code",
   "execution_count": 1,
   "metadata": {},
   "outputs": [
    {
     "data": {
      "text/html": [
       "<div>\n",
       "<style scoped>\n",
       "    .dataframe tbody tr th:only-of-type {\n",
       "        vertical-align: middle;\n",
       "    }\n",
       "\n",
       "    .dataframe tbody tr th {\n",
       "        vertical-align: top;\n",
       "    }\n",
       "\n",
       "    .dataframe thead th {\n",
       "        text-align: right;\n",
       "    }\n",
       "</style>\n",
       "<table border=\"1\" class=\"dataframe\">\n",
       "  <thead>\n",
       "    <tr style=\"text-align: right;\">\n",
       "      <th></th>\n",
       "      <th>sepal_length</th>\n",
       "      <th>sepal_width</th>\n",
       "      <th>petal_length</th>\n",
       "      <th>petal_width</th>\n",
       "      <th>species</th>\n",
       "    </tr>\n",
       "  </thead>\n",
       "  <tbody>\n",
       "    <tr>\n",
       "      <th>0</th>\n",
       "      <td>5.1</td>\n",
       "      <td>3.5</td>\n",
       "      <td>1.4</td>\n",
       "      <td>0.2</td>\n",
       "      <td>setosa</td>\n",
       "    </tr>\n",
       "    <tr>\n",
       "      <th>1</th>\n",
       "      <td>4.9</td>\n",
       "      <td>3.0</td>\n",
       "      <td>1.4</td>\n",
       "      <td>0.2</td>\n",
       "      <td>setosa</td>\n",
       "    </tr>\n",
       "    <tr>\n",
       "      <th>2</th>\n",
       "      <td>4.7</td>\n",
       "      <td>3.2</td>\n",
       "      <td>1.3</td>\n",
       "      <td>0.2</td>\n",
       "      <td>setosa</td>\n",
       "    </tr>\n",
       "    <tr>\n",
       "      <th>3</th>\n",
       "      <td>4.6</td>\n",
       "      <td>3.1</td>\n",
       "      <td>1.5</td>\n",
       "      <td>0.2</td>\n",
       "      <td>setosa</td>\n",
       "    </tr>\n",
       "    <tr>\n",
       "      <th>4</th>\n",
       "      <td>5.0</td>\n",
       "      <td>3.6</td>\n",
       "      <td>1.4</td>\n",
       "      <td>0.2</td>\n",
       "      <td>setosa</td>\n",
       "    </tr>\n",
       "  </tbody>\n",
       "</table>\n",
       "</div>"
      ],
      "text/plain": [
       "   sepal_length  sepal_width  petal_length  petal_width species\n",
       "0           5.1          3.5           1.4          0.2  setosa\n",
       "1           4.9          3.0           1.4          0.2  setosa\n",
       "2           4.7          3.2           1.3          0.2  setosa\n",
       "3           4.6          3.1           1.5          0.2  setosa\n",
       "4           5.0          3.6           1.4          0.2  setosa"
      ]
     },
     "execution_count": 1,
     "metadata": {},
     "output_type": "execute_result"
    }
   ],
   "source": [
    "import seaborn as sns\n",
    "\n",
    "iris = sns.load_dataset('iris')\n",
    "iris.head()"
   ]
  },
  {
   "cell_type": "code",
   "execution_count": 2,
   "metadata": {},
   "outputs": [],
   "source": [
    "# Se importa la librería Polynomial features de sklearn para generar los features polinomiales\n",
    "from sklearn.preprocessing import PolynomialFeatures"
   ]
  },
  {
   "cell_type": "code",
   "execution_count": 10,
   "metadata": {},
   "outputs": [],
   "source": [
    "iris_4 = iris.drop('species', axis = 1)"
   ]
  },
  {
   "cell_type": "code",
   "execution_count": 12,
   "metadata": {
    "scrolled": true
   },
   "outputs": [
    {
     "data": {
      "text/html": [
       "<div>\n",
       "<style scoped>\n",
       "    .dataframe tbody tr th:only-of-type {\n",
       "        vertical-align: middle;\n",
       "    }\n",
       "\n",
       "    .dataframe tbody tr th {\n",
       "        vertical-align: top;\n",
       "    }\n",
       "\n",
       "    .dataframe thead th {\n",
       "        text-align: right;\n",
       "    }\n",
       "</style>\n",
       "<table border=\"1\" class=\"dataframe\">\n",
       "  <thead>\n",
       "    <tr style=\"text-align: right;\">\n",
       "      <th></th>\n",
       "      <th>sepal_length</th>\n",
       "      <th>sepal_width</th>\n",
       "      <th>petal_length</th>\n",
       "      <th>petal_width</th>\n",
       "    </tr>\n",
       "  </thead>\n",
       "  <tbody>\n",
       "    <tr>\n",
       "      <th>0</th>\n",
       "      <td>5.1</td>\n",
       "      <td>3.5</td>\n",
       "      <td>1.4</td>\n",
       "      <td>0.2</td>\n",
       "    </tr>\n",
       "    <tr>\n",
       "      <th>1</th>\n",
       "      <td>4.9</td>\n",
       "      <td>3.0</td>\n",
       "      <td>1.4</td>\n",
       "      <td>0.2</td>\n",
       "    </tr>\n",
       "    <tr>\n",
       "      <th>2</th>\n",
       "      <td>4.7</td>\n",
       "      <td>3.2</td>\n",
       "      <td>1.3</td>\n",
       "      <td>0.2</td>\n",
       "    </tr>\n",
       "    <tr>\n",
       "      <th>3</th>\n",
       "      <td>4.6</td>\n",
       "      <td>3.1</td>\n",
       "      <td>1.5</td>\n",
       "      <td>0.2</td>\n",
       "    </tr>\n",
       "    <tr>\n",
       "      <th>4</th>\n",
       "      <td>5.0</td>\n",
       "      <td>3.6</td>\n",
       "      <td>1.4</td>\n",
       "      <td>0.2</td>\n",
       "    </tr>\n",
       "    <tr>\n",
       "      <th>...</th>\n",
       "      <td>...</td>\n",
       "      <td>...</td>\n",
       "      <td>...</td>\n",
       "      <td>...</td>\n",
       "    </tr>\n",
       "    <tr>\n",
       "      <th>145</th>\n",
       "      <td>6.7</td>\n",
       "      <td>3.0</td>\n",
       "      <td>5.2</td>\n",
       "      <td>2.3</td>\n",
       "    </tr>\n",
       "    <tr>\n",
       "      <th>146</th>\n",
       "      <td>6.3</td>\n",
       "      <td>2.5</td>\n",
       "      <td>5.0</td>\n",
       "      <td>1.9</td>\n",
       "    </tr>\n",
       "    <tr>\n",
       "      <th>147</th>\n",
       "      <td>6.5</td>\n",
       "      <td>3.0</td>\n",
       "      <td>5.2</td>\n",
       "      <td>2.0</td>\n",
       "    </tr>\n",
       "    <tr>\n",
       "      <th>148</th>\n",
       "      <td>6.2</td>\n",
       "      <td>3.4</td>\n",
       "      <td>5.4</td>\n",
       "      <td>2.3</td>\n",
       "    </tr>\n",
       "    <tr>\n",
       "      <th>149</th>\n",
       "      <td>5.9</td>\n",
       "      <td>3.0</td>\n",
       "      <td>5.1</td>\n",
       "      <td>1.8</td>\n",
       "    </tr>\n",
       "  </tbody>\n",
       "</table>\n",
       "<p>150 rows × 4 columns</p>\n",
       "</div>"
      ],
      "text/plain": [
       "     sepal_length  sepal_width  petal_length  petal_width\n",
       "0             5.1          3.5           1.4          0.2\n",
       "1             4.9          3.0           1.4          0.2\n",
       "2             4.7          3.2           1.3          0.2\n",
       "3             4.6          3.1           1.5          0.2\n",
       "4             5.0          3.6           1.4          0.2\n",
       "..            ...          ...           ...          ...\n",
       "145           6.7          3.0           5.2          2.3\n",
       "146           6.3          2.5           5.0          1.9\n",
       "147           6.5          3.0           5.2          2.0\n",
       "148           6.2          3.4           5.4          2.3\n",
       "149           5.9          3.0           5.1          1.8\n",
       "\n",
       "[150 rows x 4 columns]"
      ]
     },
     "execution_count": 12,
     "metadata": {},
     "output_type": "execute_result"
    }
   ],
   "source": [
    "# 4 features originales del dataset iris\n",
    "iris_4"
   ]
  },
  {
   "cell_type": "code",
   "execution_count": 3,
   "metadata": {},
   "outputs": [],
   "source": [
    "degree_2 = PolynomialFeatures(2)"
   ]
  },
  {
   "cell_type": "code",
   "execution_count": 14,
   "metadata": {},
   "outputs": [],
   "source": [
    "degree_2_features = degree_2.fit_transform(iris_4)"
   ]
  },
  {
   "cell_type": "code",
   "execution_count": 16,
   "metadata": {},
   "outputs": [
    {
     "data": {
      "text/plain": [
       "15"
      ]
     },
     "execution_count": 16,
     "metadata": {},
     "output_type": "execute_result"
    }
   ],
   "source": [
    "# Observamos que al utilizar un polinomio grado 2 el número de features aumenta de 4 a 15\n",
    "degree_2_features.shape[1]"
   ]
  },
  {
   "cell_type": "code",
   "execution_count": 40,
   "metadata": {},
   "outputs": [
    {
     "name": "stdout",
     "output_type": "stream",
     "text": [
      "Cantidad de features de polynomio grado 2:15\n",
      "Cantidad de features de polynomio grado 3:35\n",
      "Cantidad de features de polynomio grado 4:70\n",
      "Cantidad de features de polynomio grado 5:126\n",
      "Cantidad de features de polynomio grado 6:210\n",
      "Cantidad de features de polynomio grado 7:330\n",
      "Cantidad de features de polynomio grado 8:495\n",
      "Cantidad de features de polynomio grado 9:715\n",
      "Cantidad de features de polynomio grado 10:1001\n",
      "Cantidad de features de polynomio grado 11:1365\n",
      "Cantidad de features de polynomio grado 12:1820\n",
      "Cantidad de features de polynomio grado 13:2380\n",
      "Cantidad de features de polynomio grado 14:3060\n",
      "Cantidad de features de polynomio grado 15:3876\n",
      "Cantidad de features de polynomio grado 16:4845\n",
      "Cantidad de features de polynomio grado 17:5985\n",
      "Cantidad de features de polynomio grado 18:7315\n",
      "Cantidad de features de polynomio grado 19:8855\n",
      "Cantidad de features de polynomio grado 20:10626\n",
      "Cantidad de features de polynomio grado 21:12650\n",
      "Cantidad de features de polynomio grado 22:14950\n",
      "Cantidad de features de polynomio grado 23:17550\n",
      "Cantidad de features de polynomio grado 24:20475\n",
      "Cantidad de features de polynomio grado 25:23751\n",
      "Cantidad de features de polynomio grado 26:27405\n",
      "Cantidad de features de polynomio grado 27:31465\n",
      "Cantidad de features de polynomio grado 28:35960\n",
      "Cantidad de features de polynomio grado 29:40920\n",
      "Cantidad de features de polynomio grado 30:46376\n",
      "Cantidad de features de polynomio grado 31:52360\n",
      "Cantidad de features de polynomio grado 32:58905\n",
      "Cantidad de features de polynomio grado 33:66045\n",
      "Cantidad de features de polynomio grado 34:73815\n",
      "Cantidad de features de polynomio grado 35:82251\n",
      "Cantidad de features de polynomio grado 36:91390\n",
      "Cantidad de features de polynomio grado 37:101270\n",
      "Cantidad de features de polynomio grado 38:111930\n",
      "Cantidad de features de polynomio grado 39:123410\n",
      "Cantidad de features de polynomio grado 40:135751\n",
      "Cantidad de features de polynomio grado 41:148995\n",
      "Cantidad de features de polynomio grado 42:163185\n",
      "Cantidad de features de polynomio grado 43:178365\n",
      "Cantidad de features de polynomio grado 44:194580\n",
      "Cantidad de features de polynomio grado 45:211876\n",
      "Cantidad de features de polynomio grado 46:230300\n",
      "Cantidad de features de polynomio grado 47:249900\n",
      "Cantidad de features de polynomio grado 48:270725\n",
      "Cantidad de features de polynomio grado 49:292825\n"
     ]
    }
   ],
   "source": [
    "feature_amount = list()\n",
    "for i in range(2,50):\n",
    "    degree_i = PolynomialFeatures(i)\n",
    "    degree_i_features = degree_i.fit_transform(iris_4)\n",
    "    print(\"Cantidad de features de polynomio grado \" + str(i) + \":\" + str(degree_i_features.shape[1]))\n",
    "    feature_amount.append(degree_i_features.shape[1])\n",
    "    "
   ]
  },
  {
   "cell_type": "code",
   "execution_count": 28,
   "metadata": {},
   "outputs": [],
   "source": [
    "import matplotlib.pyplot as plt\n",
    "import numpy as np"
   ]
  },
  {
   "cell_type": "code",
   "execution_count": 41,
   "metadata": {},
   "outputs": [
    {
     "data": {
      "text/plain": [
       "array([ 2.,  3.,  4.,  5.,  6.,  7.,  8.,  9., 10., 11., 12., 13., 14.,\n",
       "       15., 16., 17., 18., 19., 20., 21., 22., 23., 24., 25., 26., 27.,\n",
       "       28., 29., 30., 31., 32., 33., 34., 35., 36., 37., 38., 39., 40.,\n",
       "       41., 42., 43., 44., 45., 46., 47., 48., 49.])"
      ]
     },
     "execution_count": 41,
     "metadata": {},
     "output_type": "execute_result"
    }
   ],
   "source": [
    "np.linspace(2,49,48)"
   ]
  },
  {
   "cell_type": "code",
   "execution_count": 44,
   "metadata": {},
   "outputs": [
    {
     "data": {
      "image/png": "[encoded data removed]",
      "text/plain": [
       "<Figure size 432x288 with 1 Axes>"
      ]
     },
     "metadata": {
      "needs_background": "light"
     },
     "output_type": "display_data"
    }
   ],
   "source": [
    "\n",
    "plt.plot(np.linspace(2,49,48), feature_amount)\n",
    "plt.title('Número de features dependiendo de grado polinomial')\n",
    "plt.xlabel('Grado de polinomio')\n",
    "plt.ylabel('Número de features')\n",
    "plt.show()"
   ]
  },
  {
   "cell_type": "markdown",
   "metadata": {},
   "source": [
    "# Conclusión\n",
    "\n",
    "Se puede obsevar en esta pequeña prueba realizada que el número de features aumenta exponencialmente conforme vamos aumentando el grado polinomial del modelo. A esto es lo que se le conoce como la maldición de la dimensionalidad, en la que al aumentar el número de dimensiones para elaborar un modelo, podemos llegar a tener una gran cantidad de features e información esparcida o *sparse matrices*."
   ]
  },
  {
   "cell_type": "code",
   "execution_count": null,
   "metadata": {},
   "outputs": [],
   "source": []
  }
 ],
 "metadata": {
  "kernelspec": {
   "display_name": "Python 3",
   "language": "python",
   "name": "python3"
  },
  "language_info": {
   "codemirror_mode": {
    "name": "ipython",
    "version": 3
   },
   "file_extension": ".py",
   "mimetype": "text/x-python",
   "name": "python",
   "nbconvert_exporter": "python",
   "pygments_lexer": "ipython3",
   "version": "3.7.3"
  }
 },
 "nbformat": 4,
 "nbformat_minor": 4
}
