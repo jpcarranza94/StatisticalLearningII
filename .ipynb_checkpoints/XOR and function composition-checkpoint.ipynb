{
 "cells": [
  {
   "cell_type": "markdown",
   "metadata": {},
   "source": [
    "# Parte 1: Composición de funciones para operador lógico XOR\n",
    "\n",
    "A continuación se presenta cómo, al utilizar varios perceptrones entrenados para realizar las operaciones lógicas básicas de AND, OR, NOT, podemos llegar a generar un perceptrón que genere el operador lógico XOR. Esto se realiza a través de la composición de funciones, la cual es la base para el aprendizaje profundo."
   ]
  },
  {
   "cell_type": "code",
   "execution_count": 131,
   "metadata": {},
   "outputs": [],
   "source": [
    "def not_function(x1):\n",
    "    parameters = [ -1 , 1]\n",
    "    \n",
    "    result = int(x1*parameters[0] + parameters[1]) \n",
    "    \n",
    "    return result"
   ]
  },
  {
   "cell_type": "code",
   "execution_count": 132,
   "metadata": {},
   "outputs": [
    {
     "data": {
      "text/plain": [
       "1"
      ]
     },
     "execution_count": 132,
     "metadata": {},
     "output_type": "execute_result"
    }
   ],
   "source": [
    "not_function(0)"
   ]
  },
  {
   "cell_type": "code",
   "execution_count": 133,
   "metadata": {},
   "outputs": [],
   "source": [
    "def or_function(x1, x2):\n",
    "    parameters = [1, 1, 0]\n",
    "    \n",
    "    result = int(x1*parameters[0] + x2*parameters[1] + parameters[2] > 0)\n",
    "    \n",
    "    return result"
   ]
  },
  {
   "cell_type": "code",
   "execution_count": 25,
   "metadata": {},
   "outputs": [
    {
     "data": {
      "text/plain": [
       "1"
      ]
     },
     "execution_count": 25,
     "metadata": {},
     "output_type": "execute_result"
    }
   ],
   "source": [
    "or_function(1,1)"
   ]
  },
  {
   "cell_type": "code",
   "execution_count": 26,
   "metadata": {},
   "outputs": [
    {
     "data": {
      "text/plain": [
       "1"
      ]
     },
     "execution_count": 26,
     "metadata": {},
     "output_type": "execute_result"
    }
   ],
   "source": [
    "or_function(0,1)"
   ]
  },
  {
   "cell_type": "code",
   "execution_count": 27,
   "metadata": {},
   "outputs": [
    {
     "data": {
      "text/plain": [
       "0"
      ]
     },
     "execution_count": 27,
     "metadata": {},
     "output_type": "execute_result"
    }
   ],
   "source": [
    "or_function(0,0)"
   ]
  },
  {
   "cell_type": "code",
   "execution_count": 28,
   "metadata": {},
   "outputs": [],
   "source": [
    "def and_function(x1,x2):\n",
    "    parameters = [1,1,-1]\n",
    "    \n",
    "    result = int(x1*parameters[0] + x2*parameters[1] + parameters[2] > 0)\n",
    "    \n",
    "    return result"
   ]
  },
  {
   "cell_type": "code",
   "execution_count": 29,
   "metadata": {},
   "outputs": [
    {
     "data": {
      "text/plain": [
       "1"
      ]
     },
     "execution_count": 29,
     "metadata": {},
     "output_type": "execute_result"
    }
   ],
   "source": [
    "and_function(1,1)"
   ]
  },
  {
   "cell_type": "code",
   "execution_count": 31,
   "metadata": {},
   "outputs": [
    {
     "data": {
      "text/plain": [
       "0"
      ]
     },
     "execution_count": 31,
     "metadata": {},
     "output_type": "execute_result"
    }
   ],
   "source": [
    "and_function(0,1)"
   ]
  },
  {
   "cell_type": "code",
   "execution_count": 32,
   "metadata": {},
   "outputs": [
    {
     "data": {
      "text/plain": [
       "0"
      ]
     },
     "execution_count": 32,
     "metadata": {},
     "output_type": "execute_result"
    }
   ],
   "source": [
    "and_function(0,0)"
   ]
  },
  {
   "cell_type": "code",
   "execution_count": 129,
   "metadata": {},
   "outputs": [],
   "source": [
    "def xor_function(x1,x2):\n",
    "\n",
    "    x1_temp = not_function(and_function(x1,x2))\n",
    "    x2_temp = or_function(x1,x2)\n",
    "    \n",
    "    result = and_function(x1_temp, x2_temp)\n",
    "    \n",
    "    return result"
   ]
  },
  {
   "cell_type": "code",
   "execution_count": 36,
   "metadata": {},
   "outputs": [
    {
     "data": {
      "text/plain": [
       "0"
      ]
     },
     "execution_count": 36,
     "metadata": {},
     "output_type": "execute_result"
    }
   ],
   "source": [
    "xor_function(1,1)"
   ]
  },
  {
   "cell_type": "code",
   "execution_count": 37,
   "metadata": {},
   "outputs": [
    {
     "data": {
      "text/plain": [
       "0"
      ]
     },
     "execution_count": 37,
     "metadata": {},
     "output_type": "execute_result"
    }
   ],
   "source": [
    "xor_function(0,0)"
   ]
  },
  {
   "cell_type": "code",
   "execution_count": 38,
   "metadata": {},
   "outputs": [
    {
     "data": {
      "text/plain": [
       "1"
      ]
     },
     "execution_count": 38,
     "metadata": {},
     "output_type": "execute_result"
    }
   ],
   "source": [
    "xor_function(1,0)"
   ]
  },
  {
   "cell_type": "code",
   "execution_count": 39,
   "metadata": {
    "scrolled": true
   },
   "outputs": [
    {
     "data": {
      "text/plain": [
       "1"
      ]
     },
     "execution_count": 39,
     "metadata": {},
     "output_type": "execute_result"
    }
   ],
   "source": [
    "xor_function(0,1)"
   ]
  },
  {
   "cell_type": "markdown",
   "metadata": {},
   "source": [
    "## Conclusión parte 1:\n",
    "\n",
    "Se puede verificar que la función XOR es una muestra de cómo la composición de funciones puede generar espacios latentes en donde los datos de entrada son separables linealmente."
   ]
  },
  {
   "cell_type": "markdown",
   "metadata": {},
   "source": [
    "# Parte 2: Entrenar un perceptrón\n",
    "\n",
    "A continuación se demuestra el entrenamiento de las funciones \"AND\" y \"OR\" "
   ]
  },
  {
   "cell_type": "code",
   "execution_count": 4,
   "metadata": {},
   "outputs": [],
   "source": [
    "import numpy as np"
   ]
  },
  {
   "cell_type": "code",
   "execution_count": 107,
   "metadata": {},
   "outputs": [],
   "source": [
    "dataset_and = np.array([[1,1,1],\n",
    "                        [0,0,0],\n",
    "                        [0,1,0],\n",
    "                        [1,0,0]])"
   ]
  },
  {
   "cell_type": "code",
   "execution_count": 53,
   "metadata": {},
   "outputs": [
    {
     "data": {
      "text/plain": [
       "array([-0.21969786, -0.06569287,  0.18666182])"
      ]
     },
     "execution_count": 53,
     "metadata": {},
     "output_type": "execute_result"
    }
   ],
   "source": [
    "np.random.normal(0, 0.1, 3)"
   ]
  },
  {
   "cell_type": "code",
   "execution_count": 71,
   "metadata": {},
   "outputs": [],
   "source": [
    "tensor = dataset_and[:, 0:2]"
   ]
  },
  {
   "cell_type": "code",
   "execution_count": 72,
   "metadata": {},
   "outputs": [],
   "source": [
    "tensor = np.insert(tensor, 0, np.ones(len(tensor)), axis=1).astype(np.float32)\n"
   ]
  },
  {
   "cell_type": "code",
   "execution_count": 74,
   "metadata": {},
   "outputs": [
    {
     "data": {
      "text/plain": [
       "array([[1., 1., 1.],\n",
       "       [1., 0., 0.],\n",
       "       [1., 0., 1.]], dtype=float32)"
      ]
     },
     "execution_count": 74,
     "metadata": {},
     "output_type": "execute_result"
    }
   ],
   "source": [
    "tensor"
   ]
  },
  {
   "cell_type": "code",
   "execution_count": 91,
   "metadata": {},
   "outputs": [],
   "source": [
    "w = np.random.normal(0, 0.1, 3)"
   ]
  },
  {
   "cell_type": "code",
   "execution_count": 92,
   "metadata": {},
   "outputs": [
    {
     "data": {
      "text/plain": [
       "array([-0.07542528,  0.1063869 ,  0.11197726])"
      ]
     },
     "execution_count": 92,
     "metadata": {},
     "output_type": "execute_result"
    }
   ],
   "source": [
    "w"
   ]
  },
  {
   "cell_type": "code",
   "execution_count": 101,
   "metadata": {},
   "outputs": [
    {
     "data": {
      "text/plain": [
       "0.14293887742820643"
      ]
     },
     "execution_count": 101,
     "metadata": {},
     "output_type": "execute_result"
    }
   ],
   "source": [
    "np.dot(tensor[0],w)"
   ]
  },
  {
   "cell_type": "code",
   "execution_count": 111,
   "metadata": {},
   "outputs": [
    {
     "data": {
      "text/plain": [
       "False"
      ]
     },
     "execution_count": 111,
     "metadata": {},
     "output_type": "execute_result"
    }
   ],
   "source": [
    "comparison.all()"
   ]
  },
  {
   "cell_type": "code",
   "execution_count": 99,
   "metadata": {},
   "outputs": [
    {
     "data": {
      "text/plain": [
       "array([1., 0., 1.], dtype=float32)"
      ]
     },
     "execution_count": 99,
     "metadata": {},
     "output_type": "execute_result"
    }
   ],
   "source": []
  },
  {
   "cell_type": "code",
   "execution_count": 121,
   "metadata": {},
   "outputs": [],
   "source": [
    "def train_perceptron(dataset, lr):\n",
    "    train = dataset[:,0:2]\n",
    "    train_label = dataset[:,2]\n",
    "    w = np.random.normal(0, 0.1, 3)\n",
    "    train = np.insert(train, 0, np.ones(len(train)), axis=1).astype(np.float32)\n",
    "    \n",
    "    \n",
    "    result = np.dot(train,w) >= 0\n",
    "    \n",
    "    result = result.astype(int)\n",
    "                      \n",
    "    comparison_array = train_label == result\n",
    "                 \n",
    "    #return comparison_array.all()\n",
    "    print(w)\n",
    "    \n",
    "    counter = 0\n",
    "    while comparison_array.all() == False:\n",
    "        \n",
    "        for i in range(0,len(train_label)):\n",
    "            \n",
    "            if train_label[i] == 1 and np.dot(train[i],w) < 0:\n",
    "                w = w + (lr * train[i])\n",
    "                \n",
    "            \n",
    "            elif train_label[i] == 0 and np.dot(train[i],w) >= 0:\n",
    "                w = w - (lr * train[i])\n",
    "               \n",
    "        result_temp = np.dot(train,w) >= 0\n",
    "        result_temp = result_temp.astype(int)\n",
    "        comparison_array = train_label == result_temp\n",
    "        counter += 1\n",
    "        print('iteración: ' + str(counter))\n",
    "        print('pesos: ' + str(w))\n",
    "        print('**************************************************************************')\n",
    "    \n",
    "    print('pesos finales:' + str(w))\n",
    "    return w\n",
    "    \n",
    "    \n",
    "    \n",
    "    "
   ]
  },
  {
   "cell_type": "code",
   "execution_count": 122,
   "metadata": {},
   "outputs": [
    {
     "name": "stdout",
     "output_type": "stream",
     "text": [
      "[ 0.07666687 -0.09383914 -0.18560177]\n",
      "iteración: 1\n",
      "pesos: [ 0.07666687 -0.08383914 -0.17560177]\n",
      "**************************************************************************\n",
      "iteración: 2\n",
      "pesos: [ 0.06666687 -0.08383914 -0.16560177]\n",
      "**************************************************************************\n",
      "iteración: 3\n",
      "pesos: [ 0.06666687 -0.07383914 -0.15560177]\n",
      "**************************************************************************\n",
      "iteración: 4\n",
      "pesos: [ 0.05666687 -0.07383914 -0.14560177]\n",
      "**************************************************************************\n",
      "iteración: 5\n",
      "pesos: [ 0.05666687 -0.06383914 -0.13560177]\n",
      "**************************************************************************\n",
      "iteración: 6\n",
      "pesos: [ 0.04666687 -0.06383914 -0.12560177]\n",
      "**************************************************************************\n",
      "iteración: 7\n",
      "pesos: [ 0.04666687 -0.05383914 -0.11560177]\n",
      "**************************************************************************\n",
      "iteración: 8\n",
      "pesos: [ 0.03666687 -0.05383914 -0.10560177]\n",
      "**************************************************************************\n",
      "iteración: 9\n",
      "pesos: [ 0.03666687 -0.04383914 -0.09560177]\n",
      "**************************************************************************\n",
      "iteración: 10\n",
      "pesos: [ 0.02666687 -0.04383914 -0.08560177]\n",
      "**************************************************************************\n",
      "iteración: 11\n",
      "pesos: [ 0.02666687 -0.03383914 -0.07560177]\n",
      "**************************************************************************\n",
      "iteración: 12\n",
      "pesos: [ 0.01666687 -0.03383914 -0.06560177]\n",
      "**************************************************************************\n",
      "iteración: 13\n",
      "pesos: [ 0.01666687 -0.02383914 -0.05560177]\n",
      "**************************************************************************\n",
      "iteración: 14\n",
      "pesos: [ 0.00666687 -0.02383914 -0.04560177]\n",
      "**************************************************************************\n",
      "iteración: 15\n",
      "pesos: [ 0.00666687 -0.01383914 -0.03560177]\n",
      "**************************************************************************\n",
      "iteración: 16\n",
      "pesos: [-0.00333313 -0.01383914 -0.02560177]\n",
      "**************************************************************************\n",
      "iteración: 17\n",
      "pesos: [-0.00333313 -0.00383914 -0.01560177]\n",
      "**************************************************************************\n",
      "iteración: 18\n",
      "pesos: [-0.01333313 -0.00383914 -0.00560178]\n",
      "**************************************************************************\n",
      "iteración: 19\n",
      "pesos: [-0.01333313  0.00616086 -0.00560178]\n",
      "**************************************************************************\n",
      "iteración: 20\n",
      "pesos: [-0.02333313  0.00616086 -0.00560178]\n",
      "**************************************************************************\n",
      "iteración: 21\n",
      "pesos: [-0.02333313  0.00616086  0.00439822]\n",
      "**************************************************************************\n",
      "iteración: 22\n",
      "pesos: [-0.02333313  0.01616086  0.00439822]\n",
      "**************************************************************************\n",
      "iteración: 23\n",
      "pesos: [-0.03333313  0.01616086  0.00439822]\n",
      "**************************************************************************\n",
      "iteración: 24\n",
      "pesos: [-0.03333313  0.01616086  0.01439822]\n",
      "**************************************************************************\n",
      "iteración: 25\n",
      "pesos: [-0.03333313  0.02616086  0.01439822]\n",
      "**************************************************************************\n",
      "pesos finales:[-0.03333313  0.02616086  0.01439822]\n"
     ]
    }
   ],
   "source": [
    "and_weights = train_perceptron(dataset_and,0.01)"
   ]
  },
  {
   "cell_type": "code",
   "execution_count": 123,
   "metadata": {},
   "outputs": [],
   "source": [
    "dataset_or = np.array([[1,1,1],\n",
    "                        [0,0,0],\n",
    "                        [0,1,1],\n",
    "                        [1,0,1]])"
   ]
  },
  {
   "cell_type": "code",
   "execution_count": 124,
   "metadata": {},
   "outputs": [
    {
     "name": "stdout",
     "output_type": "stream",
     "text": [
      "[ 0.02726212 -0.1465144  -0.07581699]\n",
      "iteración: 1\n",
      "pesos: [ 0.04726212 -0.1265144  -0.05581699]\n",
      "**************************************************************************\n",
      "iteración: 2\n",
      "pesos: [ 0.05726212 -0.1065144  -0.04581699]\n",
      "**************************************************************************\n",
      "iteración: 3\n",
      "pesos: [ 0.06726212 -0.0865144  -0.03581699]\n",
      "**************************************************************************\n",
      "iteración: 4\n",
      "pesos: [ 0.07726212 -0.0665144  -0.02581699]\n",
      "**************************************************************************\n",
      "iteración: 5\n",
      "pesos: [ 0.07726212 -0.0565144  -0.01581699]\n",
      "**************************************************************************\n",
      "iteración: 6\n",
      "pesos: [ 0.06726212 -0.0565144  -0.01581699]\n",
      "**************************************************************************\n",
      "iteración: 7\n",
      "pesos: [ 0.06726212 -0.04651441 -0.00581699]\n",
      "**************************************************************************\n",
      "iteración: 8\n",
      "pesos: [ 0.05726212 -0.04651441 -0.00581699]\n",
      "**************************************************************************\n",
      "iteración: 9\n",
      "pesos: [ 0.04726212 -0.04651441 -0.00581699]\n",
      "**************************************************************************\n",
      "iteración: 10\n",
      "pesos: [ 0.04726212 -0.03651441  0.00418301]\n",
      "**************************************************************************\n",
      "iteración: 11\n",
      "pesos: [ 0.03726212 -0.03651441  0.00418301]\n",
      "**************************************************************************\n",
      "iteración: 12\n",
      "pesos: [ 0.03726212 -0.02651441  0.00418301]\n",
      "**************************************************************************\n",
      "iteración: 13\n",
      "pesos: [ 0.02726212 -0.02651441  0.00418301]\n",
      "**************************************************************************\n",
      "iteración: 14\n",
      "pesos: [ 0.02726212 -0.01651441  0.00418301]\n",
      "**************************************************************************\n",
      "iteración: 15\n",
      "pesos: [ 0.01726212 -0.01651441  0.00418301]\n",
      "**************************************************************************\n",
      "iteración: 16\n",
      "pesos: [ 0.01726212 -0.00651441  0.00418301]\n",
      "**************************************************************************\n",
      "iteración: 17\n",
      "pesos: [ 0.00726212 -0.00651441  0.00418301]\n",
      "**************************************************************************\n",
      "iteración: 18\n",
      "pesos: [0.00726212 0.00348559 0.00418301]\n",
      "**************************************************************************\n",
      "iteración: 19\n",
      "pesos: [-0.00273788  0.00348559  0.00418301]\n",
      "**************************************************************************\n",
      "pesos finales:[-0.00273788  0.00348559  0.00418301]\n"
     ]
    }
   ],
   "source": [
    "or_weights = train_perceptron(dataset_or, 0.01)"
   ]
  },
  {
   "cell_type": "code",
   "execution_count": 144,
   "metadata": {},
   "outputs": [],
   "source": [
    "def and_function_v2(x1,x2):\n",
    "    parameters = and_weights\n",
    "    \n",
    "    result = int(x1*parameters[1] + x2*parameters[2] + parameters[0] >= 0)\n",
    "    \n",
    "    return result"
   ]
  },
  {
   "cell_type": "code",
   "execution_count": 143,
   "metadata": {},
   "outputs": [],
   "source": [
    "def or_function_v2(x1,x2):\n",
    "    parameters = or_weights\n",
    "    \n",
    "    result = int(x1*parameters[1] + x2*parameters[2] + parameters[0] >= 0)\n",
    "    \n",
    "    return result"
   ]
  },
  {
   "cell_type": "code",
   "execution_count": 146,
   "metadata": {},
   "outputs": [],
   "source": [
    "def xor_function_v2(x1,x2):\n",
    "\n",
    "    x1_temp = not_function(and_function_v2(x1,x2))\n",
    "    x2_temp = or_function_v2(x1,x2)\n",
    "    \n",
    "    result = and_function_v2(x1_temp, x2_temp)\n",
    "    \n",
    "    return result"
   ]
  },
  {
   "cell_type": "code",
   "execution_count": 147,
   "metadata": {},
   "outputs": [
    {
     "data": {
      "text/plain": [
       "0"
      ]
     },
     "execution_count": 147,
     "metadata": {},
     "output_type": "execute_result"
    }
   ],
   "source": [
    "xor_function_v2(1,1)"
   ]
  },
  {
   "cell_type": "code",
   "execution_count": 148,
   "metadata": {},
   "outputs": [
    {
     "data": {
      "text/plain": [
       "0"
      ]
     },
     "execution_count": 148,
     "metadata": {},
     "output_type": "execute_result"
    }
   ],
   "source": [
    "xor_function_v2(0,0)"
   ]
  },
  {
   "cell_type": "code",
   "execution_count": 149,
   "metadata": {},
   "outputs": [
    {
     "data": {
      "text/plain": [
       "1"
      ]
     },
     "execution_count": 149,
     "metadata": {},
     "output_type": "execute_result"
    }
   ],
   "source": [
    "xor_function_v2(0,1)"
   ]
  },
  {
   "cell_type": "code",
   "execution_count": 150,
   "metadata": {},
   "outputs": [
    {
     "data": {
      "text/plain": [
       "1"
      ]
     },
     "execution_count": 150,
     "metadata": {},
     "output_type": "execute_result"
    }
   ],
   "source": [
    "xor_function_v2(1,0)"
   ]
  },
  {
   "cell_type": "markdown",
   "metadata": {},
   "source": [
    "## Conclusión parte 2:\n",
    "\n",
    "Se observa que es posible entrenar un modelo de perceptrón para las funciones \"AND\" y \"OR\" y después utilizar este para implementar la función \"XOR\""
   ]
  }
 ],
 "metadata": {
  "kernelspec": {
   "display_name": "Python 3",
   "language": "python",
   "name": "python3"
  },
  "language_info": {
   "codemirror_mode": {
    "name": "ipython",
    "version": 3
   },
   "file_extension": ".py",
   "mimetype": "text/x-python",
   "name": "python",
   "nbconvert_exporter": "python",
   "pygments_lexer": "ipython3",
   "version": "3.8.3"
  }
 },
 "nbformat": 4,
 "nbformat_minor": 4
}
