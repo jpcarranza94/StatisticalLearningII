{
 "cells": [
  {
   "cell_type": "markdown",
   "metadata": {},
   "source": [
    "# K means and anomaly detection \n",
    "\n",
    "A continuación se presentan los siguientes ejercicios para la maestría de Data Science, en la asignatura de Statistical learning II:\n",
    "\n",
    "Utilizar el dataset con la estatura y edad de los estudiantes de la mestría y realizar un modelo de: \n",
    "\n",
    "- Hard-Clustering con k-means\n",
    "- Soft-Clustering con GMM usando sklearn\n",
    "\n",
    "Ejecutar 5 experimentos para seleccionar el valor de \"k\":\n",
    "- Ambos de métodos pueden usar el mismo valor de \"k\"\n",
    "- Analizar el centroide de cada cluster y determinar si es posible asignar una categoría a cada cluster.\n",
    "\n",
    "Analizar y concluir si el método del codo es adecuado para este problema.\n",
    "\n",
    "Usar los datos en la seguna pestaña del archivo de excel en el que se encuentra el dataset y estimar: \n",
    "- El cluster que k-means asigna a cada uno.\n",
    "- La probabilidad de pertenecer a cada cluster según GMM.\n"
   ]
  },
  {
   "cell_type": "code",
   "execution_count": 1,
   "metadata": {},
   "outputs": [],
   "source": [
    "import numpy as np\n",
    "import pandas as pd\n",
    "import matplotlib.pyplot as plt"
   ]
  },
  {
   "cell_type": "code",
   "execution_count": 113,
   "metadata": {
    "scrolled": true
   },
   "outputs": [],
   "source": [
    " # Primero cargamos el dataset de \"entrenamiento\":\n",
    "    \n",
    "    \n",
    "df  = pd.read_csv('estaturas.csv')"
   ]
  },
  {
   "cell_type": "code",
   "execution_count": 12,
   "metadata": {},
   "outputs": [
    {
     "name": "stdout",
     "output_type": "stream",
     "text": [
      "<class 'pandas.core.frame.DataFrame'>\n",
      "RangeIndex: 29 entries, 0 to 28\n",
      "Data columns (total 2 columns):\n",
      " #   Column    Non-Null Count  Dtype  \n",
      "---  ------    --------------  -----  \n",
      " 0   Estatura  29 non-null     float64\n",
      " 1   Edad      29 non-null     int64  \n",
      "dtypes: float64(1), int64(1)\n",
      "memory usage: 592.0 bytes\n"
     ]
    }
   ],
   "source": [
    "df.info()"
   ]
  },
  {
   "cell_type": "code",
   "execution_count": 6,
   "metadata": {},
   "outputs": [
    {
     "data": {
      "text/html": [
       "<div>\n",
       "<style scoped>\n",
       "    .dataframe tbody tr th:only-of-type {\n",
       "        vertical-align: middle;\n",
       "    }\n",
       "\n",
       "    .dataframe tbody tr th {\n",
       "        vertical-align: top;\n",
       "    }\n",
       "\n",
       "    .dataframe thead th {\n",
       "        text-align: right;\n",
       "    }\n",
       "</style>\n",
       "<table border=\"1\" class=\"dataframe\">\n",
       "  <thead>\n",
       "    <tr style=\"text-align: right;\">\n",
       "      <th></th>\n",
       "      <th>Estatura</th>\n",
       "      <th>Edad</th>\n",
       "    </tr>\n",
       "  </thead>\n",
       "  <tbody>\n",
       "    <tr>\n",
       "      <th>0</th>\n",
       "      <td>1.77</td>\n",
       "      <td>26</td>\n",
       "    </tr>\n",
       "    <tr>\n",
       "      <th>1</th>\n",
       "      <td>1.74</td>\n",
       "      <td>31</td>\n",
       "    </tr>\n",
       "    <tr>\n",
       "      <th>2</th>\n",
       "      <td>1.72</td>\n",
       "      <td>24</td>\n",
       "    </tr>\n",
       "    <tr>\n",
       "      <th>3</th>\n",
       "      <td>1.78</td>\n",
       "      <td>34</td>\n",
       "    </tr>\n",
       "    <tr>\n",
       "      <th>4</th>\n",
       "      <td>1.65</td>\n",
       "      <td>32</td>\n",
       "    </tr>\n",
       "  </tbody>\n",
       "</table>\n",
       "</div>"
      ],
      "text/plain": [
       "   Estatura  Edad\n",
       "0      1.77    26\n",
       "1      1.74    31\n",
       "2      1.72    24\n",
       "3      1.78    34\n",
       "4      1.65    32"
      ]
     },
     "execution_count": 6,
     "metadata": {},
     "output_type": "execute_result"
    }
   ],
   "source": [
    "df.head()"
   ]
  },
  {
   "cell_type": "code",
   "execution_count": 7,
   "metadata": {
    "scrolled": true
   },
   "outputs": [
    {
     "data": {
      "text/html": [
       "<div>\n",
       "<style scoped>\n",
       "    .dataframe tbody tr th:only-of-type {\n",
       "        vertical-align: middle;\n",
       "    }\n",
       "\n",
       "    .dataframe tbody tr th {\n",
       "        vertical-align: top;\n",
       "    }\n",
       "\n",
       "    .dataframe thead th {\n",
       "        text-align: right;\n",
       "    }\n",
       "</style>\n",
       "<table border=\"1\" class=\"dataframe\">\n",
       "  <thead>\n",
       "    <tr style=\"text-align: right;\">\n",
       "      <th></th>\n",
       "      <th>Estatura</th>\n",
       "      <th>Edad</th>\n",
       "    </tr>\n",
       "  </thead>\n",
       "  <tbody>\n",
       "    <tr>\n",
       "      <th>count</th>\n",
       "      <td>29.000000</td>\n",
       "      <td>29.000000</td>\n",
       "    </tr>\n",
       "    <tr>\n",
       "      <th>mean</th>\n",
       "      <td>1.734483</td>\n",
       "      <td>28.310345</td>\n",
       "    </tr>\n",
       "    <tr>\n",
       "      <th>std</th>\n",
       "      <td>0.078175</td>\n",
       "      <td>4.683584</td>\n",
       "    </tr>\n",
       "    <tr>\n",
       "      <th>min</th>\n",
       "      <td>1.550000</td>\n",
       "      <td>21.000000</td>\n",
       "    </tr>\n",
       "    <tr>\n",
       "      <th>25%</th>\n",
       "      <td>1.680000</td>\n",
       "      <td>25.000000</td>\n",
       "    </tr>\n",
       "    <tr>\n",
       "      <th>50%</th>\n",
       "      <td>1.750000</td>\n",
       "      <td>27.000000</td>\n",
       "    </tr>\n",
       "    <tr>\n",
       "      <th>75%</th>\n",
       "      <td>1.790000</td>\n",
       "      <td>32.000000</td>\n",
       "    </tr>\n",
       "    <tr>\n",
       "      <th>max</th>\n",
       "      <td>1.850000</td>\n",
       "      <td>40.000000</td>\n",
       "    </tr>\n",
       "  </tbody>\n",
       "</table>\n",
       "</div>"
      ],
      "text/plain": [
       "        Estatura       Edad\n",
       "count  29.000000  29.000000\n",
       "mean    1.734483  28.310345\n",
       "std     0.078175   4.683584\n",
       "min     1.550000  21.000000\n",
       "25%     1.680000  25.000000\n",
       "50%     1.750000  27.000000\n",
       "75%     1.790000  32.000000\n",
       "max     1.850000  40.000000"
      ]
     },
     "execution_count": 7,
     "metadata": {},
     "output_type": "execute_result"
    }
   ],
   "source": [
    "df.describe()"
   ]
  },
  {
   "cell_type": "code",
   "execution_count": 13,
   "metadata": {},
   "outputs": [
    {
     "data": {
      "image/png": "[encoded data removed]",
      "text/plain": [
       "<Figure size 432x288 with 1 Axes>"
      ]
     },
     "metadata": {
      "needs_background": "light"
     },
     "output_type": "display_data"
    }
   ],
   "source": [
    "plt.hist(df['Edad'])\n",
    "plt.title(\"Histograma Edad\")\n",
    "plt.show()"
   ]
  },
  {
   "cell_type": "code",
   "execution_count": 14,
   "metadata": {},
   "outputs": [
    {
     "data": {
      "image/png": "[encoded data removed]",
      "text/plain": [
       "<Figure size 432x288 with 1 Axes>"
      ]
     },
     "metadata": {
      "needs_background": "light"
     },
     "output_type": "display_data"
    }
   ],
   "source": [
    "plt.hist(df['Estatura'])\n",
    "plt.title(\"Histograma Estatura\")\n",
    "plt.show()"
   ]
  },
  {
   "cell_type": "code",
   "execution_count": 11,
   "metadata": {},
   "outputs": [
    {
     "data": {
      "image/png": "[encoded data removed]",
      "text/plain": [
       "<Figure size 432x288 with 1 Axes>"
      ]
     },
     "metadata": {
      "needs_background": "light"
     },
     "output_type": "display_data"
    }
   ],
   "source": [
    "plt.scatter(df['Edad'], df['Estatura'])\n",
    "plt.title(\"Edad vs. Estatura\")\n",
    "plt.xlabel(\"Edad\")\n",
    "plt.ylabel(\"Estatura\")\n",
    "plt.show()"
   ]
  },
  {
   "cell_type": "code",
   "execution_count": 51,
   "metadata": {},
   "outputs": [
    {
     "data": {
      "text/plain": [
       "0     26\n",
       "1     31\n",
       "2     24\n",
       "3     34\n",
       "4     32\n",
       "5     29\n",
       "6     27\n",
       "7     34\n",
       "8     26\n",
       "9     21\n",
       "10    23\n",
       "11    25\n",
       "12    24\n",
       "13    25\n",
       "14    25\n",
       "15    34\n",
       "16    26\n",
       "17    25\n",
       "18    26\n",
       "19    27\n",
       "20    32\n",
       "21    40\n",
       "22    25\n",
       "23    24\n",
       "24    38\n",
       "25    34\n",
       "26    29\n",
       "27    28\n",
       "28    27\n",
       "Name: Edad, dtype: int64"
      ]
     },
     "execution_count": 51,
     "metadata": {},
     "output_type": "execute_result"
    }
   ],
   "source": [
    "df.iloc[:,1]"
   ]
  },
  {
   "cell_type": "code",
   "execution_count": 44,
   "metadata": {},
   "outputs": [],
   "source": [
    "edad_rand = np.random.uniform(np.min(df['Edad']), np.max(df['Edad']), 3).reshape(-1,1)\n"
   ]
  },
  {
   "cell_type": "code",
   "execution_count": 43,
   "metadata": {},
   "outputs": [],
   "source": [
    "estatura_rand = np.random.uniform(np.min(df['Estatura']), np.max(df['Estatura']), 3).reshape(-1,1)"
   ]
  },
  {
   "cell_type": "code",
   "execution_count": 46,
   "metadata": {},
   "outputs": [],
   "source": [
    "\n",
    "\n",
    "centroids = np.concatenate((edad_rand, estatura_rand), axis = 1)\n"
   ]
  },
  {
   "cell_type": "code",
   "execution_count": 114,
   "metadata": {},
   "outputs": [],
   "source": [
    "df = np.array(df)"
   ]
  },
  {
   "cell_type": "code",
   "execution_count": 115,
   "metadata": {},
   "outputs": [],
   "source": [
    "# Switch de columnas\n",
    "df[:, 0], df[:, 1] = df[:, 1], df[:, 0].copy()"
   ]
  },
  {
   "cell_type": "code",
   "execution_count": 1166,
   "metadata": {},
   "outputs": [],
   "source": [
    "output = list()\n",
    "\n",
    "for i in range(0,3):\n",
    "    out = np.sqrt(np.sum(np.square(np.subtract(df,centroids[i])), axis = 1))\n",
    "    output.append(out)"
   ]
  },
  {
   "cell_type": "code",
   "execution_count": 1167,
   "metadata": {},
   "outputs": [],
   "source": [
    "final_output = np.array(output).T"
   ]
  },
  {
   "cell_type": "code",
   "execution_count": 1168,
   "metadata": {},
   "outputs": [
    {
     "data": {
      "text/plain": [
       "array([[ 0.81130467,  2.71343876,  1.2398618 ],\n",
       "       [ 5.81059419,  7.71352096,  3.76343697],\n",
       "       [ 1.18951508,  0.71579653,  3.24010889],\n",
       "       [ 8.81070258, 10.71342651,  6.76237598],\n",
       "       [ 6.81113605,  8.71436944,  4.76589577],\n",
       "       [ 3.81135107,  5.71464894,  1.77127093],\n",
       "       [ 1.8131372 ,  3.7159972 ,  0.31073232],\n",
       "       [ 8.81133004, 10.71366694,  6.76211814],\n",
       "       [ 0.81856693,  2.71437609,  1.23793053],\n",
       "       [ 4.1894305 ,  2.28674755,  6.23853729],\n",
       "       [ 2.18941546,  0.29059921,  4.23931436],\n",
       "       [ 0.19694861,  1.71346698,  2.23844583],\n",
       "       [ 1.19236815,  0.71464973,  3.23795059],\n",
       "       [ 0.20802591,  1.71821585,  2.24593276],\n",
       "       [ 0.19694861,  1.71346698,  2.23844583],\n",
       "       [ 8.81060739, 10.71358446,  6.76317365],\n",
       "       [ 0.8113928 ,  2.71455304,  1.2457706 ],\n",
       "       [ 0.25186945,  1.72602956,  2.2541072 ],\n",
       "       [ 0.81414986,  2.7159997 ,  1.25089449],\n",
       "       [ 1.81064678,  3.71353345,  0.25431243],\n",
       "       [ 6.81067759,  8.71343022,  4.76262371],\n",
       "       [14.81073101, 16.71344058, 12.76217301],\n",
       "       [ 0.22105695,  1.71492998,  2.23791215],\n",
       "       [ 1.19236815,  0.71464973,  3.23795059],\n",
       "       [12.81060045, 14.71345339, 10.76248615],\n",
       "       [ 8.81059488, 10.7135348 ,  6.76300375],\n",
       "       [ 3.81513062,  5.7179819 ,  1.78579967],\n",
       "       [ 2.81069511,  4.71346151,  0.76628837],\n",
       "       [ 1.8114593 ,  3.71472462,  0.28663903]])"
      ]
     },
     "execution_count": 1168,
     "metadata": {},
     "output_type": "execute_result"
    }
   ],
   "source": [
    "final_output"
   ]
  },
  {
   "cell_type": "code",
   "execution_count": 212,
   "metadata": {},
   "outputs": [],
   "source": [
    "clusters = np.argmin(final_output, axis = 1)"
   ]
  },
  {
   "cell_type": "code",
   "execution_count": 213,
   "metadata": {},
   "outputs": [
    {
     "data": {
      "text/plain": [
       "array([0, 2, 1, 2, 2, 2, 2, 2, 0, 1, 1, 0, 1, 0, 0, 2, 0, 0, 0, 2, 2, 2,\n",
       "       0, 1, 2, 2, 2, 2, 2], dtype=int64)"
      ]
     },
     "execution_count": 213,
     "metadata": {},
     "output_type": "execute_result"
    }
   ],
   "source": [
    "clusters"
   ]
  },
  {
   "cell_type": "code",
   "execution_count": 196,
   "metadata": {},
   "outputs": [],
   "source": [
    "out = np.empty_like(centroids)\n",
    "for i in range(0,3):\n",
    "    out[i] = np.mean(df[clusters == i],axis = 0)"
   ]
  },
  {
   "cell_type": "code",
   "execution_count": 192,
   "metadata": {},
   "outputs": [
    {
     "data": {
      "text/plain": [
       "array([[25.44444444,  1.73666667],\n",
       "       [23.2       ,  1.768     ],\n",
       "       [31.73333333,  1.722     ]])"
      ]
     },
     "execution_count": 192,
     "metadata": {},
     "output_type": "execute_result"
    }
   ],
   "source": [
    "out"
   ]
  },
  {
   "cell_type": "code",
   "execution_count": null,
   "metadata": {},
   "outputs": [],
   "source": [
    "# Implementación de Hard clustering K means"
   ]
  },
  {
   "cell_type": "code",
   "execution_count": 1128,
   "metadata": {},
   "outputs": [],
   "source": [
    "# inicialización de centroides random dentro de parámetros\n",
    "\n",
    "class KMeans:\n",
    "    \n",
    "    def __init__(self,df,k, verbosity):\n",
    "        self.verbosity = verbosity\n",
    "        self.df = df\n",
    "        self.k = k\n",
    "        self.edad_rand = np.random.uniform(np.min(df[:,0]), np.max(df[:,0]), self.k).reshape(-1,1)\n",
    "        self.estatura_rand = np.random.uniform(np.min(df[:,1]), np.max(df[:,1]), self.k).reshape(-1,1)\n",
    "        self.centroids = np.concatenate((self.edad_rand, self.estatura_rand), axis = 1)\n",
    "        self.clusters = np.empty_like(df[:,0])\n",
    "        self.min_distances = np.empty_like(df[:,0])\n",
    "        self.error = 0 \n",
    "        \n",
    "    def Clusters(self):\n",
    "        output = list()\n",
    "        for i in range(0,self.k):\n",
    "            out = np.sqrt(np.sum(np.square(np.subtract(self.df,self.centroids[i])), axis = 1))\n",
    "            output.append(out)\n",
    "        distances = np.array(output).T\n",
    "        self.min_distances = np.min(distances, axis = 1)\n",
    "        self.clusters = np.argmin(distances, axis = 1)\n",
    "        \n",
    "        \n",
    "    def UpdateCentroids(self):\n",
    "        self.Clusters()\n",
    "        output_centroids = np.empty_like(self.centroids)\n",
    "        for i in range(0,self.k):\n",
    "            output_centroids[i] = np.mean(self.df[self.clusters == i],axis = 0)\n",
    "        return output_centroids\n",
    "                 \n",
    "    def Fit(self):\n",
    "        last_centroids = np.zeros_like(self.centroids)\n",
    "        while not (last_centroids == self.UpdateCentroids()).all():\n",
    "            last_centroids = self.UpdateCentroids()\n",
    "            self.centroids = last_centroids\n",
    "            if self.verbosity == True:\n",
    "                print(last_centroids)\n",
    "        self.error = np.mean(self.min_distances)\n",
    "        return np.concatenate((self.df,self.clusters.reshape(-1,1)), axis = 1)\n",
    "\n",
    "        \n",
    "        \n",
    "        \n",
    "                    "
   ]
  },
  {
   "cell_type": "code",
   "execution_count": 1173,
   "metadata": {},
   "outputs": [],
   "source": [
    "kmeans = KMeans(df,6, True)"
   ]
  },
  {
   "cell_type": "code",
   "execution_count": 1180,
   "metadata": {},
   "outputs": [
    {
     "name": "stdout",
     "output_type": "stream",
     "text": [
      "[[40.          1.8       ]\n",
      " [34.          1.77      ]\n",
      " [31.66666667  1.72      ]\n",
      " [24.64285714  1.74785714]\n",
      " [27.83333333  1.67333333]\n",
      " [38.          1.75      ]]\n"
     ]
    }
   ],
   "source": [
    "Clusters  = kmeans.Fit()"
   ]
  },
  {
   "cell_type": "code",
   "execution_count": 1181,
   "metadata": {},
   "outputs": [
    {
     "data": {
      "text/plain": [
       "array([[40.        ,  1.8       ],\n",
       "       [34.        ,  1.77      ],\n",
       "       [31.66666667,  1.72      ],\n",
       "       [24.64285714,  1.74785714],\n",
       "       [27.83333333,  1.67333333],\n",
       "       [38.        ,  1.75      ]])"
      ]
     },
     "execution_count": 1181,
     "metadata": {},
     "output_type": "execute_result"
    }
   ],
   "source": [
    "kmeans.centroids"
   ]
  },
  {
   "cell_type": "code",
   "execution_count": 1182,
   "metadata": {
    "scrolled": true
   },
   "outputs": [
    {
     "data": {
      "text/plain": [
       "array([1.35732348, 0.6669666 , 0.64346043, 0.01      , 0.34060404,\n",
       "       1.16674285, 0.83399973, 0.08      , 1.36098123, 3.64285777,\n",
       "       1.64295419, 0.35962069, 0.64689249, 0.37030668, 0.35962069,\n",
       "       0.05      , 1.35798639, 0.39897893, 1.35998368, 0.83685257,\n",
       "       0.33706247, 0.        , 0.37146222, 0.64689249, 0.        ,\n",
       "       0.04      , 1.1731676 , 0.18785337, 0.83336   ])"
      ]
     },
     "execution_count": 1182,
     "metadata": {},
     "output_type": "execute_result"
    }
   ],
   "source": [
    "kmeans.min_distances"
   ]
  },
  {
   "cell_type": "code",
   "execution_count": 1183,
   "metadata": {},
   "outputs": [
    {
     "data": {
      "text/plain": [
       "0.7267562282780015"
      ]
     },
     "execution_count": 1183,
     "metadata": {},
     "output_type": "execute_result"
    }
   ],
   "source": [
    "kmeans.error"
   ]
  },
  {
   "cell_type": "code",
   "execution_count": null,
   "metadata": {},
   "outputs": [],
   "source": []
  },
  {
   "cell_type": "code",
   "execution_count": 1195,
   "metadata": {
    "scrolled": true
   },
   "outputs": [
    {
     "data": {
      "image/png": "[encoded data removed]",
      "text/plain": [
       "<Figure size 432x288 with 1 Axes>"
      ]
     },
     "metadata": {
      "needs_background": "light"
     },
     "output_type": "display_data"
    }
   ],
   "source": [
    "plt.scatter(Clusters[:,0], Clusters[:,1], c = Clusters[:,2])\n",
    "plt.show()"
   ]
  },
  {
   "cell_type": "code",
   "execution_count": 1196,
   "metadata": {},
   "outputs": [],
   "source": [
    "from sklearn.mixture import GaussianMixture"
   ]
  },
  {
   "cell_type": "code",
   "execution_count": 1199,
   "metadata": {},
   "outputs": [
    {
     "data": {
      "text/plain": [
       "GaussianMixture()"
      ]
     },
     "execution_count": 1199,
     "metadata": {},
     "output_type": "execute_result"
    }
   ],
   "source": [
    "GaussianMixture()"
   ]
  },
  {
   "cell_type": "code",
   "execution_count": null,
   "metadata": {},
   "outputs": [],
   "source": []
  },
  {
   "cell_type": "code",
   "execution_count": null,
   "metadata": {},
   "outputs": [],
   "source": []
  }
 ],
 "metadata": {
  "kernelspec": {
   "display_name": "Python 3",
   "language": "python",
   "name": "python3"
  },
  "language_info": {
   "codemirror_mode": {
    "name": "ipython",
    "version": 3
   },
   "file_extension": ".py",
   "mimetype": "text/x-python",
   "name": "python",
   "nbconvert_exporter": "python",
   "pygments_lexer": "ipython3",
   "version": "3.7.7"
  }
 },
 "nbformat": 4,
 "nbformat_minor": 4
}
