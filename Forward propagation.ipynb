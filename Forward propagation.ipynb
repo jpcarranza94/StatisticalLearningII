{
 "cells": [
  {
   "cell_type": "markdown",
   "metadata": {},
   "source": [
    "# Forward propagation\n",
    "\n",
    "* Utilizando Numpy definir una función para calcular la salida de los siguientes modelos\n",
    "* Dado que cada sub-modelo \"detecta\" una característica intermedia h(variable latente) determinar para cada entrada la característica intermedia con mayor presencia.\n",
    "\n",
    "<img src='modelos1.png'>"
   ]
  },
  {
   "cell_type": "code",
   "execution_count": 1,
   "metadata": {},
   "outputs": [],
   "source": [
    "import numpy as np"
   ]
  },
  {
   "cell_type": "code",
   "execution_count": 2,
   "metadata": {},
   "outputs": [],
   "source": [
    "# Definir función sigmoid a utilizar como activación para las neuronas\n",
    "def sigmoid(X):\n",
    "  return 1/(1+np.exp(-X))"
   ]
  },
  {
   "cell_type": "code",
   "execution_count": 27,
   "metadata": {},
   "outputs": [],
   "source": [
    "class NeuralNet_with_bias:\n",
    "    def __init__(self, w_1, w_2):\n",
    "        self.w_1 = w_1\n",
    "        self.w_2 = w_2\n",
    "    \n",
    "    def forward_propagation(self, X):\n",
    "        X = np.append(X, 1)\n",
    "        l1_a = sigmoid(np.matmul(X, self.w_1))\n",
    "        l1_a_2 = np.append(l1_a, 1)\n",
    "        output = sigmoid(np.matmul(l1_a_2, self.w_2))\n",
    "        \n",
    "        return output, l1_a"
   ]
  },
  {
   "cell_type": "code",
   "execution_count": 28,
   "metadata": {},
   "outputs": [],
   "source": [
    "red2 = NeuralNet_with_bias(w_1 = np.array([[5,7],[-2,-3],[-8,1]]), w_2 = np.array([7,5,-6]))"
   ]
  },
  {
   "cell_type": "code",
   "execution_count": 29,
   "metadata": {},
   "outputs": [
    {
     "data": {
      "text/plain": [
       "(0.2715813356119339, array([0.00669285, 0.99330715]))"
      ]
     },
     "execution_count": 29,
     "metadata": {},
     "output_type": "execute_result"
    }
   ],
   "source": [
    "red2.forward_propagation(X = np.array([1,1]))"
   ]
  },
  {
   "cell_type": "code",
   "execution_count": 30,
   "metadata": {},
   "outputs": [],
   "source": [
    "class NeuralNet:\n",
    "    def __init__(self, w_1, w_2):\n",
    "        self.w_1 = w_1\n",
    "        self.w_2 = w_2\n",
    "        \n",
    "    def forward_propagation(self, X):\n",
    "        l1_a = sigmoid(np.matmul(X, self.w_1))\n",
    "        output = sigmoid(np.matmul(l1_a, self.w_2))\n",
    "        \n",
    "        return output, l1_a"
   ]
  },
  {
   "cell_type": "code",
   "execution_count": 31,
   "metadata": {},
   "outputs": [],
   "source": [
    "red1 = NeuralNet(w_1 = np.array([[0.8, 0.4, 0.3],[0.2, 0.9, 0.5]]), w_2 = np.array([0.3, 0.5, 0.9]))"
   ]
  },
  {
   "cell_type": "code",
   "execution_count": 32,
   "metadata": {},
   "outputs": [
    {
     "data": {
      "text/plain": [
       "(0.7743802720529458, array([0.73105858, 0.78583498, 0.68997448]))"
      ]
     },
     "execution_count": 32,
     "metadata": {},
     "output_type": "execute_result"
    }
   ],
   "source": [
    "red1.forward_propagation(X = np.array([1,1]))"
   ]
  },
  {
   "cell_type": "markdown",
   "metadata": {},
   "source": [
    "## Parte 2:\n",
    "\n",
    "* Calcular para cada posible punto en el dominio de xor la salida intermedia H = [h1, h2]\n",
    "* Mostrar la matriz resultante H en el notebook\n",
    "* Graficar cada punto de la representación intermedia (scatter), usar diferente color y o marker según su etiqueta. Puesto que tiene 2 posibles valores, la gráfica debe tener 2 colores o markers.\n",
    "* Analizar el resultado intermedio, concluir y comentar opiniones\n",
    "\n",
    "<img src= 'modelos2.png'>\n"
   ]
  },
  {
   "cell_type": "code",
   "execution_count": 97,
   "metadata": {},
   "outputs": [],
   "source": [
    "class NeuralNetXOR:\n",
    "    def __init__(self):\n",
    "        self.w_1 = np.array([[-10, 20, 20], [30, -20, -20]])\n",
    "        self.w_2 = np.array([-30, 20, 20])\n",
    "        \n",
    "    def forward_propagation(self, X):\n",
    "        X = np.append(np.ones((X.shape[0], 1)), X, axis = -1)\n",
    "        l1_a = sigmoid(np.matmul(X, self.w_1.T))\n",
    "        l1_a_2 = np.append(np.ones((l1_a.shape[0], 1)),l1_a, axis = -1)\n",
    "        output = sigmoid(np.matmul(l1_a_2, self.w_2.T))\n",
    "        \n",
    "        return output, l1_a\n",
    "        "
   ]
  },
  {
   "cell_type": "code",
   "execution_count": 98,
   "metadata": {},
   "outputs": [],
   "source": [
    "model = NeuralNetXOR()"
   ]
  },
  {
   "cell_type": "code",
   "execution_count": 99,
   "metadata": {},
   "outputs": [],
   "source": [
    "X_inputs = np.array([[0,0], [0,1], [1,0], [1,1]])"
   ]
  },
  {
   "cell_type": "code",
   "execution_count": 100,
   "metadata": {},
   "outputs": [],
   "source": [
    "outputs, hidden_layers = model.forward_propagation(X = np.array([[0,0], [0,1], [1,0], [1,1]]))"
   ]
  },
  {
   "cell_type": "code",
   "execution_count": 124,
   "metadata": {},
   "outputs": [
    {
     "data": {
      "text/plain": [
       "array([[0., 1., 1., 0.]])"
      ]
     },
     "execution_count": 124,
     "metadata": {},
     "output_type": "execute_result"
    }
   ],
   "source": [
    "np.round(outputs).reshape(1,-1)"
   ]
  },
  {
   "cell_type": "code",
   "execution_count": 131,
   "metadata": {},
   "outputs": [
    {
     "data": {
      "text/plain": [
       "array([4.53978687e-05, 9.99954602e-01, 9.99954602e-01, 1.00000000e+00])"
      ]
     },
     "execution_count": 131,
     "metadata": {},
     "output_type": "execute_result"
    }
   ],
   "source": [
    "hidden_layers[:,0]"
   ]
  },
  {
   "cell_type": "code",
   "execution_count": 133,
   "metadata": {},
   "outputs": [],
   "source": [
    "import matplotlib.pyplot as plt\n",
    "import seaborn as sns"
   ]
  },
  {
   "cell_type": "code",
   "execution_count": 140,
   "metadata": {},
   "outputs": [
    {
     "data": {
      "image/png": "[encoded data removed]",
      "text/plain": [
       "<Figure size 432x288 with 1 Axes>"
      ]
     },
     "metadata": {
      "needs_background": "light"
     },
     "output_type": "display_data"
    }
   ],
   "source": [
    "g = sns.scatterplot(hidden_layers[:,0], hidden_layers[:,1], hue = np.round(outputs), s = 100).set_title(\"XOR hidden layer\")\n"
   ]
  },
  {
   "cell_type": "markdown",
   "metadata": {},
   "source": [
    "## Conclusiones:\n",
    "\n",
    "* Se puede observar, que con una red neuronal de 2 capas es posible crear un perceptron multicapa que aproxime la función XOR.\n",
    "* La representación intermedia de la hidden layer muestra un espacio latente en el que las dos clases son linealmente separables. Esto permite que el perceptron multicapa logre asignar el resultado correcto a todas las posibles entradas de la función XOR. \n",
    "* Las multiplicaciones matriciales que ocurren entre los datos de entrada y los parámetros del modelo se pueden interpretar como transformaciones lineales que que generan espacios latentes más convenientes para resolver el problema necesario."
   ]
  }
 ],
 "metadata": {
  "kernelspec": {
   "display_name": "Python 3",
   "language": "python",
   "name": "python3"
  },
  "language_info": {
   "codemirror_mode": {
    "name": "ipython",
    "version": 3
   },
   "file_extension": ".py",
   "mimetype": "text/x-python",
   "name": "python",
   "nbconvert_exporter": "python",
   "pygments_lexer": "ipython3",
   "version": "3.8.3"
  }
 },
 "nbformat": 4,
 "nbformat_minor": 4
}
