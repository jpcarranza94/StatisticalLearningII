{
 "cells": [
  {
   "cell_type": "markdown",
   "metadata": {},
   "source": [
    "# K means and anomaly detection \n",
    "\n",
    "A continuación se presentan los siguientes ejercicios para la maestría de Data Science, en la asignatura de Statistical learning II:\n",
    "\n",
    "Utilizar el dataset con la estatura y edad de los estudiantes de la mestría y realizar un modelo de: \n",
    "\n",
    "- Hard-Clustering con k-means\n",
    "- Soft-Clustering con GMM usando sklearn\n",
    "\n",
    "Ejecutar 5 experimentos para seleccionar el valor de \"k\":\n",
    "- Ambos de métodos pueden usar el mismo valor de \"k\"\n",
    "- Analizar el centroide de cada cluster y determinar si es posible asignar una categoría a cada cluster.\n",
    "\n",
    "Analizar y concluir si el método del codo es adecuado para este problema.\n",
    "\n",
    "Usar los datos en la seguna pestaña del archivo de excel en el que se encuentra el dataset y estimar: \n",
    "- El cluster que k-means asigna a cada uno.\n",
    "- La probabilidad de pertenecer a cada cluster según GMM.\n"
   ]
  },
  {
   "cell_type": "code",
   "execution_count": 2,
   "metadata": {},
   "outputs": [],
   "source": [
    "import numpy as np\n",
    "import pandas as pd\n",
    "import matplotlib.pyplot as plt"
   ]
  },
  {
   "cell_type": "code",
   "execution_count": 3,
   "metadata": {
    "scrolled": true
   },
   "outputs": [],
   "source": [
    " # Primero cargamos el dataset de \"entrenamiento\":\n",
    "    \n",
    "    \n",
    "df  = pd.read_csv('estaturas.csv')"
   ]
  },
  {
   "cell_type": "code",
   "execution_count": 4,
   "metadata": {},
   "outputs": [
    {
     "name": "stdout",
     "output_type": "stream",
     "text": [
      "<class 'pandas.core.frame.DataFrame'>\n",
      "RangeIndex: 29 entries, 0 to 28\n",
      "Data columns (total 2 columns):\n",
      " #   Column    Non-Null Count  Dtype  \n",
      "---  ------    --------------  -----  \n",
      " 0   Estatura  29 non-null     float64\n",
      " 1   Edad      29 non-null     int64  \n",
      "dtypes: float64(1), int64(1)\n",
      "memory usage: 592.0 bytes\n"
     ]
    }
   ],
   "source": [
    "df.info()"
   ]
  },
  {
   "cell_type": "code",
   "execution_count": 5,
   "metadata": {},
   "outputs": [
    {
     "data": {
      "text/html": [
       "<div>\n",
       "<style scoped>\n",
       "    .dataframe tbody tr th:only-of-type {\n",
       "        vertical-align: middle;\n",
       "    }\n",
       "\n",
       "    .dataframe tbody tr th {\n",
       "        vertical-align: top;\n",
       "    }\n",
       "\n",
       "    .dataframe thead th {\n",
       "        text-align: right;\n",
       "    }\n",
       "</style>\n",
       "<table border=\"1\" class=\"dataframe\">\n",
       "  <thead>\n",
       "    <tr style=\"text-align: right;\">\n",
       "      <th></th>\n",
       "      <th>Estatura</th>\n",
       "      <th>Edad</th>\n",
       "    </tr>\n",
       "  </thead>\n",
       "  <tbody>\n",
       "    <tr>\n",
       "      <th>0</th>\n",
       "      <td>1.77</td>\n",
       "      <td>26</td>\n",
       "    </tr>\n",
       "    <tr>\n",
       "      <th>1</th>\n",
       "      <td>1.74</td>\n",
       "      <td>31</td>\n",
       "    </tr>\n",
       "    <tr>\n",
       "      <th>2</th>\n",
       "      <td>1.72</td>\n",
       "      <td>24</td>\n",
       "    </tr>\n",
       "    <tr>\n",
       "      <th>3</th>\n",
       "      <td>1.78</td>\n",
       "      <td>34</td>\n",
       "    </tr>\n",
       "    <tr>\n",
       "      <th>4</th>\n",
       "      <td>1.65</td>\n",
       "      <td>32</td>\n",
       "    </tr>\n",
       "  </tbody>\n",
       "</table>\n",
       "</div>"
      ],
      "text/plain": [
       "   Estatura  Edad\n",
       "0      1.77    26\n",
       "1      1.74    31\n",
       "2      1.72    24\n",
       "3      1.78    34\n",
       "4      1.65    32"
      ]
     },
     "execution_count": 5,
     "metadata": {},
     "output_type": "execute_result"
    }
   ],
   "source": [
    "df.head()"
   ]
  },
  {
   "cell_type": "code",
   "execution_count": 6,
   "metadata": {
    "scrolled": true
   },
   "outputs": [
    {
     "data": {
      "text/html": [
       "<div>\n",
       "<style scoped>\n",
       "    .dataframe tbody tr th:only-of-type {\n",
       "        vertical-align: middle;\n",
       "    }\n",
       "\n",
       "    .dataframe tbody tr th {\n",
       "        vertical-align: top;\n",
       "    }\n",
       "\n",
       "    .dataframe thead th {\n",
       "        text-align: right;\n",
       "    }\n",
       "</style>\n",
       "<table border=\"1\" class=\"dataframe\">\n",
       "  <thead>\n",
       "    <tr style=\"text-align: right;\">\n",
       "      <th></th>\n",
       "      <th>Estatura</th>\n",
       "      <th>Edad</th>\n",
       "    </tr>\n",
       "  </thead>\n",
       "  <tbody>\n",
       "    <tr>\n",
       "      <th>count</th>\n",
       "      <td>29.000000</td>\n",
       "      <td>29.000000</td>\n",
       "    </tr>\n",
       "    <tr>\n",
       "      <th>mean</th>\n",
       "      <td>1.734483</td>\n",
       "      <td>28.310345</td>\n",
       "    </tr>\n",
       "    <tr>\n",
       "      <th>std</th>\n",
       "      <td>0.078175</td>\n",
       "      <td>4.683584</td>\n",
       "    </tr>\n",
       "    <tr>\n",
       "      <th>min</th>\n",
       "      <td>1.550000</td>\n",
       "      <td>21.000000</td>\n",
       "    </tr>\n",
       "    <tr>\n",
       "      <th>25%</th>\n",
       "      <td>1.680000</td>\n",
       "      <td>25.000000</td>\n",
       "    </tr>\n",
       "    <tr>\n",
       "      <th>50%</th>\n",
       "      <td>1.750000</td>\n",
       "      <td>27.000000</td>\n",
       "    </tr>\n",
       "    <tr>\n",
       "      <th>75%</th>\n",
       "      <td>1.790000</td>\n",
       "      <td>32.000000</td>\n",
       "    </tr>\n",
       "    <tr>\n",
       "      <th>max</th>\n",
       "      <td>1.850000</td>\n",
       "      <td>40.000000</td>\n",
       "    </tr>\n",
       "  </tbody>\n",
       "</table>\n",
       "</div>"
      ],
      "text/plain": [
       "        Estatura       Edad\n",
       "count  29.000000  29.000000\n",
       "mean    1.734483  28.310345\n",
       "std     0.078175   4.683584\n",
       "min     1.550000  21.000000\n",
       "25%     1.680000  25.000000\n",
       "50%     1.750000  27.000000\n",
       "75%     1.790000  32.000000\n",
       "max     1.850000  40.000000"
      ]
     },
     "execution_count": 6,
     "metadata": {},
     "output_type": "execute_result"
    }
   ],
   "source": [
    "df.describe()"
   ]
  },
  {
   "cell_type": "code",
   "execution_count": 7,
   "metadata": {},
   "outputs": [
    {
     "data": {
      "image/png": "[encoded data removed]",
      "text/plain": [
       "<Figure size 432x288 with 1 Axes>"
      ]
     },
     "metadata": {
      "needs_background": "light"
     },
     "output_type": "display_data"
    }
   ],
   "source": [
    "plt.hist(df['Edad'])\n",
    "plt.title(\"Histograma Edad\")\n",
    "plt.show()"
   ]
  },
  {
   "cell_type": "code",
   "execution_count": 8,
   "metadata": {},
   "outputs": [
    {
     "data": {
      "image/png": "[encoded data removed]",
      "text/plain": [
       "<Figure size 432x288 with 1 Axes>"
      ]
     },
     "metadata": {
      "needs_background": "light"
     },
     "output_type": "display_data"
    }
   ],
   "source": [
    "plt.hist(df['Estatura'])\n",
    "plt.title(\"Histograma Estatura\")\n",
    "plt.show()"
   ]
  },
  {
   "cell_type": "code",
   "execution_count": 9,
   "metadata": {},
   "outputs": [
    {
     "data": {
      "image/png": "[encoded data removed]",
      "text/plain": [
       "<Figure size 432x288 with 1 Axes>"
      ]
     },
     "metadata": {
      "needs_background": "light"
     },
     "output_type": "display_data"
    }
   ],
   "source": [
    "plt.scatter(df['Edad'], df['Estatura'])\n",
    "plt.title(\"Edad vs. Estatura\")\n",
    "plt.xlabel(\"Edad\")\n",
    "plt.ylabel(\"Estatura\")\n",
    "plt.show()"
   ]
  },
  {
   "cell_type": "code",
   "execution_count": 10,
   "metadata": {},
   "outputs": [
    {
     "data": {
      "text/plain": [
       "0     26\n",
       "1     31\n",
       "2     24\n",
       "3     34\n",
       "4     32\n",
       "5     29\n",
       "6     27\n",
       "7     34\n",
       "8     26\n",
       "9     21\n",
       "10    23\n",
       "11    25\n",
       "12    24\n",
       "13    25\n",
       "14    25\n",
       "15    34\n",
       "16    26\n",
       "17    25\n",
       "18    26\n",
       "19    27\n",
       "20    32\n",
       "21    40\n",
       "22    25\n",
       "23    24\n",
       "24    38\n",
       "25    34\n",
       "26    29\n",
       "27    28\n",
       "28    27\n",
       "Name: Edad, dtype: int64"
      ]
     },
     "execution_count": 10,
     "metadata": {},
     "output_type": "execute_result"
    }
   ],
   "source": [
    "df.iloc[:,1]"
   ]
  },
  {
   "cell_type": "code",
   "execution_count": 11,
   "metadata": {},
   "outputs": [],
   "source": [
    "edad_rand = np.random.uniform(np.min(df['Edad']), np.max(df['Edad']), 3).reshape(-1,1)\n"
   ]
  },
  {
   "cell_type": "code",
   "execution_count": 12,
   "metadata": {},
   "outputs": [],
   "source": [
    "estatura_rand = np.random.uniform(np.min(df['Estatura']), np.max(df['Estatura']), 3).reshape(-1,1)"
   ]
  },
  {
   "cell_type": "code",
   "execution_count": 13,
   "metadata": {},
   "outputs": [],
   "source": [
    "\n",
    "\n",
    "centroids = np.concatenate((edad_rand, estatura_rand), axis = 1)\n"
   ]
  },
  {
   "cell_type": "code",
   "execution_count": 14,
   "metadata": {},
   "outputs": [],
   "source": [
    "df = np.array(df)"
   ]
  },
  {
   "cell_type": "code",
   "execution_count": 15,
   "metadata": {},
   "outputs": [],
   "source": [
    "# Switch de columnas\n",
    "df[:, 0], df[:, 1] = df[:, 1], df[:, 0].copy()"
   ]
  },
  {
   "cell_type": "code",
   "execution_count": 16,
   "metadata": {},
   "outputs": [],
   "source": [
    "output = list()\n",
    "\n",
    "for i in range(0,3):\n",
    "    out = np.sqrt(np.sum(np.square(np.subtract(df,centroids[i])), axis = 1))\n",
    "    output.append(out)"
   ]
  },
  {
   "cell_type": "code",
   "execution_count": 17,
   "metadata": {},
   "outputs": [],
   "source": [
    "final_output = np.array(output).T"
   ]
  },
  {
   "cell_type": "code",
   "execution_count": 18,
   "metadata": {},
   "outputs": [
    {
     "data": {
      "text/plain": [
       "array([[ 2.30321691,  4.46992608,  7.39640025],\n",
       "       [ 2.71096416,  9.46953887,  2.39702561],\n",
       "       [ 4.29708513,  2.46951571,  9.39666574],\n",
       "       [ 5.70946672, 12.46969521,  0.60388336],\n",
       "       [ 3.70645217, 10.46963593,  1.40405137],\n",
       "       [ 0.71140778,  7.46962857,  4.39848072],\n",
       "       [ 1.29637634,  5.46989065,  6.39827418],\n",
       "       [ 5.71248158, 12.47030185,  0.6059845 ],\n",
       "       [ 2.31157157,  4.47177035,  7.39654257],\n",
       "       [ 7.29667683,  0.53226415, 12.39644005],\n",
       "       [ 5.29687876,  1.46966218, 10.39656642],\n",
       "       [ 3.30183457,  3.47047542,  8.39635433],\n",
       "       [ 4.30175945,  2.47206825,  9.39638008],\n",
       "       [ 3.29542718,  3.46994821,  8.39763549],\n",
       "       [ 3.30183457,  3.47047542,  8.39635433],\n",
       "       [ 5.70756463, 12.46948798,  0.60851965],\n",
       "       [ 2.29816721,  4.46948651,  7.39698551],\n",
       "       [ 3.29443247,  3.47218226,  8.39941525],\n",
       "       [ 2.29623497,  4.46972753,  7.39761732],\n",
       "       [ 1.30702132,  5.46965069,  6.39652306],\n",
       "       [ 3.71101336, 10.46967109,  1.39660952],\n",
       "       [11.70784613, 18.46971562,  6.60364921],\n",
       "       [ 3.30639196,  3.47242967,  8.39651982],\n",
       "       [ 4.30175945,  2.47206825,  9.39638008],\n",
       "       [ 9.70725468, 16.46953744,  4.60388676],\n",
       "       [ 5.70783789, 12.46950247,  0.6073379 ],\n",
       "       [ 0.70582429,  7.4711295 ,  4.40327582],\n",
       "       [ 0.35094078,  6.46969878,  5.39647731],\n",
       "       [ 1.29918017,  5.46954744,  6.39741863]])"
      ]
     },
     "execution_count": 18,
     "metadata": {},
     "output_type": "execute_result"
    }
   ],
   "source": [
    "final_output"
   ]
  },
  {
   "cell_type": "code",
   "execution_count": 19,
   "metadata": {},
   "outputs": [],
   "source": [
    "clusters = np.argmin(final_output, axis = 1)"
   ]
  },
  {
   "cell_type": "code",
   "execution_count": 20,
   "metadata": {},
   "outputs": [
    {
     "data": {
      "text/plain": [
       "array([0, 2, 1, 2, 2, 0, 0, 2, 0, 1, 1, 0, 1, 0, 0, 2, 0, 0, 0, 0, 2, 2,\n",
       "       0, 1, 2, 2, 0, 0, 0], dtype=int64)"
      ]
     },
     "execution_count": 20,
     "metadata": {},
     "output_type": "execute_result"
    }
   ],
   "source": [
    "clusters"
   ]
  },
  {
   "cell_type": "code",
   "execution_count": 21,
   "metadata": {},
   "outputs": [],
   "source": [
    "out = np.empty_like(centroids)\n",
    "for i in range(0,3):\n",
    "    out[i] = np.mean(df[clusters == i],axis = 0)"
   ]
  },
  {
   "cell_type": "code",
   "execution_count": 22,
   "metadata": {},
   "outputs": [
    {
     "data": {
      "text/plain": [
       "array([[26.4       ,  1.71133333],\n",
       "       [23.2       ,  1.768     ],\n",
       "       [34.33333333,  1.75444444]])"
      ]
     },
     "execution_count": 22,
     "metadata": {},
     "output_type": "execute_result"
    }
   ],
   "source": [
    "out"
   ]
  },
  {
   "cell_type": "code",
   "execution_count": 23,
   "metadata": {},
   "outputs": [],
   "source": [
    "# Implementación de Hard clustering K means"
   ]
  },
  {
   "cell_type": "code",
   "execution_count": 57,
   "metadata": {},
   "outputs": [],
   "source": [
    "# inicialización de centroides random dentro de parámetros\n",
    "\n",
    "class KMeans:\n",
    "    \n",
    "    def __init__(self,df,k, verbosity):\n",
    "        self.verbosity = verbosity\n",
    "        self.df = df\n",
    "        self.k = k\n",
    "        self.edad_rand = np.random.uniform(np.min(df[:,0]), np.max(df[:,0]), self.k).reshape(-1,1)\n",
    "        self.estatura_rand = np.random.uniform(np.min(df[:,1]), np.max(df[:,1]), self.k).reshape(-1,1)\n",
    "        self.centroids = np.concatenate((self.edad_rand, self.estatura_rand), axis = 1)\n",
    "        self.clusters = np.empty_like(df[:,0])\n",
    "        self.min_distances = np.empty_like(df[:,0])\n",
    "        self.error = 0 \n",
    "        \n",
    "    def Clusters(self):\n",
    "        output = list()\n",
    "        for i in range(0,self.k):\n",
    "            out = np.sqrt(np.sum(np.square(np.subtract(self.df,self.centroids[i])), axis = 1))\n",
    "            output.append(out)\n",
    "        distances = np.array(output).T\n",
    "        self.min_distances = np.min(distances, axis = 1)\n",
    "        self.clusters = np.argmin(distances, axis = 1)\n",
    "        \n",
    "    def UpdateCentroids(self):\n",
    "        self.Clusters()\n",
    "        output_centroids = np.empty_like(self.centroids)\n",
    "        for i in range(0,self.k):\n",
    "            output_centroids[i] = np.mean(self.df[self.clusters == i],axis = 0)\n",
    "        return output_centroids\n",
    "                 \n",
    "    def Fit(self):\n",
    "        last_centroids = np.zeros_like(self.centroids)\n",
    "        while not (last_centroids == self.UpdateCentroids()).all():\n",
    "            last_centroids = self.UpdateCentroids()\n",
    "            self.centroids = last_centroids\n",
    "            if self.verbosity == True:\n",
    "                print('centroides:')\n",
    "                print(last_centroids)\n",
    "                print(\"****************************************************************************************\")\n",
    "        self.error = np.mean(self.min_distances)\n",
    "        return np.concatenate((self.df,self.clusters.reshape(-1,1)), axis = 1)\n",
    "\n",
    "    def Predict(self, test):\n",
    "        output = list()\n",
    "        for i in range(0, self.k):\n",
    "            out = np.sqrt(np.sum(np.square(np.subtract(test, self.centroids[i])), axis = 1))\n",
    "            output.append(out)\n",
    "        distances = np.array(output).T\n",
    "        # min_distances = np.min(distances, axis = 1)\n",
    "        clusters = np.argmin(distances, axis = 1)\n",
    "        return clusters\n",
    "                    "
   ]
  },
  {
   "cell_type": "code",
   "execution_count": 76,
   "metadata": {},
   "outputs": [],
   "source": [
    "kmeans = KMeans(df,6, True)"
   ]
  },
  {
   "cell_type": "code",
   "execution_count": 77,
   "metadata": {},
   "outputs": [
    {
     "name": "stdout",
     "output_type": "stream",
     "text": [
      "centroides:\n",
      "[[26.625       1.72625   ]\n",
      " [29.66666667  1.65      ]\n",
      " [32.          1.71      ]\n",
      " [24.1         1.749     ]\n",
      " [39.          1.775     ]\n",
      " [34.          1.77      ]]\n",
      "****************************************************************************************\n",
      "centroides:\n",
      "[[26.625       1.72625   ]\n",
      " [29.          1.605     ]\n",
      " [31.66666667  1.72      ]\n",
      " [24.1         1.749     ]\n",
      " [39.          1.775     ]\n",
      " [34.          1.77      ]]\n",
      "****************************************************************************************\n",
      "centroides:\n",
      "[[26.42857143  1.72142857]\n",
      " [28.66666667  1.65666667]\n",
      " [31.66666667  1.72      ]\n",
      " [24.1         1.749     ]\n",
      " [39.          1.775     ]\n",
      " [34.          1.77      ]]\n",
      "****************************************************************************************\n"
     ]
    }
   ],
   "source": [
    "Clusters  = kmeans.Fit()"
   ]
  },
  {
   "cell_type": "code",
   "execution_count": 78,
   "metadata": {},
   "outputs": [
    {
     "data": {
      "text/plain": [
       "array([[26.42857143,  1.72142857],\n",
       "       [28.66666667,  1.65666667],\n",
       "       [31.66666667,  1.72      ],\n",
       "       [24.1       ,  1.749     ],\n",
       "       [39.        ,  1.775     ],\n",
       "       [34.        ,  1.77      ]])"
      ]
     },
     "execution_count": 78,
     "metadata": {},
     "output_type": "execute_result"
    }
   ],
   "source": [
    "kmeans.centroids"
   ]
  },
  {
   "cell_type": "code",
   "execution_count": 79,
   "metadata": {
    "scrolled": true
   },
   "outputs": [
    {
     "data": {
      "text/plain": [
       "array([0.43131503, 0.6669666 , 0.10412012, 0.01      , 0.34060404,\n",
       "       0.33335   , 0.5772012 , 0.08      , 0.44744171, 3.10000016,\n",
       "       1.10016408, 0.9009334 , 0.12264175, 0.90542863, 0.9009334 ,\n",
       "       0.05      , 0.42910681, 0.91762792, 0.43295143, 0.57214241,\n",
       "       0.33706247, 1.00031245, 0.90564949, 0.12264175, 1.00031245,\n",
       "       0.04      , 0.34998413, 0.67462747, 0.57292839])"
      ]
     },
     "execution_count": 79,
     "metadata": {},
     "output_type": "execute_result"
    }
   ],
   "source": [
    "kmeans.min_distances"
   ]
  },
  {
   "cell_type": "code",
   "execution_count": 80,
   "metadata": {},
   "outputs": [
    {
     "data": {
      "text/plain": [
       "0.6009119758886738"
      ]
     },
     "execution_count": 80,
     "metadata": {},
     "output_type": "execute_result"
    }
   ],
   "source": [
    "kmeans.error"
   ]
  },
  {
   "cell_type": "code",
   "execution_count": null,
   "metadata": {},
   "outputs": [],
   "source": []
  },
  {
   "cell_type": "code",
   "execution_count": 81,
   "metadata": {
    "scrolled": true
   },
   "outputs": [
    {
     "data": {
      "image/png": "[encoded data removed]",
      "text/plain": [
       "<Figure size 432x288 with 1 Axes>"
      ]
     },
     "metadata": {
      "needs_background": "light"
     },
     "output_type": "display_data"
    }
   ],
   "source": [
    "plt.scatter(Clusters[:,0], Clusters[:,1], c = Clusters[:,2])\n",
    "plt.show()"
   ]
  },
  {
   "cell_type": "code",
   "execution_count": 39,
   "metadata": {},
   "outputs": [],
   "source": [
    "from sklearn.mixture import GaussianMixture"
   ]
  },
  {
   "cell_type": "code",
   "execution_count": 44,
   "metadata": {},
   "outputs": [],
   "source": [
    "gmm = GaussianMixture(n_components = 6)"
   ]
  },
  {
   "cell_type": "code",
   "execution_count": 45,
   "metadata": {},
   "outputs": [
    {
     "data": {
      "text/plain": [
       "GaussianMixture(n_components=6)"
      ]
     },
     "execution_count": 45,
     "metadata": {},
     "output_type": "execute_result"
    }
   ],
   "source": [
    "gmm.fit(df)"
   ]
  },
  {
   "cell_type": "code",
   "execution_count": 46,
   "metadata": {},
   "outputs": [
    {
     "data": {
      "text/plain": [
       "array([5, 2, 0, 4, 2, 3, 5, 4, 5, 0, 0, 0, 0, 0, 0, 4, 5, 0, 0, 5, 2, 1,\n",
       "       5, 0, 1, 4, 3, 3, 5], dtype=int64)"
      ]
     },
     "execution_count": 46,
     "metadata": {},
     "output_type": "execute_result"
    }
   ],
   "source": [
    "gmm.predict(df)"
   ]
  },
  {
   "cell_type": "code",
   "execution_count": 47,
   "metadata": {},
   "outputs": [
    {
     "data": {
      "image/png": "[encoded data removed]",
      "text/plain": [
       "<Figure size 432x288 with 1 Axes>"
      ]
     },
     "metadata": {
      "needs_background": "light"
     },
     "output_type": "display_data"
    }
   ],
   "source": [
    "plt.scatter(df[:,0], df[:,1], c = gmm.predict(df))\n",
    "plt.show()"
   ]
  },
  {
   "cell_type": "code",
   "execution_count": 52,
   "metadata": {},
   "outputs": [
    {
     "data": {
      "text/plain": [
       "-0.028043457373424837"
      ]
     },
     "execution_count": 52,
     "metadata": {},
     "output_type": "execute_result"
    }
   ],
   "source": [
    "# score de gmm\n",
    "gmm.score(df)"
   ]
  },
  {
   "cell_type": "code",
   "execution_count": 54,
   "metadata": {},
   "outputs": [
    {
     "data": {
      "text/plain": [
       "array([[3.01897652e-001, 0.00000000e+000, 1.54962152e-033,\n",
       "        1.21726678e-017, 0.00000000e+000, 6.98102348e-001],\n",
       "       [2.79915046e-004, 0.00000000e+000, 9.99720085e-001,\n",
       "        2.57126394e-026, 0.00000000e+000, 1.95581037e-015],\n",
       "       [9.99459472e-001, 0.00000000e+000, 8.99063303e-063,\n",
       "        2.17936457e-068, 0.00000000e+000, 5.40527956e-004],\n",
       "       [3.06612710e-012, 0.00000000e+000, 2.41418189e-010,\n",
       "        3.95080748e-126, 1.00000000e+000, 3.15784369e-046],\n",
       "       [2.20641414e-005, 0.00000000e+000, 9.99977936e-001,\n",
       "        1.49238834e-038, 0.00000000e+000, 3.77657315e-018],\n",
       "       [2.87304183e-002, 0.00000000e+000, 4.63064404e-009,\n",
       "        9.70669292e-001, 0.00000000e+000, 6.00285196e-004],\n",
       "       [2.73192408e-001, 0.00000000e+000, 4.22318380e-026,\n",
       "        3.28394931e-011, 0.00000000e+000, 7.26807592e-001],\n",
       "       [1.44671820e-012, 0.00000000e+000, 6.45394217e-012,\n",
       "        6.75509053e-140, 1.00000000e+000, 1.76075029e-051],\n",
       "       [4.02239850e-001, 0.00000000e+000, 9.39972231e-032,\n",
       "        1.05503373e-012, 0.00000000e+000, 5.97760150e-001],\n",
       "       [1.00000000e+000, 0.00000000e+000, 3.19915406e-118,\n",
       "        9.87878833e-185, 0.00000000e+000, 3.33068512e-016],\n",
       "       [9.99999593e-001, 0.00000000e+000, 2.07944282e-079,\n",
       "        6.31514748e-101, 0.00000000e+000, 4.06949444e-007],\n",
       "       [6.38759250e-001, 0.00000000e+000, 1.29262124e-045,\n",
       "        2.59938283e-034, 0.00000000e+000, 3.61240750e-001],\n",
       "       [9.70543876e-001, 0.00000000e+000, 2.51755428e-059,\n",
       "        1.47706973e-055, 0.00000000e+000, 2.94561244e-002],\n",
       "       [9.90871029e-001, 0.00000000e+000, 2.27940232e-050,\n",
       "        1.20526283e-048, 0.00000000e+000, 9.12897145e-003],\n",
       "       [6.38759250e-001, 0.00000000e+000, 1.29262124e-045,\n",
       "        2.59938283e-034, 0.00000000e+000, 3.61240750e-001],\n",
       "       [1.33689592e-011, 0.00000000e+000, 4.61891793e-009,\n",
       "        1.70114299e-114, 9.99999995e-001, 1.17834741e-041],\n",
       "       [4.20046805e-001, 0.00000000e+000, 2.03574071e-035,\n",
       "        2.03660351e-022, 0.00000000e+000, 5.79953195e-001],\n",
       "       [9.99807006e-001, 0.00000000e+000, 3.75251131e-054,\n",
       "        3.96284565e-058, 0.00000000e+000, 1.92993697e-004],\n",
       "       [5.86695301e-001, 0.00000000e+000, 1.13818158e-036,\n",
       "        2.21728125e-025, 0.00000000e+000, 4.13304699e-001],\n",
       "       [4.00243890e-001, 0.00000000e+000, 8.55434092e-023,\n",
       "        3.54014002e-006, 0.00000000e+000, 5.99752570e-001],\n",
       "       [9.19788523e-006, 0.00000000e+000, 9.99990802e-001,\n",
       "        9.94237886e-053, 0.00000000e+000, 5.23966467e-024],\n",
       "       [8.70318175e-025, 1.00000000e+000, 2.08461006e-079,\n",
       "        0.00000000e+000, 0.00000000e+000, 1.80488328e-133],\n",
       "       [4.59338688e-001, 0.00000000e+000, 2.69967432e-044,\n",
       "        4.86329838e-029, 0.00000000e+000, 5.40661312e-001],\n",
       "       [9.70543876e-001, 0.00000000e+000, 2.51755428e-059,\n",
       "        1.47706973e-055, 0.00000000e+000, 2.94561244e-002],\n",
       "       [9.82177429e-019, 1.00000000e+000, 2.85439215e-045,\n",
       "        0.00000000e+000, 0.00000000e+000, 1.75611292e-093],\n",
       "       [9.91841726e-012, 0.00000000e+000, 2.85215192e-009,\n",
       "        2.00627511e-116, 9.99999997e-001, 2.01784562e-042],\n",
       "       [5.67156398e-003, 1.68838456e-156, 6.06419564e-013,\n",
       "        9.91552644e-001, 0.00000000e+000, 2.77579218e-003],\n",
       "       [1.31831534e-001, 0.00000000e+000, 6.83492448e-014,\n",
       "        8.60692191e-001, 0.00000000e+000, 7.47627488e-003],\n",
       "       [2.66896288e-001, 0.00000000e+000, 8.14027706e-025,\n",
       "        2.91668267e-009, 0.00000000e+000, 7.33103709e-001]])"
      ]
     },
     "execution_count": 54,
     "metadata": {},
     "output_type": "execute_result"
    }
   ],
   "source": [
    "# Probabilidades para DF\n",
    "gmm.predict_proba(df)"
   ]
  },
  {
   "cell_type": "markdown",
   "metadata": {},
   "source": [
    "## Experimentos para elegir k"
   ]
  },
  {
   "cell_type": "code",
   "execution_count": 101,
   "metadata": {},
   "outputs": [],
   "source": [
    "# Utilización de seed para reproducibilidad de resultados\n",
    "\n",
    "np.random.seed(42)"
   ]
  },
  {
   "cell_type": "code",
   "execution_count": 102,
   "metadata": {},
   "outputs": [
    {
     "name": "stdout",
     "output_type": "stream",
     "text": [
      "2\n",
      "3\n",
      "4\n",
      "5\n",
      "6\n"
     ]
    }
   ],
   "source": [
    "model_list = list()\n",
    "for i in range(2,7):\n",
    "    print(i)\n",
    "    model = KMeans(df, k = i, verbosity = False)\n",
    "    model_list.append(model)\n"
   ]
  },
  {
   "cell_type": "code",
   "execution_count": 106,
   "metadata": {},
   "outputs": [],
   "source": [
    "error_list = list()\n",
    "for i in model_list:\n",
    "    i.Fit()\n",
    "    error = i.error\n",
    "    error_list.append(error)"
   ]
  },
  {
   "cell_type": "code",
   "execution_count": 120,
   "metadata": {
    "scrolled": true
   },
   "outputs": [
    {
     "data": {
      "image/png": "[encoded data removed]",
      "text/plain": [
       "<Figure size 432x288 with 1 Axes>"
      ]
     },
     "metadata": {
      "needs_background": "light"
     },
     "output_type": "display_data"
    }
   ],
   "source": [
    "plt.plot(np.array([2,3,4,5,6], dtype = np.int32), error_list)\n",
    "plt.scatter(np.array([2,3,4,5,6], dtype = np.int32), error_list)\n",
    "plt.title(\"K means Distortion error\")\n",
    "plt.xlabel(\"K\")\n",
    "plt.ylabel(\"Distortion error\")\n",
    "plt.xticks([2,3,4,5,6])\n",
    "plt.show()\n"
   ]
  },
  {
   "cell_type": "markdown",
   "metadata": {},
   "source": [
    "Se decidirá utiliza un $k = 4$ por presentar el último punto antes del \"codo\". Utilizar más 6 clusters para un dataset tan pequeño de datos se vuelve inestable en la implementación del algoritmo con numpy. Además, el 6 clusters para un dataset pequeño también hace que identificar características descriptivas de cada cluster, difícil."
   ]
  },
  {
   "cell_type": "code",
   "execution_count": 124,
   "metadata": {},
   "outputs": [],
   "source": [
    "final_model = model_list[2]"
   ]
  },
  {
   "cell_type": "code",
   "execution_count": 126,
   "metadata": {},
   "outputs": [
    {
     "data": {
      "text/plain": [
       "1.1063353885066332"
      ]
     },
     "execution_count": 126,
     "metadata": {},
     "output_type": "execute_result"
    }
   ],
   "source": [
    "final_model.error"
   ]
  },
  {
   "cell_type": "code",
   "execution_count": 127,
   "metadata": {},
   "outputs": [
    {
     "data": {
      "text/plain": [
       "array([3, 2, 0, 2, 2, 3, 3, 2, 3, 0, 0, 3, 0, 3, 3, 2, 3, 3, 3, 3, 2, 1,\n",
       "       3, 0, 1, 2, 3, 3, 3], dtype=int64)"
      ]
     },
     "execution_count": 127,
     "metadata": {},
     "output_type": "execute_result"
    }
   ],
   "source": [
    "final_model.clusters"
   ]
  },
  {
   "cell_type": "code",
   "execution_count": 209,
   "metadata": {},
   "outputs": [
    {
     "data": {
      "image/png": "[encoded data removed]",
      "text/plain": [
       "<Figure size 432x288 with 1 Axes>"
      ]
     },
     "metadata": {
      "needs_background": "light"
     },
     "output_type": "display_data"
    }
   ],
   "source": [
    "plt.scatter(df[:,0], df[:,1], c=final_model.clusters)\n",
    "plt.scatter(final_model.centroids[:,0], final_model.centroids[:,1], color = \"red\", s = 100)\n",
    "plt.title(\"K Means con k = 4\")\n",
    "plt.xlabel(\"Edad\")\n",
    "plt.ylabel(\"Estatura\")\n",
    "plt.show()"
   ]
  },
  {
   "cell_type": "code",
   "execution_count": 157,
   "metadata": {},
   "outputs": [
    {
     "data": {
      "text/plain": [
       "GaussianMixture(n_components=4)"
      ]
     },
     "execution_count": 157,
     "metadata": {},
     "output_type": "execute_result"
    }
   ],
   "source": [
    "gmm = GaussianMixture(n_components=4)\n",
    "gmm.fit(df)\n"
   ]
  },
  {
   "cell_type": "code",
   "execution_count": 210,
   "metadata": {
    "scrolled": true
   },
   "outputs": [
    {
     "data": {
      "image/png": "[encoded data removed]",
      "text/plain": [
       "<Figure size 432x288 with 1 Axes>"
      ]
     },
     "metadata": {
      "needs_background": "light"
     },
     "output_type": "display_data"
    }
   ],
   "source": [
    "plt.scatter(df[:,0], df[:,1], c=gmm.predict(df))\n",
    "plt.title(\"GMM con componentes = 4\")\n",
    "plt.xlabel(\"Edad\")\n",
    "plt.ylabel(\"Estatura\")\n",
    "plt.show()"
   ]
  },
  {
   "cell_type": "markdown",
   "metadata": {},
   "source": [
    "## Análisis de clusters\n",
    "\n",
    "Parecen haber 4 clusters principales en este dataset, y los 4 dependen principalmente de la edad de los estudiantes. Parece haber agrupaciones principalmente de personas menores de aproximadamente 24 años, de 25 a 30 años, de 30 a 37 años, y los mayores de 37 años. La estatura de los estudiantes no parece tener un efecto en la determinación de los clusters.\n"
   ]
  },
  {
   "cell_type": "markdown",
   "metadata": {},
   "source": [
    "## Datos de prueba"
   ]
  },
  {
   "cell_type": "code",
   "execution_count": 165,
   "metadata": {},
   "outputs": [],
   "source": [
    "test = pd.read_csv(\"prueba.csv\")"
   ]
  },
  {
   "cell_type": "code",
   "execution_count": 168,
   "metadata": {},
   "outputs": [],
   "source": [
    "test = np.array(test)"
   ]
  },
  {
   "cell_type": "code",
   "execution_count": 170,
   "metadata": {},
   "outputs": [],
   "source": [
    "# Switch de columnas\n",
    "test[:, 0], test[:, 1] = test[:, 1], test[:, 0].copy()"
   ]
  },
  {
   "cell_type": "code",
   "execution_count": 172,
   "metadata": {},
   "outputs": [
    {
     "data": {
      "text/plain": [
       "array([3, 3, 1, 1, 1, 1, 1, 1], dtype=int64)"
      ]
     },
     "execution_count": 172,
     "metadata": {},
     "output_type": "execute_result"
    }
   ],
   "source": [
    "gmm.predict(test)"
   ]
  },
  {
   "cell_type": "code",
   "execution_count": 174,
   "metadata": {},
   "outputs": [
    {
     "data": {
      "text/plain": [
       "array([3, 3, 2, 2, 2, 2, 2, 2], dtype=int64)"
      ]
     },
     "execution_count": 174,
     "metadata": {},
     "output_type": "execute_result"
    }
   ],
   "source": [
    "final_model.Predict(test)"
   ]
  },
  {
   "cell_type": "code",
   "execution_count": 211,
   "metadata": {},
   "outputs": [
    {
     "data": {
      "image/png": "[encoded data removed]",
      "text/plain": [
       "<Figure size 432x288 with 1 Axes>"
      ]
     },
     "metadata": {
      "needs_background": "light"
     },
     "output_type": "display_data"
    }
   ],
   "source": [
    "plt.scatter(df[:,0], df[:,1], c=final_model.clusters)\n",
    "plt.scatter(test[:,0], test[:,1], color = \"red\", s = 100)\n",
    "plt.title(\"K Means con k = 4\")\n",
    "plt.xlabel(\"Edad\")\n",
    "plt.ylabel(\"Estatura\")\n",
    "plt.show()"
   ]
  },
  {
   "cell_type": "markdown",
   "metadata": {},
   "source": [
    "## Detección de anomalías:\n",
    "\n",
    "Usar pestaña uno para hacer el entrenamiento del modelo de detección de anomalías.\n",
    "\n",
    "Usar pestaña dos y tres como set de validaciones(seleccionar epsilon) y pruebas.\n"
   ]
  },
  {
   "cell_type": "code",
   "execution_count": 177,
   "metadata": {},
   "outputs": [],
   "source": [
    "from scipy.stats import multivariate_normal"
   ]
  },
  {
   "cell_type": "code",
   "execution_count": 178,
   "metadata": {},
   "outputs": [
    {
     "data": {
      "text/plain": [
       "array([[26.  ,  1.77],\n",
       "       [31.  ,  1.74],\n",
       "       [24.  ,  1.72],\n",
       "       [34.  ,  1.78],\n",
       "       [32.  ,  1.65],\n",
       "       [29.  ,  1.66],\n",
       "       [27.  ,  1.64],\n",
       "       [34.  ,  1.85],\n",
       "       [26.  ,  1.85],\n",
       "       [21.  ,  1.75],\n",
       "       [23.  ,  1.73],\n",
       "       [25.  ,  1.79],\n",
       "       [24.  ,  1.82],\n",
       "       [25.  ,  1.65],\n",
       "       [25.  ,  1.79],\n",
       "       [34.  ,  1.72],\n",
       "       [26.  ,  1.7 ],\n",
       "       [25.  ,  1.57],\n",
       "       [26.  ,  1.66],\n",
       "       [27.  ,  1.75],\n",
       "       [32.  ,  1.77],\n",
       "       [40.  ,  1.8 ],\n",
       "       [25.  ,  1.85],\n",
       "       [24.  ,  1.82],\n",
       "       [38.  ,  1.75],\n",
       "       [34.  ,  1.73],\n",
       "       [29.  ,  1.55],\n",
       "       [28.  ,  1.76],\n",
       "       [27.  ,  1.68]])"
      ]
     },
     "execution_count": 178,
     "metadata": {},
     "output_type": "execute_result"
    }
   ],
   "source": [
    "df"
   ]
  },
  {
   "cell_type": "code",
   "execution_count": 202,
   "metadata": {},
   "outputs": [],
   "source": [
    "anomalias = pd.read_csv(\"anomalias.csv\")"
   ]
  },
  {
   "cell_type": "code",
   "execution_count": 204,
   "metadata": {},
   "outputs": [],
   "source": [
    "anomalias = anomalias[0:4]"
   ]
  },
  {
   "cell_type": "code",
   "execution_count": 205,
   "metadata": {},
   "outputs": [],
   "source": [
    "anomalias = np.array(anomalias)"
   ]
  },
  {
   "cell_type": "code",
   "execution_count": 206,
   "metadata": {},
   "outputs": [],
   "source": [
    "# Switch de columnas\n",
    "anomalias[:, 0], anomalias[:, 1] = anomalias[:, 1], anomalias[:, 0].copy()"
   ]
  },
  {
   "cell_type": "code",
   "execution_count": 212,
   "metadata": {},
   "outputs": [
    {
     "data": {
      "text/plain": [
       "array([[2.400e+00, 2.500e-01],\n",
       "       [2.500e+00, 1.751e+02],\n",
       "       [2.500e+02, 1.500e-01],\n",
       "       [1.400e+01, 1.500e+02]])"
      ]
     },
     "execution_count": 212,
     "metadata": {},
     "output_type": "execute_result"
    }
   ],
   "source": [
    "anomalias"
   ]
  },
  {
   "cell_type": "code",
   "execution_count": 182,
   "metadata": {},
   "outputs": [],
   "source": [
    "def GaussianDist(df):\n",
    "    mu = np.mean(df, axis = 0)\n",
    "    sigma = np.cov(df.T)\n",
    "    dist = multivariate_normal(mu, sigma)\n",
    "    pdf = dist.pdf(df)\n",
    "    return mu, sigma, dist, pdf"
   ]
  },
  {
   "cell_type": "code",
   "execution_count": 184,
   "metadata": {},
   "outputs": [],
   "source": [
    "_,_, model, probabilities = GaussianDist(df)"
   ]
  },
  {
   "cell_type": "code",
   "execution_count": 185,
   "metadata": {},
   "outputs": [
    {
     "data": {
      "text/plain": [
       "<scipy.stats._multivariate.multivariate_normal_frozen at 0x13611640508>"
      ]
     },
     "execution_count": 185,
     "metadata": {},
     "output_type": "execute_result"
    }
   ],
   "source": [
    "model"
   ]
  },
  {
   "cell_type": "code",
   "execution_count": 186,
   "metadata": {},
   "outputs": [
    {
     "data": {
      "text/plain": [
       "array([0.34191419, 0.36947513, 0.2834394 , 0.18450539, 0.16646052,\n",
       "       0.2703258 , 0.20619402, 0.07915274, 0.12186773, 0.12268719,\n",
       "       0.22911876, 0.25347203, 0.14473511, 0.19952848, 0.25347203,\n",
       "       0.20061665, 0.35546521, 0.04090768, 0.25306917, 0.40914669,\n",
       "       0.29537546, 0.01561441, 0.10464836, 0.14473511, 0.05122697,\n",
       "       0.20614432, 0.02555203, 0.41157343, 0.33306881])"
      ]
     },
     "execution_count": 186,
     "metadata": {},
     "output_type": "execute_result"
    }
   ],
   "source": [
    "probabilities"
   ]
  },
  {
   "cell_type": "code",
   "execution_count": 224,
   "metadata": {},
   "outputs": [],
   "source": [
    "\n",
    "def DetectAnomalies(df_pdf, epsilon):\n",
    "    probabilities = df_pdf[df_pdf < epsilon]\n",
    "    args = np.argwhere(df_pdf < epsilon)\n",
    "    return probabilities, args"
   ]
  },
  {
   "cell_type": "code",
   "execution_count": 233,
   "metadata": {
    "scrolled": true
   },
   "outputs": [
    {
     "data": {
      "text/plain": [
       "(array([0.01561441]), array([[21]], dtype=int64))"
      ]
     },
     "execution_count": 233,
     "metadata": {},
     "output_type": "execute_result"
    }
   ],
   "source": [
    "# Deteccion de anomalias en el dataset de entrenamiento\n",
    "\n",
    "DetectAnomalies(probabilities, 0.025)"
   ]
  },
  {
   "cell_type": "code",
   "execution_count": 237,
   "metadata": {},
   "outputs": [
    {
     "data": {
      "text/plain": [
       "(array([0.0293934]), array([[3]], dtype=int64))"
      ]
     },
     "execution_count": 237,
     "metadata": {},
     "output_type": "execute_result"
    }
   ],
   "source": [
    "# Deteccion de anomalias en dataset de prueba(todas son normales): 1 detectado como anomalía, epsilon 0.025\n",
    "DetectAnomalies(model.pdf(test), 0.05)"
   ]
  },
  {
   "cell_type": "code",
   "execution_count": 239,
   "metadata": {},
   "outputs": [
    {
     "data": {
      "text/plain": [
       "(array([4.19416801e-83, 0.00000000e+00, 0.00000000e+00, 0.00000000e+00]),\n",
       " array([[0],\n",
       "        [1],\n",
       "        [2],\n",
       "        [3]], dtype=int64))"
      ]
     },
     "execution_count": 239,
     "metadata": {},
     "output_type": "execute_result"
    }
   ],
   "source": [
    "# Deteccion de anomalias de dataset de anomalias(todas son anomalias): Todas son anomalías, epsilon 0.025\n",
    "DetectAnomalies(model.pdf(anomalias), 0.05)"
   ]
  },
  {
   "cell_type": "code",
   "execution_count": 240,
   "metadata": {
    "scrolled": false
   },
   "outputs": [
    {
     "data": {
      "text/plain": [
       "(array([], dtype=float64), array([], shape=(0, 1), dtype=int64))"
      ]
     },
     "execution_count": 240,
     "metadata": {},
     "output_type": "execute_result"
    }
   ],
   "source": [
    "# Deteccion de anomalias en dataset de prueba(todas son normales): Ninguna es anomalia, epsilon 0.025\n",
    "DetectAnomalies(model.pdf(test), 0.025)"
   ]
  },
  {
   "cell_type": "code",
   "execution_count": 241,
   "metadata": {},
   "outputs": [
    {
     "data": {
      "text/plain": [
       "(array([4.19416801e-83, 0.00000000e+00, 0.00000000e+00, 0.00000000e+00]),\n",
       " array([[0],\n",
       "        [1],\n",
       "        [2],\n",
       "        [3]], dtype=int64))"
      ]
     },
     "execution_count": 241,
     "metadata": {},
     "output_type": "execute_result"
    }
   ],
   "source": [
    "# Deteccion de anomalias de dataset de anomalias(todas son anomalias): Todas son anomalías, epsilon 0.025\n",
    "DetectAnomalies(model.pdf(anomalias), 0.025)"
   ]
  },
  {
   "cell_type": "markdown",
   "metadata": {},
   "source": [
    "Se determinó después de realizar las pruebas en los datasets, y utilizando un modelo de detección de anomalías de distribución gausiana multivariable, que un epsilon de 0.025 como punto de corte para detección de anomalías tiene un buen rendimiento."
   ]
  }
 ],
 "metadata": {
  "kernelspec": {
   "display_name": "Python 3",
   "language": "python",
   "name": "python3"
  },
  "language_info": {
   "codemirror_mode": {
    "name": "ipython",
    "version": 3
   },
   "file_extension": ".py",
   "mimetype": "text/x-python",
   "name": "python",
   "nbconvert_exporter": "python",
   "pygments_lexer": "ipython3",
   "version": "3.7.7"
  }
 },
 "nbformat": 4,
 "nbformat_minor": 4
}
