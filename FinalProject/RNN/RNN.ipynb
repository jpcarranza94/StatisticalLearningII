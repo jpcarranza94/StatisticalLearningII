{
 "cells": [
  {
   "cell_type": "markdown",
   "metadata": {},
   "source": [
    "# Final project: Recurrent neural networks"
   ]
  },
  {
   "cell_type": "markdown",
   "metadata": {},
   "source": [
    "For this specific task we will be using a recurrent neural network to create a model to classify 60,000 Stack Overflow Questions, each with a quality score."
   ]
  },
  {
   "cell_type": "code",
   "execution_count": 21,
   "metadata": {},
   "outputs": [],
   "source": [
    "import pandas as pd\n",
    "import numpy as np\n",
    "import tensorflow as tf\n",
    "import matplotlib.pyplot as plt\n",
    "from sklearn.model_selection import train_test_split"
   ]
  },
  {
   "cell_type": "code",
   "execution_count": 3,
   "metadata": {},
   "outputs": [
    {
     "data": {
      "text/plain": [
       "'/device:GPU:0'"
      ]
     },
     "execution_count": 3,
     "metadata": {},
     "output_type": "execute_result"
    }
   ],
   "source": [
    "tf.test.gpu_device_name()\n"
   ]
  },
  {
   "cell_type": "code",
   "execution_count": 4,
   "metadata": {},
   "outputs": [],
   "source": [
    "# import dataset\n",
    "df = pd.read_csv(\"data.csv\")"
   ]
  },
  {
   "cell_type": "code",
   "execution_count": 5,
   "metadata": {
    "scrolled": true
   },
   "outputs": [
    {
     "data": {
      "text/html": [
       "<div>\n",
       "<style scoped>\n",
       "    .dataframe tbody tr th:only-of-type {\n",
       "        vertical-align: middle;\n",
       "    }\n",
       "\n",
       "    .dataframe tbody tr th {\n",
       "        vertical-align: top;\n",
       "    }\n",
       "\n",
       "    .dataframe thead th {\n",
       "        text-align: right;\n",
       "    }\n",
       "</style>\n",
       "<table border=\"1\" class=\"dataframe\">\n",
       "  <thead>\n",
       "    <tr style=\"text-align: right;\">\n",
       "      <th></th>\n",
       "      <th>Id</th>\n",
       "      <th>Title</th>\n",
       "      <th>Body</th>\n",
       "      <th>Tags</th>\n",
       "      <th>CreationDate</th>\n",
       "      <th>Y</th>\n",
       "    </tr>\n",
       "  </thead>\n",
       "  <tbody>\n",
       "    <tr>\n",
       "      <th>0</th>\n",
       "      <td>34552656</td>\n",
       "      <td>Java: Repeat Task Every Random Seconds</td>\n",
       "      <td>&lt;p&gt;I'm already familiar with repeating tasks e...</td>\n",
       "      <td>&lt;java&gt;&lt;repeat&gt;</td>\n",
       "      <td>2016-01-01 00:21:59</td>\n",
       "      <td>LQ_CLOSE</td>\n",
       "    </tr>\n",
       "    <tr>\n",
       "      <th>1</th>\n",
       "      <td>34552974</td>\n",
       "      <td>How to get all the child records from differen...</td>\n",
       "      <td>I am having 4 different tables like \\r\\nselect...</td>\n",
       "      <td>&lt;sql&gt;&lt;sql-server&gt;</td>\n",
       "      <td>2016-01-01 01:44:52</td>\n",
       "      <td>LQ_EDIT</td>\n",
       "    </tr>\n",
       "    <tr>\n",
       "      <th>2</th>\n",
       "      <td>34553034</td>\n",
       "      <td>Why are Java Optionals immutable?</td>\n",
       "      <td>&lt;p&gt;I'd like to understand why Java 8 Optionals...</td>\n",
       "      <td>&lt;java&gt;&lt;optional&gt;</td>\n",
       "      <td>2016-01-01 02:03:20</td>\n",
       "      <td>HQ</td>\n",
       "    </tr>\n",
       "    <tr>\n",
       "      <th>3</th>\n",
       "      <td>34553174</td>\n",
       "      <td>Text Overlay Image with Darkened Opacity React...</td>\n",
       "      <td>&lt;p&gt;I am attempting to overlay a title over an ...</td>\n",
       "      <td>&lt;javascript&gt;&lt;image&gt;&lt;overlay&gt;&lt;react-native&gt;&lt;opa...</td>\n",
       "      <td>2016-01-01 02:48:24</td>\n",
       "      <td>HQ</td>\n",
       "    </tr>\n",
       "    <tr>\n",
       "      <th>4</th>\n",
       "      <td>34553318</td>\n",
       "      <td>Why ternary operator in swift is so picky?</td>\n",
       "      <td>&lt;p&gt;The question is very simple, but I just cou...</td>\n",
       "      <td>&lt;swift&gt;&lt;operators&gt;&lt;whitespace&gt;&lt;ternary-operato...</td>\n",
       "      <td>2016-01-01 03:30:17</td>\n",
       "      <td>HQ</td>\n",
       "    </tr>\n",
       "  </tbody>\n",
       "</table>\n",
       "</div>"
      ],
      "text/plain": [
       "         Id                                              Title  \\\n",
       "0  34552656             Java: Repeat Task Every Random Seconds   \n",
       "1  34552974  How to get all the child records from differen...   \n",
       "2  34553034                  Why are Java Optionals immutable?   \n",
       "3  34553174  Text Overlay Image with Darkened Opacity React...   \n",
       "4  34553318         Why ternary operator in swift is so picky?   \n",
       "\n",
       "                                                Body  \\\n",
       "0  <p>I'm already familiar with repeating tasks e...   \n",
       "1  I am having 4 different tables like \\r\\nselect...   \n",
       "2  <p>I'd like to understand why Java 8 Optionals...   \n",
       "3  <p>I am attempting to overlay a title over an ...   \n",
       "4  <p>The question is very simple, but I just cou...   \n",
       "\n",
       "                                                Tags         CreationDate  \\\n",
       "0                                     <java><repeat>  2016-01-01 00:21:59   \n",
       "1                                  <sql><sql-server>  2016-01-01 01:44:52   \n",
       "2                                   <java><optional>  2016-01-01 02:03:20   \n",
       "3  <javascript><image><overlay><react-native><opa...  2016-01-01 02:48:24   \n",
       "4  <swift><operators><whitespace><ternary-operato...  2016-01-01 03:30:17   \n",
       "\n",
       "          Y  \n",
       "0  LQ_CLOSE  \n",
       "1   LQ_EDIT  \n",
       "2        HQ  \n",
       "3        HQ  \n",
       "4        HQ  "
      ]
     },
     "execution_count": 5,
     "metadata": {},
     "output_type": "execute_result"
    }
   ],
   "source": [
    "df.head()"
   ]
  },
  {
   "cell_type": "code",
   "execution_count": 6,
   "metadata": {
    "scrolled": true
   },
   "outputs": [
    {
     "name": "stdout",
     "output_type": "stream",
     "text": [
      "<class 'pandas.core.frame.DataFrame'>\n",
      "RangeIndex: 60000 entries, 0 to 59999\n",
      "Data columns (total 6 columns):\n",
      " #   Column        Non-Null Count  Dtype \n",
      "---  ------        --------------  ----- \n",
      " 0   Id            60000 non-null  int64 \n",
      " 1   Title         60000 non-null  object\n",
      " 2   Body          60000 non-null  object\n",
      " 3   Tags          60000 non-null  object\n",
      " 4   CreationDate  60000 non-null  object\n",
      " 5   Y             60000 non-null  object\n",
      "dtypes: int64(1), object(5)\n",
      "memory usage: 2.7+ MB\n"
     ]
    }
   ],
   "source": [
    "df.info()"
   ]
  },
  {
   "cell_type": "markdown",
   "metadata": {},
   "source": [
    "# Data cleaning"
   ]
  },
  {
   "cell_type": "code",
   "execution_count": 7,
   "metadata": {},
   "outputs": [],
   "source": [
    "from bs4 import BeautifulSoup"
   ]
  },
  {
   "cell_type": "code",
   "execution_count": 8,
   "metadata": {},
   "outputs": [],
   "source": [
    "# parse text from html file using BeautifulSoup\n",
    "df.Body = df.Body.apply(lambda x: BeautifulSoup(x, 'html.parser').text)"
   ]
  },
  {
   "cell_type": "code",
   "execution_count": 9,
   "metadata": {},
   "outputs": [
    {
     "data": {
      "text/plain": [
       "0        I'm already familiar with repeating tasks ever...\n",
       "1        I am having 4 different tables like \\r\\nselect...\n",
       "2        I'd like to understand why Java 8 Optionals we...\n",
       "3        I am attempting to overlay a title over an ima...\n",
       "4        The question is very simple, but I just could ...\n",
       "                               ...                        \n",
       "59995    I try to multiply an integer by a double but I...\n",
       "59996    I'm very new to programming and I'm teaching m...\n",
       "59997        *URLS.PY*\\r\\n    //URLS.PY FILE\\r\\n    fro...\n",
       "59998    I have a controller inside which a server is c...\n",
       "59999    So i was recently helping someone out with som...\n",
       "Name: Body, Length: 60000, dtype: object"
      ]
     },
     "execution_count": 9,
     "metadata": {},
     "output_type": "execute_result"
    }
   ],
   "source": [
    "df.Body"
   ]
  },
  {
   "cell_type": "code",
   "execution_count": 10,
   "metadata": {},
   "outputs": [],
   "source": [
    "# a final text file is created that inclused both the title and the body of the Stack Overflow question\n",
    "df['text'] = df['Title'] + \" \" + df['Body']"
   ]
  },
  {
   "cell_type": "code",
   "execution_count": 11,
   "metadata": {},
   "outputs": [],
   "source": [
    "document_sizes = np.array([len(i.split()) for i in df.Body])"
   ]
  },
  {
   "cell_type": "code",
   "execution_count": 12,
   "metadata": {},
   "outputs": [
    {
     "data": {
      "image/png": "[encoded data removed]",
      "text/plain": [
       "<Figure size 432x288 with 1 Axes>"
      ]
     },
     "metadata": {
      "needs_background": "light"
     },
     "output_type": "display_data"
    }
   ],
   "source": [
    "# Document sizes for the complete data set, size is a word in this case\n",
    "plt.hist(document_sizes)\n",
    "plt.title('document sizes')\n",
    "plt.show()"
   ]
  },
  {
   "cell_type": "code",
   "execution_count": 13,
   "metadata": {
    "scrolled": true
   },
   "outputs": [
    {
     "data": {
      "text/plain": [
       "<AxesSubplot:>"
      ]
     },
     "execution_count": 13,
     "metadata": {},
     "output_type": "execute_result"
    },
    {
     "data": {
      "image/png": "[encoded data removed]",
      "text/plain": [
       "<Figure size 432x288 with 1 Axes>"
      ]
     },
     "metadata": {
      "needs_background": "light"
     },
     "output_type": "display_data"
    }
   ],
   "source": [
    "# Quality counts for question is exactly the same\n",
    "df.Y.value_counts().plot.bar()\n"
   ]
  },
  {
   "cell_type": "code",
   "execution_count": 14,
   "metadata": {},
   "outputs": [],
   "source": [
    "from nltk.corpus import stopwords\n",
    "import re"
   ]
  },
  {
   "cell_type": "code",
   "execution_count": 15,
   "metadata": {},
   "outputs": [],
   "source": [
    "stop_words = stopwords.words('english')"
   ]
  },
  {
   "cell_type": "code",
   "execution_count": 16,
   "metadata": {},
   "outputs": [],
   "source": [
    "clean_X = df['text']"
   ]
  },
  {
   "cell_type": "code",
   "execution_count": 17,
   "metadata": {},
   "outputs": [
    {
     "data": {
      "text/plain": [
       "0        Java: Repeat Task Every Random Seconds I'm alr...\n",
       "1        How to get all the child records from differen...\n",
       "2        Why are Java Optionals immutable? I'd like to ...\n",
       "3        Text Overlay Image with Darkened Opacity React...\n",
       "4        Why ternary operator in swift is so picky? The...\n",
       "                               ...                        \n",
       "59995    C++ The correct way to multiply an integer and...\n",
       "59996    How can I make a c# application outside of vis...\n",
       "59997    WHY DJANGO IS SHOWING ME THIS ERROR WHEN I TRY...\n",
       "59998    PHP - getting the content of php page I have a...\n",
       "59999    Why can't overloaded functions vary only by re...\n",
       "Name: text, Length: 60000, dtype: object"
      ]
     },
     "execution_count": 17,
     "metadata": {},
     "output_type": "execute_result"
    }
   ],
   "source": [
    "clean_X"
   ]
  },
  {
   "cell_type": "code",
   "execution_count": 18,
   "metadata": {},
   "outputs": [],
   "source": [
    "# function to only keep alphabet characters inside the text\n",
    "def data_cleaning(data):\n",
    "    data = data.lower()\n",
    "    data = re.sub(r'[^(a-zA-Z)\\s]','',data)\n",
    "\n",
    "    return data"
   ]
  },
  {
   "cell_type": "code",
   "execution_count": 19,
   "metadata": {},
   "outputs": [],
   "source": [
    "clean_X = pd.DataFrame({'text':clean_X}).text.apply(data_cleaning)"
   ]
  },
  {
   "cell_type": "code",
   "execution_count": 612,
   "metadata": {},
   "outputs": [
    {
     "data": {
      "text/plain": [
       "0        java repeat task every random seconds im alrea...\n",
       "1        how to get all the child records from differen...\n",
       "2        why are java optionals immutable id like to un...\n",
       "3        text overlay image with darkened opacity react...\n",
       "4        why ternary operator in swift is so picky the ...\n",
       "                               ...                        \n",
       "59995    c the correct way to multiply an integer and a...\n",
       "59996    how can i make a c application outside of visu...\n",
       "59997    why django is showing me this error when i try...\n",
       "59998    php  getting the content of php page i have a ...\n",
       "59999    why cant overloaded functions vary only by ret...\n",
       "Name: text, Length: 60000, dtype: object"
      ]
     },
     "execution_count": 612,
     "metadata": {},
     "output_type": "execute_result"
    }
   ],
   "source": [
    "clean_X"
   ]
  },
  {
   "cell_type": "code",
   "execution_count": 42,
   "metadata": {},
   "outputs": [],
   "source": [
    "MAX_NUM_WORDS = 10000\n",
    "MAX_LEN = 300"
   ]
  },
  {
   "cell_type": "code",
   "execution_count": 23,
   "metadata": {},
   "outputs": [],
   "source": [
    "from sklearn.preprocessing import LabelEncoder\n",
    "from sklearn.model_selection import train_test_split"
   ]
  },
  {
   "cell_type": "code",
   "execution_count": 615,
   "metadata": {},
   "outputs": [],
   "source": [
    "\n",
    "#vectorizer = tf.keras.layers.experimental.preprocessing.TextVectorization(max_tokens=MAX_NUM_WORDS, output_sequence_length=MAX_LEN)\n",
    "#text_ds = tf.data.Dataset.from_tensor_slices(clean_X).batch(128)\n",
    "#vectorizer.adapt(text_ds)"
   ]
  },
  {
   "cell_type": "code",
   "execution_count": 619,
   "metadata": {},
   "outputs": [],
   "source": [
    "#voc = [i.decode('utf-8') for i in vectorizer.get_vocabulary()]\n",
    "#word_index = dict(zip(voc, range(len(voc))))"
   ]
  },
  {
   "cell_type": "code",
   "execution_count": 587,
   "metadata": {},
   "outputs": [],
   "source": [
    "#tokenizer = tf.keras.preprocessing.text.Tokenizer(num_words=MAX_NUM_WORDS, filters='!\"#$%&()*+,-./:;<=>?@[\\]^_`{|}~', lower=True)\n",
    "\n",
    "#tokenizer.fit_on_texts(clean_X)"
   ]
  },
  {
   "cell_type": "code",
   "execution_count": 622,
   "metadata": {},
   "outputs": [],
   "source": [
    "#x_train = vectorizer(np.array([[s] for s in X_train])).numpy()\n",
    "#x_test = vectorizer(np.array([[s] for s in X_test])).numpy()"
   ]
  },
  {
   "cell_type": "code",
   "execution_count": 24,
   "metadata": {},
   "outputs": [],
   "source": [
    "#Encode labels\n",
    "\n",
    "encoder = LabelEncoder()\n",
    "y = encoder.fit_transform(df.Y.values)\n"
   ]
  },
  {
   "cell_type": "code",
   "execution_count": 25,
   "metadata": {},
   "outputs": [],
   "source": [
    "y = tf.keras.utils.to_categorical(y)"
   ]
  },
  {
   "cell_type": "code",
   "execution_count": 26,
   "metadata": {},
   "outputs": [],
   "source": [
    "X_train, X_test, y_train, y_test = train_test_split(clean_X, y, train_size = 0.80, random_state = 42, shuffle = True, stratify = y)"
   ]
  },
  {
   "cell_type": "code",
   "execution_count": 31,
   "metadata": {},
   "outputs": [
    {
     "data": {
      "text/plain": [
       "(48000,)"
      ]
     },
     "execution_count": 31,
     "metadata": {},
     "output_type": "execute_result"
    }
   ],
   "source": [
    "X_train.shape"
   ]
  },
  {
   "cell_type": "code",
   "execution_count": 32,
   "metadata": {},
   "outputs": [
    {
     "data": {
      "text/plain": [
       "(48000, 3)"
      ]
     },
     "execution_count": 32,
     "metadata": {},
     "output_type": "execute_result"
    }
   ],
   "source": [
    "y_train.shape"
   ]
  },
  {
   "cell_type": "code",
   "execution_count": 45,
   "metadata": {},
   "outputs": [],
   "source": [
    "tokenizer = tf.keras.preprocessing.text.Tokenizer(num_words=MAX_NUM_WORDS)\n",
    "tokenizer.fit_on_texts(X_train)\n",
    "tokenized_train = tokenizer.texts_to_sequences(X_train)\n",
    "X_train = tf.keras.preprocessing.sequence.pad_sequences(tokenized_train, maxlen=MAX_LEN)"
   ]
  },
  {
   "cell_type": "code",
   "execution_count": 47,
   "metadata": {},
   "outputs": [],
   "source": [
    "tokenized_test = tokenizer.texts_to_sequences(X_test)\n",
    "X_test = tf.keras.preprocessing.sequence.pad_sequences(tokenized_test, maxlen=MAX_LEN)"
   ]
  },
  {
   "cell_type": "code",
   "execution_count": 48,
   "metadata": {},
   "outputs": [],
   "source": [
    "path_to_glove_file = 'glove.twitter.27B.200d.txt'\n",
    "\n",
    "def get_coefs(word, *arr): \n",
    "    return word, np.asarray(arr, dtype='float32')\n",
    "embeddings_index = dict(get_coefs(*o.rstrip().rsplit(' ')) for o in open(EMBEDDING_FILE, encoding = 'utf8'))"
   ]
  },
  {
   "cell_type": "code",
   "execution_count": 51,
   "metadata": {},
   "outputs": [],
   "source": [
    "all_embs = np.stack(embeddings_index.values())\n",
    "emb_mean,emb_std = all_embs.mean(), all_embs.std()\n",
    "embed_size = all_embs.shape[1]\n",
    "\n",
    "word_index = tokenizer.word_index\n",
    "nb_words = min(MAX_NUM_WORDS, len(word_index))\n",
    "#change below line if computing normal stats is too slow\n",
    "embedding_matrix = embedding_matrix = np.random.normal(emb_mean, emb_std, (nb_words, embed_size))\n",
    "for word, i in word_index.items():\n",
    "    if i >= MAX_NUM_WORDS: continue\n",
    "    embedding_vector = embeddings_index.get(word)\n",
    "    if embedding_vector is not None: embedding_matrix[i] = embedding_vector"
   ]
  },
  {
   "cell_type": "markdown",
   "metadata": {},
   "source": [
    "# LSTM model for quality prediction"
   ]
  },
  {
   "cell_type": "code",
   "execution_count": 66,
   "metadata": {},
   "outputs": [],
   "source": [
    "from keras import Sequential\n",
    "from keras.layers import LSTM, Dropout, Embedding, SpatialDropout1D, Dense, Bidirectional\n",
    "from keras.callbacks import ModelCheckpoint, EarlyStopping, ReduceLROnPlateau\n",
    "import keras"
   ]
  },
  {
   "cell_type": "markdown",
   "metadata": {},
   "source": [
    "## Final experiments with Bidirectional LSTMs to improve performance of model"
   ]
  },
  {
   "cell_type": "code",
   "execution_count": 62,
   "metadata": {},
   "outputs": [],
   "source": [
    "model = Sequential()\n",
    "model.add(Embedding(MAX_NUM_WORDS, output_dim=200, weights=[embedding_matrix], input_length=MAX_LEN, trainable=True))\n",
    "model.add(Bidirectional(LSTM(units=128 , return_sequences = True , recurrent_dropout = 0.4 , dropout = 0.4)))\n",
    "model.add(Bidirectional(LSTM(units=128 , recurrent_dropout = 0.2 , dropout = 0.2)))\n",
    "model.add(Dense(3, activation='softmax'))\n",
    "model.compile(optimizer=keras.optimizers.Adam(lr = 0.001), loss='categorical_crossentropy', metrics=['accuracy'])"
   ]
  },
  {
   "cell_type": "code",
   "execution_count": 63,
   "metadata": {
    "scrolled": true
   },
   "outputs": [
    {
     "name": "stdout",
     "output_type": "stream",
     "text": [
      "Model: \"sequential_3\"\n",
      "_________________________________________________________________\n",
      "Layer (type)                 Output Shape              Param #   \n",
      "=================================================================\n",
      "embedding_2 (Embedding)      (None, 300, 200)          2000000   \n",
      "_________________________________________________________________\n",
      "bidirectional_3 (Bidirection (None, 300, 256)          336896    \n",
      "_________________________________________________________________\n",
      "bidirectional_4 (Bidirection (None, 256)               394240    \n",
      "_________________________________________________________________\n",
      "dense_2 (Dense)              (None, 3)                 771       \n",
      "=================================================================\n",
      "Total params: 2,731,907\n",
      "Trainable params: 2,731,907\n",
      "Non-trainable params: 0\n",
      "_________________________________________________________________\n"
     ]
    }
   ],
   "source": [
    "model.summary()"
   ]
  },
  {
   "cell_type": "markdown",
   "metadata": {},
   "source": [
    "First experiment tries to use bidirectional LSTM along with Glove embeddings for the glove.twitter.27B.200.txt file. It sets the embeddings as trainable parameters to fine tune the weights and improve accuracy at prediction."
   ]
  },
  {
   "cell_type": "code",
   "execution_count": 68,
   "metadata": {},
   "outputs": [],
   "source": [
    "callbacks = [ReduceLROnPlateau(monitor='val_accuracy', patience = 2, verbose=1,factor=0.4, min_lr=0.0000001), ModelCheckpoint(filepath='best_model.h5', monitor='val_loss', save_best_only=False)]"
   ]
  },
  {
   "cell_type": "code",
   "execution_count": 71,
   "metadata": {
    "scrolled": true
   },
   "outputs": [
    {
     "name": "stderr",
     "output_type": "stream",
     "text": [
      "C:\\Users\\jpcar\\Anaconda3\\envs\\tensorflow\\lib\\site-packages\\tensorflow_core\\python\\framework\\indexed_slices.py:433: UserWarning: Converting sparse IndexedSlices to a dense Tensor of unknown shape. This may consume a large amount of memory.\n",
      "  \"Converting sparse IndexedSlices to a dense Tensor of unknown shape. \"\n"
     ]
    },
    {
     "name": "stdout",
     "output_type": "stream",
     "text": [
      "Train on 48000 samples, validate on 12000 samples\n",
      "Epoch 1/5\n",
      "48000/48000 [==============================] - 157s 3ms/step - loss: 0.6091 - accuracy: 0.7106 - val_loss: 0.4859 - val_accuracy: 0.8017\n",
      "Epoch 2/5\n",
      "48000/48000 [==============================] - 155s 3ms/step - loss: 0.4523 - accuracy: 0.8233 - val_loss: 0.4072 - val_accuracy: 0.8485\n",
      "Epoch 3/5\n",
      "48000/48000 [==============================] - 155s 3ms/step - loss: 0.3907 - accuracy: 0.8552 - val_loss: 0.3665 - val_accuracy: 0.8643\n",
      "Epoch 4/5\n",
      "48000/48000 [==============================] - 155s 3ms/step - loss: 0.3515 - accuracy: 0.8702 - val_loss: 0.3384 - val_accuracy: 0.8717\n",
      "Epoch 5/5\n",
      "48000/48000 [==============================] - 155s 3ms/step - loss: 0.3238 - accuracy: 0.8808 - val_loss: 0.3359 - val_accuracy: 0.8739\n"
     ]
    }
   ],
   "source": [
    "history = model.fit(X_train, y_train, batch_size = 256 , validation_data = (X_test,y_test) , epochs = 5 , callbacks = callbacks)"
   ]
  },
  {
   "cell_type": "code",
   "execution_count": 75,
   "metadata": {},
   "outputs": [],
   "source": [
    "model = Sequential()\n",
    "model.add(Embedding(MAX_NUM_WORDS, output_dim=200, weights=[embedding_matrix], input_length=MAX_LEN, trainable=False))\n",
    "model.add(Bidirectional(LSTM(units=128 , return_sequences = True , recurrent_dropout = 0.4 , dropout = 0.4)))\n",
    "model.add(Bidirectional(LSTM(units=128 , recurrent_dropout = 0.2 , dropout = 0.2)))\n",
    "model.add(Dense(64))\n",
    "model.add(keras.layers.LeakyReLU())\n",
    "model.add(Dense(3, activation='softmax'))\n",
    "model.compile(optimizer=keras.optimizers.Adam(lr = 0.001), loss='categorical_crossentropy', metrics=['accuracy'])"
   ]
  },
  {
   "cell_type": "code",
   "execution_count": 76,
   "metadata": {},
   "outputs": [
    {
     "name": "stdout",
     "output_type": "stream",
     "text": [
      "Model: \"sequential_7\"\n",
      "_________________________________________________________________\n",
      "Layer (type)                 Output Shape              Param #   \n",
      "=================================================================\n",
      "embedding_6 (Embedding)      (None, 300, 200)          2000000   \n",
      "_________________________________________________________________\n",
      "bidirectional_11 (Bidirectio (None, 300, 256)          336896    \n",
      "_________________________________________________________________\n",
      "bidirectional_12 (Bidirectio (None, 256)               394240    \n",
      "_________________________________________________________________\n",
      "dense_6 (Dense)              (None, 64)                16448     \n",
      "_________________________________________________________________\n",
      "leaky_re_lu_1 (LeakyReLU)    (None, 64)                0         \n",
      "_________________________________________________________________\n",
      "dense_7 (Dense)              (None, 3)                 195       \n",
      "=================================================================\n",
      "Total params: 2,747,779\n",
      "Trainable params: 747,779\n",
      "Non-trainable params: 2,000,000\n",
      "_________________________________________________________________\n"
     ]
    }
   ],
   "source": [
    "model.summary()"
   ]
  },
  {
   "cell_type": "markdown",
   "metadata": {},
   "source": [
    "Final model decided, this is used to reduce the total number of trainable parameters. Due to time contraints, training is done for only 20 epochs. But this model may have yielded better results if trained for more epochs. Use a Leaky RELU activation in the first dense layer as experimentation. No dropout used between dense layers. Dropout used in both bidirectional LSTM cells."
   ]
  },
  {
   "cell_type": "code",
   "execution_count": 78,
   "metadata": {
    "scrolled": false
   },
   "outputs": [
    {
     "name": "stdout",
     "output_type": "stream",
     "text": [
      "Train on 48000 samples, validate on 12000 samples\n",
      "Epoch 1/20\n",
      "48000/48000 [==============================] - 149s 3ms/step - loss: 0.6292 - accuracy: 0.6957 - val_loss: 0.5294 - val_accuracy: 0.7598\n",
      "Epoch 2/20\n",
      "48000/48000 [==============================] - 146s 3ms/step - loss: 0.5432 - accuracy: 0.7633 - val_loss: 0.4799 - val_accuracy: 0.8022\n",
      "Epoch 3/20\n",
      "48000/48000 [==============================] - 145s 3ms/step - loss: 0.5054 - accuracy: 0.7870 - val_loss: 0.4512 - val_accuracy: 0.8139\n",
      "Epoch 4/20\n",
      "48000/48000 [==============================] - 146s 3ms/step - loss: 0.4753 - accuracy: 0.8007 - val_loss: 0.4324 - val_accuracy: 0.8276\n",
      "Epoch 5/20\n",
      "48000/48000 [==============================] - 146s 3ms/step - loss: 0.4495 - accuracy: 0.8156 - val_loss: 0.4110 - val_accuracy: 0.8371\n",
      "Epoch 6/20\n",
      "48000/48000 [==============================] - 146s 3ms/step - loss: 0.4298 - accuracy: 0.8257 - val_loss: 0.3785 - val_accuracy: 0.8499\n",
      "Epoch 7/20\n",
      "48000/48000 [==============================] - 145s 3ms/step - loss: 0.4080 - accuracy: 0.8365 - val_loss: 0.3631 - val_accuracy: 0.8587\n",
      "Epoch 8/20\n",
      "48000/48000 [==============================] - 146s 3ms/step - loss: 0.3947 - accuracy: 0.8431 - val_loss: 0.3792 - val_accuracy: 0.8514\n",
      "Epoch 9/20\n",
      "48000/48000 [==============================] - 145s 3ms/step - loss: 0.3823 - accuracy: 0.8472 - val_loss: 0.3515 - val_accuracy: 0.8631\n",
      "Epoch 10/20\n",
      "48000/48000 [==============================] - 145s 3ms/step - loss: 0.3691 - accuracy: 0.8547 - val_loss: 0.3473 - val_accuracy: 0.8634\n",
      "Epoch 11/20\n",
      "48000/48000 [==============================] - 146s 3ms/step - loss: 0.3620 - accuracy: 0.8578 - val_loss: 0.3346 - val_accuracy: 0.8679\n",
      "Epoch 12/20\n",
      "48000/48000 [==============================] - 145s 3ms/step - loss: 0.3538 - accuracy: 0.8599 - val_loss: 0.3398 - val_accuracy: 0.8633\n",
      "Epoch 13/20\n",
      "48000/48000 [==============================] - 144s 3ms/step - loss: 0.3434 - accuracy: 0.8645 - val_loss: 0.3258 - val_accuracy: 0.8706\n",
      "Epoch 14/20\n",
      "48000/48000 [==============================] - 146s 3ms/step - loss: 0.3366 - accuracy: 0.8677 - val_loss: 0.3245 - val_accuracy: 0.8710\n",
      "Epoch 15/20\n",
      "48000/48000 [==============================] - 146s 3ms/step - loss: 0.3284 - accuracy: 0.8716 - val_loss: 0.3263 - val_accuracy: 0.8738\n",
      "Epoch 16/20\n",
      "48000/48000 [==============================] - 146s 3ms/step - loss: 0.3248 - accuracy: 0.8705 - val_loss: 0.3179 - val_accuracy: 0.8714\n",
      "Epoch 17/20\n",
      "48000/48000 [==============================] - 146s 3ms/step - loss: 0.3186 - accuracy: 0.8746 - val_loss: 0.3237 - val_accuracy: 0.8731\n",
      "\n",
      "Epoch 00017: ReduceLROnPlateau reducing learning rate to 0.0004000000189989805.\n",
      "Epoch 18/20\n",
      "48000/48000 [==============================] - 144s 3ms/step - loss: 0.3041 - accuracy: 0.8795 - val_loss: 0.3173 - val_accuracy: 0.8753\n",
      "Epoch 19/20\n",
      "48000/48000 [==============================] - 146s 3ms/step - loss: 0.3004 - accuracy: 0.8812 - val_loss: 0.3176 - val_accuracy: 0.8751\n",
      "Epoch 20/20\n",
      "48000/48000 [==============================] - 146s 3ms/step - loss: 0.2978 - accuracy: 0.8826 - val_loss: 0.3148 - val_accuracy: 0.8758\n"
     ]
    }
   ],
   "source": [
    "history = model.fit(X_train, y_train, batch_size = 256 , validation_data = (X_test,y_test) , epochs = 20 , callbacks = callbacks)"
   ]
  },
  {
   "cell_type": "code",
   "execution_count": 79,
   "metadata": {},
   "outputs": [
    {
     "data": {
      "image/png": "[encoded data removed]",
      "text/plain": [
       "<Figure size 432x288 with 1 Axes>"
      ]
     },
     "metadata": {
      "needs_background": "light"
     },
     "output_type": "display_data"
    }
   ],
   "source": [
    "plt.plot(history.history['accuracy'])\n",
    "plt.plot(history.history['val_accuracy'])\n",
    "plt.title('model accuracy')\n",
    "plt.ylabel('accuracy')\n",
    "plt.xlabel('epoch')\n",
    "plt.legend(['train', 'test'], loc='upper left')\n",
    "plt.show()"
   ]
  },
  {
   "cell_type": "code",
   "execution_count": 80,
   "metadata": {},
   "outputs": [
    {
     "data": {
      "image/png": "[encoded data removed]",
      "text/plain": [
       "<Figure size 432x288 with 1 Axes>"
      ]
     },
     "metadata": {
      "needs_background": "light"
     },
     "output_type": "display_data"
    }
   ],
   "source": [
    "plt.plot(history.history['loss'])\n",
    "plt.plot(history.history['val_loss'])\n",
    "plt.title('model loss')\n",
    "plt.ylabel('loss')\n",
    "plt.xlabel('epoch')\n",
    "plt.legend(['train', 'test'], loc='upper left')\n",
    "plt.show()"
   ]
  },
  {
   "cell_type": "markdown",
   "metadata": {},
   "source": [
    "As mentioned above, training could have been kept going but for time constraint reasons it was stopped early."
   ]
  },
  {
   "cell_type": "markdown",
   "metadata": {},
   "source": [
    "### Experiments"
   ]
  },
  {
   "cell_type": "markdown",
   "metadata": {},
   "source": [
    "### These are the experiments that were attempted to create the best LSTM model. Long story short. None of them worked"
   ]
  },
  {
   "cell_type": "code",
   "execution_count": 30,
   "metadata": {},
   "outputs": [],
   "source": [
    "model = Sequential()\n",
    "model.add(Embedding(MAX_NUM_WORDS, 150, input_length = (256)))\n",
    "model.add(LSTM(64, dropout=0.5, recurrent_dropout= 0.2))\n",
    "model.add(Dense(32, activation = 'relu'))\n",
    "model.add(Dropout(0.5))\n",
    "model.add(Dense(3, activation = 'softmax'))"
   ]
  },
  {
   "cell_type": "code",
   "execution_count": 31,
   "metadata": {
    "scrolled": true
   },
   "outputs": [
    {
     "name": "stdout",
     "output_type": "stream",
     "text": [
      "Model: \"sequential_1\"\n",
      "_________________________________________________________________\n",
      "Layer (type)                 Output Shape              Param #   \n",
      "=================================================================\n",
      "embedding_1 (Embedding)      (None, 256, 150)          2250000   \n",
      "_________________________________________________________________\n",
      "lstm_1 (LSTM)                (None, 64)                55040     \n",
      "_________________________________________________________________\n",
      "dense_1 (Dense)              (None, 32)                2080      \n",
      "_________________________________________________________________\n",
      "dropout_1 (Dropout)          (None, 32)                0         \n",
      "_________________________________________________________________\n",
      "dense_2 (Dense)              (None, 3)                 99        \n",
      "=================================================================\n",
      "Total params: 2,307,219\n",
      "Trainable params: 2,307,219\n",
      "Non-trainable params: 0\n",
      "_________________________________________________________________\n"
     ]
    }
   ],
   "source": [
    "model.summary()"
   ]
  },
  {
   "cell_type": "markdown",
   "metadata": {},
   "source": [
    "First model consists of an LSTM cell with 64 passes, along with two feed forward layers that compute the softmax"
   ]
  },
  {
   "cell_type": "code",
   "execution_count": 35,
   "metadata": {},
   "outputs": [],
   "source": [
    "Adam=tf.keras.optimizers.Adam(learning_rate=0.01)\n",
    "model.compile(loss='categorical_crossentropy',optimizer=Adam,metrics=['accuracy'])"
   ]
  },
  {
   "cell_type": "code",
   "execution_count": 36,
   "metadata": {},
   "outputs": [],
   "source": [
    "callbacks = [EarlyStopping(monitor='val_loss', min_delta=0,  patience=10, verbose=0, mode='auto'),ModelCheckpoint(filepath='best_model.h5', monitor='val_loss', save_best_only=False)]"
   ]
  },
  {
   "cell_type": "code",
   "execution_count": 37,
   "metadata": {
    "scrolled": false
   },
   "outputs": [
    {
     "name": "stdout",
     "output_type": "stream",
     "text": [
      "Train on 43350 samples, validate on 7650 samples\n",
      "Epoch 1/50\n",
      "43350/43350 [==============================] - 71s 2ms/step - loss: 0.6654 - accuracy: 0.7177 - val_loss: 0.7740 - val_accuracy: 0.6638\n",
      "Epoch 2/50\n"
     ]
    },
    {
     "name": "stderr",
     "output_type": "stream",
     "text": [
      "C:\\Users\\jpcar\\Anaconda3\\envs\\tensorflow\\lib\\site-packages\\keras\\engine\\saving.py:165: UserWarning: TensorFlow optimizers do not make it possible to access optimizer attributes or optimizer state after instantiation. As a result, we cannot save the optimizer as part of the model save file.You will have to compile your model again after loading it. Prefer using a Keras optimizer instead (see keras.io/optimizers).\n",
      "  'TensorFlow optimizers do not '\n"
     ]
    },
    {
     "name": "stdout",
     "output_type": "stream",
     "text": [
      "43350/43350 [==============================] - 70s 2ms/step - loss: 0.6092 - accuracy: 0.7442 - val_loss: 0.8049 - val_accuracy: 0.6624\n",
      "Epoch 3/50\n",
      "43350/43350 [==============================] - 70s 2ms/step - loss: 0.5694 - accuracy: 0.7637 - val_loss: 0.8406 - val_accuracy: 0.6527\n",
      "Epoch 4/50\n",
      "27136/43350 [=================>............] - ETA: 25s - loss: 0.5394 - accuracy: 0.7806"
     ]
    },
    {
     "ename": "KeyboardInterrupt",
     "evalue": "",
     "output_type": "error",
     "traceback": [
      "\u001b[1;31m---------------------------------------------------------------------------\u001b[0m",
      "\u001b[1;31mKeyboardInterrupt\u001b[0m                         Traceback (most recent call last)",
      "\u001b[1;32m<ipython-input-37-4c8d01c5da69>\u001b[0m in \u001b[0;36m<module>\u001b[1;34m\u001b[0m\n\u001b[1;32m----> 1\u001b[1;33m \u001b[0mhistory\u001b[0m \u001b[1;33m=\u001b[0m \u001b[0mmodel\u001b[0m\u001b[1;33m.\u001b[0m\u001b[0mfit\u001b[0m\u001b[1;33m(\u001b[0m\u001b[0mX_train\u001b[0m\u001b[1;33m,\u001b[0m \u001b[0my_train\u001b[0m\u001b[1;33m,\u001b[0m \u001b[0mbatch_size\u001b[0m\u001b[1;33m=\u001b[0m \u001b[1;36m128\u001b[0m\u001b[1;33m,\u001b[0m \u001b[0mepochs\u001b[0m\u001b[1;33m=\u001b[0m\u001b[1;36m50\u001b[0m\u001b[1;33m,\u001b[0m \u001b[0mvalidation_split\u001b[0m\u001b[1;33m=\u001b[0m\u001b[1;36m0.15\u001b[0m \u001b[1;33m,\u001b[0m\u001b[0mcallbacks\u001b[0m \u001b[1;33m=\u001b[0m \u001b[0mcallbacks\u001b[0m\u001b[1;33m,\u001b[0m \u001b[0mverbose\u001b[0m\u001b[1;33m=\u001b[0m\u001b[1;36m1\u001b[0m\u001b[1;33m)\u001b[0m\u001b[1;33m\u001b[0m\u001b[1;33m\u001b[0m\u001b[0m\n\u001b[0m",
      "\u001b[1;32m~\\Anaconda3\\envs\\tensorflow\\lib\\site-packages\\keras\\engine\\training.py\u001b[0m in \u001b[0;36mfit\u001b[1;34m(self, x, y, batch_size, epochs, verbose, callbacks, validation_split, validation_data, shuffle, class_weight, sample_weight, initial_epoch, steps_per_epoch, validation_steps, validation_freq, max_queue_size, workers, use_multiprocessing, **kwargs)\u001b[0m\n\u001b[0;32m   1237\u001b[0m                                         \u001b[0msteps_per_epoch\u001b[0m\u001b[1;33m=\u001b[0m\u001b[0msteps_per_epoch\u001b[0m\u001b[1;33m,\u001b[0m\u001b[1;33m\u001b[0m\u001b[1;33m\u001b[0m\u001b[0m\n\u001b[0;32m   1238\u001b[0m                                         \u001b[0mvalidation_steps\u001b[0m\u001b[1;33m=\u001b[0m\u001b[0mvalidation_steps\u001b[0m\u001b[1;33m,\u001b[0m\u001b[1;33m\u001b[0m\u001b[1;33m\u001b[0m\u001b[0m\n\u001b[1;32m-> 1239\u001b[1;33m                                         validation_freq=validation_freq)\n\u001b[0m\u001b[0;32m   1240\u001b[0m \u001b[1;33m\u001b[0m\u001b[0m\n\u001b[0;32m   1241\u001b[0m     def evaluate(self,\n",
      "\u001b[1;32m~\\Anaconda3\\envs\\tensorflow\\lib\\site-packages\\keras\\engine\\training_arrays.py\u001b[0m in \u001b[0;36mfit_loop\u001b[1;34m(model, fit_function, fit_inputs, out_labels, batch_size, epochs, verbose, callbacks, val_function, val_inputs, shuffle, initial_epoch, steps_per_epoch, validation_steps, validation_freq)\u001b[0m\n\u001b[0;32m    194\u001b[0m                     \u001b[0mins_batch\u001b[0m\u001b[1;33m[\u001b[0m\u001b[0mi\u001b[0m\u001b[1;33m]\u001b[0m \u001b[1;33m=\u001b[0m \u001b[0mins_batch\u001b[0m\u001b[1;33m[\u001b[0m\u001b[0mi\u001b[0m\u001b[1;33m]\u001b[0m\u001b[1;33m.\u001b[0m\u001b[0mtoarray\u001b[0m\u001b[1;33m(\u001b[0m\u001b[1;33m)\u001b[0m\u001b[1;33m\u001b[0m\u001b[1;33m\u001b[0m\u001b[0m\n\u001b[0;32m    195\u001b[0m \u001b[1;33m\u001b[0m\u001b[0m\n\u001b[1;32m--> 196\u001b[1;33m                 \u001b[0mouts\u001b[0m \u001b[1;33m=\u001b[0m \u001b[0mfit_function\u001b[0m\u001b[1;33m(\u001b[0m\u001b[0mins_batch\u001b[0m\u001b[1;33m)\u001b[0m\u001b[1;33m\u001b[0m\u001b[1;33m\u001b[0m\u001b[0m\n\u001b[0m\u001b[0;32m    197\u001b[0m                 \u001b[0mouts\u001b[0m \u001b[1;33m=\u001b[0m \u001b[0mto_list\u001b[0m\u001b[1;33m(\u001b[0m\u001b[0mouts\u001b[0m\u001b[1;33m)\u001b[0m\u001b[1;33m\u001b[0m\u001b[1;33m\u001b[0m\u001b[0m\n\u001b[0;32m    198\u001b[0m                 \u001b[1;32mfor\u001b[0m \u001b[0ml\u001b[0m\u001b[1;33m,\u001b[0m \u001b[0mo\u001b[0m \u001b[1;32min\u001b[0m \u001b[0mzip\u001b[0m\u001b[1;33m(\u001b[0m\u001b[0mout_labels\u001b[0m\u001b[1;33m,\u001b[0m \u001b[0mouts\u001b[0m\u001b[1;33m)\u001b[0m\u001b[1;33m:\u001b[0m\u001b[1;33m\u001b[0m\u001b[1;33m\u001b[0m\u001b[0m\n",
      "\u001b[1;32m~\\Anaconda3\\envs\\tensorflow\\lib\\site-packages\\tensorflow_core\\python\\keras\\backend.py\u001b[0m in \u001b[0;36m__call__\u001b[1;34m(self, inputs)\u001b[0m\n\u001b[0;32m   3725\u001b[0m         \u001b[0mvalue\u001b[0m \u001b[1;33m=\u001b[0m \u001b[0mmath_ops\u001b[0m\u001b[1;33m.\u001b[0m\u001b[0mcast\u001b[0m\u001b[1;33m(\u001b[0m\u001b[0mvalue\u001b[0m\u001b[1;33m,\u001b[0m \u001b[0mtensor\u001b[0m\u001b[1;33m.\u001b[0m\u001b[0mdtype\u001b[0m\u001b[1;33m)\u001b[0m\u001b[1;33m\u001b[0m\u001b[1;33m\u001b[0m\u001b[0m\n\u001b[0;32m   3726\u001b[0m       \u001b[0mconverted_inputs\u001b[0m\u001b[1;33m.\u001b[0m\u001b[0mappend\u001b[0m\u001b[1;33m(\u001b[0m\u001b[0mvalue\u001b[0m\u001b[1;33m)\u001b[0m\u001b[1;33m\u001b[0m\u001b[1;33m\u001b[0m\u001b[0m\n\u001b[1;32m-> 3727\u001b[1;33m     \u001b[0moutputs\u001b[0m \u001b[1;33m=\u001b[0m \u001b[0mself\u001b[0m\u001b[1;33m.\u001b[0m\u001b[0m_graph_fn\u001b[0m\u001b[1;33m(\u001b[0m\u001b[1;33m*\u001b[0m\u001b[0mconverted_inputs\u001b[0m\u001b[1;33m)\u001b[0m\u001b[1;33m\u001b[0m\u001b[1;33m\u001b[0m\u001b[0m\n\u001b[0m\u001b[0;32m   3728\u001b[0m \u001b[1;33m\u001b[0m\u001b[0m\n\u001b[0;32m   3729\u001b[0m     \u001b[1;31m# EagerTensor.numpy() will often make a copy to ensure memory safety.\u001b[0m\u001b[1;33m\u001b[0m\u001b[1;33m\u001b[0m\u001b[1;33m\u001b[0m\u001b[0m\n",
      "\u001b[1;32m~\\Anaconda3\\envs\\tensorflow\\lib\\site-packages\\tensorflow_core\\python\\eager\\function.py\u001b[0m in \u001b[0;36m__call__\u001b[1;34m(self, *args, **kwargs)\u001b[0m\n\u001b[0;32m   1549\u001b[0m       \u001b[0mTypeError\u001b[0m\u001b[1;33m:\u001b[0m \u001b[0mFor\u001b[0m \u001b[0minvalid\u001b[0m \u001b[0mpositional\u001b[0m\u001b[1;33m/\u001b[0m\u001b[0mkeyword\u001b[0m \u001b[0margument\u001b[0m \u001b[0mcombinations\u001b[0m\u001b[1;33m.\u001b[0m\u001b[1;33m\u001b[0m\u001b[1;33m\u001b[0m\u001b[0m\n\u001b[0;32m   1550\u001b[0m     \"\"\"\n\u001b[1;32m-> 1551\u001b[1;33m     \u001b[1;32mreturn\u001b[0m \u001b[0mself\u001b[0m\u001b[1;33m.\u001b[0m\u001b[0m_call_impl\u001b[0m\u001b[1;33m(\u001b[0m\u001b[0margs\u001b[0m\u001b[1;33m,\u001b[0m \u001b[0mkwargs\u001b[0m\u001b[1;33m)\u001b[0m\u001b[1;33m\u001b[0m\u001b[1;33m\u001b[0m\u001b[0m\n\u001b[0m\u001b[0;32m   1552\u001b[0m \u001b[1;33m\u001b[0m\u001b[0m\n\u001b[0;32m   1553\u001b[0m   \u001b[1;32mdef\u001b[0m \u001b[0m_call_impl\u001b[0m\u001b[1;33m(\u001b[0m\u001b[0mself\u001b[0m\u001b[1;33m,\u001b[0m \u001b[0margs\u001b[0m\u001b[1;33m,\u001b[0m \u001b[0mkwargs\u001b[0m\u001b[1;33m,\u001b[0m \u001b[0mcancellation_manager\u001b[0m\u001b[1;33m=\u001b[0m\u001b[1;32mNone\u001b[0m\u001b[1;33m)\u001b[0m\u001b[1;33m:\u001b[0m\u001b[1;33m\u001b[0m\u001b[1;33m\u001b[0m\u001b[0m\n",
      "\u001b[1;32m~\\Anaconda3\\envs\\tensorflow\\lib\\site-packages\\tensorflow_core\\python\\eager\\function.py\u001b[0m in \u001b[0;36m_call_impl\u001b[1;34m(self, args, kwargs, cancellation_manager)\u001b[0m\n\u001b[0;32m   1589\u001b[0m       raise TypeError(\"Keyword arguments {} unknown. Expected {}.\".format(\n\u001b[0;32m   1590\u001b[0m           list(kwargs.keys()), list(self._arg_keywords)))\n\u001b[1;32m-> 1591\u001b[1;33m     \u001b[1;32mreturn\u001b[0m \u001b[0mself\u001b[0m\u001b[1;33m.\u001b[0m\u001b[0m_call_flat\u001b[0m\u001b[1;33m(\u001b[0m\u001b[0margs\u001b[0m\u001b[1;33m,\u001b[0m \u001b[0mself\u001b[0m\u001b[1;33m.\u001b[0m\u001b[0mcaptured_inputs\u001b[0m\u001b[1;33m,\u001b[0m \u001b[0mcancellation_manager\u001b[0m\u001b[1;33m)\u001b[0m\u001b[1;33m\u001b[0m\u001b[1;33m\u001b[0m\u001b[0m\n\u001b[0m\u001b[0;32m   1592\u001b[0m \u001b[1;33m\u001b[0m\u001b[0m\n\u001b[0;32m   1593\u001b[0m   \u001b[1;32mdef\u001b[0m \u001b[0m_filtered_call\u001b[0m\u001b[1;33m(\u001b[0m\u001b[0mself\u001b[0m\u001b[1;33m,\u001b[0m \u001b[0margs\u001b[0m\u001b[1;33m,\u001b[0m \u001b[0mkwargs\u001b[0m\u001b[1;33m)\u001b[0m\u001b[1;33m:\u001b[0m\u001b[1;33m\u001b[0m\u001b[1;33m\u001b[0m\u001b[0m\n",
      "\u001b[1;32m~\\Anaconda3\\envs\\tensorflow\\lib\\site-packages\\tensorflow_core\\python\\eager\\function.py\u001b[0m in \u001b[0;36m_call_flat\u001b[1;34m(self, args, captured_inputs, cancellation_manager)\u001b[0m\n\u001b[0;32m   1690\u001b[0m       \u001b[1;31m# No tape is watching; skip to running the function.\u001b[0m\u001b[1;33m\u001b[0m\u001b[1;33m\u001b[0m\u001b[1;33m\u001b[0m\u001b[0m\n\u001b[0;32m   1691\u001b[0m       return self._build_call_outputs(self._inference_function.call(\n\u001b[1;32m-> 1692\u001b[1;33m           ctx, args, cancellation_manager=cancellation_manager))\n\u001b[0m\u001b[0;32m   1693\u001b[0m     forward_backward = self._select_forward_and_backward_functions(\n\u001b[0;32m   1694\u001b[0m         \u001b[0margs\u001b[0m\u001b[1;33m,\u001b[0m\u001b[1;33m\u001b[0m\u001b[1;33m\u001b[0m\u001b[0m\n",
      "\u001b[1;32m~\\Anaconda3\\envs\\tensorflow\\lib\\site-packages\\tensorflow_core\\python\\eager\\function.py\u001b[0m in \u001b[0;36mcall\u001b[1;34m(self, ctx, args, cancellation_manager)\u001b[0m\n\u001b[0;32m    543\u001b[0m               \u001b[0minputs\u001b[0m\u001b[1;33m=\u001b[0m\u001b[0margs\u001b[0m\u001b[1;33m,\u001b[0m\u001b[1;33m\u001b[0m\u001b[1;33m\u001b[0m\u001b[0m\n\u001b[0;32m    544\u001b[0m               \u001b[0mattrs\u001b[0m\u001b[1;33m=\u001b[0m\u001b[1;33m(\u001b[0m\u001b[1;34m\"executor_type\"\u001b[0m\u001b[1;33m,\u001b[0m \u001b[0mexecutor_type\u001b[0m\u001b[1;33m,\u001b[0m \u001b[1;34m\"config_proto\"\u001b[0m\u001b[1;33m,\u001b[0m \u001b[0mconfig\u001b[0m\u001b[1;33m)\u001b[0m\u001b[1;33m,\u001b[0m\u001b[1;33m\u001b[0m\u001b[1;33m\u001b[0m\u001b[0m\n\u001b[1;32m--> 545\u001b[1;33m               ctx=ctx)\n\u001b[0m\u001b[0;32m    546\u001b[0m         \u001b[1;32melse\u001b[0m\u001b[1;33m:\u001b[0m\u001b[1;33m\u001b[0m\u001b[1;33m\u001b[0m\u001b[0m\n\u001b[0;32m    547\u001b[0m           outputs = execute.execute_with_cancellation(\n",
      "\u001b[1;32m~\\Anaconda3\\envs\\tensorflow\\lib\\site-packages\\tensorflow_core\\python\\eager\\execute.py\u001b[0m in \u001b[0;36mquick_execute\u001b[1;34m(op_name, num_outputs, inputs, attrs, ctx, name)\u001b[0m\n\u001b[0;32m     59\u001b[0m     tensors = pywrap_tensorflow.TFE_Py_Execute(ctx._handle, device_name,\n\u001b[0;32m     60\u001b[0m                                                \u001b[0mop_name\u001b[0m\u001b[1;33m,\u001b[0m \u001b[0minputs\u001b[0m\u001b[1;33m,\u001b[0m \u001b[0mattrs\u001b[0m\u001b[1;33m,\u001b[0m\u001b[1;33m\u001b[0m\u001b[1;33m\u001b[0m\u001b[0m\n\u001b[1;32m---> 61\u001b[1;33m                                                num_outputs)\n\u001b[0m\u001b[0;32m     62\u001b[0m   \u001b[1;32mexcept\u001b[0m \u001b[0mcore\u001b[0m\u001b[1;33m.\u001b[0m\u001b[0m_NotOkStatusException\u001b[0m \u001b[1;32mas\u001b[0m \u001b[0me\u001b[0m\u001b[1;33m:\u001b[0m\u001b[1;33m\u001b[0m\u001b[1;33m\u001b[0m\u001b[0m\n\u001b[0;32m     63\u001b[0m     \u001b[1;32mif\u001b[0m \u001b[0mname\u001b[0m \u001b[1;32mis\u001b[0m \u001b[1;32mnot\u001b[0m \u001b[1;32mNone\u001b[0m\u001b[1;33m:\u001b[0m\u001b[1;33m\u001b[0m\u001b[1;33m\u001b[0m\u001b[0m\n",
      "\u001b[1;31mKeyboardInterrupt\u001b[0m: "
     ]
    }
   ],
   "source": [
    "history = model.fit(X_train, y_train, batch_size= 128, epochs=50, validation_split=0.15 ,callbacks = callbacks, verbose=1)"
   ]
  },
  {
   "cell_type": "markdown",
   "metadata": {},
   "source": [
    "Training interrupted due to poor results"
   ]
  },
  {
   "cell_type": "code",
   "execution_count": 67,
   "metadata": {},
   "outputs": [],
   "source": [
    "model = Sequential()\n",
    "model.add(Embedding(MAX_NUM_WORDS, 64, input_length = (192)))\n",
    "model.add(LSTM(128, dropout=0.5, recurrent_dropout= 0.5, return_sequences= True))\n",
    "model.add(LSTM(128, dropout=0.5, recurrent_dropout= 0.5))\n",
    "model.add(Dense(3, activation = 'softmax'))"
   ]
  },
  {
   "cell_type": "code",
   "execution_count": 75,
   "metadata": {},
   "outputs": [
    {
     "name": "stdout",
     "output_type": "stream",
     "text": [
      "Model: \"sequential_6\"\n",
      "_________________________________________________________________\n",
      "Layer (type)                 Output Shape              Param #   \n",
      "=================================================================\n",
      "embedding_6 (Embedding)      (None, 192, 64)           960000    \n",
      "_________________________________________________________________\n",
      "lstm_7 (LSTM)                (None, 192, 128)          98816     \n",
      "_________________________________________________________________\n",
      "lstm_8 (LSTM)                (None, 128)               131584    \n",
      "_________________________________________________________________\n",
      "dense_8 (Dense)              (None, 3)                 387       \n",
      "=================================================================\n",
      "Total params: 1,190,787\n",
      "Trainable params: 1,190,787\n",
      "Non-trainable params: 0\n",
      "_________________________________________________________________\n"
     ]
    }
   ],
   "source": [
    "model.summary()"
   ]
  },
  {
   "cell_type": "markdown",
   "metadata": {},
   "source": [
    "Second attempt at creating a vanilla LSTM network, with two LSTM layers, the first one which returns a sequence and the second one which returns the actual weights to compute the softmax. In this experiment the embedding is being learned from scratch. "
   ]
  },
  {
   "cell_type": "code",
   "execution_count": 76,
   "metadata": {},
   "outputs": [],
   "source": [
    "Adam=tf.keras.optimizers.Adam(learning_rate=0.001)\n",
    "model.compile(loss='categorical_crossentropy',optimizer= 'rmsprop',metrics=['accuracy'])"
   ]
  },
  {
   "cell_type": "code",
   "execution_count": 77,
   "metadata": {
    "scrolled": true
   },
   "outputs": [
    {
     "name": "stderr",
     "output_type": "stream",
     "text": [
      "C:\\Users\\jpcar\\Anaconda3\\envs\\tensorflow\\lib\\site-packages\\tensorflow_core\\python\\framework\\indexed_slices.py:433: UserWarning: Converting sparse IndexedSlices to a dense Tensor of unknown shape. This may consume a large amount of memory.\n",
      "  \"Converting sparse IndexedSlices to a dense Tensor of unknown shape. \"\n"
     ]
    },
    {
     "name": "stdout",
     "output_type": "stream",
     "text": [
      "Train on 43350 samples, validate on 7650 samples\n",
      "Epoch 1/50\n",
      "43350/43350 [==============================] - 27s 618us/step - loss: 0.9575 - accuracy: 0.5187 - val_loss: 0.9067 - val_accuracy: 0.5629\n",
      "Epoch 2/50\n",
      "43350/43350 [==============================] - 26s 610us/step - loss: 0.9551 - accuracy: 0.5197 - val_loss: 0.9161 - val_accuracy: 0.5476\n",
      "Epoch 3/50\n",
      "43350/43350 [==============================] - 27s 617us/step - loss: 0.9544 - accuracy: 0.5251 - val_loss: 0.9041 - val_accuracy: 0.5593\n",
      "Epoch 4/50\n",
      "43350/43350 [==============================] - 26s 608us/step - loss: 0.9542 - accuracy: 0.5210 - val_loss: 0.8965 - val_accuracy: 0.5735\n",
      "Epoch 5/50\n",
      "43350/43350 [==============================] - 26s 607us/step - loss: 0.9532 - accuracy: 0.5213 - val_loss: 0.8978 - val_accuracy: 0.5676\n",
      "Epoch 6/50\n",
      "43350/43350 [==============================] - 26s 609us/step - loss: 0.9532 - accuracy: 0.5207 - val_loss: 0.8926 - val_accuracy: 0.5708\n",
      "Epoch 7/50\n",
      "43350/43350 [==============================] - 27s 613us/step - loss: 0.9501 - accuracy: 0.5250 - val_loss: 0.8867 - val_accuracy: 0.5718\n",
      "Epoch 8/50\n",
      "43350/43350 [==============================] - 26s 606us/step - loss: 0.9488 - accuracy: 0.5266 - val_loss: 0.8870 - val_accuracy: 0.5753\n",
      "Epoch 9/50\n",
      "43350/43350 [==============================] - 26s 608us/step - loss: 0.9516 - accuracy: 0.5249 - val_loss: 0.8907 - val_accuracy: 0.5748\n",
      "Epoch 10/50\n",
      "43350/43350 [==============================] - 27s 614us/step - loss: 0.9493 - accuracy: 0.5274 - val_loss: 0.8820 - val_accuracy: 0.5799\n",
      "Epoch 11/50\n",
      "43350/43350 [==============================] - 26s 610us/step - loss: 0.9429 - accuracy: 0.5282 - val_loss: 0.8867 - val_accuracy: 0.5782\n",
      "Epoch 12/50\n",
      "43350/43350 [==============================] - 26s 610us/step - loss: 0.9451 - accuracy: 0.5292 - val_loss: 0.8763 - val_accuracy: 0.5846\n",
      "Epoch 13/50\n",
      "43350/43350 [==============================] - 27s 616us/step - loss: 0.9449 - accuracy: 0.5268 - val_loss: 0.8819 - val_accuracy: 0.5767\n",
      "Epoch 14/50\n",
      "43350/43350 [==============================] - 26s 604us/step - loss: 0.9426 - accuracy: 0.5300 - val_loss: 0.8746 - val_accuracy: 0.5835\n",
      "Epoch 15/50\n",
      "43350/43350 [==============================] - 26s 603us/step - loss: 0.9446 - accuracy: 0.5297 - val_loss: 0.8770 - val_accuracy: 0.5844\n",
      "Epoch 16/50\n",
      "43350/43350 [==============================] - 26s 602us/step - loss: 0.9431 - accuracy: 0.5283 - val_loss: 0.8802 - val_accuracy: 0.5790\n",
      "Epoch 17/50\n",
      "43350/43350 [==============================] - 26s 604us/step - loss: 0.9437 - accuracy: 0.5303 - val_loss: 0.8785 - val_accuracy: 0.5817\n",
      "Epoch 18/50\n",
      "43350/43350 [==============================] - 26s 603us/step - loss: 0.9400 - accuracy: 0.5330 - val_loss: 0.8754 - val_accuracy: 0.5826\n",
      "Epoch 19/50\n",
      "43350/43350 [==============================] - 26s 605us/step - loss: 0.9434 - accuracy: 0.5272 - val_loss: 0.8759 - val_accuracy: 0.5803\n",
      "Epoch 20/50\n",
      "43350/43350 [==============================] - 26s 603us/step - loss: 0.9404 - accuracy: 0.5309 - val_loss: 0.8727 - val_accuracy: 0.5824\n",
      "Epoch 21/50\n",
      "43350/43350 [==============================] - 26s 603us/step - loss: 0.9420 - accuracy: 0.5268 - val_loss: 0.8770 - val_accuracy: 0.5800\n",
      "Epoch 22/50\n",
      "43350/43350 [==============================] - 26s 602us/step - loss: 0.9389 - accuracy: 0.5310 - val_loss: 0.8731 - val_accuracy: 0.5818\n",
      "Epoch 23/50\n",
      "43350/43350 [==============================] - 26s 607us/step - loss: 0.9335 - accuracy: 0.5375 - val_loss: 0.8709 - val_accuracy: 0.5841\n",
      "Epoch 24/50\n",
      "43350/43350 [==============================] - 26s 608us/step - loss: 0.9417 - accuracy: 0.5296 - val_loss: 0.8735 - val_accuracy: 0.5812\n",
      "Epoch 25/50\n",
      "43350/43350 [==============================] - 26s 607us/step - loss: 0.9356 - accuracy: 0.5354 - val_loss: 0.8684 - val_accuracy: 0.5818\n",
      "Epoch 26/50\n",
      "43350/43350 [==============================] - 26s 609us/step - loss: 0.9350 - accuracy: 0.5365 - val_loss: 0.8710 - val_accuracy: 0.5825\n",
      "Epoch 27/50\n",
      "43350/43350 [==============================] - 26s 607us/step - loss: 0.9334 - accuracy: 0.5356 - val_loss: 0.8662 - val_accuracy: 0.5897\n",
      "Epoch 28/50\n",
      "43350/43350 [==============================] - 26s 606us/step - loss: 0.9370 - accuracy: 0.5306 - val_loss: 0.8616 - val_accuracy: 0.5837\n",
      "Epoch 29/50\n",
      "43350/43350 [==============================] - 26s 606us/step - loss: 0.9333 - accuracy: 0.5343 - val_loss: 0.8609 - val_accuracy: 0.5858\n",
      "Epoch 30/50\n",
      "43350/43350 [==============================] - 26s 605us/step - loss: 0.9384 - accuracy: 0.5332 - val_loss: 0.8733 - val_accuracy: 0.5816\n",
      "Epoch 31/50\n",
      "43350/43350 [==============================] - 26s 608us/step - loss: 0.9329 - accuracy: 0.5366 - val_loss: 0.8720 - val_accuracy: 0.5816\n",
      "Epoch 32/50\n",
      "43350/43350 [==============================] - 26s 605us/step - loss: 0.9316 - accuracy: 0.5375 - val_loss: 0.8656 - val_accuracy: 0.5854\n",
      "Epoch 33/50\n",
      "43350/43350 [==============================] - 26s 607us/step - loss: 0.9382 - accuracy: 0.5293 - val_loss: 0.8654 - val_accuracy: 0.5848\n",
      "Epoch 34/50\n",
      "43350/43350 [==============================] - 26s 605us/step - loss: 0.9343 - accuracy: 0.5330 - val_loss: 0.8592 - val_accuracy: 0.5884\n",
      "Epoch 35/50\n",
      "43350/43350 [==============================] - 26s 607us/step - loss: 0.9323 - accuracy: 0.5334 - val_loss: 0.8628 - val_accuracy: 0.5905\n",
      "Epoch 36/50\n",
      "43350/43350 [==============================] - 26s 610us/step - loss: 0.9363 - accuracy: 0.5328 - val_loss: 0.8600 - val_accuracy: 0.5831\n",
      "Epoch 37/50\n",
      "43350/43350 [==============================] - 26s 610us/step - loss: 0.9315 - accuracy: 0.5336 - val_loss: 0.8576 - val_accuracy: 0.5873\n",
      "Epoch 38/50\n",
      "43350/43350 [==============================] - 26s 611us/step - loss: 0.9289 - accuracy: 0.5386 - val_loss: 0.8586 - val_accuracy: 0.5854\n",
      "Epoch 39/50\n",
      "43350/43350 [==============================] - 26s 611us/step - loss: 0.9341 - accuracy: 0.5391 - val_loss: 0.8565 - val_accuracy: 0.5867\n",
      "Epoch 40/50\n",
      "43350/43350 [==============================] - 26s 610us/step - loss: 0.9275 - accuracy: 0.5418 - val_loss: 0.8587 - val_accuracy: 0.5839\n",
      "Epoch 41/50\n",
      "43350/43350 [==============================] - 26s 607us/step - loss: 0.9292 - accuracy: 0.5390 - val_loss: 0.8616 - val_accuracy: 0.5860\n",
      "Epoch 42/50\n",
      "43350/43350 [==============================] - 26s 608us/step - loss: 0.9306 - accuracy: 0.5367 - val_loss: 0.8621 - val_accuracy: 0.5803\n",
      "Epoch 43/50\n",
      "43350/43350 [==============================] - 26s 610us/step - loss: 0.9273 - accuracy: 0.5407 - val_loss: 0.8669 - val_accuracy: 0.5739\n",
      "Epoch 44/50\n",
      "32256/43350 [=====================>........] - ETA: 6s - loss: 0.9305 - accuracy: 0.5384"
     ]
    },
    {
     "ename": "KeyboardInterrupt",
     "evalue": "",
     "output_type": "error",
     "traceback": [
      "\u001b[1;31m---------------------------------------------------------------------------\u001b[0m",
      "\u001b[1;31mKeyboardInterrupt\u001b[0m                         Traceback (most recent call last)",
      "\u001b[1;32m<ipython-input-77-d64d6a01dbb7>\u001b[0m in \u001b[0;36m<module>\u001b[1;34m\u001b[0m\n\u001b[1;32m----> 1\u001b[1;33m \u001b[0mhistory\u001b[0m \u001b[1;33m=\u001b[0m \u001b[0mmodel\u001b[0m\u001b[1;33m.\u001b[0m\u001b[0mfit\u001b[0m\u001b[1;33m(\u001b[0m\u001b[0mX_train\u001b[0m\u001b[1;33m,\u001b[0m \u001b[0my_train\u001b[0m\u001b[1;33m,\u001b[0m \u001b[0mbatch_size\u001b[0m\u001b[1;33m=\u001b[0m \u001b[1;36m512\u001b[0m\u001b[1;33m,\u001b[0m \u001b[0mepochs\u001b[0m\u001b[1;33m=\u001b[0m\u001b[1;36m50\u001b[0m\u001b[1;33m,\u001b[0m \u001b[0mvalidation_split\u001b[0m\u001b[1;33m=\u001b[0m\u001b[1;36m0.15\u001b[0m \u001b[1;33m,\u001b[0m\u001b[0mcallbacks\u001b[0m \u001b[1;33m=\u001b[0m \u001b[0mcallbacks\u001b[0m\u001b[1;33m,\u001b[0m \u001b[0mverbose\u001b[0m\u001b[1;33m=\u001b[0m\u001b[1;36m1\u001b[0m\u001b[1;33m)\u001b[0m\u001b[1;33m\u001b[0m\u001b[1;33m\u001b[0m\u001b[0m\n\u001b[0m",
      "\u001b[1;32m~\\Anaconda3\\envs\\tensorflow\\lib\\site-packages\\keras\\engine\\training.py\u001b[0m in \u001b[0;36mfit\u001b[1;34m(self, x, y, batch_size, epochs, verbose, callbacks, validation_split, validation_data, shuffle, class_weight, sample_weight, initial_epoch, steps_per_epoch, validation_steps, validation_freq, max_queue_size, workers, use_multiprocessing, **kwargs)\u001b[0m\n\u001b[0;32m   1237\u001b[0m                                         \u001b[0msteps_per_epoch\u001b[0m\u001b[1;33m=\u001b[0m\u001b[0msteps_per_epoch\u001b[0m\u001b[1;33m,\u001b[0m\u001b[1;33m\u001b[0m\u001b[1;33m\u001b[0m\u001b[0m\n\u001b[0;32m   1238\u001b[0m                                         \u001b[0mvalidation_steps\u001b[0m\u001b[1;33m=\u001b[0m\u001b[0mvalidation_steps\u001b[0m\u001b[1;33m,\u001b[0m\u001b[1;33m\u001b[0m\u001b[1;33m\u001b[0m\u001b[0m\n\u001b[1;32m-> 1239\u001b[1;33m                                         validation_freq=validation_freq)\n\u001b[0m\u001b[0;32m   1240\u001b[0m \u001b[1;33m\u001b[0m\u001b[0m\n\u001b[0;32m   1241\u001b[0m     def evaluate(self,\n",
      "\u001b[1;32m~\\Anaconda3\\envs\\tensorflow\\lib\\site-packages\\keras\\engine\\training_arrays.py\u001b[0m in \u001b[0;36mfit_loop\u001b[1;34m(model, fit_function, fit_inputs, out_labels, batch_size, epochs, verbose, callbacks, val_function, val_inputs, shuffle, initial_epoch, steps_per_epoch, validation_steps, validation_freq)\u001b[0m\n\u001b[0;32m    194\u001b[0m                     \u001b[0mins_batch\u001b[0m\u001b[1;33m[\u001b[0m\u001b[0mi\u001b[0m\u001b[1;33m]\u001b[0m \u001b[1;33m=\u001b[0m \u001b[0mins_batch\u001b[0m\u001b[1;33m[\u001b[0m\u001b[0mi\u001b[0m\u001b[1;33m]\u001b[0m\u001b[1;33m.\u001b[0m\u001b[0mtoarray\u001b[0m\u001b[1;33m(\u001b[0m\u001b[1;33m)\u001b[0m\u001b[1;33m\u001b[0m\u001b[1;33m\u001b[0m\u001b[0m\n\u001b[0;32m    195\u001b[0m \u001b[1;33m\u001b[0m\u001b[0m\n\u001b[1;32m--> 196\u001b[1;33m                 \u001b[0mouts\u001b[0m \u001b[1;33m=\u001b[0m \u001b[0mfit_function\u001b[0m\u001b[1;33m(\u001b[0m\u001b[0mins_batch\u001b[0m\u001b[1;33m)\u001b[0m\u001b[1;33m\u001b[0m\u001b[1;33m\u001b[0m\u001b[0m\n\u001b[0m\u001b[0;32m    197\u001b[0m                 \u001b[0mouts\u001b[0m \u001b[1;33m=\u001b[0m \u001b[0mto_list\u001b[0m\u001b[1;33m(\u001b[0m\u001b[0mouts\u001b[0m\u001b[1;33m)\u001b[0m\u001b[1;33m\u001b[0m\u001b[1;33m\u001b[0m\u001b[0m\n\u001b[0;32m    198\u001b[0m                 \u001b[1;32mfor\u001b[0m \u001b[0ml\u001b[0m\u001b[1;33m,\u001b[0m \u001b[0mo\u001b[0m \u001b[1;32min\u001b[0m \u001b[0mzip\u001b[0m\u001b[1;33m(\u001b[0m\u001b[0mout_labels\u001b[0m\u001b[1;33m,\u001b[0m \u001b[0mouts\u001b[0m\u001b[1;33m)\u001b[0m\u001b[1;33m:\u001b[0m\u001b[1;33m\u001b[0m\u001b[1;33m\u001b[0m\u001b[0m\n",
      "\u001b[1;32m~\\Anaconda3\\envs\\tensorflow\\lib\\site-packages\\tensorflow_core\\python\\keras\\backend.py\u001b[0m in \u001b[0;36m__call__\u001b[1;34m(self, inputs)\u001b[0m\n\u001b[0;32m   3725\u001b[0m         \u001b[0mvalue\u001b[0m \u001b[1;33m=\u001b[0m \u001b[0mmath_ops\u001b[0m\u001b[1;33m.\u001b[0m\u001b[0mcast\u001b[0m\u001b[1;33m(\u001b[0m\u001b[0mvalue\u001b[0m\u001b[1;33m,\u001b[0m \u001b[0mtensor\u001b[0m\u001b[1;33m.\u001b[0m\u001b[0mdtype\u001b[0m\u001b[1;33m)\u001b[0m\u001b[1;33m\u001b[0m\u001b[1;33m\u001b[0m\u001b[0m\n\u001b[0;32m   3726\u001b[0m       \u001b[0mconverted_inputs\u001b[0m\u001b[1;33m.\u001b[0m\u001b[0mappend\u001b[0m\u001b[1;33m(\u001b[0m\u001b[0mvalue\u001b[0m\u001b[1;33m)\u001b[0m\u001b[1;33m\u001b[0m\u001b[1;33m\u001b[0m\u001b[0m\n\u001b[1;32m-> 3727\u001b[1;33m     \u001b[0moutputs\u001b[0m \u001b[1;33m=\u001b[0m \u001b[0mself\u001b[0m\u001b[1;33m.\u001b[0m\u001b[0m_graph_fn\u001b[0m\u001b[1;33m(\u001b[0m\u001b[1;33m*\u001b[0m\u001b[0mconverted_inputs\u001b[0m\u001b[1;33m)\u001b[0m\u001b[1;33m\u001b[0m\u001b[1;33m\u001b[0m\u001b[0m\n\u001b[0m\u001b[0;32m   3728\u001b[0m \u001b[1;33m\u001b[0m\u001b[0m\n\u001b[0;32m   3729\u001b[0m     \u001b[1;31m# EagerTensor.numpy() will often make a copy to ensure memory safety.\u001b[0m\u001b[1;33m\u001b[0m\u001b[1;33m\u001b[0m\u001b[1;33m\u001b[0m\u001b[0m\n",
      "\u001b[1;32m~\\Anaconda3\\envs\\tensorflow\\lib\\site-packages\\tensorflow_core\\python\\eager\\function.py\u001b[0m in \u001b[0;36m__call__\u001b[1;34m(self, *args, **kwargs)\u001b[0m\n\u001b[0;32m   1549\u001b[0m       \u001b[0mTypeError\u001b[0m\u001b[1;33m:\u001b[0m \u001b[0mFor\u001b[0m \u001b[0minvalid\u001b[0m \u001b[0mpositional\u001b[0m\u001b[1;33m/\u001b[0m\u001b[0mkeyword\u001b[0m \u001b[0margument\u001b[0m \u001b[0mcombinations\u001b[0m\u001b[1;33m.\u001b[0m\u001b[1;33m\u001b[0m\u001b[1;33m\u001b[0m\u001b[0m\n\u001b[0;32m   1550\u001b[0m     \"\"\"\n\u001b[1;32m-> 1551\u001b[1;33m     \u001b[1;32mreturn\u001b[0m \u001b[0mself\u001b[0m\u001b[1;33m.\u001b[0m\u001b[0m_call_impl\u001b[0m\u001b[1;33m(\u001b[0m\u001b[0margs\u001b[0m\u001b[1;33m,\u001b[0m \u001b[0mkwargs\u001b[0m\u001b[1;33m)\u001b[0m\u001b[1;33m\u001b[0m\u001b[1;33m\u001b[0m\u001b[0m\n\u001b[0m\u001b[0;32m   1552\u001b[0m \u001b[1;33m\u001b[0m\u001b[0m\n\u001b[0;32m   1553\u001b[0m   \u001b[1;32mdef\u001b[0m \u001b[0m_call_impl\u001b[0m\u001b[1;33m(\u001b[0m\u001b[0mself\u001b[0m\u001b[1;33m,\u001b[0m \u001b[0margs\u001b[0m\u001b[1;33m,\u001b[0m \u001b[0mkwargs\u001b[0m\u001b[1;33m,\u001b[0m \u001b[0mcancellation_manager\u001b[0m\u001b[1;33m=\u001b[0m\u001b[1;32mNone\u001b[0m\u001b[1;33m)\u001b[0m\u001b[1;33m:\u001b[0m\u001b[1;33m\u001b[0m\u001b[1;33m\u001b[0m\u001b[0m\n",
      "\u001b[1;32m~\\Anaconda3\\envs\\tensorflow\\lib\\site-packages\\tensorflow_core\\python\\eager\\function.py\u001b[0m in \u001b[0;36m_call_impl\u001b[1;34m(self, args, kwargs, cancellation_manager)\u001b[0m\n\u001b[0;32m   1589\u001b[0m       raise TypeError(\"Keyword arguments {} unknown. Expected {}.\".format(\n\u001b[0;32m   1590\u001b[0m           list(kwargs.keys()), list(self._arg_keywords)))\n\u001b[1;32m-> 1591\u001b[1;33m     \u001b[1;32mreturn\u001b[0m \u001b[0mself\u001b[0m\u001b[1;33m.\u001b[0m\u001b[0m_call_flat\u001b[0m\u001b[1;33m(\u001b[0m\u001b[0margs\u001b[0m\u001b[1;33m,\u001b[0m \u001b[0mself\u001b[0m\u001b[1;33m.\u001b[0m\u001b[0mcaptured_inputs\u001b[0m\u001b[1;33m,\u001b[0m \u001b[0mcancellation_manager\u001b[0m\u001b[1;33m)\u001b[0m\u001b[1;33m\u001b[0m\u001b[1;33m\u001b[0m\u001b[0m\n\u001b[0m\u001b[0;32m   1592\u001b[0m \u001b[1;33m\u001b[0m\u001b[0m\n\u001b[0;32m   1593\u001b[0m   \u001b[1;32mdef\u001b[0m \u001b[0m_filtered_call\u001b[0m\u001b[1;33m(\u001b[0m\u001b[0mself\u001b[0m\u001b[1;33m,\u001b[0m \u001b[0margs\u001b[0m\u001b[1;33m,\u001b[0m \u001b[0mkwargs\u001b[0m\u001b[1;33m)\u001b[0m\u001b[1;33m:\u001b[0m\u001b[1;33m\u001b[0m\u001b[1;33m\u001b[0m\u001b[0m\n",
      "\u001b[1;32m~\\Anaconda3\\envs\\tensorflow\\lib\\site-packages\\tensorflow_core\\python\\eager\\function.py\u001b[0m in \u001b[0;36m_call_flat\u001b[1;34m(self, args, captured_inputs, cancellation_manager)\u001b[0m\n\u001b[0;32m   1690\u001b[0m       \u001b[1;31m# No tape is watching; skip to running the function.\u001b[0m\u001b[1;33m\u001b[0m\u001b[1;33m\u001b[0m\u001b[1;33m\u001b[0m\u001b[0m\n\u001b[0;32m   1691\u001b[0m       return self._build_call_outputs(self._inference_function.call(\n\u001b[1;32m-> 1692\u001b[1;33m           ctx, args, cancellation_manager=cancellation_manager))\n\u001b[0m\u001b[0;32m   1693\u001b[0m     forward_backward = self._select_forward_and_backward_functions(\n\u001b[0;32m   1694\u001b[0m         \u001b[0margs\u001b[0m\u001b[1;33m,\u001b[0m\u001b[1;33m\u001b[0m\u001b[1;33m\u001b[0m\u001b[0m\n",
      "\u001b[1;32m~\\Anaconda3\\envs\\tensorflow\\lib\\site-packages\\tensorflow_core\\python\\eager\\function.py\u001b[0m in \u001b[0;36mcall\u001b[1;34m(self, ctx, args, cancellation_manager)\u001b[0m\n\u001b[0;32m    543\u001b[0m               \u001b[0minputs\u001b[0m\u001b[1;33m=\u001b[0m\u001b[0margs\u001b[0m\u001b[1;33m,\u001b[0m\u001b[1;33m\u001b[0m\u001b[1;33m\u001b[0m\u001b[0m\n\u001b[0;32m    544\u001b[0m               \u001b[0mattrs\u001b[0m\u001b[1;33m=\u001b[0m\u001b[1;33m(\u001b[0m\u001b[1;34m\"executor_type\"\u001b[0m\u001b[1;33m,\u001b[0m \u001b[0mexecutor_type\u001b[0m\u001b[1;33m,\u001b[0m \u001b[1;34m\"config_proto\"\u001b[0m\u001b[1;33m,\u001b[0m \u001b[0mconfig\u001b[0m\u001b[1;33m)\u001b[0m\u001b[1;33m,\u001b[0m\u001b[1;33m\u001b[0m\u001b[1;33m\u001b[0m\u001b[0m\n\u001b[1;32m--> 545\u001b[1;33m               ctx=ctx)\n\u001b[0m\u001b[0;32m    546\u001b[0m         \u001b[1;32melse\u001b[0m\u001b[1;33m:\u001b[0m\u001b[1;33m\u001b[0m\u001b[1;33m\u001b[0m\u001b[0m\n\u001b[0;32m    547\u001b[0m           outputs = execute.execute_with_cancellation(\n",
      "\u001b[1;32m~\\Anaconda3\\envs\\tensorflow\\lib\\site-packages\\tensorflow_core\\python\\eager\\execute.py\u001b[0m in \u001b[0;36mquick_execute\u001b[1;34m(op_name, num_outputs, inputs, attrs, ctx, name)\u001b[0m\n\u001b[0;32m     59\u001b[0m     tensors = pywrap_tensorflow.TFE_Py_Execute(ctx._handle, device_name,\n\u001b[0;32m     60\u001b[0m                                                \u001b[0mop_name\u001b[0m\u001b[1;33m,\u001b[0m \u001b[0minputs\u001b[0m\u001b[1;33m,\u001b[0m \u001b[0mattrs\u001b[0m\u001b[1;33m,\u001b[0m\u001b[1;33m\u001b[0m\u001b[1;33m\u001b[0m\u001b[0m\n\u001b[1;32m---> 61\u001b[1;33m                                                num_outputs)\n\u001b[0m\u001b[0;32m     62\u001b[0m   \u001b[1;32mexcept\u001b[0m \u001b[0mcore\u001b[0m\u001b[1;33m.\u001b[0m\u001b[0m_NotOkStatusException\u001b[0m \u001b[1;32mas\u001b[0m \u001b[0me\u001b[0m\u001b[1;33m:\u001b[0m\u001b[1;33m\u001b[0m\u001b[1;33m\u001b[0m\u001b[0m\n\u001b[0;32m     63\u001b[0m     \u001b[1;32mif\u001b[0m \u001b[0mname\u001b[0m \u001b[1;32mis\u001b[0m \u001b[1;32mnot\u001b[0m \u001b[1;32mNone\u001b[0m\u001b[1;33m:\u001b[0m\u001b[1;33m\u001b[0m\u001b[1;33m\u001b[0m\u001b[0m\n",
      "\u001b[1;31mKeyboardInterrupt\u001b[0m: "
     ]
    }
   ],
   "source": [
    "history = model.fit(X_train, y_train, batch_size= 512, epochs=50, validation_split=0.15 ,callbacks = callbacks, verbose=1)"
   ]
  },
  {
   "cell_type": "code",
   "execution_count": 78,
   "metadata": {},
   "outputs": [],
   "source": [
    "rmsprop=tf.keras.optimizers.RMSprop(learning_rate=0.005)\n",
    "model.compile(loss='categorical_crossentropy',optimizer= rmsprop ,metrics=['accuracy'])"
   ]
  },
  {
   "cell_type": "code",
   "execution_count": 79,
   "metadata": {},
   "outputs": [
    {
     "name": "stdout",
     "output_type": "stream",
     "text": [
      "Train on 43350 samples, validate on 7650 samples\n",
      "Epoch 1/50\n",
      "43350/43350 [==============================] - 27s 622us/step - loss: 0.9332 - accuracy: 0.5375 - val_loss: 0.8544 - val_accuracy: 0.5878\n",
      "Epoch 2/50\n"
     ]
    },
    {
     "name": "stderr",
     "output_type": "stream",
     "text": [
      "C:\\Users\\jpcar\\Anaconda3\\envs\\tensorflow\\lib\\site-packages\\keras\\engine\\saving.py:165: UserWarning: TensorFlow optimizers do not make it possible to access optimizer attributes or optimizer state after instantiation. As a result, we cannot save the optimizer as part of the model save file.You will have to compile your model again after loading it. Prefer using a Keras optimizer instead (see keras.io/optimizers).\n",
      "  'TensorFlow optimizers do not '\n"
     ]
    },
    {
     "name": "stdout",
     "output_type": "stream",
     "text": [
      "43350/43350 [==============================] - 26s 606us/step - loss: 0.9331 - accuracy: 0.5369 - val_loss: 0.8609 - val_accuracy: 0.5826\n",
      "Epoch 3/50\n",
      "43350/43350 [==============================] - 26s 604us/step - loss: 0.9319 - accuracy: 0.5364 - val_loss: 0.8603 - val_accuracy: 0.5851\n",
      "Epoch 4/50\n",
      "43350/43350 [==============================] - 26s 609us/step - loss: 0.9277 - accuracy: 0.5379 - val_loss: 0.8696 - val_accuracy: 0.5711\n",
      "Epoch 5/50\n",
      "43350/43350 [==============================] - 27s 614us/step - loss: 0.9306 - accuracy: 0.5381 - val_loss: 0.8601 - val_accuracy: 0.5809\n",
      "Epoch 6/50\n",
      "43350/43350 [==============================] - 26s 608us/step - loss: 0.9284 - accuracy: 0.5401 - val_loss: 0.8715 - val_accuracy: 0.5750\n",
      "Epoch 7/50\n",
      "43350/43350 [==============================] - 26s 607us/step - loss: 0.9283 - accuracy: 0.5406 - val_loss: 0.8566 - val_accuracy: 0.5906\n",
      "Epoch 8/50\n",
      "43350/43350 [==============================] - 26s 605us/step - loss: 0.9261 - accuracy: 0.5419 - val_loss: 0.8611 - val_accuracy: 0.5855\n",
      "Epoch 9/50\n",
      "43350/43350 [==============================] - 26s 607us/step - loss: 0.9257 - accuracy: 0.5410 - val_loss: 0.8614 - val_accuracy: 0.5861\n",
      "Epoch 10/50\n",
      "43350/43350 [==============================] - 28s 640us/step - loss: 0.9250 - accuracy: 0.5413 - val_loss: 0.8489 - val_accuracy: 0.5986\n",
      "Epoch 11/50\n",
      "43350/43350 [==============================] - 26s 609us/step - loss: 0.9197 - accuracy: 0.5444 - val_loss: 0.8567 - val_accuracy: 0.5808\n",
      "Epoch 12/50\n",
      "43350/43350 [==============================] - 26s 606us/step - loss: 0.9205 - accuracy: 0.5442 - val_loss: 0.8458 - val_accuracy: 0.5999\n",
      "Epoch 13/50\n",
      "43350/43350 [==============================] - 26s 608us/step - loss: 0.9189 - accuracy: 0.5426 - val_loss: 0.8537 - val_accuracy: 0.5872\n",
      "Epoch 14/50\n",
      "33280/43350 [======================>.......] - ETA: 5s - loss: 0.9159 - accuracy: 0.5467"
     ]
    },
    {
     "ename": "KeyboardInterrupt",
     "evalue": "",
     "output_type": "error",
     "traceback": [
      "\u001b[1;31m---------------------------------------------------------------------------\u001b[0m",
      "\u001b[1;31mKeyboardInterrupt\u001b[0m                         Traceback (most recent call last)",
      "\u001b[1;32m<ipython-input-79-d64d6a01dbb7>\u001b[0m in \u001b[0;36m<module>\u001b[1;34m\u001b[0m\n\u001b[1;32m----> 1\u001b[1;33m \u001b[0mhistory\u001b[0m \u001b[1;33m=\u001b[0m \u001b[0mmodel\u001b[0m\u001b[1;33m.\u001b[0m\u001b[0mfit\u001b[0m\u001b[1;33m(\u001b[0m\u001b[0mX_train\u001b[0m\u001b[1;33m,\u001b[0m \u001b[0my_train\u001b[0m\u001b[1;33m,\u001b[0m \u001b[0mbatch_size\u001b[0m\u001b[1;33m=\u001b[0m \u001b[1;36m512\u001b[0m\u001b[1;33m,\u001b[0m \u001b[0mepochs\u001b[0m\u001b[1;33m=\u001b[0m\u001b[1;36m50\u001b[0m\u001b[1;33m,\u001b[0m \u001b[0mvalidation_split\u001b[0m\u001b[1;33m=\u001b[0m\u001b[1;36m0.15\u001b[0m \u001b[1;33m,\u001b[0m\u001b[0mcallbacks\u001b[0m \u001b[1;33m=\u001b[0m \u001b[0mcallbacks\u001b[0m\u001b[1;33m,\u001b[0m \u001b[0mverbose\u001b[0m\u001b[1;33m=\u001b[0m\u001b[1;36m1\u001b[0m\u001b[1;33m)\u001b[0m\u001b[1;33m\u001b[0m\u001b[1;33m\u001b[0m\u001b[0m\n\u001b[0m",
      "\u001b[1;32m~\\Anaconda3\\envs\\tensorflow\\lib\\site-packages\\keras\\engine\\training.py\u001b[0m in \u001b[0;36mfit\u001b[1;34m(self, x, y, batch_size, epochs, verbose, callbacks, validation_split, validation_data, shuffle, class_weight, sample_weight, initial_epoch, steps_per_epoch, validation_steps, validation_freq, max_queue_size, workers, use_multiprocessing, **kwargs)\u001b[0m\n\u001b[0;32m   1237\u001b[0m                                         \u001b[0msteps_per_epoch\u001b[0m\u001b[1;33m=\u001b[0m\u001b[0msteps_per_epoch\u001b[0m\u001b[1;33m,\u001b[0m\u001b[1;33m\u001b[0m\u001b[1;33m\u001b[0m\u001b[0m\n\u001b[0;32m   1238\u001b[0m                                         \u001b[0mvalidation_steps\u001b[0m\u001b[1;33m=\u001b[0m\u001b[0mvalidation_steps\u001b[0m\u001b[1;33m,\u001b[0m\u001b[1;33m\u001b[0m\u001b[1;33m\u001b[0m\u001b[0m\n\u001b[1;32m-> 1239\u001b[1;33m                                         validation_freq=validation_freq)\n\u001b[0m\u001b[0;32m   1240\u001b[0m \u001b[1;33m\u001b[0m\u001b[0m\n\u001b[0;32m   1241\u001b[0m     def evaluate(self,\n",
      "\u001b[1;32m~\\Anaconda3\\envs\\tensorflow\\lib\\site-packages\\keras\\engine\\training_arrays.py\u001b[0m in \u001b[0;36mfit_loop\u001b[1;34m(model, fit_function, fit_inputs, out_labels, batch_size, epochs, verbose, callbacks, val_function, val_inputs, shuffle, initial_epoch, steps_per_epoch, validation_steps, validation_freq)\u001b[0m\n\u001b[0;32m    194\u001b[0m                     \u001b[0mins_batch\u001b[0m\u001b[1;33m[\u001b[0m\u001b[0mi\u001b[0m\u001b[1;33m]\u001b[0m \u001b[1;33m=\u001b[0m \u001b[0mins_batch\u001b[0m\u001b[1;33m[\u001b[0m\u001b[0mi\u001b[0m\u001b[1;33m]\u001b[0m\u001b[1;33m.\u001b[0m\u001b[0mtoarray\u001b[0m\u001b[1;33m(\u001b[0m\u001b[1;33m)\u001b[0m\u001b[1;33m\u001b[0m\u001b[1;33m\u001b[0m\u001b[0m\n\u001b[0;32m    195\u001b[0m \u001b[1;33m\u001b[0m\u001b[0m\n\u001b[1;32m--> 196\u001b[1;33m                 \u001b[0mouts\u001b[0m \u001b[1;33m=\u001b[0m \u001b[0mfit_function\u001b[0m\u001b[1;33m(\u001b[0m\u001b[0mins_batch\u001b[0m\u001b[1;33m)\u001b[0m\u001b[1;33m\u001b[0m\u001b[1;33m\u001b[0m\u001b[0m\n\u001b[0m\u001b[0;32m    197\u001b[0m                 \u001b[0mouts\u001b[0m \u001b[1;33m=\u001b[0m \u001b[0mto_list\u001b[0m\u001b[1;33m(\u001b[0m\u001b[0mouts\u001b[0m\u001b[1;33m)\u001b[0m\u001b[1;33m\u001b[0m\u001b[1;33m\u001b[0m\u001b[0m\n\u001b[0;32m    198\u001b[0m                 \u001b[1;32mfor\u001b[0m \u001b[0ml\u001b[0m\u001b[1;33m,\u001b[0m \u001b[0mo\u001b[0m \u001b[1;32min\u001b[0m \u001b[0mzip\u001b[0m\u001b[1;33m(\u001b[0m\u001b[0mout_labels\u001b[0m\u001b[1;33m,\u001b[0m \u001b[0mouts\u001b[0m\u001b[1;33m)\u001b[0m\u001b[1;33m:\u001b[0m\u001b[1;33m\u001b[0m\u001b[1;33m\u001b[0m\u001b[0m\n",
      "\u001b[1;32m~\\Anaconda3\\envs\\tensorflow\\lib\\site-packages\\tensorflow_core\\python\\keras\\backend.py\u001b[0m in \u001b[0;36m__call__\u001b[1;34m(self, inputs)\u001b[0m\n\u001b[0;32m   3725\u001b[0m         \u001b[0mvalue\u001b[0m \u001b[1;33m=\u001b[0m \u001b[0mmath_ops\u001b[0m\u001b[1;33m.\u001b[0m\u001b[0mcast\u001b[0m\u001b[1;33m(\u001b[0m\u001b[0mvalue\u001b[0m\u001b[1;33m,\u001b[0m \u001b[0mtensor\u001b[0m\u001b[1;33m.\u001b[0m\u001b[0mdtype\u001b[0m\u001b[1;33m)\u001b[0m\u001b[1;33m\u001b[0m\u001b[1;33m\u001b[0m\u001b[0m\n\u001b[0;32m   3726\u001b[0m       \u001b[0mconverted_inputs\u001b[0m\u001b[1;33m.\u001b[0m\u001b[0mappend\u001b[0m\u001b[1;33m(\u001b[0m\u001b[0mvalue\u001b[0m\u001b[1;33m)\u001b[0m\u001b[1;33m\u001b[0m\u001b[1;33m\u001b[0m\u001b[0m\n\u001b[1;32m-> 3727\u001b[1;33m     \u001b[0moutputs\u001b[0m \u001b[1;33m=\u001b[0m \u001b[0mself\u001b[0m\u001b[1;33m.\u001b[0m\u001b[0m_graph_fn\u001b[0m\u001b[1;33m(\u001b[0m\u001b[1;33m*\u001b[0m\u001b[0mconverted_inputs\u001b[0m\u001b[1;33m)\u001b[0m\u001b[1;33m\u001b[0m\u001b[1;33m\u001b[0m\u001b[0m\n\u001b[0m\u001b[0;32m   3728\u001b[0m \u001b[1;33m\u001b[0m\u001b[0m\n\u001b[0;32m   3729\u001b[0m     \u001b[1;31m# EagerTensor.numpy() will often make a copy to ensure memory safety.\u001b[0m\u001b[1;33m\u001b[0m\u001b[1;33m\u001b[0m\u001b[1;33m\u001b[0m\u001b[0m\n",
      "\u001b[1;32m~\\Anaconda3\\envs\\tensorflow\\lib\\site-packages\\tensorflow_core\\python\\eager\\function.py\u001b[0m in \u001b[0;36m__call__\u001b[1;34m(self, *args, **kwargs)\u001b[0m\n\u001b[0;32m   1549\u001b[0m       \u001b[0mTypeError\u001b[0m\u001b[1;33m:\u001b[0m \u001b[0mFor\u001b[0m \u001b[0minvalid\u001b[0m \u001b[0mpositional\u001b[0m\u001b[1;33m/\u001b[0m\u001b[0mkeyword\u001b[0m \u001b[0margument\u001b[0m \u001b[0mcombinations\u001b[0m\u001b[1;33m.\u001b[0m\u001b[1;33m\u001b[0m\u001b[1;33m\u001b[0m\u001b[0m\n\u001b[0;32m   1550\u001b[0m     \"\"\"\n\u001b[1;32m-> 1551\u001b[1;33m     \u001b[1;32mreturn\u001b[0m \u001b[0mself\u001b[0m\u001b[1;33m.\u001b[0m\u001b[0m_call_impl\u001b[0m\u001b[1;33m(\u001b[0m\u001b[0margs\u001b[0m\u001b[1;33m,\u001b[0m \u001b[0mkwargs\u001b[0m\u001b[1;33m)\u001b[0m\u001b[1;33m\u001b[0m\u001b[1;33m\u001b[0m\u001b[0m\n\u001b[0m\u001b[0;32m   1552\u001b[0m \u001b[1;33m\u001b[0m\u001b[0m\n\u001b[0;32m   1553\u001b[0m   \u001b[1;32mdef\u001b[0m \u001b[0m_call_impl\u001b[0m\u001b[1;33m(\u001b[0m\u001b[0mself\u001b[0m\u001b[1;33m,\u001b[0m \u001b[0margs\u001b[0m\u001b[1;33m,\u001b[0m \u001b[0mkwargs\u001b[0m\u001b[1;33m,\u001b[0m \u001b[0mcancellation_manager\u001b[0m\u001b[1;33m=\u001b[0m\u001b[1;32mNone\u001b[0m\u001b[1;33m)\u001b[0m\u001b[1;33m:\u001b[0m\u001b[1;33m\u001b[0m\u001b[1;33m\u001b[0m\u001b[0m\n",
      "\u001b[1;32m~\\Anaconda3\\envs\\tensorflow\\lib\\site-packages\\tensorflow_core\\python\\eager\\function.py\u001b[0m in \u001b[0;36m_call_impl\u001b[1;34m(self, args, kwargs, cancellation_manager)\u001b[0m\n\u001b[0;32m   1589\u001b[0m       raise TypeError(\"Keyword arguments {} unknown. Expected {}.\".format(\n\u001b[0;32m   1590\u001b[0m           list(kwargs.keys()), list(self._arg_keywords)))\n\u001b[1;32m-> 1591\u001b[1;33m     \u001b[1;32mreturn\u001b[0m \u001b[0mself\u001b[0m\u001b[1;33m.\u001b[0m\u001b[0m_call_flat\u001b[0m\u001b[1;33m(\u001b[0m\u001b[0margs\u001b[0m\u001b[1;33m,\u001b[0m \u001b[0mself\u001b[0m\u001b[1;33m.\u001b[0m\u001b[0mcaptured_inputs\u001b[0m\u001b[1;33m,\u001b[0m \u001b[0mcancellation_manager\u001b[0m\u001b[1;33m)\u001b[0m\u001b[1;33m\u001b[0m\u001b[1;33m\u001b[0m\u001b[0m\n\u001b[0m\u001b[0;32m   1592\u001b[0m \u001b[1;33m\u001b[0m\u001b[0m\n\u001b[0;32m   1593\u001b[0m   \u001b[1;32mdef\u001b[0m \u001b[0m_filtered_call\u001b[0m\u001b[1;33m(\u001b[0m\u001b[0mself\u001b[0m\u001b[1;33m,\u001b[0m \u001b[0margs\u001b[0m\u001b[1;33m,\u001b[0m \u001b[0mkwargs\u001b[0m\u001b[1;33m)\u001b[0m\u001b[1;33m:\u001b[0m\u001b[1;33m\u001b[0m\u001b[1;33m\u001b[0m\u001b[0m\n",
      "\u001b[1;32m~\\Anaconda3\\envs\\tensorflow\\lib\\site-packages\\tensorflow_core\\python\\eager\\function.py\u001b[0m in \u001b[0;36m_call_flat\u001b[1;34m(self, args, captured_inputs, cancellation_manager)\u001b[0m\n\u001b[0;32m   1690\u001b[0m       \u001b[1;31m# No tape is watching; skip to running the function.\u001b[0m\u001b[1;33m\u001b[0m\u001b[1;33m\u001b[0m\u001b[1;33m\u001b[0m\u001b[0m\n\u001b[0;32m   1691\u001b[0m       return self._build_call_outputs(self._inference_function.call(\n\u001b[1;32m-> 1692\u001b[1;33m           ctx, args, cancellation_manager=cancellation_manager))\n\u001b[0m\u001b[0;32m   1693\u001b[0m     forward_backward = self._select_forward_and_backward_functions(\n\u001b[0;32m   1694\u001b[0m         \u001b[0margs\u001b[0m\u001b[1;33m,\u001b[0m\u001b[1;33m\u001b[0m\u001b[1;33m\u001b[0m\u001b[0m\n",
      "\u001b[1;32m~\\Anaconda3\\envs\\tensorflow\\lib\\site-packages\\tensorflow_core\\python\\eager\\function.py\u001b[0m in \u001b[0;36mcall\u001b[1;34m(self, ctx, args, cancellation_manager)\u001b[0m\n\u001b[0;32m    543\u001b[0m               \u001b[0minputs\u001b[0m\u001b[1;33m=\u001b[0m\u001b[0margs\u001b[0m\u001b[1;33m,\u001b[0m\u001b[1;33m\u001b[0m\u001b[1;33m\u001b[0m\u001b[0m\n\u001b[0;32m    544\u001b[0m               \u001b[0mattrs\u001b[0m\u001b[1;33m=\u001b[0m\u001b[1;33m(\u001b[0m\u001b[1;34m\"executor_type\"\u001b[0m\u001b[1;33m,\u001b[0m \u001b[0mexecutor_type\u001b[0m\u001b[1;33m,\u001b[0m \u001b[1;34m\"config_proto\"\u001b[0m\u001b[1;33m,\u001b[0m \u001b[0mconfig\u001b[0m\u001b[1;33m)\u001b[0m\u001b[1;33m,\u001b[0m\u001b[1;33m\u001b[0m\u001b[1;33m\u001b[0m\u001b[0m\n\u001b[1;32m--> 545\u001b[1;33m               ctx=ctx)\n\u001b[0m\u001b[0;32m    546\u001b[0m         \u001b[1;32melse\u001b[0m\u001b[1;33m:\u001b[0m\u001b[1;33m\u001b[0m\u001b[1;33m\u001b[0m\u001b[0m\n\u001b[0;32m    547\u001b[0m           outputs = execute.execute_with_cancellation(\n",
      "\u001b[1;32m~\\Anaconda3\\envs\\tensorflow\\lib\\site-packages\\tensorflow_core\\python\\eager\\execute.py\u001b[0m in \u001b[0;36mquick_execute\u001b[1;34m(op_name, num_outputs, inputs, attrs, ctx, name)\u001b[0m\n\u001b[0;32m     59\u001b[0m     tensors = pywrap_tensorflow.TFE_Py_Execute(ctx._handle, device_name,\n\u001b[0;32m     60\u001b[0m                                                \u001b[0mop_name\u001b[0m\u001b[1;33m,\u001b[0m \u001b[0minputs\u001b[0m\u001b[1;33m,\u001b[0m \u001b[0mattrs\u001b[0m\u001b[1;33m,\u001b[0m\u001b[1;33m\u001b[0m\u001b[1;33m\u001b[0m\u001b[0m\n\u001b[1;32m---> 61\u001b[1;33m                                                num_outputs)\n\u001b[0m\u001b[0;32m     62\u001b[0m   \u001b[1;32mexcept\u001b[0m \u001b[0mcore\u001b[0m\u001b[1;33m.\u001b[0m\u001b[0m_NotOkStatusException\u001b[0m \u001b[1;32mas\u001b[0m \u001b[0me\u001b[0m\u001b[1;33m:\u001b[0m\u001b[1;33m\u001b[0m\u001b[1;33m\u001b[0m\u001b[0m\n\u001b[0;32m     63\u001b[0m     \u001b[1;32mif\u001b[0m \u001b[0mname\u001b[0m \u001b[1;32mis\u001b[0m \u001b[1;32mnot\u001b[0m \u001b[1;32mNone\u001b[0m\u001b[1;33m:\u001b[0m\u001b[1;33m\u001b[0m\u001b[1;33m\u001b[0m\u001b[0m\n",
      "\u001b[1;31mKeyboardInterrupt\u001b[0m: "
     ]
    }
   ],
   "source": [
    "history = model.fit(X_train, y_train, batch_size= 512, epochs=50, validation_split=0.15 ,callbacks = callbacks, verbose=1)"
   ]
  },
  {
   "cell_type": "code",
   "execution_count": 83,
   "metadata": {},
   "outputs": [],
   "source": [
    "model = Sequential()\n",
    "model.add(Embedding(MAX_NUM_WORDS, 64, input_length = (192)))\n",
    "model.add(LSTM(64, dropout=0.25, recurrent_dropout= 0.25))\n",
    "model.add(Dense(3, activation = 'softmax'))"
   ]
  },
  {
   "cell_type": "markdown",
   "metadata": {},
   "source": [
    "Due to poor results, and failure to generalize on the validation set a new model is created with less capacity, to see if overfitting is the main problem in training"
   ]
  },
  {
   "cell_type": "code",
   "execution_count": 84,
   "metadata": {},
   "outputs": [],
   "source": [
    "model.compile(loss='categorical_crossentropy',optimizer= rmsprop ,metrics=['accuracy'])"
   ]
  },
  {
   "cell_type": "code",
   "execution_count": 85,
   "metadata": {},
   "outputs": [
    {
     "name": "stdout",
     "output_type": "stream",
     "text": [
      "Train on 43350 samples, validate on 7650 samples\n",
      "Epoch 1/50\n",
      "43350/43350 [==============================] - 11s 262us/step - loss: 0.9087 - accuracy: 0.5530 - val_loss: 0.8410 - val_accuracy: 0.6080\n",
      "Epoch 2/50\n",
      "  512/43350 [..............................] - ETA: 11s - loss: 0.8268 - accuracy: 0.6211"
     ]
    },
    {
     "name": "stderr",
     "output_type": "stream",
     "text": [
      "C:\\Users\\jpcar\\Anaconda3\\envs\\tensorflow\\lib\\site-packages\\keras\\engine\\saving.py:165: UserWarning: TensorFlow optimizers do not make it possible to access optimizer attributes or optimizer state after instantiation. As a result, we cannot save the optimizer as part of the model save file.You will have to compile your model again after loading it. Prefer using a Keras optimizer instead (see keras.io/optimizers).\n",
      "  'TensorFlow optimizers do not '\n"
     ]
    },
    {
     "name": "stdout",
     "output_type": "stream",
     "text": [
      "43350/43350 [==============================] - 11s 257us/step - loss: 0.7746 - accuracy: 0.6445 - val_loss: 0.7597 - val_accuracy: 0.6549\n",
      "Epoch 3/50\n",
      "43350/43350 [==============================] - 11s 252us/step - loss: 0.7119 - accuracy: 0.6831 - val_loss: 0.7754 - val_accuracy: 0.6506\n",
      "Epoch 4/50\n",
      "43350/43350 [==============================] - 11s 252us/step - loss: 0.6608 - accuracy: 0.7112 - val_loss: 0.8247 - val_accuracy: 0.6383\n",
      "Epoch 5/50\n",
      "43350/43350 [==============================] - 11s 253us/step - loss: 0.6169 - accuracy: 0.7372 - val_loss: 0.7857 - val_accuracy: 0.6593\n",
      "Epoch 6/50\n",
      "43350/43350 [==============================] - 11s 252us/step - loss: 0.5794 - accuracy: 0.7542 - val_loss: 0.8168 - val_accuracy: 0.6468\n",
      "Epoch 7/50\n",
      "43350/43350 [==============================] - 11s 254us/step - loss: 0.5385 - accuracy: 0.7761 - val_loss: 0.7838 - val_accuracy: 0.6458\n",
      "Epoch 8/50\n",
      "43350/43350 [==============================] - 11s 252us/step - loss: 0.5037 - accuracy: 0.7938 - val_loss: 0.8313 - val_accuracy: 0.6482\n",
      "Epoch 9/50\n",
      "43350/43350 [==============================] - 11s 254us/step - loss: 0.4678 - accuracy: 0.8112 - val_loss: 0.8704 - val_accuracy: 0.6477\n",
      "Epoch 10/50\n",
      "43350/43350 [==============================] - 11s 255us/step - loss: 0.4278 - accuracy: 0.8290 - val_loss: 0.9023 - val_accuracy: 0.6497\n",
      "Epoch 11/50\n",
      "43350/43350 [==============================] - 11s 254us/step - loss: 0.3983 - accuracy: 0.8431 - val_loss: 0.9435 - val_accuracy: 0.6518\n",
      "Epoch 12/50\n",
      "43350/43350 [==============================] - 11s 254us/step - loss: 0.3689 - accuracy: 0.8563 - val_loss: 0.9940 - val_accuracy: 0.6431\n"
     ]
    }
   ],
   "source": [
    "history = model.fit(X_train, y_train, batch_size= 512, epochs=50, validation_split=0.15 ,callbacks = callbacks, verbose=1)"
   ]
  },
  {
   "cell_type": "code",
   "execution_count": 86,
   "metadata": {},
   "outputs": [],
   "source": [
    "model = Sequential()\n",
    "model.add(Embedding(MAX_NUM_WORDS, 64, input_length = (192)))\n",
    "model.add(LSTM(64, dropout=0.25, recurrent_dropout= 0.25, recurrent_regularizer= \"l2\"))\n",
    "model.add(Dense(3, activation = 'softmax'))"
   ]
  },
  {
   "cell_type": "code",
   "execution_count": 87,
   "metadata": {},
   "outputs": [],
   "source": [
    "model.compile(loss='categorical_crossentropy',optimizer= rmsprop ,metrics=['accuracy'])"
   ]
  },
  {
   "cell_type": "code",
   "execution_count": 88,
   "metadata": {},
   "outputs": [
    {
     "name": "stdout",
     "output_type": "stream",
     "text": [
      "Train on 43350 samples, validate on 7650 samples\n",
      "Epoch 1/50\n",
      "43350/43350 [==============================] - 11s 259us/step - loss: 0.9599 - accuracy: 0.5547 - val_loss: 0.8345 - val_accuracy: 0.6190\n",
      "Epoch 2/50\n",
      "  512/43350 [..............................] - ETA: 10s - loss: 0.8472 - accuracy: 0.6172"
     ]
    },
    {
     "name": "stderr",
     "output_type": "stream",
     "text": [
      "C:\\Users\\jpcar\\Anaconda3\\envs\\tensorflow\\lib\\site-packages\\keras\\engine\\saving.py:165: UserWarning: TensorFlow optimizers do not make it possible to access optimizer attributes or optimizer state after instantiation. As a result, we cannot save the optimizer as part of the model save file.You will have to compile your model again after loading it. Prefer using a Keras optimizer instead (see keras.io/optimizers).\n",
      "  'TensorFlow optimizers do not '\n"
     ]
    },
    {
     "name": "stdout",
     "output_type": "stream",
     "text": [
      "43350/43350 [==============================] - 11s 251us/step - loss: 0.7890 - accuracy: 0.6448 - val_loss: 0.8540 - val_accuracy: 0.6125\n",
      "Epoch 3/50\n",
      "43350/43350 [==============================] - 11s 253us/step - loss: 0.7400 - accuracy: 0.6807 - val_loss: 0.8233 - val_accuracy: 0.6373\n",
      "Epoch 4/50\n",
      "43350/43350 [==============================] - 11s 250us/step - loss: 0.7038 - accuracy: 0.6962 - val_loss: 0.8110 - val_accuracy: 0.6322\n",
      "Epoch 5/50\n",
      "43350/43350 [==============================] - 11s 251us/step - loss: 0.6567 - accuracy: 0.7208 - val_loss: 0.8046 - val_accuracy: 0.6429\n",
      "Epoch 6/50\n",
      "43350/43350 [==============================] - 11s 250us/step - loss: 0.6201 - accuracy: 0.7382 - val_loss: 0.8246 - val_accuracy: 0.6431\n",
      "Epoch 7/50\n",
      "43350/43350 [==============================] - 11s 250us/step - loss: 0.5806 - accuracy: 0.7542 - val_loss: 0.8403 - val_accuracy: 0.6489\n",
      "Epoch 8/50\n",
      "43350/43350 [==============================] - 11s 251us/step - loss: 0.5389 - accuracy: 0.7759 - val_loss: 0.8656 - val_accuracy: 0.6476\n",
      "Epoch 9/50\n",
      "43350/43350 [==============================] - 11s 251us/step - loss: 0.5024 - accuracy: 0.7958 - val_loss: 0.8594 - val_accuracy: 0.6421\n",
      "Epoch 10/50\n",
      "43350/43350 [==============================] - 11s 251us/step - loss: 0.4669 - accuracy: 0.8103 - val_loss: 0.9014 - val_accuracy: 0.6380\n",
      "Epoch 11/50\n",
      "43350/43350 [==============================] - 11s 252us/step - loss: 0.4297 - accuracy: 0.8300 - val_loss: 0.9458 - val_accuracy: 0.6424\n",
      "Epoch 12/50\n",
      "43350/43350 [==============================] - 11s 250us/step - loss: 0.4013 - accuracy: 0.8407 - val_loss: 0.9779 - val_accuracy: 0.6370\n",
      "Epoch 13/50\n",
      "43350/43350 [==============================] - 11s 251us/step - loss: 0.3726 - accuracy: 0.8537 - val_loss: 1.0355 - val_accuracy: 0.6278\n",
      "Epoch 14/50\n",
      "43350/43350 [==============================] - 11s 253us/step - loss: 0.3479 - accuracy: 0.8649 - val_loss: 1.0496 - val_accuracy: 0.6358\n",
      "Epoch 15/50\n",
      "43350/43350 [==============================] - 11s 251us/step - loss: 0.3254 - accuracy: 0.8751 - val_loss: 1.1162 - val_accuracy: 0.6382\n"
     ]
    }
   ],
   "source": [
    "history = model.fit(X_train, y_train, batch_size= 512, epochs=50, validation_split=0.15 ,callbacks = callbacks, verbose=1)"
   ]
  },
  {
   "cell_type": "code",
   "execution_count": 309,
   "metadata": {},
   "outputs": [],
   "source": [
    "model = Sequential()\n",
    "model.add(Embedding(MAX_NUM_WORDS, 32, input_length = (100)))\n",
    "model.add(LSTM(32, dropout=0.25, recurrent_dropout= 0.25, recurrent_regularizer= \"l2\"))\n",
    "model.add(Dense(3, activation = 'softmax'))"
   ]
  },
  {
   "cell_type": "code",
   "execution_count": 310,
   "metadata": {},
   "outputs": [
    {
     "name": "stdout",
     "output_type": "stream",
     "text": [
      "Model: \"sequential_42\"\n",
      "_________________________________________________________________\n",
      "Layer (type)                 Output Shape              Param #   \n",
      "=================================================================\n",
      "embedding_42 (Embedding)     (None, 100, 32)           640000    \n",
      "_________________________________________________________________\n",
      "lstm_45 (LSTM)               (None, 32)                8320      \n",
      "_________________________________________________________________\n",
      "dense_46 (Dense)             (None, 3)                 99        \n",
      "=================================================================\n",
      "Total params: 648,419\n",
      "Trainable params: 648,419\n",
      "Non-trainable params: 0\n",
      "_________________________________________________________________\n"
     ]
    }
   ],
   "source": [
    "model.summary()"
   ]
  },
  {
   "cell_type": "markdown",
   "metadata": {},
   "source": [
    "Next attempt to create a vanilla LSTM with very small capacity, due to the training problems. Overfitting does not seem ot be the issue because training accuracy is not improving that much as well."
   ]
  },
  {
   "cell_type": "code",
   "execution_count": 311,
   "metadata": {},
   "outputs": [],
   "source": [
    "model.compile(loss='categorical_crossentropy',optimizer= rmsprop ,metrics=['accuracy'])"
   ]
  },
  {
   "cell_type": "code",
   "execution_count": 312,
   "metadata": {
    "scrolled": true
   },
   "outputs": [
    {
     "name": "stdout",
     "output_type": "stream",
     "text": [
      "Train on 43350 samples, validate on 7650 samples\n",
      "Epoch 1/50\n",
      "43350/43350 [==============================] - 6s 136us/step - loss: 0.9206 - accuracy: 0.5621 - val_loss: 0.8619 - val_accuracy: 0.5971\n",
      "Epoch 2/50\n",
      " 1024/43350 [..............................] - ETA: 5s - loss: 0.8213 - accuracy: 0.62"
     ]
    },
    {
     "name": "stderr",
     "output_type": "stream",
     "text": [
      "C:\\Users\\jpcar\\Anaconda3\\envs\\tensorflow\\lib\\site-packages\\keras\\engine\\saving.py:165: UserWarning: TensorFlow optimizers do not make it possible to access optimizer attributes or optimizer state after instantiation. As a result, we cannot save the optimizer as part of the model save file.You will have to compile your model again after loading it. Prefer using a Keras optimizer instead (see keras.io/optimizers).\n",
      "  'TensorFlow optimizers do not '\n"
     ]
    },
    {
     "name": "stdout",
     "output_type": "stream",
     "text": [
      "43350/43350 [==============================] - 6s 129us/step - loss: 0.7720 - accuracy: 0.6447 - val_loss: 0.8035 - val_accuracy: 0.6275\n",
      "Epoch 3/50\n",
      "43350/43350 [==============================] - 6s 128us/step - loss: 0.7194 - accuracy: 0.6799 - val_loss: 0.8080 - val_accuracy: 0.6227\n",
      "Epoch 4/50\n",
      "43350/43350 [==============================] - 6s 129us/step - loss: 0.6814 - accuracy: 0.6982 - val_loss: 0.8238 - val_accuracy: 0.6166\n",
      "Epoch 5/50\n",
      "43350/43350 [==============================] - 6s 128us/step - loss: 0.6525 - accuracy: 0.7162 - val_loss: 0.8161 - val_accuracy: 0.6261\n",
      "Epoch 6/50\n",
      "43350/43350 [==============================] - 6s 129us/step - loss: 0.6304 - accuracy: 0.7284 - val_loss: 0.8314 - val_accuracy: 0.6295\n",
      "Epoch 7/50\n",
      "18944/43350 [============>.................] - ETA: 3s - loss: 0.5884 - accuracy: 0.7488"
     ]
    },
    {
     "ename": "KeyboardInterrupt",
     "evalue": "",
     "output_type": "error",
     "traceback": [
      "\u001b[1;31m---------------------------------------------------------------------------\u001b[0m",
      "\u001b[1;31mKeyboardInterrupt\u001b[0m                         Traceback (most recent call last)",
      "\u001b[1;32m<ipython-input-312-d64d6a01dbb7>\u001b[0m in \u001b[0;36m<module>\u001b[1;34m\u001b[0m\n\u001b[1;32m----> 1\u001b[1;33m \u001b[0mhistory\u001b[0m \u001b[1;33m=\u001b[0m \u001b[0mmodel\u001b[0m\u001b[1;33m.\u001b[0m\u001b[0mfit\u001b[0m\u001b[1;33m(\u001b[0m\u001b[0mX_train\u001b[0m\u001b[1;33m,\u001b[0m \u001b[0my_train\u001b[0m\u001b[1;33m,\u001b[0m \u001b[0mbatch_size\u001b[0m\u001b[1;33m=\u001b[0m \u001b[1;36m512\u001b[0m\u001b[1;33m,\u001b[0m \u001b[0mepochs\u001b[0m\u001b[1;33m=\u001b[0m\u001b[1;36m50\u001b[0m\u001b[1;33m,\u001b[0m \u001b[0mvalidation_split\u001b[0m\u001b[1;33m=\u001b[0m\u001b[1;36m0.15\u001b[0m \u001b[1;33m,\u001b[0m\u001b[0mcallbacks\u001b[0m \u001b[1;33m=\u001b[0m \u001b[0mcallbacks\u001b[0m\u001b[1;33m,\u001b[0m \u001b[0mverbose\u001b[0m\u001b[1;33m=\u001b[0m\u001b[1;36m1\u001b[0m\u001b[1;33m)\u001b[0m\u001b[1;33m\u001b[0m\u001b[1;33m\u001b[0m\u001b[0m\n\u001b[0m",
      "\u001b[1;32m~\\Anaconda3\\envs\\tensorflow\\lib\\site-packages\\keras\\engine\\training.py\u001b[0m in \u001b[0;36mfit\u001b[1;34m(self, x, y, batch_size, epochs, verbose, callbacks, validation_split, validation_data, shuffle, class_weight, sample_weight, initial_epoch, steps_per_epoch, validation_steps, validation_freq, max_queue_size, workers, use_multiprocessing, **kwargs)\u001b[0m\n\u001b[0;32m   1237\u001b[0m                                         \u001b[0msteps_per_epoch\u001b[0m\u001b[1;33m=\u001b[0m\u001b[0msteps_per_epoch\u001b[0m\u001b[1;33m,\u001b[0m\u001b[1;33m\u001b[0m\u001b[1;33m\u001b[0m\u001b[0m\n\u001b[0;32m   1238\u001b[0m                                         \u001b[0mvalidation_steps\u001b[0m\u001b[1;33m=\u001b[0m\u001b[0mvalidation_steps\u001b[0m\u001b[1;33m,\u001b[0m\u001b[1;33m\u001b[0m\u001b[1;33m\u001b[0m\u001b[0m\n\u001b[1;32m-> 1239\u001b[1;33m                                         validation_freq=validation_freq)\n\u001b[0m\u001b[0;32m   1240\u001b[0m \u001b[1;33m\u001b[0m\u001b[0m\n\u001b[0;32m   1241\u001b[0m     def evaluate(self,\n",
      "\u001b[1;32m~\\Anaconda3\\envs\\tensorflow\\lib\\site-packages\\keras\\engine\\training_arrays.py\u001b[0m in \u001b[0;36mfit_loop\u001b[1;34m(model, fit_function, fit_inputs, out_labels, batch_size, epochs, verbose, callbacks, val_function, val_inputs, shuffle, initial_epoch, steps_per_epoch, validation_steps, validation_freq)\u001b[0m\n\u001b[0;32m    194\u001b[0m                     \u001b[0mins_batch\u001b[0m\u001b[1;33m[\u001b[0m\u001b[0mi\u001b[0m\u001b[1;33m]\u001b[0m \u001b[1;33m=\u001b[0m \u001b[0mins_batch\u001b[0m\u001b[1;33m[\u001b[0m\u001b[0mi\u001b[0m\u001b[1;33m]\u001b[0m\u001b[1;33m.\u001b[0m\u001b[0mtoarray\u001b[0m\u001b[1;33m(\u001b[0m\u001b[1;33m)\u001b[0m\u001b[1;33m\u001b[0m\u001b[1;33m\u001b[0m\u001b[0m\n\u001b[0;32m    195\u001b[0m \u001b[1;33m\u001b[0m\u001b[0m\n\u001b[1;32m--> 196\u001b[1;33m                 \u001b[0mouts\u001b[0m \u001b[1;33m=\u001b[0m \u001b[0mfit_function\u001b[0m\u001b[1;33m(\u001b[0m\u001b[0mins_batch\u001b[0m\u001b[1;33m)\u001b[0m\u001b[1;33m\u001b[0m\u001b[1;33m\u001b[0m\u001b[0m\n\u001b[0m\u001b[0;32m    197\u001b[0m                 \u001b[0mouts\u001b[0m \u001b[1;33m=\u001b[0m \u001b[0mto_list\u001b[0m\u001b[1;33m(\u001b[0m\u001b[0mouts\u001b[0m\u001b[1;33m)\u001b[0m\u001b[1;33m\u001b[0m\u001b[1;33m\u001b[0m\u001b[0m\n\u001b[0;32m    198\u001b[0m                 \u001b[1;32mfor\u001b[0m \u001b[0ml\u001b[0m\u001b[1;33m,\u001b[0m \u001b[0mo\u001b[0m \u001b[1;32min\u001b[0m \u001b[0mzip\u001b[0m\u001b[1;33m(\u001b[0m\u001b[0mout_labels\u001b[0m\u001b[1;33m,\u001b[0m \u001b[0mouts\u001b[0m\u001b[1;33m)\u001b[0m\u001b[1;33m:\u001b[0m\u001b[1;33m\u001b[0m\u001b[1;33m\u001b[0m\u001b[0m\n",
      "\u001b[1;32m~\\Anaconda3\\envs\\tensorflow\\lib\\site-packages\\tensorflow_core\\python\\keras\\backend.py\u001b[0m in \u001b[0;36m__call__\u001b[1;34m(self, inputs)\u001b[0m\n\u001b[0;32m   3725\u001b[0m         \u001b[0mvalue\u001b[0m \u001b[1;33m=\u001b[0m \u001b[0mmath_ops\u001b[0m\u001b[1;33m.\u001b[0m\u001b[0mcast\u001b[0m\u001b[1;33m(\u001b[0m\u001b[0mvalue\u001b[0m\u001b[1;33m,\u001b[0m \u001b[0mtensor\u001b[0m\u001b[1;33m.\u001b[0m\u001b[0mdtype\u001b[0m\u001b[1;33m)\u001b[0m\u001b[1;33m\u001b[0m\u001b[1;33m\u001b[0m\u001b[0m\n\u001b[0;32m   3726\u001b[0m       \u001b[0mconverted_inputs\u001b[0m\u001b[1;33m.\u001b[0m\u001b[0mappend\u001b[0m\u001b[1;33m(\u001b[0m\u001b[0mvalue\u001b[0m\u001b[1;33m)\u001b[0m\u001b[1;33m\u001b[0m\u001b[1;33m\u001b[0m\u001b[0m\n\u001b[1;32m-> 3727\u001b[1;33m     \u001b[0moutputs\u001b[0m \u001b[1;33m=\u001b[0m \u001b[0mself\u001b[0m\u001b[1;33m.\u001b[0m\u001b[0m_graph_fn\u001b[0m\u001b[1;33m(\u001b[0m\u001b[1;33m*\u001b[0m\u001b[0mconverted_inputs\u001b[0m\u001b[1;33m)\u001b[0m\u001b[1;33m\u001b[0m\u001b[1;33m\u001b[0m\u001b[0m\n\u001b[0m\u001b[0;32m   3728\u001b[0m \u001b[1;33m\u001b[0m\u001b[0m\n\u001b[0;32m   3729\u001b[0m     \u001b[1;31m# EagerTensor.numpy() will often make a copy to ensure memory safety.\u001b[0m\u001b[1;33m\u001b[0m\u001b[1;33m\u001b[0m\u001b[1;33m\u001b[0m\u001b[0m\n",
      "\u001b[1;32m~\\Anaconda3\\envs\\tensorflow\\lib\\site-packages\\tensorflow_core\\python\\eager\\function.py\u001b[0m in \u001b[0;36m__call__\u001b[1;34m(self, *args, **kwargs)\u001b[0m\n\u001b[0;32m   1549\u001b[0m       \u001b[0mTypeError\u001b[0m\u001b[1;33m:\u001b[0m \u001b[0mFor\u001b[0m \u001b[0minvalid\u001b[0m \u001b[0mpositional\u001b[0m\u001b[1;33m/\u001b[0m\u001b[0mkeyword\u001b[0m \u001b[0margument\u001b[0m \u001b[0mcombinations\u001b[0m\u001b[1;33m.\u001b[0m\u001b[1;33m\u001b[0m\u001b[1;33m\u001b[0m\u001b[0m\n\u001b[0;32m   1550\u001b[0m     \"\"\"\n\u001b[1;32m-> 1551\u001b[1;33m     \u001b[1;32mreturn\u001b[0m \u001b[0mself\u001b[0m\u001b[1;33m.\u001b[0m\u001b[0m_call_impl\u001b[0m\u001b[1;33m(\u001b[0m\u001b[0margs\u001b[0m\u001b[1;33m,\u001b[0m \u001b[0mkwargs\u001b[0m\u001b[1;33m)\u001b[0m\u001b[1;33m\u001b[0m\u001b[1;33m\u001b[0m\u001b[0m\n\u001b[0m\u001b[0;32m   1552\u001b[0m \u001b[1;33m\u001b[0m\u001b[0m\n\u001b[0;32m   1553\u001b[0m   \u001b[1;32mdef\u001b[0m \u001b[0m_call_impl\u001b[0m\u001b[1;33m(\u001b[0m\u001b[0mself\u001b[0m\u001b[1;33m,\u001b[0m \u001b[0margs\u001b[0m\u001b[1;33m,\u001b[0m \u001b[0mkwargs\u001b[0m\u001b[1;33m,\u001b[0m \u001b[0mcancellation_manager\u001b[0m\u001b[1;33m=\u001b[0m\u001b[1;32mNone\u001b[0m\u001b[1;33m)\u001b[0m\u001b[1;33m:\u001b[0m\u001b[1;33m\u001b[0m\u001b[1;33m\u001b[0m\u001b[0m\n",
      "\u001b[1;32m~\\Anaconda3\\envs\\tensorflow\\lib\\site-packages\\tensorflow_core\\python\\eager\\function.py\u001b[0m in \u001b[0;36m_call_impl\u001b[1;34m(self, args, kwargs, cancellation_manager)\u001b[0m\n\u001b[0;32m   1589\u001b[0m       raise TypeError(\"Keyword arguments {} unknown. Expected {}.\".format(\n\u001b[0;32m   1590\u001b[0m           list(kwargs.keys()), list(self._arg_keywords)))\n\u001b[1;32m-> 1591\u001b[1;33m     \u001b[1;32mreturn\u001b[0m \u001b[0mself\u001b[0m\u001b[1;33m.\u001b[0m\u001b[0m_call_flat\u001b[0m\u001b[1;33m(\u001b[0m\u001b[0margs\u001b[0m\u001b[1;33m,\u001b[0m \u001b[0mself\u001b[0m\u001b[1;33m.\u001b[0m\u001b[0mcaptured_inputs\u001b[0m\u001b[1;33m,\u001b[0m \u001b[0mcancellation_manager\u001b[0m\u001b[1;33m)\u001b[0m\u001b[1;33m\u001b[0m\u001b[1;33m\u001b[0m\u001b[0m\n\u001b[0m\u001b[0;32m   1592\u001b[0m \u001b[1;33m\u001b[0m\u001b[0m\n\u001b[0;32m   1593\u001b[0m   \u001b[1;32mdef\u001b[0m \u001b[0m_filtered_call\u001b[0m\u001b[1;33m(\u001b[0m\u001b[0mself\u001b[0m\u001b[1;33m,\u001b[0m \u001b[0margs\u001b[0m\u001b[1;33m,\u001b[0m \u001b[0mkwargs\u001b[0m\u001b[1;33m)\u001b[0m\u001b[1;33m:\u001b[0m\u001b[1;33m\u001b[0m\u001b[1;33m\u001b[0m\u001b[0m\n",
      "\u001b[1;32m~\\Anaconda3\\envs\\tensorflow\\lib\\site-packages\\tensorflow_core\\python\\eager\\function.py\u001b[0m in \u001b[0;36m_call_flat\u001b[1;34m(self, args, captured_inputs, cancellation_manager)\u001b[0m\n\u001b[0;32m   1690\u001b[0m       \u001b[1;31m# No tape is watching; skip to running the function.\u001b[0m\u001b[1;33m\u001b[0m\u001b[1;33m\u001b[0m\u001b[1;33m\u001b[0m\u001b[0m\n\u001b[0;32m   1691\u001b[0m       return self._build_call_outputs(self._inference_function.call(\n\u001b[1;32m-> 1692\u001b[1;33m           ctx, args, cancellation_manager=cancellation_manager))\n\u001b[0m\u001b[0;32m   1693\u001b[0m     forward_backward = self._select_forward_and_backward_functions(\n\u001b[0;32m   1694\u001b[0m         \u001b[0margs\u001b[0m\u001b[1;33m,\u001b[0m\u001b[1;33m\u001b[0m\u001b[1;33m\u001b[0m\u001b[0m\n",
      "\u001b[1;32m~\\Anaconda3\\envs\\tensorflow\\lib\\site-packages\\tensorflow_core\\python\\eager\\function.py\u001b[0m in \u001b[0;36mcall\u001b[1;34m(self, ctx, args, cancellation_manager)\u001b[0m\n\u001b[0;32m    543\u001b[0m               \u001b[0minputs\u001b[0m\u001b[1;33m=\u001b[0m\u001b[0margs\u001b[0m\u001b[1;33m,\u001b[0m\u001b[1;33m\u001b[0m\u001b[1;33m\u001b[0m\u001b[0m\n\u001b[0;32m    544\u001b[0m               \u001b[0mattrs\u001b[0m\u001b[1;33m=\u001b[0m\u001b[1;33m(\u001b[0m\u001b[1;34m\"executor_type\"\u001b[0m\u001b[1;33m,\u001b[0m \u001b[0mexecutor_type\u001b[0m\u001b[1;33m,\u001b[0m \u001b[1;34m\"config_proto\"\u001b[0m\u001b[1;33m,\u001b[0m \u001b[0mconfig\u001b[0m\u001b[1;33m)\u001b[0m\u001b[1;33m,\u001b[0m\u001b[1;33m\u001b[0m\u001b[1;33m\u001b[0m\u001b[0m\n\u001b[1;32m--> 545\u001b[1;33m               ctx=ctx)\n\u001b[0m\u001b[0;32m    546\u001b[0m         \u001b[1;32melse\u001b[0m\u001b[1;33m:\u001b[0m\u001b[1;33m\u001b[0m\u001b[1;33m\u001b[0m\u001b[0m\n\u001b[0;32m    547\u001b[0m           outputs = execute.execute_with_cancellation(\n",
      "\u001b[1;32m~\\Anaconda3\\envs\\tensorflow\\lib\\site-packages\\tensorflow_core\\python\\eager\\execute.py\u001b[0m in \u001b[0;36mquick_execute\u001b[1;34m(op_name, num_outputs, inputs, attrs, ctx, name)\u001b[0m\n\u001b[0;32m     59\u001b[0m     tensors = pywrap_tensorflow.TFE_Py_Execute(ctx._handle, device_name,\n\u001b[0;32m     60\u001b[0m                                                \u001b[0mop_name\u001b[0m\u001b[1;33m,\u001b[0m \u001b[0minputs\u001b[0m\u001b[1;33m,\u001b[0m \u001b[0mattrs\u001b[0m\u001b[1;33m,\u001b[0m\u001b[1;33m\u001b[0m\u001b[1;33m\u001b[0m\u001b[0m\n\u001b[1;32m---> 61\u001b[1;33m                                                num_outputs)\n\u001b[0m\u001b[0;32m     62\u001b[0m   \u001b[1;32mexcept\u001b[0m \u001b[0mcore\u001b[0m\u001b[1;33m.\u001b[0m\u001b[0m_NotOkStatusException\u001b[0m \u001b[1;32mas\u001b[0m \u001b[0me\u001b[0m\u001b[1;33m:\u001b[0m\u001b[1;33m\u001b[0m\u001b[1;33m\u001b[0m\u001b[0m\n\u001b[0;32m     63\u001b[0m     \u001b[1;32mif\u001b[0m \u001b[0mname\u001b[0m \u001b[1;32mis\u001b[0m \u001b[1;32mnot\u001b[0m \u001b[1;32mNone\u001b[0m\u001b[1;33m:\u001b[0m\u001b[1;33m\u001b[0m\u001b[1;33m\u001b[0m\u001b[0m\n",
      "\u001b[1;31mKeyboardInterrupt\u001b[0m: "
     ]
    }
   ],
   "source": [
    "history = model.fit(X_train, y_train, batch_size= 512, epochs=50, validation_split=0.15 ,callbacks = callbacks, verbose=1)"
   ]
  },
  {
   "cell_type": "code",
   "execution_count": 335,
   "metadata": {},
   "outputs": [],
   "source": [
    "model_1 = Sequential()\n",
    "model_1.add(Embedding(MAX_NUM_WORDS, 24, input_length = (100)))\n",
    "model_1.add(LSTM(16, dropout=0.5, recurrent_dropout= 0.25, recurrent_regularizer= \"l1_l2\", bias_regularizer= \"l2\"))\n",
    "model_1.add(Dense(16, activation = 'relu'))\n",
    "model_1.add(BatchNormalization())\n",
    "model_1.add(Dense(3, activation = 'softmax'))"
   ]
  },
  {
   "cell_type": "code",
   "execution_count": 336,
   "metadata": {},
   "outputs": [],
   "source": [
    "from keras.layers import BatchNormalization"
   ]
  },
  {
   "cell_type": "code",
   "execution_count": 337,
   "metadata": {},
   "outputs": [
    {
     "name": "stdout",
     "output_type": "stream",
     "text": [
      "Model: \"sequential_44\"\n",
      "_________________________________________________________________\n",
      "Layer (type)                 Output Shape              Param #   \n",
      "=================================================================\n",
      "embedding_44 (Embedding)     (None, 100, 24)           60000     \n",
      "_________________________________________________________________\n",
      "lstm_47 (LSTM)               (None, 16)                2624      \n",
      "_________________________________________________________________\n",
      "dense_49 (Dense)             (None, 16)                272       \n",
      "_________________________________________________________________\n",
      "batch_normalization_4 (Batch (None, 16)                64        \n",
      "_________________________________________________________________\n",
      "dense_50 (Dense)             (None, 3)                 51        \n",
      "=================================================================\n",
      "Total params: 63,011\n",
      "Trainable params: 62,979\n",
      "Non-trainable params: 32\n",
      "_________________________________________________________________\n"
     ]
    }
   ],
   "source": [
    "model_1.summary()"
   ]
  },
  {
   "cell_type": "code",
   "execution_count": 338,
   "metadata": {},
   "outputs": [],
   "source": [
    "model_1.compile(loss='categorical_crossentropy',optimizer= rmsprop ,metrics=['accuracy'])"
   ]
  },
  {
   "cell_type": "code",
   "execution_count": 339,
   "metadata": {
    "scrolled": true
   },
   "outputs": [
    {
     "name": "stdout",
     "output_type": "stream",
     "text": [
      "Train on 51000 samples, validate on 9000 samples\n",
      "Epoch 1/50\n",
      "51000/51000 [==============================] - 7s 140us/step - loss: 1.1935 - accuracy: 0.5346 - val_loss: 1.1498 - val_accuracy: 0.3723\n",
      "Epoch 2/50\n",
      " 1024/51000 [..............................] - ETA: 6s - loss: 0.9196 - accuracy: 0.6201"
     ]
    },
    {
     "name": "stderr",
     "output_type": "stream",
     "text": [
      "C:\\Users\\jpcar\\Anaconda3\\envs\\tensorflow\\lib\\site-packages\\keras\\engine\\saving.py:165: UserWarning: TensorFlow optimizers do not make it possible to access optimizer attributes or optimizer state after instantiation. As a result, we cannot save the optimizer as part of the model save file.You will have to compile your model again after loading it. Prefer using a Keras optimizer instead (see keras.io/optimizers).\n",
      "  'TensorFlow optimizers do not '\n"
     ]
    },
    {
     "name": "stdout",
     "output_type": "stream",
     "text": [
      "51000/51000 [==============================] - 7s 131us/step - loss: 0.9184 - accuracy: 0.5961 - val_loss: 1.0628 - val_accuracy: 0.5182\n",
      "Epoch 3/50\n",
      "51000/51000 [==============================] - 7s 131us/step - loss: 0.8826 - accuracy: 0.6099 - val_loss: 0.9985 - val_accuracy: 0.5392\n",
      "Epoch 4/50\n",
      "51000/51000 [==============================] - 7s 132us/step - loss: 0.8694 - accuracy: 0.6187 - val_loss: 0.9249 - val_accuracy: 0.5798\n",
      "Epoch 5/50\n",
      "51000/51000 [==============================] - 7s 131us/step - loss: 0.8600 - accuracy: 0.6220 - val_loss: 0.9056 - val_accuracy: 0.5877\n",
      "Epoch 6/50\n",
      "51000/51000 [==============================] - 7s 131us/step - loss: 0.8521 - accuracy: 0.6258 - val_loss: 0.9071 - val_accuracy: 0.5867\n",
      "Epoch 7/50\n",
      "51000/51000 [==============================] - 7s 131us/step - loss: 0.8447 - accuracy: 0.6301 - val_loss: 0.9070 - val_accuracy: 0.5937\n",
      "Epoch 8/50\n",
      "51000/51000 [==============================] - 7s 131us/step - loss: 0.8406 - accuracy: 0.6342 - val_loss: 0.8905 - val_accuracy: 0.5957\n",
      "Epoch 9/50\n",
      "51000/51000 [==============================] - 7s 135us/step - loss: 0.8345 - accuracy: 0.6372 - val_loss: 0.9065 - val_accuracy: 0.5948\n",
      "Epoch 10/50\n",
      "51000/51000 [==============================] - 7s 134us/step - loss: 0.8319 - accuracy: 0.6371 - val_loss: 0.8865 - val_accuracy: 0.6043\n",
      "Epoch 11/50\n",
      "51000/51000 [==============================] - 7s 132us/step - loss: 0.8241 - accuracy: 0.6379 - val_loss: 0.8735 - val_accuracy: 0.6052\n",
      "Epoch 12/50\n",
      "51000/51000 [==============================] - 7s 133us/step - loss: 0.8151 - accuracy: 0.6445 - val_loss: 0.8784 - val_accuracy: 0.6110\n",
      "Epoch 13/50\n",
      "51000/51000 [==============================] - 7s 133us/step - loss: 0.8075 - accuracy: 0.6437 - val_loss: 0.8694 - val_accuracy: 0.6089\n",
      "Epoch 14/50\n",
      "51000/51000 [==============================] - 7s 132us/step - loss: 0.8001 - accuracy: 0.6497 - val_loss: 0.9173 - val_accuracy: 0.5939\n",
      "Epoch 15/50\n",
      "51000/51000 [==============================] - 7s 131us/step - loss: 0.7929 - accuracy: 0.6514 - val_loss: 0.8535 - val_accuracy: 0.6183\n",
      "Epoch 16/50\n",
      "51000/51000 [==============================] - 7s 131us/step - loss: 0.7855 - accuracy: 0.6544 - val_loss: 0.8716 - val_accuracy: 0.6118\n",
      "Epoch 17/50\n",
      "51000/51000 [==============================] - 7s 131us/step - loss: 0.7819 - accuracy: 0.6566 - val_loss: 0.8379 - val_accuracy: 0.6259\n",
      "Epoch 18/50\n",
      "51000/51000 [==============================] - 7s 131us/step - loss: 0.7736 - accuracy: 0.6611 - val_loss: 0.8814 - val_accuracy: 0.6181\n",
      "Epoch 19/50\n",
      "51000/51000 [==============================] - 7s 131us/step - loss: 0.7727 - accuracy: 0.6611 - val_loss: 0.8326 - val_accuracy: 0.6264\n",
      "Epoch 20/50\n",
      "51000/51000 [==============================] - 7s 132us/step - loss: 0.7651 - accuracy: 0.6639 - val_loss: 0.8380 - val_accuracy: 0.6299\n",
      "Epoch 21/50\n",
      "51000/51000 [==============================] - 7s 131us/step - loss: 0.7608 - accuracy: 0.6649 - val_loss: 0.8406 - val_accuracy: 0.6313\n",
      "Epoch 22/50\n",
      "51000/51000 [==============================] - 7s 133us/step - loss: 0.7589 - accuracy: 0.6696 - val_loss: 0.8252 - val_accuracy: 0.6268\n",
      "Epoch 23/50\n",
      "51000/51000 [==============================] - 7s 132us/step - loss: 0.7542 - accuracy: 0.6709 - val_loss: 0.8342 - val_accuracy: 0.6236\n",
      "Epoch 24/50\n",
      "51000/51000 [==============================] - 7s 132us/step - loss: 0.7517 - accuracy: 0.6719 - val_loss: 0.8228 - val_accuracy: 0.6322\n",
      "Epoch 25/50\n",
      "51000/51000 [==============================] - 7s 132us/step - loss: 0.7485 - accuracy: 0.6716 - val_loss: 0.8465 - val_accuracy: 0.6239\n",
      "Epoch 26/50\n",
      "51000/51000 [==============================] - 7s 131us/step - loss: 0.7480 - accuracy: 0.6735 - val_loss: 0.8273 - val_accuracy: 0.6322\n",
      "Epoch 27/50\n",
      "51000/51000 [==============================] - 7s 131us/step - loss: 0.7447 - accuracy: 0.6747 - val_loss: 0.8330 - val_accuracy: 0.6217\n",
      "Epoch 28/50\n",
      "51000/51000 [==============================] - 7s 135us/step - loss: 0.7413 - accuracy: 0.6788 - val_loss: 0.8159 - val_accuracy: 0.6364\n",
      "Epoch 29/50\n",
      "51000/51000 [==============================] - 7s 133us/step - loss: 0.7414 - accuracy: 0.6761 - val_loss: 0.8204 - val_accuracy: 0.6273\n",
      "Epoch 30/50\n",
      "51000/51000 [==============================] - 7s 132us/step - loss: 0.7389 - accuracy: 0.6780 - val_loss: 0.8282 - val_accuracy: 0.6381\n",
      "Epoch 31/50\n",
      "51000/51000 [==============================] - 7s 132us/step - loss: 0.7363 - accuracy: 0.6800 - val_loss: 0.8285 - val_accuracy: 0.6356\n",
      "Epoch 32/50\n",
      "51000/51000 [==============================] - 7s 133us/step - loss: 0.7353 - accuracy: 0.6801 - val_loss: 0.8196 - val_accuracy: 0.6314\n",
      "Epoch 33/50\n",
      "51000/51000 [==============================] - 7s 132us/step - loss: 0.7333 - accuracy: 0.6812 - val_loss: 0.8209 - val_accuracy: 0.6357\n",
      "Epoch 34/50\n",
      "34304/51000 [===================>..........] - ETA: 2s - loss: 0.7306 - accuracy: 0.6838"
     ]
    },
    {
     "ename": "KeyboardInterrupt",
     "evalue": "",
     "output_type": "error",
     "traceback": [
      "\u001b[1;31m---------------------------------------------------------------------------\u001b[0m",
      "\u001b[1;31mKeyboardInterrupt\u001b[0m                         Traceback (most recent call last)",
      "\u001b[1;32m<ipython-input-339-5cc10c101c30>\u001b[0m in \u001b[0;36m<module>\u001b[1;34m\u001b[0m\n\u001b[1;32m----> 1\u001b[1;33m \u001b[0mhistory\u001b[0m \u001b[1;33m=\u001b[0m \u001b[0mmodel_1\u001b[0m\u001b[1;33m.\u001b[0m\u001b[0mfit\u001b[0m\u001b[1;33m(\u001b[0m\u001b[0mX_train\u001b[0m\u001b[1;33m,\u001b[0m \u001b[0my_train\u001b[0m\u001b[1;33m,\u001b[0m \u001b[0mbatch_size\u001b[0m\u001b[1;33m=\u001b[0m \u001b[1;36m512\u001b[0m\u001b[1;33m,\u001b[0m \u001b[0mepochs\u001b[0m\u001b[1;33m=\u001b[0m\u001b[1;36m50\u001b[0m\u001b[1;33m,\u001b[0m \u001b[0mvalidation_data\u001b[0m\u001b[1;33m=\u001b[0m\u001b[1;33m(\u001b[0m\u001b[0mX_test\u001b[0m\u001b[1;33m,\u001b[0m \u001b[0my_test\u001b[0m\u001b[1;33m)\u001b[0m \u001b[1;33m,\u001b[0m\u001b[0mcallbacks\u001b[0m \u001b[1;33m=\u001b[0m \u001b[0mcallbacks\u001b[0m\u001b[1;33m,\u001b[0m \u001b[0mverbose\u001b[0m\u001b[1;33m=\u001b[0m\u001b[1;36m1\u001b[0m\u001b[1;33m)\u001b[0m\u001b[1;33m\u001b[0m\u001b[1;33m\u001b[0m\u001b[0m\n\u001b[0m",
      "\u001b[1;32m~\\Anaconda3\\envs\\tensorflow\\lib\\site-packages\\keras\\engine\\training.py\u001b[0m in \u001b[0;36mfit\u001b[1;34m(self, x, y, batch_size, epochs, verbose, callbacks, validation_split, validation_data, shuffle, class_weight, sample_weight, initial_epoch, steps_per_epoch, validation_steps, validation_freq, max_queue_size, workers, use_multiprocessing, **kwargs)\u001b[0m\n\u001b[0;32m   1237\u001b[0m                                         \u001b[0msteps_per_epoch\u001b[0m\u001b[1;33m=\u001b[0m\u001b[0msteps_per_epoch\u001b[0m\u001b[1;33m,\u001b[0m\u001b[1;33m\u001b[0m\u001b[1;33m\u001b[0m\u001b[0m\n\u001b[0;32m   1238\u001b[0m                                         \u001b[0mvalidation_steps\u001b[0m\u001b[1;33m=\u001b[0m\u001b[0mvalidation_steps\u001b[0m\u001b[1;33m,\u001b[0m\u001b[1;33m\u001b[0m\u001b[1;33m\u001b[0m\u001b[0m\n\u001b[1;32m-> 1239\u001b[1;33m                                         validation_freq=validation_freq)\n\u001b[0m\u001b[0;32m   1240\u001b[0m \u001b[1;33m\u001b[0m\u001b[0m\n\u001b[0;32m   1241\u001b[0m     def evaluate(self,\n",
      "\u001b[1;32m~\\Anaconda3\\envs\\tensorflow\\lib\\site-packages\\keras\\engine\\training_arrays.py\u001b[0m in \u001b[0;36mfit_loop\u001b[1;34m(model, fit_function, fit_inputs, out_labels, batch_size, epochs, verbose, callbacks, val_function, val_inputs, shuffle, initial_epoch, steps_per_epoch, validation_steps, validation_freq)\u001b[0m\n\u001b[0;32m    194\u001b[0m                     \u001b[0mins_batch\u001b[0m\u001b[1;33m[\u001b[0m\u001b[0mi\u001b[0m\u001b[1;33m]\u001b[0m \u001b[1;33m=\u001b[0m \u001b[0mins_batch\u001b[0m\u001b[1;33m[\u001b[0m\u001b[0mi\u001b[0m\u001b[1;33m]\u001b[0m\u001b[1;33m.\u001b[0m\u001b[0mtoarray\u001b[0m\u001b[1;33m(\u001b[0m\u001b[1;33m)\u001b[0m\u001b[1;33m\u001b[0m\u001b[1;33m\u001b[0m\u001b[0m\n\u001b[0;32m    195\u001b[0m \u001b[1;33m\u001b[0m\u001b[0m\n\u001b[1;32m--> 196\u001b[1;33m                 \u001b[0mouts\u001b[0m \u001b[1;33m=\u001b[0m \u001b[0mfit_function\u001b[0m\u001b[1;33m(\u001b[0m\u001b[0mins_batch\u001b[0m\u001b[1;33m)\u001b[0m\u001b[1;33m\u001b[0m\u001b[1;33m\u001b[0m\u001b[0m\n\u001b[0m\u001b[0;32m    197\u001b[0m                 \u001b[0mouts\u001b[0m \u001b[1;33m=\u001b[0m \u001b[0mto_list\u001b[0m\u001b[1;33m(\u001b[0m\u001b[0mouts\u001b[0m\u001b[1;33m)\u001b[0m\u001b[1;33m\u001b[0m\u001b[1;33m\u001b[0m\u001b[0m\n\u001b[0;32m    198\u001b[0m                 \u001b[1;32mfor\u001b[0m \u001b[0ml\u001b[0m\u001b[1;33m,\u001b[0m \u001b[0mo\u001b[0m \u001b[1;32min\u001b[0m \u001b[0mzip\u001b[0m\u001b[1;33m(\u001b[0m\u001b[0mout_labels\u001b[0m\u001b[1;33m,\u001b[0m \u001b[0mouts\u001b[0m\u001b[1;33m)\u001b[0m\u001b[1;33m:\u001b[0m\u001b[1;33m\u001b[0m\u001b[1;33m\u001b[0m\u001b[0m\n",
      "\u001b[1;32m~\\Anaconda3\\envs\\tensorflow\\lib\\site-packages\\tensorflow_core\\python\\keras\\backend.py\u001b[0m in \u001b[0;36m__call__\u001b[1;34m(self, inputs)\u001b[0m\n\u001b[0;32m   3725\u001b[0m         \u001b[0mvalue\u001b[0m \u001b[1;33m=\u001b[0m \u001b[0mmath_ops\u001b[0m\u001b[1;33m.\u001b[0m\u001b[0mcast\u001b[0m\u001b[1;33m(\u001b[0m\u001b[0mvalue\u001b[0m\u001b[1;33m,\u001b[0m \u001b[0mtensor\u001b[0m\u001b[1;33m.\u001b[0m\u001b[0mdtype\u001b[0m\u001b[1;33m)\u001b[0m\u001b[1;33m\u001b[0m\u001b[1;33m\u001b[0m\u001b[0m\n\u001b[0;32m   3726\u001b[0m       \u001b[0mconverted_inputs\u001b[0m\u001b[1;33m.\u001b[0m\u001b[0mappend\u001b[0m\u001b[1;33m(\u001b[0m\u001b[0mvalue\u001b[0m\u001b[1;33m)\u001b[0m\u001b[1;33m\u001b[0m\u001b[1;33m\u001b[0m\u001b[0m\n\u001b[1;32m-> 3727\u001b[1;33m     \u001b[0moutputs\u001b[0m \u001b[1;33m=\u001b[0m \u001b[0mself\u001b[0m\u001b[1;33m.\u001b[0m\u001b[0m_graph_fn\u001b[0m\u001b[1;33m(\u001b[0m\u001b[1;33m*\u001b[0m\u001b[0mconverted_inputs\u001b[0m\u001b[1;33m)\u001b[0m\u001b[1;33m\u001b[0m\u001b[1;33m\u001b[0m\u001b[0m\n\u001b[0m\u001b[0;32m   3728\u001b[0m \u001b[1;33m\u001b[0m\u001b[0m\n\u001b[0;32m   3729\u001b[0m     \u001b[1;31m# EagerTensor.numpy() will often make a copy to ensure memory safety.\u001b[0m\u001b[1;33m\u001b[0m\u001b[1;33m\u001b[0m\u001b[1;33m\u001b[0m\u001b[0m\n",
      "\u001b[1;32m~\\Anaconda3\\envs\\tensorflow\\lib\\site-packages\\tensorflow_core\\python\\eager\\function.py\u001b[0m in \u001b[0;36m__call__\u001b[1;34m(self, *args, **kwargs)\u001b[0m\n\u001b[0;32m   1549\u001b[0m       \u001b[0mTypeError\u001b[0m\u001b[1;33m:\u001b[0m \u001b[0mFor\u001b[0m \u001b[0minvalid\u001b[0m \u001b[0mpositional\u001b[0m\u001b[1;33m/\u001b[0m\u001b[0mkeyword\u001b[0m \u001b[0margument\u001b[0m \u001b[0mcombinations\u001b[0m\u001b[1;33m.\u001b[0m\u001b[1;33m\u001b[0m\u001b[1;33m\u001b[0m\u001b[0m\n\u001b[0;32m   1550\u001b[0m     \"\"\"\n\u001b[1;32m-> 1551\u001b[1;33m     \u001b[1;32mreturn\u001b[0m \u001b[0mself\u001b[0m\u001b[1;33m.\u001b[0m\u001b[0m_call_impl\u001b[0m\u001b[1;33m(\u001b[0m\u001b[0margs\u001b[0m\u001b[1;33m,\u001b[0m \u001b[0mkwargs\u001b[0m\u001b[1;33m)\u001b[0m\u001b[1;33m\u001b[0m\u001b[1;33m\u001b[0m\u001b[0m\n\u001b[0m\u001b[0;32m   1552\u001b[0m \u001b[1;33m\u001b[0m\u001b[0m\n\u001b[0;32m   1553\u001b[0m   \u001b[1;32mdef\u001b[0m \u001b[0m_call_impl\u001b[0m\u001b[1;33m(\u001b[0m\u001b[0mself\u001b[0m\u001b[1;33m,\u001b[0m \u001b[0margs\u001b[0m\u001b[1;33m,\u001b[0m \u001b[0mkwargs\u001b[0m\u001b[1;33m,\u001b[0m \u001b[0mcancellation_manager\u001b[0m\u001b[1;33m=\u001b[0m\u001b[1;32mNone\u001b[0m\u001b[1;33m)\u001b[0m\u001b[1;33m:\u001b[0m\u001b[1;33m\u001b[0m\u001b[1;33m\u001b[0m\u001b[0m\n",
      "\u001b[1;32m~\\Anaconda3\\envs\\tensorflow\\lib\\site-packages\\tensorflow_core\\python\\eager\\function.py\u001b[0m in \u001b[0;36m_call_impl\u001b[1;34m(self, args, kwargs, cancellation_manager)\u001b[0m\n\u001b[0;32m   1589\u001b[0m       raise TypeError(\"Keyword arguments {} unknown. Expected {}.\".format(\n\u001b[0;32m   1590\u001b[0m           list(kwargs.keys()), list(self._arg_keywords)))\n\u001b[1;32m-> 1591\u001b[1;33m     \u001b[1;32mreturn\u001b[0m \u001b[0mself\u001b[0m\u001b[1;33m.\u001b[0m\u001b[0m_call_flat\u001b[0m\u001b[1;33m(\u001b[0m\u001b[0margs\u001b[0m\u001b[1;33m,\u001b[0m \u001b[0mself\u001b[0m\u001b[1;33m.\u001b[0m\u001b[0mcaptured_inputs\u001b[0m\u001b[1;33m,\u001b[0m \u001b[0mcancellation_manager\u001b[0m\u001b[1;33m)\u001b[0m\u001b[1;33m\u001b[0m\u001b[1;33m\u001b[0m\u001b[0m\n\u001b[0m\u001b[0;32m   1592\u001b[0m \u001b[1;33m\u001b[0m\u001b[0m\n\u001b[0;32m   1593\u001b[0m   \u001b[1;32mdef\u001b[0m \u001b[0m_filtered_call\u001b[0m\u001b[1;33m(\u001b[0m\u001b[0mself\u001b[0m\u001b[1;33m,\u001b[0m \u001b[0margs\u001b[0m\u001b[1;33m,\u001b[0m \u001b[0mkwargs\u001b[0m\u001b[1;33m)\u001b[0m\u001b[1;33m:\u001b[0m\u001b[1;33m\u001b[0m\u001b[1;33m\u001b[0m\u001b[0m\n",
      "\u001b[1;32m~\\Anaconda3\\envs\\tensorflow\\lib\\site-packages\\tensorflow_core\\python\\eager\\function.py\u001b[0m in \u001b[0;36m_call_flat\u001b[1;34m(self, args, captured_inputs, cancellation_manager)\u001b[0m\n\u001b[0;32m   1690\u001b[0m       \u001b[1;31m# No tape is watching; skip to running the function.\u001b[0m\u001b[1;33m\u001b[0m\u001b[1;33m\u001b[0m\u001b[1;33m\u001b[0m\u001b[0m\n\u001b[0;32m   1691\u001b[0m       return self._build_call_outputs(self._inference_function.call(\n\u001b[1;32m-> 1692\u001b[1;33m           ctx, args, cancellation_manager=cancellation_manager))\n\u001b[0m\u001b[0;32m   1693\u001b[0m     forward_backward = self._select_forward_and_backward_functions(\n\u001b[0;32m   1694\u001b[0m         \u001b[0margs\u001b[0m\u001b[1;33m,\u001b[0m\u001b[1;33m\u001b[0m\u001b[1;33m\u001b[0m\u001b[0m\n",
      "\u001b[1;32m~\\Anaconda3\\envs\\tensorflow\\lib\\site-packages\\tensorflow_core\\python\\eager\\function.py\u001b[0m in \u001b[0;36mcall\u001b[1;34m(self, ctx, args, cancellation_manager)\u001b[0m\n\u001b[0;32m    543\u001b[0m               \u001b[0minputs\u001b[0m\u001b[1;33m=\u001b[0m\u001b[0margs\u001b[0m\u001b[1;33m,\u001b[0m\u001b[1;33m\u001b[0m\u001b[1;33m\u001b[0m\u001b[0m\n\u001b[0;32m    544\u001b[0m               \u001b[0mattrs\u001b[0m\u001b[1;33m=\u001b[0m\u001b[1;33m(\u001b[0m\u001b[1;34m\"executor_type\"\u001b[0m\u001b[1;33m,\u001b[0m \u001b[0mexecutor_type\u001b[0m\u001b[1;33m,\u001b[0m \u001b[1;34m\"config_proto\"\u001b[0m\u001b[1;33m,\u001b[0m \u001b[0mconfig\u001b[0m\u001b[1;33m)\u001b[0m\u001b[1;33m,\u001b[0m\u001b[1;33m\u001b[0m\u001b[1;33m\u001b[0m\u001b[0m\n\u001b[1;32m--> 545\u001b[1;33m               ctx=ctx)\n\u001b[0m\u001b[0;32m    546\u001b[0m         \u001b[1;32melse\u001b[0m\u001b[1;33m:\u001b[0m\u001b[1;33m\u001b[0m\u001b[1;33m\u001b[0m\u001b[0m\n\u001b[0;32m    547\u001b[0m           outputs = execute.execute_with_cancellation(\n",
      "\u001b[1;32m~\\Anaconda3\\envs\\tensorflow\\lib\\site-packages\\tensorflow_core\\python\\eager\\execute.py\u001b[0m in \u001b[0;36mquick_execute\u001b[1;34m(op_name, num_outputs, inputs, attrs, ctx, name)\u001b[0m\n\u001b[0;32m     59\u001b[0m     tensors = pywrap_tensorflow.TFE_Py_Execute(ctx._handle, device_name,\n\u001b[0;32m     60\u001b[0m                                                \u001b[0mop_name\u001b[0m\u001b[1;33m,\u001b[0m \u001b[0minputs\u001b[0m\u001b[1;33m,\u001b[0m \u001b[0mattrs\u001b[0m\u001b[1;33m,\u001b[0m\u001b[1;33m\u001b[0m\u001b[1;33m\u001b[0m\u001b[0m\n\u001b[1;32m---> 61\u001b[1;33m                                                num_outputs)\n\u001b[0m\u001b[0;32m     62\u001b[0m   \u001b[1;32mexcept\u001b[0m \u001b[0mcore\u001b[0m\u001b[1;33m.\u001b[0m\u001b[0m_NotOkStatusException\u001b[0m \u001b[1;32mas\u001b[0m \u001b[0me\u001b[0m\u001b[1;33m:\u001b[0m\u001b[1;33m\u001b[0m\u001b[1;33m\u001b[0m\u001b[0m\n\u001b[0;32m     63\u001b[0m     \u001b[1;32mif\u001b[0m \u001b[0mname\u001b[0m \u001b[1;32mis\u001b[0m \u001b[1;32mnot\u001b[0m \u001b[1;32mNone\u001b[0m\u001b[1;33m:\u001b[0m\u001b[1;33m\u001b[0m\u001b[1;33m\u001b[0m\u001b[0m\n",
      "\u001b[1;31mKeyboardInterrupt\u001b[0m: "
     ]
    }
   ],
   "source": [
    "history = model_1.fit(X_train, y_train, batch_size= 512, epochs=50, validation_data=(X_test, y_test) ,callbacks = callbacks, verbose=1)"
   ]
  },
  {
   "cell_type": "code",
   "execution_count": 407,
   "metadata": {},
   "outputs": [
    {
     "data": {
      "text/plain": [
       "{'code': 1,\n",
       " 'new': 2,\n",
       " 'string': 3,\n",
       " 'int': 4,\n",
       " 'using': 5,\n",
       " 'error': 6,\n",
       " 'like': 7,\n",
       " 'file': 8,\n",
       " 'want': 9,\n",
       " 'return': 10,\n",
       " 'public': 11,\n",
       " 'get': 12,\n",
       " 'im': 13,\n",
       " 'function': 14,\n",
       " 'use': 15,\n",
       " 'class': 16,\n",
       " 'data': 17,\n",
       " 'c': 18,\n",
       " 'value': 19,\n",
       " 'import': 20,\n",
       " 'name': 21,\n",
       " 'void': 22,\n",
       " 'x': 23,\n",
       " 'would': 24,\n",
       " 'array': 25,\n",
       " 'help': 26,\n",
       " 'one': 27,\n",
       " 'need': 28,\n",
       " 'var': 29,\n",
       " 'way': 30,\n",
       " 'list': 31,\n",
       " 'trying': 32,\n",
       " 'id': 33,\n",
       " 'print': 34,\n",
       " 'line': 35,\n",
       " 'number': 36,\n",
       " 'else': 37,\n",
       " 'know': 38,\n",
       " 'user': 39,\n",
       " 'app': 40,\n",
       " 'please': 41,\n",
       " 'null': 42,\n",
       " 'input': 43,\n",
       " 'type': 44,\n",
       " 'b': 45,\n",
       " 'set': 46,\n",
       " 'following': 47,\n",
       " 'object': 48,\n",
       " 'text': 49,\n",
       " 'true': 50,\n",
       " 'create': 51,\n",
       " 'make': 52,\n",
       " 'work': 53,\n",
       " 'time': 54,\n",
       " 'find': 55,\n",
       " 'run': 56,\n",
       " 'tried': 57,\n",
       " 'python': 58,\n",
       " 'method': 59,\n",
       " 'example': 60,\n",
       " 'n': 61,\n",
       " 'dont': 62,\n",
       " 'problem': 63,\n",
       " 'div': 64,\n",
       " 'private': 65,\n",
       " 'thanks': 66,\n",
       " 'i': 67,\n",
       " 'table': 68,\n",
       " 'first': 69,\n",
       " 'main': 70,\n",
       " 'image': 71,\n",
       " 'add': 72,\n",
       " 'output': 73,\n",
       " 'button': 74,\n",
       " 'test': 75,\n",
       " 'two': 76,\n",
       " 'result': 77,\n",
       " 'false': 78,\n",
       " 'values': 79,\n",
       " 'if': 80,\n",
       " 'working': 81,\n",
       " 'android': 82,\n",
       " 'ive': 83,\n",
       " 'e': 84,\n",
       " 'also': 85,\n",
       " 'view': 86,\n",
       " 'project': 87,\n",
       " 'try': 88,\n",
       " 'static': 89,\n",
       " 'cant': 90,\n",
       " 'something': 91,\n",
       " 'could': 92,\n",
       " 'php': 93,\n",
       " 'date': 94,\n",
       " 'case': 95,\n",
       " 'java': 96,\n",
       " 'end': 97,\n",
       " 'select': 98,\n",
       " 'application': 99,\n",
       " 'server': 100,\n",
       " 'page': 101,\n",
       " 'html': 102,\n",
       " 'enter': 103,\n",
       " 'version': 104,\n",
       " 'see': 105,\n",
       " 'include': 106,\n",
       " 'getting': 107,\n",
       " 'found': 108,\n",
       " 'files': 109,\n",
       " 'change': 110,\n",
       " 'program': 111,\n",
       " 'question': 112,\n",
       " 'variable': 113,\n",
       " 'script': 114,\n",
       " 'doesnt': 115,\n",
       " 'let': 116,\n",
       " 'database': 117,\n",
       " 'form': 118,\n",
       " 'key': 119,\n",
       " 'const': 120,\n",
       " 'used': 121,\n",
       " 'url': 122,\n",
       " 'call': 123,\n",
       " 'different': 124,\n",
       " 'without': 125,\n",
       " 'column': 126,\n",
       " 'works': 127,\n",
       " 'systemoutprintln': 128,\n",
       " 'override': 129,\n",
       " 'build': 130,\n",
       " 'another': 131,\n",
       " 'show': 132,\n",
       " 'char': 133,\n",
       " 'possible': 134,\n",
       " 'however': 135,\n",
       " 'message': 136,\n",
       " 'javascript': 137,\n",
       " 'query': 138,\n",
       " 'cannot': 139,\n",
       " 'write': 140,\n",
       " 'check': 141,\n",
       " 'r': 142,\n",
       " 'command': 143,\n",
       " 'echo': 144,\n",
       " 'f': 145,\n",
       " 'loop': 146,\n",
       " 'start': 147,\n",
       " 'read': 148,\n",
       " 'json': 149,\n",
       " 'running': 150,\n",
       " 'api': 151,\n",
       " 'sql': 152,\n",
       " 'a': 153,\n",
       " 'wrong': 154,\n",
       " 'p': 155,\n",
       " 'row': 156,\n",
       " 'anyone': 157,\n",
       " 'default': 158,\n",
       " 'right': 159,\n",
       " 'size': 160,\n",
       " 'px': 161,\n",
       " 'double': 162,\n",
       " 'request': 163,\n",
       " 'def': 164,\n",
       " 'click': 165,\n",
       " 'printf': 166,\n",
       " 'able': 167,\n",
       " 'item': 168,\n",
       " 'display': 169,\n",
       " 'component': 170,\n",
       " 'simple': 171,\n",
       " 'convert': 172,\n",
       " 'understand': 173,\n",
       " 'access': 174,\n",
       " 'inside': 175,\n",
       " 'count': 176,\n",
       " 'j': 177,\n",
       " 'exception': 178,\n",
       " 'open': 179,\n",
       " 'v': 180,\n",
       " 'path': 181,\n",
       " 'issue': 182,\n",
       " 'studio': 183,\n",
       " 'element': 184,\n",
       " 'multiple': 185,\n",
       " 'go': 186,\n",
       " 'password': 187,\n",
       " 'for': 188,\n",
       " 'created': 189,\n",
       " 'even': 190,\n",
       " 'update': 191,\n",
       " 'index': 192,\n",
       " 'node': 193,\n",
       " 'email': 194,\n",
       " 'install': 195,\n",
       " 'numbers': 196,\n",
       " 'link': 197,\n",
       " 'module': 198,\n",
       " 'every': 199,\n",
       " 'failed': 200,\n",
       " 'solution': 201,\n",
       " 'response': 202,\n",
       " 'order': 203,\n",
       " 'seems': 204,\n",
       " 'still': 205,\n",
       " 'format': 206,\n",
       " 'cout': 207,\n",
       " 'second': 208,\n",
       " 'thank': 209,\n",
       " 'got': 210,\n",
       " 'web': 211,\n",
       " 'angular': 212,\n",
       " 'break': 213,\n",
       " 'last': 214,\n",
       " 'instead': 215,\n",
       " 'react': 216,\n",
       " 'sure': 217,\n",
       " 'google': 218,\n",
       " 'someone': 219,\n",
       " 'consolelog': 220,\n",
       " 'many': 221,\n",
       " 'long': 222,\n",
       " 'context': 223,\n",
       " 'fine': 224,\n",
       " 'answer': 225,\n",
       " 'color': 226,\n",
       " 'l': 227,\n",
       " 'option': 228,\n",
       " 'advance': 229,\n",
       " 'already': 230,\n",
       " 'service': 231,\n",
       " 'insert': 232,\n",
       " 'current': 233,\n",
       " 'next': 234,\n",
       " 'remove': 235,\n",
       " 'source': 236,\n",
       " 'position': 237,\n",
       " 'title': 238,\n",
       " 'description': 239,\n",
       " 'state': 240,\n",
       " 'package': 241,\n",
       " 'correct': 242,\n",
       " 'final': 243,\n",
       " 'post': 244,\n",
       " 'part': 245,\n",
       " 'content': 246,\n",
       " 'word': 247,\n",
       " 'library': 248,\n",
       " 'called': 249,\n",
       " 'given': 250,\n",
       " 'system': 251,\n",
       " 'range': 252,\n",
       " 'info': 253,\n",
       " 'map': 254,\n",
       " 'css': 255,\n",
       " 'put': 256,\n",
       " 'store': 257,\n",
       " 'width': 258,\n",
       " 'search': 259,\n",
       " 'specific': 260,\n",
       " 'pass': 261,\n",
       " 'returns': 262,\n",
       " 'windows': 263,\n",
       " 'field': 264,\n",
       " 'sum': 265,\n",
       " 'this': 266,\n",
       " 'str': 267,\n",
       " 'idea': 268,\n",
       " 'users': 269,\n",
       " 'really': 270,\n",
       " 'must': 271,\n",
       " 'statement': 272,\n",
       " 'information': 273,\n",
       " 'k': 274,\n",
       " 'website': 275,\n",
       " 'results': 276,\n",
       " 'model': 277,\n",
       " 'fix': 278,\n",
       " 'body': 279,\n",
       " 'based': 280,\n",
       " 'difference': 281,\n",
       " 'point': 282,\n",
       " 'args': 283,\n",
       " 'done': 284,\n",
       " 'directory': 285,\n",
       " 'extends': 286,\n",
       " 'height': 287,\n",
       " 'struct': 288,\n",
       " 'looks': 289,\n",
       " 'compile': 290,\n",
       " 'integer': 291,\n",
       " 'expected': 292,\n",
       " 'errors': 293,\n",
       " 'catch': 294,\n",
       " 'username': 295,\n",
       " 'single': 296,\n",
       " 'folder': 297,\n",
       " 'float': 298,\n",
       " 's': 299,\n",
       " 'best': 300,\n",
       " 'property': 301,\n",
       " 'docker': 302,\n",
       " 'delete': 303,\n",
       " 'send': 304,\n",
       " 'event': 305,\n",
       " 'load': 306,\n",
       " 'elements': 307,\n",
       " 'variables': 308,\n",
       " 'give': 309,\n",
       " 'creating': 310,\n",
       " 'h': 311,\n",
       " 'left': 312,\n",
       " 'since': 313,\n",
       " 'hello': 314,\n",
       " 'appreciated': 315,\n",
       " 'currently': 316,\n",
       " 'g': 317,\n",
       " 'length': 318,\n",
       " 'activity': 319,\n",
       " 'contains': 320,\n",
       " 'random': 321,\n",
       " 'say': 322,\n",
       " 'client': 323,\n",
       " 'much': 324,\n",
       " 'login': 325,\n",
       " 'instance': 326,\n",
       " 'syntax': 327,\n",
       " 'functions': 328,\n",
       " 'none': 329,\n",
       " 'objects': 330,\n",
       " 'looking': 331,\n",
       " 'func': 332,\n",
       " 'think': 333,\n",
       " 'container': 334,\n",
       " 'status': 335,\n",
       " 'well': 336,\n",
       " 'process': 337,\n",
       " 'export': 338,\n",
       " 'template': 339,\n",
       " 'columns': 340,\n",
       " 'total': 341,\n",
       " 'val': 342,\n",
       " 'mysql': 343,\n",
       " 'location': 344,\n",
       " 'rows': 345,\n",
       " 'always': 346,\n",
       " 'seem': 347,\n",
       " 'figure': 348,\n",
       " 'address': 349,\n",
       " 'missing': 350,\n",
       " 'back': 351,\n",
       " 'npm': 352,\n",
       " 'js': 353,\n",
       " 'db': 354,\n",
       " 'self': 355,\n",
       " 'err': 356,\n",
       " 'console': 357,\n",
       " 'empty': 358,\n",
       " 'etc': 359,\n",
       " 'reference': 360,\n",
       " 'good': 361,\n",
       " 'boolean': 362,\n",
       " 'num': 363,\n",
       " 'task': 364,\n",
       " 'header': 365,\n",
       " 'connection': 366,\n",
       " 'custom': 367,\n",
       " 'constructor': 368,\n",
       " 'screen': 369,\n",
       " 'visual': 370,\n",
       " 'ios': 371,\n",
       " 'bar': 372,\n",
       " 'intent': 373,\n",
       " 'jquery': 374,\n",
       " 'foo': 375,\n",
       " 'take': 376,\n",
       " 'may': 377,\n",
       " 'within': 378,\n",
       " 'label': 379,\n",
       " 'save': 380,\n",
       " 'whats': 381,\n",
       " 'mean': 382,\n",
       " 'required': 383,\n",
       " 'td': 384,\n",
       " 'textview': 385,\n",
       " 'replace': 386,\n",
       " 'require': 387,\n",
       " 'swift': 388,\n",
       " 'anything': 389,\n",
       " 'lines': 390,\n",
       " 'look': 391,\n",
       " 'log': 392,\n",
       " 'shows': 393,\n",
       " 'items': 394,\n",
       " 'options': 395,\n",
       " 'core': 396,\n",
       " 'warning': 397,\n",
       " 'findviewbyid': 398,\n",
       " 'installed': 399,\n",
       " 'solve': 400,\n",
       " 'via': 401,\n",
       " 'tag': 402,\n",
       " 'top': 403,\n",
       " 'added': 404,\n",
       " 'endl': 405,\n",
       " 'background': 406,\n",
       " 'tell': 407,\n",
       " 'nothing': 408,\n",
       " 'native': 409,\n",
       " 'git': 410,\n",
       " 'match': 411,\n",
       " 'group': 412,\n",
       " 'action': 413,\n",
       " 'gives': 414,\n",
       " 'copy': 415,\n",
       " 'parameter': 416,\n",
       " 'methods': 417,\n",
       " 'define': 418,\n",
       " 'memory': 419,\n",
       " 'root': 420,\n",
       " 'keep': 421,\n",
       " 'http': 422,\n",
       " 'far': 423,\n",
       " 'ie': 424,\n",
       " 'vs': 425,\n",
       " 'defined': 426,\n",
       " 'images': 427,\n",
       " 'lot': 428,\n",
       " 'everything': 429,\n",
       " 'child': 430,\n",
       " 'better': 431,\n",
       " 'eg': 432,\n",
       " 'thing': 433,\n",
       " 'names': 434,\n",
       " 'bit': 435,\n",
       " 'character': 436,\n",
       " 'local': 437,\n",
       " 'times': 438,\n",
       " 'implement': 439,\n",
       " 'unable': 440,\n",
       " 'token': 441,\n",
       " 'explain': 442,\n",
       " 'regex': 443,\n",
       " 'documentation': 444,\n",
       " 'window': 445,\n",
       " 'similar': 446,\n",
       " 'execute': 447,\n",
       " 'parent': 448,\n",
       " 'going': 449,\n",
       " 'didnt': 450,\n",
       " 'strings': 451,\n",
       " 'net': 452,\n",
       " 'head': 453,\n",
       " 'invalid': 454,\n",
       " 'implementation': 455,\n",
       " 'connect': 456,\n",
       " 'made': 457,\n",
       " 'namespace': 458,\n",
       " 'sort': 459,\n",
       " 'd': 460,\n",
       " 'note': 461,\n",
       " 'undefined': 462,\n",
       " 'protected': 463,\n",
       " 'reason': 464,\n",
       " 'arraylist': 465,\n",
       " 'thread': 466,\n",
       " 'switch': 467,\n",
       " 'configuration': 468,\n",
       " 'words': 469,\n",
       " 'stack': 470,\n",
       " 'interface': 471,\n",
       " 'changes': 472,\n",
       " 'adding': 473,\n",
       " 'day': 474,\n",
       " 'classes': 475,\n",
       " 'browser': 476,\n",
       " 'block': 477,\n",
       " 'menu': 478,\n",
       " 'bool': 479,\n",
       " 'join': 480,\n",
       " 'savedinstancestate': 481,\n",
       " 'says': 482,\n",
       " 'vector': 483,\n",
       " 'dataframe': 484,\n",
       " 'expression': 485,\n",
       " 'bundle': 486,\n",
       " 'available': 487,\n",
       " 'game': 488,\n",
       " 'either': 489,\n",
       " 'style': 490,\n",
       " 'debug': 491,\n",
       " 'operator': 492,\n",
       " 'achieve': 493,\n",
       " 'device': 494,\n",
       " 'structure': 495,\n",
       " 'w': 496,\n",
       " 'heres': 497,\n",
       " 'year': 498,\n",
       " 'characters': 499,\n",
       " 'making': 500,\n",
       " 'box': 501,\n",
       " 'site': 502,\n",
       " 'actually': 503,\n",
       " 'isnt': 504,\n",
       " 'ok': 505,\n",
       " 'base': 506,\n",
       " 'started': 507,\n",
       " 'generate': 508,\n",
       " 'pointer': 509,\n",
       " 'around': 510,\n",
       " 'controller': 511,\n",
       " 'price': 512,\n",
       " 'types': 513,\n",
       " 'valid': 514,\n",
       " 'xml': 515,\n",
       " 'fields': 516,\n",
       " 'max': 517,\n",
       " 'argument': 518,\n",
       " 'temp': 519,\n",
       " 'chrome': 520,\n",
       " 'things': 521,\n",
       " 'plugin': 522,\n",
       " 'tostring': 523,\n",
       " 'resolve': 524,\n",
       " 'target': 525,\n",
       " 'product': 526,\n",
       " 'exit': 527,\n",
       " 'scanner': 528,\n",
       " 'questions': 529,\n",
       " 'language': 530,\n",
       " 'parameters': 531,\n",
       " 'three': 532,\n",
       " 'exist': 533,\n",
       " 'y': 534,\n",
       " 'step': 535,\n",
       " 'dependency': 536,\n",
       " 't': 537,\n",
       " 'li': 538,\n",
       " 'z': 539,\n",
       " 'xcode': 540,\n",
       " 'filename': 541,\n",
       " 'u': 542,\n",
       " 'gets': 543,\n",
       " 'amount': 544,\n",
       " 'dependencies': 545,\n",
       " 'split': 546,\n",
       " 'firebase': 547,\n",
       " 'setting': 548,\n",
       " 'environment': 549,\n",
       " 'document': 550,\n",
       " 'cell': 551,\n",
       " 'filter': 552,\n",
       " 'showing': 553,\n",
       " 'tr': 554,\n",
       " 'foreach': 555,\n",
       " 'correctly': 556,\n",
       " 'age': 557,\n",
       " 'excel': 558,\n",
       " 'q': 559,\n",
       " 'writing': 560,\n",
       " 'typescript': 561,\n",
       " 'alert': 562,\n",
       " 'condition': 563,\n",
       " 'space': 564,\n",
       " 'month': 565,\n",
       " 'uses': 566,\n",
       " 'full': 567,\n",
       " 'lets': 568,\n",
       " 'support': 569,\n",
       " 'while': 570,\n",
       " 'move': 571,\n",
       " 'account': 572,\n",
       " 'programming': 573,\n",
       " 'yes': 574,\n",
       " 'handle': 575,\n",
       " 'the': 576,\n",
       " 'config': 577,\n",
       " 'learning': 578,\n",
       " 'basic': 579,\n",
       " 'selected': 580,\n",
       " 'dictionary': 581,\n",
       " 'consolewriteline': 582,\n",
       " 'written': 583,\n",
       " 'init': 584,\n",
       " 'takes': 585,\n",
       " 'changed': 586,\n",
       " 'reading': 587,\n",
       " 'wondering': 588,\n",
       " 'details': 589,\n",
       " 'apply': 590,\n",
       " 'framework': 591,\n",
       " 'starting': 592,\n",
       " 'render': 593,\n",
       " 'sample': 594,\n",
       " 'global': 595,\n",
       " 'properties': 596,\n",
       " 'arrays': 597,\n",
       " 'df': 598,\n",
       " 'frame': 599,\n",
       " 'thats': 600,\n",
       " 'level': 601,\n",
       " 'throws': 602,\n",
       " 'spring': 603,\n",
       " 'place': 604,\n",
       " 'might': 605,\n",
       " 'section': 606,\n",
       " 'calling': 607,\n",
       " 'varchar': 608,\n",
       " 'tests': 609,\n",
       " 'player': 610,\n",
       " 'sub': 611,\n",
       " 'aws': 612,\n",
       " 'side': 613,\n",
       " 'push': 614,\n",
       " 'csv': 615,\n",
       " 'auto': 616,\n",
       " 'kind': 617,\n",
       " 'attribute': 618,\n",
       " 'fragment': 619,\n",
       " 'port': 620,\n",
       " 'maybe': 621,\n",
       " 'provide': 622,\n",
       " 'setup': 623,\n",
       " 'building': 624,\n",
       " 'linux': 625,\n",
       " 'layout': 626,\n",
       " 'certain': 627,\n",
       " 'contain': 628,\n",
       " 'host': 629,\n",
       " 'success': 630,\n",
       " 'len': 631,\n",
       " 'download': 632,\n",
       " 'days': 633,\n",
       " 'aspnet': 634,\n",
       " 'pattern': 635,\n",
       " 'close': 636,\n",
       " 'unknown': 637,\n",
       " 'stored': 638,\n",
       " 'ideas': 639,\n",
       " 'video': 640,\n",
       " 'nil': 641,\n",
       " 'though': 642,\n",
       " 'needs': 643,\n",
       " 'automatically': 644,\n",
       " 'fetch': 645,\n",
       " 'points': 646,\n",
       " 'named': 647,\n",
       " 'seconds': 648,\n",
       " 'properly': 649,\n",
       " 'activitythreadjava': 650,\n",
       " 'sender': 651,\n",
       " 'entry': 652,\n",
       " 'in': 653,\n",
       " 'edittext': 654,\n",
       " 'exactly': 655,\n",
       " 'tables': 656,\n",
       " 'whole': 657,\n",
       " 'phone': 658,\n",
       " 'machine': 659,\n",
       " 'exists': 660,\n",
       " 'checked': 661,\n",
       " 'documentgetelementbyid': 662,\n",
       " 'parse': 663,\n",
       " 'means': 664,\n",
       " 'route': 665,\n",
       " 'testing': 666,\n",
       " 'compiler': 667,\n",
       " 'per': 668,\n",
       " 'person': 669,\n",
       " 'approach': 670,\n",
       " 'score': 671,\n",
       " 'components': 672,\n",
       " 'rest': 673,\n",
       " 'play': 674,\n",
       " 'mode': 675,\n",
       " 'onclick': 676,\n",
       " 'student': 677,\n",
       " 'couldnt': 678,\n",
       " 'allow': 679,\n",
       " 'hi': 680,\n",
       " 'arr': 681,\n",
       " 'datetime': 682,\n",
       " 'basically': 683,\n",
       " 'services': 684,\n",
       " 'async': 685,\n",
       " 'counter': 686,\n",
       " 'center': 687,\n",
       " 'successfully': 688,\n",
       " 'wont': 689,\n",
       " 'whether': 690,\n",
       " 'control': 691,\n",
       " 'flutter': 692,\n",
       " 'red': 693,\n",
       " 'extract': 694,\n",
       " 'ip': 695,\n",
       " 'standard': 696,\n",
       " 'stop': 697,\n",
       " 'nested': 698,\n",
       " 'calculate': 699,\n",
       " 'col': 700,\n",
       " 'runs': 701,\n",
       " 'br': 702,\n",
       " 'clear': 703,\n",
       " 'network': 704,\n",
       " 'generated': 705,\n",
       " 'wanted': 706,\n",
       " 'os': 707,\n",
       " 'keys': 708,\n",
       " 'compare': 709,\n",
       " 'sizeof': 710,\n",
       " 'headers': 711,\n",
       " 'webpack': 712,\n",
       " 'simply': 713,\n",
       " 'development': 714,\n",
       " 'several': 715,\n",
       " 'pandas': 716,\n",
       " 'previous': 717,\n",
       " 'span': 718,\n",
       " 'old': 719,\n",
       " 'updated': 720,\n",
       " 'loading': 721,\n",
       " 'thought': 722,\n",
       " 'never': 723,\n",
       " 'matrix': 724,\n",
       " 'abc': 725,\n",
       " 'settings': 726,\n",
       " 'session': 727,\n",
       " 'ask': 728,\n",
       " 'complete': 729,\n",
       " 'separate': 730,\n",
       " 'elif': 731,\n",
       " 'img': 732,\n",
       " 'follows': 733,\n",
       " 'packages': 734,\n",
       " 'apps': 735,\n",
       " 'userid': 736,\n",
       " 'dynamic': 737,\n",
       " 'expect': 738,\n",
       " 'shown': 739,\n",
       " 'res': 740,\n",
       " 'changing': 741,\n",
       " 'makes': 742,\n",
       " 'std': 743,\n",
       " 'begin': 744,\n",
       " 'laravel': 745,\n",
       " 'nodejs': 746,\n",
       " 'record': 747,\n",
       " 'arguments': 748,\n",
       " 'extension': 749,\n",
       " 'icon': 750,\n",
       " 'min': 751,\n",
       " 'loaded': 752,\n",
       " 'ms': 753,\n",
       " 'home': 754,\n",
       " 'yet': 755,\n",
       " 'tab': 756,\n",
       " 'particular': 757,\n",
       " 'operation': 758,\n",
       " 'learn': 759,\n",
       " 'virtual': 760,\n",
       " 'world': 761,\n",
       " 'letter': 762,\n",
       " 'small': 763,\n",
       " 'seen': 764,\n",
       " 'active': 765,\n",
       " 'mobile': 766,\n",
       " 'bottom': 767,\n",
       " 'problems': 768,\n",
       " 'resource': 769,\n",
       " 'requests': 770,\n",
       " 'feature': 771,\n",
       " 'upload': 772,\n",
       " 'little': 773,\n",
       " 'edit': 774,\n",
       " 'bootstrap': 775,\n",
       " 'byte': 776,\n",
       " 'buttons': 777,\n",
       " 'people': 778,\n",
       " 'oncreate': 779,\n",
       " 'come': 780,\n",
       " 'present': 781,\n",
       " 'ajax': 782,\n",
       " 'guess': 783,\n",
       " 'grid': 784,\n",
       " 'except': 785,\n",
       " 'stream': 786,\n",
       " 'lambda': 787,\n",
       " 'existing': 788,\n",
       " 'related': 789,\n",
       " 'book': 790,\n",
       " 'unique': 791,\n",
       " 'kotlin': 792,\n",
       " 'stuck': 793,\n",
       " 'equal': 794,\n",
       " 'remote': 795,\n",
       " 'category': 796,\n",
       " 'sorry': 797,\n",
       " 'worked': 798,\n",
       " 'fails': 799,\n",
       " 'directly': 800,\n",
       " 'examples': 801,\n",
       " 'super': 802,\n",
       " 'original': 803,\n",
       " 'easy': 804,\n",
       " 'online': 805,\n",
       " 'calls': 806,\n",
       " 'ul': 807,\n",
       " 'lists': 808,\n",
       " 'scanf': 809,\n",
       " 'ubuntu': 810,\n",
       " 'job': 811,\n",
       " 'giving': 812,\n",
       " 'hours': 813,\n",
       " 'returned': 814,\n",
       " 'theres': 815,\n",
       " 'throw': 816,\n",
       " 'dim': 817,\n",
       " 'happens': 818,\n",
       " 'records': 819,\n",
       " 'declare': 820,\n",
       " 'bad': 821,\n",
       " 'ui': 822,\n",
       " 'manually': 823,\n",
       " 'appears': 824,\n",
       " 'firstname': 825,\n",
       " 'logic': 826,\n",
       " 'according': 827,\n",
       " 'stuff': 828,\n",
       " 'submit': 829,\n",
       " 'symbol': 830,\n",
       " 'unexpected': 831,\n",
       " 'unit': 832,\n",
       " 'binary': 833,\n",
       " 'normal': 834,\n",
       " 'na': 835,\n",
       " 'release': 836,\n",
       " 'es': 837,\n",
       " 'disable': 838,\n",
       " 'continue': 839,\n",
       " 'needed': 840,\n",
       " 'font': 841,\n",
       " 'actual': 842,\n",
       " 'member': 843,\n",
       " 'appear': 844,\n",
       " 'regular': 845,\n",
       " 'decimal': 846,\n",
       " 'understanding': 847,\n",
       " 'duplicate': 848,\n",
       " 'issues': 849,\n",
       " 'large': 850,\n",
       " 'specified': 851,\n",
       " 'gradle': 852,\n",
       " 'github': 853,\n",
       " 'obj': 854,\n",
       " 'answers': 855,\n",
       " 'ex': 856,\n",
       " 'docs': 857,\n",
       " 'txt': 858,\n",
       " 'passed': 859,\n",
       " 'computer': 860,\n",
       " 'assign': 861,\n",
       " 'due': 862,\n",
       " 'prints': 863,\n",
       " 'goes': 864,\n",
       " 'white': 865,\n",
       " 'tutorial': 866,\n",
       " 'repository': 867,\n",
       " 'comes': 868,\n",
       " 'quite': 869,\n",
       " 'admin': 870,\n",
       " 'codes': 871,\n",
       " 'merge': 872,\n",
       " 'external': 873,\n",
       " 'django': 874,\n",
       " 'await': 875,\n",
       " 'primary': 876,\n",
       " 'sheet': 877,\n",
       " 'listview': 878,\n",
       " 'less': 879,\n",
       " 'coding': 880,\n",
       " 'it': 881,\n",
       " 'ruby': 882,\n",
       " 'course': 883,\n",
       " 'picture': 884,\n",
       " 'returning': 885,\n",
       " 'lastname': 886,\n",
       " 'messages': 887,\n",
       " 'guys': 888,\n",
       " 'pretty': 889,\n",
       " 'th': 890,\n",
       " 'padding': 891,\n",
       " 'choice': 892,\n",
       " 'links': 893,\n",
       " 'perform': 894,\n",
       " 'appreciate': 895,\n",
       " 'great': 896,\n",
       " 'hash': 897,\n",
       " 'free': 898,\n",
       " 'commands': 899,\n",
       " 'trouble': 900,\n",
       " 'projects': 901,\n",
       " 'behavior': 902,\n",
       " 'latest': 903,\n",
       " 'average': 904,\n",
       " 'navigation': 905,\n",
       " 'avoid': 906,\n",
       " 'mac': 907,\n",
       " 'algorithm': 908,\n",
       " 'passing': 909,\n",
       " 'limit': 910,\n",
       " 'real': 911,\n",
       " 'branch': 912,\n",
       " 'sequence': 913,\n",
       " 'unsigned': 914,\n",
       " 'clicked': 915,\n",
       " 'hide': 916,\n",
       " 'suggest': 917,\n",
       " 'retrieve': 918,\n",
       " 'props': 919,\n",
       " 'modules': 920,\n",
       " 'confused': 921,\n",
       " 'notification': 922,\n",
       " 'sdk': 923,\n",
       " 'internet': 924,\n",
       " 'numpy': 925,\n",
       " 'choose': 926,\n",
       " 'outside': 927,\n",
       " 'big': 928,\n",
       " 'pages': 929,\n",
       " 'redirect': 930,\n",
       " 'suggestions': 931,\n",
       " 'recent': 932,\n",
       " 'press': 933,\n",
       " 'runtime': 934,\n",
       " 'typeerror': 935,\n",
       " 'hope': 936,\n",
       " 'recently': 937,\n",
       " 'design': 938,\n",
       " 'cin': 939,\n",
       " 'ch': 940,\n",
       " 'or': 941,\n",
       " 'widget': 942,\n",
       " 'ts': 943,\n",
       " 'versions': 944,\n",
       " 'card': 945,\n",
       " 'entered': 946,\n",
       " 'employee': 947,\n",
       " 'collection': 948,\n",
       " 'inputs': 949,\n",
       " 'authentication': 950,\n",
       " 'append': 951,\n",
       " 'beginner': 952,\n",
       " 'bytes': 953,\n",
       " 'de': 954,\n",
       " 'wrote': 955,\n",
       " 'least': 956,\n",
       " 'performance': 957,\n",
       " 'across': 958,\n",
       " 'stdcout': 959,\n",
       " 'ways': 960,\n",
       " 'callback': 961,\n",
       " 'containing': 962,\n",
       " 'inner': 963,\n",
       " 'area': 964,\n",
       " 'receive': 965,\n",
       " 'cache': 966,\n",
       " 'requires': 967,\n",
       " 'attempt': 968,\n",
       " 'rather': 969,\n",
       " 'children': 970,\n",
       " 'bash': 971,\n",
       " 'execution': 972,\n",
       " 'tree': 973,\n",
       " 'assignment': 974,\n",
       " 'localhost': 975,\n",
       " 'solutions': 976,\n",
       " 'supposed': 977,\n",
       " 'fun': 978,\n",
       " 'happening': 979,\n",
       " 'definition': 980,\n",
       " 'letters': 981,\n",
       " 'cloud': 982,\n",
       " 'imageview': 983,\n",
       " 'common': 984,\n",
       " 'provided': 985,\n",
       " 'dev': 986,\n",
       " 'tools': 987,\n",
       " 'displayed': 988,\n",
       " 'country': 989,\n",
       " 'scroll': 990,\n",
       " 'ab': 991,\n",
       " 'modify': 992,\n",
       " 'which': 993,\n",
       " 'adapter': 994,\n",
       " 'flag': 995,\n",
       " 'pip': 996,\n",
       " 'us': 997,\n",
       " 'not': 998,\n",
       " 'searching': 999,\n",
       " 'm': 1000,\n",
       " ...}"
      ]
     },
     "execution_count": 407,
     "metadata": {},
     "output_type": "execute_result"
    }
   ],
   "source": [
    "tokenizer.word_index"
   ]
  },
  {
   "cell_type": "code",
   "execution_count": 625,
   "metadata": {},
   "outputs": [
    {
     "name": "stdout",
     "output_type": "stream",
     "text": [
      "Converted 6926 words (3073 misses)\n"
     ]
    }
   ],
   "source": [
    "num_tokens = len(voc) + 2\n",
    "embedding_dim = 200\n",
    "hits = 0\n",
    "misses = 0\n",
    "\n",
    "# Prepare embedding matrix\n",
    "embedding_matrix = np.zeros((num_tokens, embedding_dim))\n",
    "for word, i in word_index.items():\n",
    "    embedding_vector = embeddings_index.get(word)\n",
    "    if embedding_vector is not None:\n",
    "        # Words not found in embedding index will be all-zeros.\n",
    "        # This includes the representation for \"padding\" and \"OOV\"\n",
    "        embedding_matrix[i] = embedding_vector\n",
    "        hits += 1\n",
    "    else:\n",
    "        misses += 1\n",
    "print(\"Converted %d words (%d misses)\" % (hits, misses))"
   ]
  },
  {
   "cell_type": "markdown",
   "metadata": {},
   "source": [
    "Attempt at using glove 6B 200 embeddings, and use those for training. Main problem resides in the fact that the vocabulary for the embeddings does not correspond well with the dataset being used. Probably because Stack Overflow questions include very technical language."
   ]
  },
  {
   "cell_type": "code",
   "execution_count": 512,
   "metadata": {},
   "outputs": [
    {
     "data": {
      "text/plain": [
       "array([[ 0.19618   ,  0.54193002,  0.44931   , ...,  0.56757998,\n",
       "         0.24089   , -0.033112  ],\n",
       "       [-0.013127  ,  0.082789  , -0.02023   , ...,  0.21653   ,\n",
       "         0.0048408 ,  0.55470002],\n",
       "       [-0.13451999,  0.42318001, -0.20051999, ..., -0.0091233 ,\n",
       "         0.31496999,  0.47435999],\n",
       "       ...,\n",
       "       [ 0.        ,  0.        ,  0.        , ...,  0.        ,\n",
       "         0.        ,  0.        ],\n",
       "       [ 0.        ,  0.        ,  0.        , ...,  0.        ,\n",
       "         0.        ,  0.        ],\n",
       "       [ 0.        ,  0.        ,  0.        , ...,  0.        ,\n",
       "         0.        ,  0.        ]])"
      ]
     },
     "execution_count": 512,
     "metadata": {},
     "output_type": "execute_result"
    }
   ],
   "source": [
    "embedding_matrix"
   ]
  },
  {
   "cell_type": "code",
   "execution_count": 600,
   "metadata": {},
   "outputs": [],
   "source": [
    "from tensorflow.keras.layers import Embedding\n",
    "\n",
    "embedding_layer = Embedding(\n",
    "    num_tokens,\n",
    "    embedding_dim,\n",
    "    embeddings_initializer=keras.initializers.Constant(embedding_matrix),\n",
    "    trainable=False, input_length = 200)"
   ]
  },
  {
   "cell_type": "code",
   "execution_count": 601,
   "metadata": {},
   "outputs": [],
   "source": [
    "from tensorflow.keras import layers\n"
   ]
  },
  {
   "cell_type": "code",
   "execution_count": 602,
   "metadata": {
    "scrolled": true
   },
   "outputs": [
    {
     "name": "stdout",
     "output_type": "stream",
     "text": [
      "Model: \"model_5\"\n",
      "_________________________________________________________________\n",
      "Layer (type)                 Output Shape              Param #   \n",
      "=================================================================\n",
      "input_10 (InputLayer)        [(None, None)]            0         \n",
      "_________________________________________________________________\n",
      "embedding_5 (Embedding)      (None, None, 200)         10000200  \n",
      "_________________________________________________________________\n",
      "lstm_7 (LSTM)                (None, 100)               120400    \n",
      "_________________________________________________________________\n",
      "dense_13 (Dense)             (None, 256)               25856     \n",
      "_________________________________________________________________\n",
      "dropout_8 (Dropout)          (None, 256)               0         \n",
      "_________________________________________________________________\n",
      "dense_14 (Dense)             (None, 3)                 771       \n",
      "=================================================================\n",
      "Total params: 10,147,227\n",
      "Trainable params: 147,027\n",
      "Non-trainable params: 10,000,200\n",
      "_________________________________________________________________\n"
     ]
    }
   ],
   "source": [
    "int_sequences_input = keras.Input(shape=(None,), dtype=\"int64\")\n",
    "embedded_sequences = embedding_layer(int_sequences_input)\n",
    "x = layers.SpatialDropout1D(0.3)(embedded_sequences)\n",
    "x = layers.LSTM(100, recurrent_dropout= 0.25, dropout = 0.25)(embedded_sequences)\n",
    "x = layers.Dense(256, activation = 'relu')(x)\n",
    "x = layers.Dropout(0.5)(x)\n",
    "preds = layers.Dense(3, activation=\"softmax\")(x)\n",
    "model = keras.Model(int_sequences_input, preds)\n",
    "\n",
    "model.summary()"
   ]
  },
  {
   "cell_type": "code",
   "execution_count": 603,
   "metadata": {},
   "outputs": [
    {
     "data": {
      "text/plain": [
       "array([0, 2, 1, ..., 1, 1, 2])"
      ]
     },
     "execution_count": 603,
     "metadata": {},
     "output_type": "execute_result"
    }
   ],
   "source": [
    "y_train"
   ]
  },
  {
   "cell_type": "code",
   "execution_count": 604,
   "metadata": {},
   "outputs": [
    {
     "data": {
      "text/plain": [
       "array([[ 95,  23,  40, ...,   0,   0,   0],\n",
       "       [ 14,   4, 328, ...,   0,   0,   0],\n",
       "       [ 14,  34,  54, ...,   0,   0,   0],\n",
       "       ...,\n",
       "       [ 14,   4, 331, ...,   0,   0,   0],\n",
       "       [824,  16, 407, ...,   0,   0,   0],\n",
       "       [515,   4, 329, ...,   0,   0,   0]], dtype=int64)"
      ]
     },
     "execution_count": 604,
     "metadata": {},
     "output_type": "execute_result"
    }
   ],
   "source": [
    "x_train"
   ]
  },
  {
   "cell_type": "code",
   "execution_count": 605,
   "metadata": {},
   "outputs": [],
   "source": [
    "Adam=tf.keras.optimizers.Adam(learning_rate=0.01)"
   ]
  },
  {
   "cell_type": "code",
   "execution_count": 608,
   "metadata": {},
   "outputs": [
    {
     "name": "stdout",
     "output_type": "stream",
     "text": [
      "Train on 54000 samples, validate on 6000 samples\n",
      "Epoch 1/100\n",
      "54000/54000 [==============================] - 12s 226us/sample - loss: 1.0944 - accuracy: 0.3486 - val_loss: 1.0929 - val_accuracy: 0.3555\n",
      "Epoch 2/100\n",
      "54000/54000 [==============================] - 10s 192us/sample - loss: 1.0940 - accuracy: 0.3491 - val_loss: 1.0927 - val_accuracy: 0.3558\n",
      "Epoch 3/100\n",
      "54000/54000 [==============================] - 10s 194us/sample - loss: 1.0935 - accuracy: 0.3541 - val_loss: 1.0925 - val_accuracy: 0.3562\n",
      "Epoch 4/100\n",
      "54000/54000 [==============================] - 11s 195us/sample - loss: 1.0935 - accuracy: 0.3516 - val_loss: 1.0923 - val_accuracy: 0.3570\n",
      "Epoch 5/100\n",
      "54000/54000 [==============================] - 11s 195us/sample - loss: 1.0933 - accuracy: 0.3539 - val_loss: 1.0922 - val_accuracy: 0.3568\n",
      "Epoch 6/100\n",
      "54000/54000 [==============================] - 10s 194us/sample - loss: 1.0930 - accuracy: 0.3525 - val_loss: 1.0921 - val_accuracy: 0.3572\n",
      "Epoch 7/100\n",
      "54000/54000 [==============================] - 11s 196us/sample - loss: 1.0932 - accuracy: 0.3535 - val_loss: 1.0920 - val_accuracy: 0.3570\n",
      "Epoch 8/100\n",
      "54000/54000 [==============================] - 11s 195us/sample - loss: 1.0930 - accuracy: 0.3546 - val_loss: 1.0919 - val_accuracy: 0.3570\n",
      "Epoch 9/100\n",
      "54000/54000 [==============================] - 10s 194us/sample - loss: 1.0928 - accuracy: 0.3523 - val_loss: 1.0918 - val_accuracy: 0.3573\n",
      "Epoch 10/100\n",
      "54000/54000 [==============================] - 11s 196us/sample - loss: 1.0926 - accuracy: 0.3558 - val_loss: 1.0917 - val_accuracy: 0.3572\n",
      "Epoch 11/100\n",
      "54000/54000 [==============================] - 11s 195us/sample - loss: 1.0925 - accuracy: 0.3555 - val_loss: 1.0916 - val_accuracy: 0.3570\n",
      "Epoch 12/100\n",
      "54000/54000 [==============================] - 10s 193us/sample - loss: 1.0925 - accuracy: 0.3547 - val_loss: 1.0916 - val_accuracy: 0.3567\n",
      "Epoch 13/100\n",
      "54000/54000 [==============================] - 11s 196us/sample - loss: 1.0923 - accuracy: 0.3552 - val_loss: 1.0915 - val_accuracy: 0.3570\n",
      "Epoch 14/100\n",
      "54000/54000 [==============================] - 11s 195us/sample - loss: 1.0923 - accuracy: 0.3557 - val_loss: 1.0914 - val_accuracy: 0.3570\n",
      "Epoch 15/100\n",
      " 6144/54000 [==>...........................] - ETA: 8s - loss: 1.0918 - accuracy: 0.3608"
     ]
    },
    {
     "ename": "KeyboardInterrupt",
     "evalue": "",
     "output_type": "error",
     "traceback": [
      "\u001b[1;31m---------------------------------------------------------------------------\u001b[0m",
      "\u001b[1;31mKeyboardInterrupt\u001b[0m                         Traceback (most recent call last)",
      "\u001b[1;32m<ipython-input-608-879fe907d8b4>\u001b[0m in \u001b[0;36m<module>\u001b[1;34m\u001b[0m\n\u001b[0;32m      2\u001b[0m     \u001b[0mloss\u001b[0m\u001b[1;33m=\u001b[0m\u001b[1;34m\"sparse_categorical_crossentropy\"\u001b[0m\u001b[1;33m,\u001b[0m \u001b[0moptimizer\u001b[0m\u001b[1;33m=\u001b[0m\u001b[1;34m'adagrad'\u001b[0m\u001b[1;33m,\u001b[0m \u001b[0mmetrics\u001b[0m\u001b[1;33m=\u001b[0m\u001b[1;33m[\u001b[0m\u001b[1;34m\"accuracy\"\u001b[0m\u001b[1;33m]\u001b[0m\u001b[1;33m\u001b[0m\u001b[1;33m\u001b[0m\u001b[0m\n\u001b[0;32m      3\u001b[0m )\n\u001b[1;32m----> 4\u001b[1;33m \u001b[0mmodel\u001b[0m\u001b[1;33m.\u001b[0m\u001b[0mfit\u001b[0m\u001b[1;33m(\u001b[0m\u001b[0mx_train\u001b[0m\u001b[1;33m,\u001b[0m \u001b[0my_train\u001b[0m\u001b[1;33m,\u001b[0m \u001b[0mbatch_size\u001b[0m\u001b[1;33m=\u001b[0m\u001b[1;36m2048\u001b[0m\u001b[1;33m,\u001b[0m \u001b[0mepochs\u001b[0m\u001b[1;33m=\u001b[0m\u001b[1;36m100\u001b[0m\u001b[1;33m,\u001b[0m \u001b[0mvalidation_data\u001b[0m\u001b[1;33m=\u001b[0m\u001b[1;33m(\u001b[0m\u001b[0mx_test\u001b[0m\u001b[1;33m,\u001b[0m \u001b[0my_test\u001b[0m\u001b[1;33m)\u001b[0m\u001b[1;33m)\u001b[0m\u001b[1;33m\u001b[0m\u001b[1;33m\u001b[0m\u001b[0m\n\u001b[0m",
      "\u001b[1;32m~\\Anaconda3\\envs\\tensorflow\\lib\\site-packages\\tensorflow_core\\python\\keras\\engine\\training.py\u001b[0m in \u001b[0;36mfit\u001b[1;34m(self, x, y, batch_size, epochs, verbose, callbacks, validation_split, validation_data, shuffle, class_weight, sample_weight, initial_epoch, steps_per_epoch, validation_steps, validation_freq, max_queue_size, workers, use_multiprocessing, **kwargs)\u001b[0m\n\u001b[0;32m    817\u001b[0m         \u001b[0mmax_queue_size\u001b[0m\u001b[1;33m=\u001b[0m\u001b[0mmax_queue_size\u001b[0m\u001b[1;33m,\u001b[0m\u001b[1;33m\u001b[0m\u001b[1;33m\u001b[0m\u001b[0m\n\u001b[0;32m    818\u001b[0m         \u001b[0mworkers\u001b[0m\u001b[1;33m=\u001b[0m\u001b[0mworkers\u001b[0m\u001b[1;33m,\u001b[0m\u001b[1;33m\u001b[0m\u001b[1;33m\u001b[0m\u001b[0m\n\u001b[1;32m--> 819\u001b[1;33m         use_multiprocessing=use_multiprocessing)\n\u001b[0m\u001b[0;32m    820\u001b[0m \u001b[1;33m\u001b[0m\u001b[0m\n\u001b[0;32m    821\u001b[0m   def evaluate(self,\n",
      "\u001b[1;32m~\\Anaconda3\\envs\\tensorflow\\lib\\site-packages\\tensorflow_core\\python\\keras\\engine\\training_v2.py\u001b[0m in \u001b[0;36mfit\u001b[1;34m(self, model, x, y, batch_size, epochs, verbose, callbacks, validation_split, validation_data, shuffle, class_weight, sample_weight, initial_epoch, steps_per_epoch, validation_steps, validation_freq, max_queue_size, workers, use_multiprocessing, **kwargs)\u001b[0m\n\u001b[0;32m    340\u001b[0m                 \u001b[0mmode\u001b[0m\u001b[1;33m=\u001b[0m\u001b[0mModeKeys\u001b[0m\u001b[1;33m.\u001b[0m\u001b[0mTRAIN\u001b[0m\u001b[1;33m,\u001b[0m\u001b[1;33m\u001b[0m\u001b[1;33m\u001b[0m\u001b[0m\n\u001b[0;32m    341\u001b[0m                 \u001b[0mtraining_context\u001b[0m\u001b[1;33m=\u001b[0m\u001b[0mtraining_context\u001b[0m\u001b[1;33m,\u001b[0m\u001b[1;33m\u001b[0m\u001b[1;33m\u001b[0m\u001b[0m\n\u001b[1;32m--> 342\u001b[1;33m                 total_epochs=epochs)\n\u001b[0m\u001b[0;32m    343\u001b[0m             \u001b[0mcbks\u001b[0m\u001b[1;33m.\u001b[0m\u001b[0mmake_logs\u001b[0m\u001b[1;33m(\u001b[0m\u001b[0mmodel\u001b[0m\u001b[1;33m,\u001b[0m \u001b[0mepoch_logs\u001b[0m\u001b[1;33m,\u001b[0m \u001b[0mtraining_result\u001b[0m\u001b[1;33m,\u001b[0m \u001b[0mModeKeys\u001b[0m\u001b[1;33m.\u001b[0m\u001b[0mTRAIN\u001b[0m\u001b[1;33m)\u001b[0m\u001b[1;33m\u001b[0m\u001b[1;33m\u001b[0m\u001b[0m\n\u001b[0;32m    344\u001b[0m \u001b[1;33m\u001b[0m\u001b[0m\n",
      "\u001b[1;32m~\\Anaconda3\\envs\\tensorflow\\lib\\site-packages\\tensorflow_core\\python\\keras\\engine\\training_v2.py\u001b[0m in \u001b[0;36mrun_one_epoch\u001b[1;34m(model, iterator, execution_function, dataset_size, batch_size, strategy, steps_per_epoch, num_samples, mode, training_context, total_epochs)\u001b[0m\n\u001b[0;32m    126\u001b[0m         step=step, mode=mode, size=current_batch_size) as batch_logs:\n\u001b[0;32m    127\u001b[0m       \u001b[1;32mtry\u001b[0m\u001b[1;33m:\u001b[0m\u001b[1;33m\u001b[0m\u001b[1;33m\u001b[0m\u001b[0m\n\u001b[1;32m--> 128\u001b[1;33m         \u001b[0mbatch_outs\u001b[0m \u001b[1;33m=\u001b[0m \u001b[0mexecution_function\u001b[0m\u001b[1;33m(\u001b[0m\u001b[0miterator\u001b[0m\u001b[1;33m)\u001b[0m\u001b[1;33m\u001b[0m\u001b[1;33m\u001b[0m\u001b[0m\n\u001b[0m\u001b[0;32m    129\u001b[0m       \u001b[1;32mexcept\u001b[0m \u001b[1;33m(\u001b[0m\u001b[0mStopIteration\u001b[0m\u001b[1;33m,\u001b[0m \u001b[0merrors\u001b[0m\u001b[1;33m.\u001b[0m\u001b[0mOutOfRangeError\u001b[0m\u001b[1;33m)\u001b[0m\u001b[1;33m:\u001b[0m\u001b[1;33m\u001b[0m\u001b[1;33m\u001b[0m\u001b[0m\n\u001b[0;32m    130\u001b[0m         \u001b[1;31m# TODO(kaftan): File bug about tf function and errors.OutOfRangeError?\u001b[0m\u001b[1;33m\u001b[0m\u001b[1;33m\u001b[0m\u001b[1;33m\u001b[0m\u001b[0m\n",
      "\u001b[1;32m~\\Anaconda3\\envs\\tensorflow\\lib\\site-packages\\tensorflow_core\\python\\keras\\engine\\training_v2_utils.py\u001b[0m in \u001b[0;36mexecution_function\u001b[1;34m(input_fn)\u001b[0m\n\u001b[0;32m     96\u001b[0m     \u001b[1;31m# `numpy` translates Tensors to values in Eager mode.\u001b[0m\u001b[1;33m\u001b[0m\u001b[1;33m\u001b[0m\u001b[1;33m\u001b[0m\u001b[0m\n\u001b[0;32m     97\u001b[0m     return nest.map_structure(_non_none_constant_value,\n\u001b[1;32m---> 98\u001b[1;33m                               distributed_function(input_fn))\n\u001b[0m\u001b[0;32m     99\u001b[0m \u001b[1;33m\u001b[0m\u001b[0m\n\u001b[0;32m    100\u001b[0m   \u001b[1;32mreturn\u001b[0m \u001b[0mexecution_function\u001b[0m\u001b[1;33m\u001b[0m\u001b[1;33m\u001b[0m\u001b[0m\n",
      "\u001b[1;32m~\\Anaconda3\\envs\\tensorflow\\lib\\site-packages\\tensorflow_core\\python\\eager\\def_function.py\u001b[0m in \u001b[0;36m__call__\u001b[1;34m(self, *args, **kwds)\u001b[0m\n\u001b[0;32m    566\u001b[0m         \u001b[0mxla_context\u001b[0m\u001b[1;33m.\u001b[0m\u001b[0mExit\u001b[0m\u001b[1;33m(\u001b[0m\u001b[1;33m)\u001b[0m\u001b[1;33m\u001b[0m\u001b[1;33m\u001b[0m\u001b[0m\n\u001b[0;32m    567\u001b[0m     \u001b[1;32melse\u001b[0m\u001b[1;33m:\u001b[0m\u001b[1;33m\u001b[0m\u001b[1;33m\u001b[0m\u001b[0m\n\u001b[1;32m--> 568\u001b[1;33m       \u001b[0mresult\u001b[0m \u001b[1;33m=\u001b[0m \u001b[0mself\u001b[0m\u001b[1;33m.\u001b[0m\u001b[0m_call\u001b[0m\u001b[1;33m(\u001b[0m\u001b[1;33m*\u001b[0m\u001b[0margs\u001b[0m\u001b[1;33m,\u001b[0m \u001b[1;33m**\u001b[0m\u001b[0mkwds\u001b[0m\u001b[1;33m)\u001b[0m\u001b[1;33m\u001b[0m\u001b[1;33m\u001b[0m\u001b[0m\n\u001b[0m\u001b[0;32m    569\u001b[0m \u001b[1;33m\u001b[0m\u001b[0m\n\u001b[0;32m    570\u001b[0m     \u001b[1;32mif\u001b[0m \u001b[0mtracing_count\u001b[0m \u001b[1;33m==\u001b[0m \u001b[0mself\u001b[0m\u001b[1;33m.\u001b[0m\u001b[0m_get_tracing_count\u001b[0m\u001b[1;33m(\u001b[0m\u001b[1;33m)\u001b[0m\u001b[1;33m:\u001b[0m\u001b[1;33m\u001b[0m\u001b[1;33m\u001b[0m\u001b[0m\n",
      "\u001b[1;32m~\\Anaconda3\\envs\\tensorflow\\lib\\site-packages\\tensorflow_core\\python\\eager\\def_function.py\u001b[0m in \u001b[0;36m_call\u001b[1;34m(self, *args, **kwds)\u001b[0m\n\u001b[0;32m    597\u001b[0m       \u001b[1;31m# In this case we have created variables on the first call, so we run the\u001b[0m\u001b[1;33m\u001b[0m\u001b[1;33m\u001b[0m\u001b[1;33m\u001b[0m\u001b[0m\n\u001b[0;32m    598\u001b[0m       \u001b[1;31m# defunned version which is guaranteed to never create variables.\u001b[0m\u001b[1;33m\u001b[0m\u001b[1;33m\u001b[0m\u001b[1;33m\u001b[0m\u001b[0m\n\u001b[1;32m--> 599\u001b[1;33m       \u001b[1;32mreturn\u001b[0m \u001b[0mself\u001b[0m\u001b[1;33m.\u001b[0m\u001b[0m_stateless_fn\u001b[0m\u001b[1;33m(\u001b[0m\u001b[1;33m*\u001b[0m\u001b[0margs\u001b[0m\u001b[1;33m,\u001b[0m \u001b[1;33m**\u001b[0m\u001b[0mkwds\u001b[0m\u001b[1;33m)\u001b[0m  \u001b[1;31m# pylint: disable=not-callable\u001b[0m\u001b[1;33m\u001b[0m\u001b[1;33m\u001b[0m\u001b[0m\n\u001b[0m\u001b[0;32m    600\u001b[0m     \u001b[1;32melif\u001b[0m \u001b[0mself\u001b[0m\u001b[1;33m.\u001b[0m\u001b[0m_stateful_fn\u001b[0m \u001b[1;32mis\u001b[0m \u001b[1;32mnot\u001b[0m \u001b[1;32mNone\u001b[0m\u001b[1;33m:\u001b[0m\u001b[1;33m\u001b[0m\u001b[1;33m\u001b[0m\u001b[0m\n\u001b[0;32m    601\u001b[0m       \u001b[1;31m# Release the lock early so that multiple threads can perform the call\u001b[0m\u001b[1;33m\u001b[0m\u001b[1;33m\u001b[0m\u001b[1;33m\u001b[0m\u001b[0m\n",
      "\u001b[1;32m~\\Anaconda3\\envs\\tensorflow\\lib\\site-packages\\tensorflow_core\\python\\eager\\function.py\u001b[0m in \u001b[0;36m__call__\u001b[1;34m(self, *args, **kwargs)\u001b[0m\n\u001b[0;32m   2361\u001b[0m     \u001b[1;32mwith\u001b[0m \u001b[0mself\u001b[0m\u001b[1;33m.\u001b[0m\u001b[0m_lock\u001b[0m\u001b[1;33m:\u001b[0m\u001b[1;33m\u001b[0m\u001b[1;33m\u001b[0m\u001b[0m\n\u001b[0;32m   2362\u001b[0m       \u001b[0mgraph_function\u001b[0m\u001b[1;33m,\u001b[0m \u001b[0margs\u001b[0m\u001b[1;33m,\u001b[0m \u001b[0mkwargs\u001b[0m \u001b[1;33m=\u001b[0m \u001b[0mself\u001b[0m\u001b[1;33m.\u001b[0m\u001b[0m_maybe_define_function\u001b[0m\u001b[1;33m(\u001b[0m\u001b[0margs\u001b[0m\u001b[1;33m,\u001b[0m \u001b[0mkwargs\u001b[0m\u001b[1;33m)\u001b[0m\u001b[1;33m\u001b[0m\u001b[1;33m\u001b[0m\u001b[0m\n\u001b[1;32m-> 2363\u001b[1;33m     \u001b[1;32mreturn\u001b[0m \u001b[0mgraph_function\u001b[0m\u001b[1;33m.\u001b[0m\u001b[0m_filtered_call\u001b[0m\u001b[1;33m(\u001b[0m\u001b[0margs\u001b[0m\u001b[1;33m,\u001b[0m \u001b[0mkwargs\u001b[0m\u001b[1;33m)\u001b[0m  \u001b[1;31m# pylint: disable=protected-access\u001b[0m\u001b[1;33m\u001b[0m\u001b[1;33m\u001b[0m\u001b[0m\n\u001b[0m\u001b[0;32m   2364\u001b[0m \u001b[1;33m\u001b[0m\u001b[0m\n\u001b[0;32m   2365\u001b[0m   \u001b[1;33m@\u001b[0m\u001b[0mproperty\u001b[0m\u001b[1;33m\u001b[0m\u001b[1;33m\u001b[0m\u001b[0m\n",
      "\u001b[1;32m~\\Anaconda3\\envs\\tensorflow\\lib\\site-packages\\tensorflow_core\\python\\eager\\function.py\u001b[0m in \u001b[0;36m_filtered_call\u001b[1;34m(self, args, kwargs)\u001b[0m\n\u001b[0;32m   1609\u001b[0m          if isinstance(t, (ops.Tensor,\n\u001b[0;32m   1610\u001b[0m                            resource_variable_ops.BaseResourceVariable))),\n\u001b[1;32m-> 1611\u001b[1;33m         self.captured_inputs)\n\u001b[0m\u001b[0;32m   1612\u001b[0m \u001b[1;33m\u001b[0m\u001b[0m\n\u001b[0;32m   1613\u001b[0m   \u001b[1;32mdef\u001b[0m \u001b[0m_call_flat\u001b[0m\u001b[1;33m(\u001b[0m\u001b[0mself\u001b[0m\u001b[1;33m,\u001b[0m \u001b[0margs\u001b[0m\u001b[1;33m,\u001b[0m \u001b[0mcaptured_inputs\u001b[0m\u001b[1;33m,\u001b[0m \u001b[0mcancellation_manager\u001b[0m\u001b[1;33m=\u001b[0m\u001b[1;32mNone\u001b[0m\u001b[1;33m)\u001b[0m\u001b[1;33m:\u001b[0m\u001b[1;33m\u001b[0m\u001b[1;33m\u001b[0m\u001b[0m\n",
      "\u001b[1;32m~\\Anaconda3\\envs\\tensorflow\\lib\\site-packages\\tensorflow_core\\python\\eager\\function.py\u001b[0m in \u001b[0;36m_call_flat\u001b[1;34m(self, args, captured_inputs, cancellation_manager)\u001b[0m\n\u001b[0;32m   1690\u001b[0m       \u001b[1;31m# No tape is watching; skip to running the function.\u001b[0m\u001b[1;33m\u001b[0m\u001b[1;33m\u001b[0m\u001b[1;33m\u001b[0m\u001b[0m\n\u001b[0;32m   1691\u001b[0m       return self._build_call_outputs(self._inference_function.call(\n\u001b[1;32m-> 1692\u001b[1;33m           ctx, args, cancellation_manager=cancellation_manager))\n\u001b[0m\u001b[0;32m   1693\u001b[0m     forward_backward = self._select_forward_and_backward_functions(\n\u001b[0;32m   1694\u001b[0m         \u001b[0margs\u001b[0m\u001b[1;33m,\u001b[0m\u001b[1;33m\u001b[0m\u001b[1;33m\u001b[0m\u001b[0m\n",
      "\u001b[1;32m~\\Anaconda3\\envs\\tensorflow\\lib\\site-packages\\tensorflow_core\\python\\eager\\function.py\u001b[0m in \u001b[0;36mcall\u001b[1;34m(self, ctx, args, cancellation_manager)\u001b[0m\n\u001b[0;32m    543\u001b[0m               \u001b[0minputs\u001b[0m\u001b[1;33m=\u001b[0m\u001b[0margs\u001b[0m\u001b[1;33m,\u001b[0m\u001b[1;33m\u001b[0m\u001b[1;33m\u001b[0m\u001b[0m\n\u001b[0;32m    544\u001b[0m               \u001b[0mattrs\u001b[0m\u001b[1;33m=\u001b[0m\u001b[1;33m(\u001b[0m\u001b[1;34m\"executor_type\"\u001b[0m\u001b[1;33m,\u001b[0m \u001b[0mexecutor_type\u001b[0m\u001b[1;33m,\u001b[0m \u001b[1;34m\"config_proto\"\u001b[0m\u001b[1;33m,\u001b[0m \u001b[0mconfig\u001b[0m\u001b[1;33m)\u001b[0m\u001b[1;33m,\u001b[0m\u001b[1;33m\u001b[0m\u001b[1;33m\u001b[0m\u001b[0m\n\u001b[1;32m--> 545\u001b[1;33m               ctx=ctx)\n\u001b[0m\u001b[0;32m    546\u001b[0m         \u001b[1;32melse\u001b[0m\u001b[1;33m:\u001b[0m\u001b[1;33m\u001b[0m\u001b[1;33m\u001b[0m\u001b[0m\n\u001b[0;32m    547\u001b[0m           outputs = execute.execute_with_cancellation(\n",
      "\u001b[1;32m~\\Anaconda3\\envs\\tensorflow\\lib\\site-packages\\tensorflow_core\\python\\eager\\execute.py\u001b[0m in \u001b[0;36mquick_execute\u001b[1;34m(op_name, num_outputs, inputs, attrs, ctx, name)\u001b[0m\n\u001b[0;32m     59\u001b[0m     tensors = pywrap_tensorflow.TFE_Py_Execute(ctx._handle, device_name,\n\u001b[0;32m     60\u001b[0m                                                \u001b[0mop_name\u001b[0m\u001b[1;33m,\u001b[0m \u001b[0minputs\u001b[0m\u001b[1;33m,\u001b[0m \u001b[0mattrs\u001b[0m\u001b[1;33m,\u001b[0m\u001b[1;33m\u001b[0m\u001b[1;33m\u001b[0m\u001b[0m\n\u001b[1;32m---> 61\u001b[1;33m                                                num_outputs)\n\u001b[0m\u001b[0;32m     62\u001b[0m   \u001b[1;32mexcept\u001b[0m \u001b[0mcore\u001b[0m\u001b[1;33m.\u001b[0m\u001b[0m_NotOkStatusException\u001b[0m \u001b[1;32mas\u001b[0m \u001b[0me\u001b[0m\u001b[1;33m:\u001b[0m\u001b[1;33m\u001b[0m\u001b[1;33m\u001b[0m\u001b[0m\n\u001b[0;32m     63\u001b[0m     \u001b[1;32mif\u001b[0m \u001b[0mname\u001b[0m \u001b[1;32mis\u001b[0m \u001b[1;32mnot\u001b[0m \u001b[1;32mNone\u001b[0m\u001b[1;33m:\u001b[0m\u001b[1;33m\u001b[0m\u001b[1;33m\u001b[0m\u001b[0m\n",
      "\u001b[1;31mKeyboardInterrupt\u001b[0m: "
     ]
    }
   ],
   "source": [
    "model.compile(\n",
    "    loss=\"sparse_categorical_crossentropy\", optimizer='adagrad', metrics=[\"accuracy\"]\n",
    ")\n",
    "model.fit(x_train, y_train, batch_size=2048, epochs=100, validation_data=(x_test, y_test))"
   ]
  },
  {
   "cell_type": "markdown",
   "metadata": {},
   "source": [
    "Training is stopped due to poor performance."
   ]
  }
 ],
 "metadata": {
  "kernelspec": {
   "display_name": "Python 3.7 (tensorflow)",
   "language": "python",
   "name": "tensorflow"
  },
  "language_info": {
   "codemirror_mode": {
    "name": "ipython",
    "version": 3
   },
   "file_extension": ".py",
   "mimetype": "text/x-python",
   "name": "python",
   "nbconvert_exporter": "python",
   "pygments_lexer": "ipython3",
   "version": "3.7.9"
  }
 },
 "nbformat": 4,
 "nbformat_minor": 4
}
