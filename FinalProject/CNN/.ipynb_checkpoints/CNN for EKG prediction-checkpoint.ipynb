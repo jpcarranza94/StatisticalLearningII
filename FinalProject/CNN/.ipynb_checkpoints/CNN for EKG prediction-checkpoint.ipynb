{
 "cells": [
  {
   "cell_type": "code",
   "execution_count": 150,
   "metadata": {},
   "outputs": [],
   "source": [
    "import pandas as pd\n",
    "import numpy as np\n",
    "import matplotlib.pyplot as plt\n",
    "import tensorflow as tf\n",
    "import sklearn\n",
    "from keras.layers import Dense, Conv1D, MaxPool1D, Flatten, Dropout\n",
    "from keras.layers import Input\n",
    "from keras.models import Model\n",
    "import keras.initializers\n",
    "from keras.layers.normalization import BatchNormalization\n",
    "from keras import Sequential\n",
    "from keras.callbacks import EarlyStopping, ModelCheckpoint\n",
    "from keras.utils.np_utils import to_categorical"
   ]
  },
  {
   "cell_type": "code",
   "execution_count": 4,
   "metadata": {},
   "outputs": [
    {
     "name": "stdout",
     "output_type": "stream",
     "text": [
      "WARNING:tensorflow:From <ipython-input-4-17bb7203622b>:1: is_gpu_available (from tensorflow.python.framework.test_util) is deprecated and will be removed in a future version.\n",
      "Instructions for updating:\n",
      "Use `tf.config.list_physical_devices('GPU')` instead.\n"
     ]
    },
    {
     "data": {
      "text/plain": [
       "True"
      ]
     },
     "execution_count": 4,
     "metadata": {},
     "output_type": "execute_result"
    }
   ],
   "source": [
    "tf.test.is_gpu_available()"
   ]
  },
  {
   "cell_type": "markdown",
   "metadata": {},
   "source": [
    "# Final project\n",
    "\n",
    "## Convolutional neural network to predict EKG anomalies\n",
    "\n",
    "Electrocardiogram signals differ significantly when they show an underlying heart disease. The main objective of this project is to create a Convolutional neural network to predict EKG anomalies. Instead of using 2D convolutions, the kernels used to build models with signal data use 1D convolutions. Model will be created in Keras.\n",
    "\n",
    "The 5 classes to be classified are:\n",
    "\n",
    "- Classes: ['N': 0, 'S': 1, 'V': 2, 'F': 3, 'Q': 4]\n",
    "\n",
    "- N : Normal beat\n",
    "- S : Supraventricular premature beat\n",
    "- V : Premature Ventricular contraction\n",
    "- F : Fusion of ventricular and normal beat\n",
    "- Q : Unclassifiable beat"
   ]
  },
  {
   "cell_type": "code",
   "execution_count": 28,
   "metadata": {},
   "outputs": [],
   "source": [
    "train_df = pd.read_csv('mitbih_train.csv')\n",
    "test_df = pd.read_csv('mitbih_test.csv')"
   ]
  },
  {
   "cell_type": "code",
   "execution_count": 29,
   "metadata": {},
   "outputs": [
    {
     "data": {
      "text/html": [
       "<div>\n",
       "<style scoped>\n",
       "    .dataframe tbody tr th:only-of-type {\n",
       "        vertical-align: middle;\n",
       "    }\n",
       "\n",
       "    .dataframe tbody tr th {\n",
       "        vertical-align: top;\n",
       "    }\n",
       "\n",
       "    .dataframe thead th {\n",
       "        text-align: right;\n",
       "    }\n",
       "</style>\n",
       "<table border=\"1\" class=\"dataframe\">\n",
       "  <thead>\n",
       "    <tr style=\"text-align: right;\">\n",
       "      <th></th>\n",
       "      <th>9.779411554336547852e-01</th>\n",
       "      <th>9.264705777168273926e-01</th>\n",
       "      <th>6.813725233078002930e-01</th>\n",
       "      <th>2.450980395078659058e-01</th>\n",
       "      <th>1.544117629528045654e-01</th>\n",
       "      <th>1.911764740943908691e-01</th>\n",
       "      <th>1.519607901573181152e-01</th>\n",
       "      <th>8.578431606292724609e-02</th>\n",
       "      <th>5.882352963089942932e-02</th>\n",
       "      <th>4.901960864663124084e-02</th>\n",
       "      <th>...</th>\n",
       "      <th>0.000000000000000000e+00.79</th>\n",
       "      <th>0.000000000000000000e+00.80</th>\n",
       "      <th>0.000000000000000000e+00.81</th>\n",
       "      <th>0.000000000000000000e+00.82</th>\n",
       "      <th>0.000000000000000000e+00.83</th>\n",
       "      <th>0.000000000000000000e+00.84</th>\n",
       "      <th>0.000000000000000000e+00.85</th>\n",
       "      <th>0.000000000000000000e+00.86</th>\n",
       "      <th>0.000000000000000000e+00.87</th>\n",
       "      <th>0.000000000000000000e+00.88</th>\n",
       "    </tr>\n",
       "  </thead>\n",
       "  <tbody>\n",
       "    <tr>\n",
       "      <th>0</th>\n",
       "      <td>0.960114</td>\n",
       "      <td>0.863248</td>\n",
       "      <td>0.461538</td>\n",
       "      <td>0.196581</td>\n",
       "      <td>0.094017</td>\n",
       "      <td>0.125356</td>\n",
       "      <td>0.099715</td>\n",
       "      <td>0.088319</td>\n",
       "      <td>0.074074</td>\n",
       "      <td>0.082621</td>\n",
       "      <td>...</td>\n",
       "      <td>0.0</td>\n",
       "      <td>0.0</td>\n",
       "      <td>0.0</td>\n",
       "      <td>0.0</td>\n",
       "      <td>0.0</td>\n",
       "      <td>0.0</td>\n",
       "      <td>0.0</td>\n",
       "      <td>0.0</td>\n",
       "      <td>0.0</td>\n",
       "      <td>0.0</td>\n",
       "    </tr>\n",
       "    <tr>\n",
       "      <th>1</th>\n",
       "      <td>1.000000</td>\n",
       "      <td>0.659459</td>\n",
       "      <td>0.186486</td>\n",
       "      <td>0.070270</td>\n",
       "      <td>0.070270</td>\n",
       "      <td>0.059459</td>\n",
       "      <td>0.056757</td>\n",
       "      <td>0.043243</td>\n",
       "      <td>0.054054</td>\n",
       "      <td>0.045946</td>\n",
       "      <td>...</td>\n",
       "      <td>0.0</td>\n",
       "      <td>0.0</td>\n",
       "      <td>0.0</td>\n",
       "      <td>0.0</td>\n",
       "      <td>0.0</td>\n",
       "      <td>0.0</td>\n",
       "      <td>0.0</td>\n",
       "      <td>0.0</td>\n",
       "      <td>0.0</td>\n",
       "      <td>0.0</td>\n",
       "    </tr>\n",
       "    <tr>\n",
       "      <th>2</th>\n",
       "      <td>0.925414</td>\n",
       "      <td>0.665746</td>\n",
       "      <td>0.541436</td>\n",
       "      <td>0.276243</td>\n",
       "      <td>0.196133</td>\n",
       "      <td>0.077348</td>\n",
       "      <td>0.071823</td>\n",
       "      <td>0.060773</td>\n",
       "      <td>0.066298</td>\n",
       "      <td>0.058011</td>\n",
       "      <td>...</td>\n",
       "      <td>0.0</td>\n",
       "      <td>0.0</td>\n",
       "      <td>0.0</td>\n",
       "      <td>0.0</td>\n",
       "      <td>0.0</td>\n",
       "      <td>0.0</td>\n",
       "      <td>0.0</td>\n",
       "      <td>0.0</td>\n",
       "      <td>0.0</td>\n",
       "      <td>0.0</td>\n",
       "    </tr>\n",
       "    <tr>\n",
       "      <th>3</th>\n",
       "      <td>0.967136</td>\n",
       "      <td>1.000000</td>\n",
       "      <td>0.830986</td>\n",
       "      <td>0.586854</td>\n",
       "      <td>0.356808</td>\n",
       "      <td>0.248826</td>\n",
       "      <td>0.145540</td>\n",
       "      <td>0.089202</td>\n",
       "      <td>0.117371</td>\n",
       "      <td>0.150235</td>\n",
       "      <td>...</td>\n",
       "      <td>0.0</td>\n",
       "      <td>0.0</td>\n",
       "      <td>0.0</td>\n",
       "      <td>0.0</td>\n",
       "      <td>0.0</td>\n",
       "      <td>0.0</td>\n",
       "      <td>0.0</td>\n",
       "      <td>0.0</td>\n",
       "      <td>0.0</td>\n",
       "      <td>0.0</td>\n",
       "    </tr>\n",
       "    <tr>\n",
       "      <th>4</th>\n",
       "      <td>0.927461</td>\n",
       "      <td>1.000000</td>\n",
       "      <td>0.626943</td>\n",
       "      <td>0.193437</td>\n",
       "      <td>0.094991</td>\n",
       "      <td>0.072539</td>\n",
       "      <td>0.043178</td>\n",
       "      <td>0.053541</td>\n",
       "      <td>0.093264</td>\n",
       "      <td>0.189983</td>\n",
       "      <td>...</td>\n",
       "      <td>0.0</td>\n",
       "      <td>0.0</td>\n",
       "      <td>0.0</td>\n",
       "      <td>0.0</td>\n",
       "      <td>0.0</td>\n",
       "      <td>0.0</td>\n",
       "      <td>0.0</td>\n",
       "      <td>0.0</td>\n",
       "      <td>0.0</td>\n",
       "      <td>0.0</td>\n",
       "    </tr>\n",
       "  </tbody>\n",
       "</table>\n",
       "<p>5 rows × 188 columns</p>\n",
       "</div>"
      ],
      "text/plain": [
       "   9.779411554336547852e-01  9.264705777168273926e-01  \\\n",
       "0                  0.960114                  0.863248   \n",
       "1                  1.000000                  0.659459   \n",
       "2                  0.925414                  0.665746   \n",
       "3                  0.967136                  1.000000   \n",
       "4                  0.927461                  1.000000   \n",
       "\n",
       "   6.813725233078002930e-01  2.450980395078659058e-01  \\\n",
       "0                  0.461538                  0.196581   \n",
       "1                  0.186486                  0.070270   \n",
       "2                  0.541436                  0.276243   \n",
       "3                  0.830986                  0.586854   \n",
       "4                  0.626943                  0.193437   \n",
       "\n",
       "   1.544117629528045654e-01  1.911764740943908691e-01  \\\n",
       "0                  0.094017                  0.125356   \n",
       "1                  0.070270                  0.059459   \n",
       "2                  0.196133                  0.077348   \n",
       "3                  0.356808                  0.248826   \n",
       "4                  0.094991                  0.072539   \n",
       "\n",
       "   1.519607901573181152e-01  8.578431606292724609e-02  \\\n",
       "0                  0.099715                  0.088319   \n",
       "1                  0.056757                  0.043243   \n",
       "2                  0.071823                  0.060773   \n",
       "3                  0.145540                  0.089202   \n",
       "4                  0.043178                  0.053541   \n",
       "\n",
       "   5.882352963089942932e-02  4.901960864663124084e-02  ...  \\\n",
       "0                  0.074074                  0.082621  ...   \n",
       "1                  0.054054                  0.045946  ...   \n",
       "2                  0.066298                  0.058011  ...   \n",
       "3                  0.117371                  0.150235  ...   \n",
       "4                  0.093264                  0.189983  ...   \n",
       "\n",
       "   0.000000000000000000e+00.79  0.000000000000000000e+00.80  \\\n",
       "0                          0.0                          0.0   \n",
       "1                          0.0                          0.0   \n",
       "2                          0.0                          0.0   \n",
       "3                          0.0                          0.0   \n",
       "4                          0.0                          0.0   \n",
       "\n",
       "   0.000000000000000000e+00.81  0.000000000000000000e+00.82  \\\n",
       "0                          0.0                          0.0   \n",
       "1                          0.0                          0.0   \n",
       "2                          0.0                          0.0   \n",
       "3                          0.0                          0.0   \n",
       "4                          0.0                          0.0   \n",
       "\n",
       "   0.000000000000000000e+00.83  0.000000000000000000e+00.84  \\\n",
       "0                          0.0                          0.0   \n",
       "1                          0.0                          0.0   \n",
       "2                          0.0                          0.0   \n",
       "3                          0.0                          0.0   \n",
       "4                          0.0                          0.0   \n",
       "\n",
       "   0.000000000000000000e+00.85  0.000000000000000000e+00.86  \\\n",
       "0                          0.0                          0.0   \n",
       "1                          0.0                          0.0   \n",
       "2                          0.0                          0.0   \n",
       "3                          0.0                          0.0   \n",
       "4                          0.0                          0.0   \n",
       "\n",
       "   0.000000000000000000e+00.87  0.000000000000000000e+00.88  \n",
       "0                          0.0                          0.0  \n",
       "1                          0.0                          0.0  \n",
       "2                          0.0                          0.0  \n",
       "3                          0.0                          0.0  \n",
       "4                          0.0                          0.0  \n",
       "\n",
       "[5 rows x 188 columns]"
      ]
     },
     "execution_count": 29,
     "metadata": {},
     "output_type": "execute_result"
    }
   ],
   "source": [
    "train_df.head()"
   ]
  },
  {
   "cell_type": "code",
   "execution_count": 30,
   "metadata": {},
   "outputs": [
    {
     "data": {
      "text/html": [
       "<div>\n",
       "<style scoped>\n",
       "    .dataframe tbody tr th:only-of-type {\n",
       "        vertical-align: middle;\n",
       "    }\n",
       "\n",
       "    .dataframe tbody tr th {\n",
       "        vertical-align: top;\n",
       "    }\n",
       "\n",
       "    .dataframe thead th {\n",
       "        text-align: right;\n",
       "    }\n",
       "</style>\n",
       "<table border=\"1\" class=\"dataframe\">\n",
       "  <thead>\n",
       "    <tr style=\"text-align: right;\">\n",
       "      <th></th>\n",
       "      <th>1.000000000000000000e+00</th>\n",
       "      <th>7.582644820213317871e-01</th>\n",
       "      <th>1.115702465176582336e-01</th>\n",
       "      <th>0.000000000000000000e+00</th>\n",
       "      <th>8.057851344347000122e-02</th>\n",
       "      <th>7.851240038871765137e-02</th>\n",
       "      <th>6.611569970846176147e-02</th>\n",
       "      <th>4.958677664399147034e-02</th>\n",
       "      <th>4.752065986394882202e-02</th>\n",
       "      <th>3.512396663427352905e-02</th>\n",
       "      <th>...</th>\n",
       "      <th>0.000000000000000000e+00.56</th>\n",
       "      <th>0.000000000000000000e+00.57</th>\n",
       "      <th>0.000000000000000000e+00.58</th>\n",
       "      <th>0.000000000000000000e+00.59</th>\n",
       "      <th>0.000000000000000000e+00.60</th>\n",
       "      <th>0.000000000000000000e+00.61</th>\n",
       "      <th>0.000000000000000000e+00.62</th>\n",
       "      <th>0.000000000000000000e+00.63</th>\n",
       "      <th>0.000000000000000000e+00.64</th>\n",
       "      <th>0.000000000000000000e+00.65</th>\n",
       "    </tr>\n",
       "  </thead>\n",
       "  <tbody>\n",
       "    <tr>\n",
       "      <th>0</th>\n",
       "      <td>0.908425</td>\n",
       "      <td>0.783883</td>\n",
       "      <td>0.531136</td>\n",
       "      <td>0.362637</td>\n",
       "      <td>0.366300</td>\n",
       "      <td>0.344322</td>\n",
       "      <td>0.333333</td>\n",
       "      <td>0.307692</td>\n",
       "      <td>0.296703</td>\n",
       "      <td>0.300366</td>\n",
       "      <td>...</td>\n",
       "      <td>0.0</td>\n",
       "      <td>0.0</td>\n",
       "      <td>0.0</td>\n",
       "      <td>0.0</td>\n",
       "      <td>0.0</td>\n",
       "      <td>0.0</td>\n",
       "      <td>0.0</td>\n",
       "      <td>0.0</td>\n",
       "      <td>0.0</td>\n",
       "      <td>0.0</td>\n",
       "    </tr>\n",
       "    <tr>\n",
       "      <th>1</th>\n",
       "      <td>0.730088</td>\n",
       "      <td>0.212389</td>\n",
       "      <td>0.000000</td>\n",
       "      <td>0.119469</td>\n",
       "      <td>0.101770</td>\n",
       "      <td>0.101770</td>\n",
       "      <td>0.110619</td>\n",
       "      <td>0.123894</td>\n",
       "      <td>0.115044</td>\n",
       "      <td>0.132743</td>\n",
       "      <td>...</td>\n",
       "      <td>0.0</td>\n",
       "      <td>0.0</td>\n",
       "      <td>0.0</td>\n",
       "      <td>0.0</td>\n",
       "      <td>0.0</td>\n",
       "      <td>0.0</td>\n",
       "      <td>0.0</td>\n",
       "      <td>0.0</td>\n",
       "      <td>0.0</td>\n",
       "      <td>0.0</td>\n",
       "    </tr>\n",
       "    <tr>\n",
       "      <th>2</th>\n",
       "      <td>1.000000</td>\n",
       "      <td>0.910417</td>\n",
       "      <td>0.681250</td>\n",
       "      <td>0.472917</td>\n",
       "      <td>0.229167</td>\n",
       "      <td>0.068750</td>\n",
       "      <td>0.000000</td>\n",
       "      <td>0.004167</td>\n",
       "      <td>0.014583</td>\n",
       "      <td>0.054167</td>\n",
       "      <td>...</td>\n",
       "      <td>0.0</td>\n",
       "      <td>0.0</td>\n",
       "      <td>0.0</td>\n",
       "      <td>0.0</td>\n",
       "      <td>0.0</td>\n",
       "      <td>0.0</td>\n",
       "      <td>0.0</td>\n",
       "      <td>0.0</td>\n",
       "      <td>0.0</td>\n",
       "      <td>0.0</td>\n",
       "    </tr>\n",
       "    <tr>\n",
       "      <th>3</th>\n",
       "      <td>0.570470</td>\n",
       "      <td>0.399329</td>\n",
       "      <td>0.238255</td>\n",
       "      <td>0.147651</td>\n",
       "      <td>0.000000</td>\n",
       "      <td>0.003356</td>\n",
       "      <td>0.040268</td>\n",
       "      <td>0.080537</td>\n",
       "      <td>0.070470</td>\n",
       "      <td>0.090604</td>\n",
       "      <td>...</td>\n",
       "      <td>0.0</td>\n",
       "      <td>0.0</td>\n",
       "      <td>0.0</td>\n",
       "      <td>0.0</td>\n",
       "      <td>0.0</td>\n",
       "      <td>0.0</td>\n",
       "      <td>0.0</td>\n",
       "      <td>0.0</td>\n",
       "      <td>0.0</td>\n",
       "      <td>0.0</td>\n",
       "    </tr>\n",
       "    <tr>\n",
       "      <th>4</th>\n",
       "      <td>1.000000</td>\n",
       "      <td>0.923664</td>\n",
       "      <td>0.656489</td>\n",
       "      <td>0.195929</td>\n",
       "      <td>0.111959</td>\n",
       "      <td>0.175573</td>\n",
       "      <td>0.122137</td>\n",
       "      <td>0.050891</td>\n",
       "      <td>0.035623</td>\n",
       "      <td>0.055980</td>\n",
       "      <td>...</td>\n",
       "      <td>0.0</td>\n",
       "      <td>0.0</td>\n",
       "      <td>0.0</td>\n",
       "      <td>0.0</td>\n",
       "      <td>0.0</td>\n",
       "      <td>0.0</td>\n",
       "      <td>0.0</td>\n",
       "      <td>0.0</td>\n",
       "      <td>0.0</td>\n",
       "      <td>0.0</td>\n",
       "    </tr>\n",
       "  </tbody>\n",
       "</table>\n",
       "<p>5 rows × 188 columns</p>\n",
       "</div>"
      ],
      "text/plain": [
       "   1.000000000000000000e+00  7.582644820213317871e-01  \\\n",
       "0                  0.908425                  0.783883   \n",
       "1                  0.730088                  0.212389   \n",
       "2                  1.000000                  0.910417   \n",
       "3                  0.570470                  0.399329   \n",
       "4                  1.000000                  0.923664   \n",
       "\n",
       "   1.115702465176582336e-01  0.000000000000000000e+00  \\\n",
       "0                  0.531136                  0.362637   \n",
       "1                  0.000000                  0.119469   \n",
       "2                  0.681250                  0.472917   \n",
       "3                  0.238255                  0.147651   \n",
       "4                  0.656489                  0.195929   \n",
       "\n",
       "   8.057851344347000122e-02  7.851240038871765137e-02  \\\n",
       "0                  0.366300                  0.344322   \n",
       "1                  0.101770                  0.101770   \n",
       "2                  0.229167                  0.068750   \n",
       "3                  0.000000                  0.003356   \n",
       "4                  0.111959                  0.175573   \n",
       "\n",
       "   6.611569970846176147e-02  4.958677664399147034e-02  \\\n",
       "0                  0.333333                  0.307692   \n",
       "1                  0.110619                  0.123894   \n",
       "2                  0.000000                  0.004167   \n",
       "3                  0.040268                  0.080537   \n",
       "4                  0.122137                  0.050891   \n",
       "\n",
       "   4.752065986394882202e-02  3.512396663427352905e-02  ...  \\\n",
       "0                  0.296703                  0.300366  ...   \n",
       "1                  0.115044                  0.132743  ...   \n",
       "2                  0.014583                  0.054167  ...   \n",
       "3                  0.070470                  0.090604  ...   \n",
       "4                  0.035623                  0.055980  ...   \n",
       "\n",
       "   0.000000000000000000e+00.56  0.000000000000000000e+00.57  \\\n",
       "0                          0.0                          0.0   \n",
       "1                          0.0                          0.0   \n",
       "2                          0.0                          0.0   \n",
       "3                          0.0                          0.0   \n",
       "4                          0.0                          0.0   \n",
       "\n",
       "   0.000000000000000000e+00.58  0.000000000000000000e+00.59  \\\n",
       "0                          0.0                          0.0   \n",
       "1                          0.0                          0.0   \n",
       "2                          0.0                          0.0   \n",
       "3                          0.0                          0.0   \n",
       "4                          0.0                          0.0   \n",
       "\n",
       "   0.000000000000000000e+00.60  0.000000000000000000e+00.61  \\\n",
       "0                          0.0                          0.0   \n",
       "1                          0.0                          0.0   \n",
       "2                          0.0                          0.0   \n",
       "3                          0.0                          0.0   \n",
       "4                          0.0                          0.0   \n",
       "\n",
       "   0.000000000000000000e+00.62  0.000000000000000000e+00.63  \\\n",
       "0                          0.0                          0.0   \n",
       "1                          0.0                          0.0   \n",
       "2                          0.0                          0.0   \n",
       "3                          0.0                          0.0   \n",
       "4                          0.0                          0.0   \n",
       "\n",
       "   0.000000000000000000e+00.64  0.000000000000000000e+00.65  \n",
       "0                          0.0                          0.0  \n",
       "1                          0.0                          0.0  \n",
       "2                          0.0                          0.0  \n",
       "3                          0.0                          0.0  \n",
       "4                          0.0                          0.0  \n",
       "\n",
       "[5 rows x 188 columns]"
      ]
     },
     "execution_count": 30,
     "metadata": {},
     "output_type": "execute_result"
    }
   ],
   "source": [
    "test_df.head()"
   ]
  },
  {
   "cell_type": "code",
   "execution_count": 32,
   "metadata": {},
   "outputs": [
    {
     "data": {
      "text/plain": [
       "0.0    72470\n",
       "4.0     6431\n",
       "2.0     5788\n",
       "1.0     2223\n",
       "3.0      641\n",
       "Name: 0.000000000000000000e+00.88, dtype: int64"
      ]
     },
     "execution_count": 32,
     "metadata": {},
     "output_type": "execute_result"
    }
   ],
   "source": [
    "# Classes: \n",
    "\n",
    "train_df.iloc[:,187].value_counts()"
   ]
  },
  {
   "cell_type": "markdown",
   "metadata": {},
   "source": [
    "It can be seen that the classes for the different ECG heart beats is very imbalanced, with class 3 having inly 641 and Normal beats being 72470. A resampling and downsampling approach will be used to correct for this imbalance."
   ]
  },
  {
   "cell_type": "code",
   "execution_count": 31,
   "metadata": {},
   "outputs": [],
   "source": [
    "class_0 = train_df[train_df.iloc[:,187] == 0]\n",
    "class_1 = train_df[train_df.iloc[:,187] == 1]\n",
    "class_2 = train_df[train_df.iloc[:,187] == 2]\n",
    "class_3 = train_df[train_df.iloc[:,187] == 3]\n",
    "class_4 = train_df[train_df.iloc[:,187] == 4]"
   ]
  },
  {
   "cell_type": "code",
   "execution_count": 33,
   "metadata": {},
   "outputs": [],
   "source": [
    "class_0_downsample = class_0.sample(n=15000, random_state = 42)\n",
    "class_1_upsample = class_1.sample(n=15000, random_state = 42, replace = True)\n",
    "class_2_upsample = class_2.sample(n=15000, random_state = 42, replace = True)\n",
    "class_3_upsample = class_3.sample(n=15000, random_state = 42, replace = True)\n",
    "class_4_upsample = class_4.sample(n=15000, random_state = 42, replace = True)\n"
   ]
  },
  {
   "cell_type": "code",
   "execution_count": 34,
   "metadata": {},
   "outputs": [],
   "source": [
    "train_df=pd.concat([class_0_downsample,class_1_upsample,class_2_upsample,class_3_upsample,class_4_upsample])"
   ]
  },
  {
   "cell_type": "code",
   "execution_count": 36,
   "metadata": {},
   "outputs": [
    {
     "data": {
      "text/plain": [
       "1.0    15000\n",
       "3.0    15000\n",
       "4.0    15000\n",
       "2.0    15000\n",
       "0.0    15000\n",
       "Name: 0.000000000000000000e+00.88, dtype: int64"
      ]
     },
     "execution_count": 36,
     "metadata": {},
     "output_type": "execute_result"
    }
   ],
   "source": [
    "train_df.iloc[:,187].value_counts()"
   ]
  },
  {
   "cell_type": "markdown",
   "metadata": {},
   "source": [
    "## Data visualization of different types of heartbeats"
   ]
  },
  {
   "cell_type": "code",
   "execution_count": 48,
   "metadata": {
    "scrolled": true
   },
   "outputs": [
    {
     "data": {
      "image/png": "[encoded data removed]",
      "text/plain": [
       "<Figure size 432x288 with 1 Axes>"
      ]
     },
     "metadata": {
      "needs_background": "light"
     },
     "output_type": "display_data"
    }
   ],
   "source": [
    "plt.plot(train_df.iloc[0,:186])\n",
    "plt.xticks([], [])\n",
    "plt.show()\n"
   ]
  },
  {
   "cell_type": "code",
   "execution_count": 49,
   "metadata": {},
   "outputs": [
    {
     "data": {
      "image/png": "[encoded data removed]",
      "text/plain": [
       "<Figure size 432x288 with 1 Axes>"
      ]
     },
     "metadata": {
      "needs_background": "light"
     },
     "output_type": "display_data"
    }
   ],
   "source": [
    "plt.plot(train_df.iloc[15001,:186])\n",
    "plt.xticks([], [])\n",
    "plt.show()"
   ]
  },
  {
   "cell_type": "code",
   "execution_count": 50,
   "metadata": {},
   "outputs": [
    {
     "data": {
      "image/png": "[encoded data removed]",
      "text/plain": [
       "<Figure size 432x288 with 1 Axes>"
      ]
     },
     "metadata": {
      "needs_background": "light"
     },
     "output_type": "display_data"
    }
   ],
   "source": [
    "plt.plot(train_df.iloc[30001,:186])\n",
    "plt.xticks([], [])\n",
    "plt.show()"
   ]
  },
  {
   "cell_type": "code",
   "execution_count": 51,
   "metadata": {},
   "outputs": [
    {
     "data": {
      "image/png": "[encoded data removed]",
      "text/plain": [
       "<Figure size 432x288 with 1 Axes>"
      ]
     },
     "metadata": {
      "needs_background": "light"
     },
     "output_type": "display_data"
    }
   ],
   "source": [
    "plt.plot(train_df.iloc[45001,:186])\n",
    "plt.xticks([], [])\n",
    "plt.show()"
   ]
  },
  {
   "cell_type": "code",
   "execution_count": 52,
   "metadata": {},
   "outputs": [
    {
     "data": {
      "image/png": "[encoded data removed]",
      "text/plain": [
       "<Figure size 432x288 with 1 Axes>"
      ]
     },
     "metadata": {
      "needs_background": "light"
     },
     "output_type": "display_data"
    }
   ],
   "source": [
    "plt.plot(train_df.iloc[60001,:186])\n",
    "plt.xticks([], [])\n",
    "plt.show()"
   ]
  },
  {
   "cell_type": "markdown",
   "metadata": {},
   "source": [
    "### Train test validation split"
   ]
  },
  {
   "cell_type": "code",
   "execution_count": 54,
   "metadata": {},
   "outputs": [],
   "source": [
    "from sklearn.model_selection import train_test_split"
   ]
  },
  {
   "cell_type": "code",
   "execution_count": 107,
   "metadata": {},
   "outputs": [],
   "source": [
    "# Validation set creation for evaluation of hyperparameters\n",
    "x_train, x_test, y_train, y_test = train_test_split(train_df.iloc[:, :186], train_df.iloc[:,187], test_size = 0.1, random_state = 42)"
   ]
  },
  {
   "cell_type": "code",
   "execution_count": 108,
   "metadata": {},
   "outputs": [],
   "source": [
    "def add_gaussian_noise(signal):\n",
    "    noise=np.random.normal(0,0.025,186)\n",
    "    return (signal+noise)"
   ]
  },
  {
   "cell_type": "markdown",
   "metadata": {},
   "source": [
    "Gaussian noise is added to the signal to augment data and make the final model better at generalizing at unseen inputs."
   ]
  },
  {
   "cell_type": "code",
   "execution_count": 109,
   "metadata": {},
   "outputs": [],
   "source": [
    "for row in range(0, len(x_train)):\n",
    "    signal = np.array(x_train.iloc[row,:])\n",
    "    x_train.iloc[row, :] = add_gaussian_noise(signal)"
   ]
  },
  {
   "cell_type": "code",
   "execution_count": 110,
   "metadata": {
    "scrolled": true
   },
   "outputs": [
    {
     "data": {
      "image/png": "[encoded data removed]",
      "text/plain": [
       "<Figure size 432x288 with 1 Axes>"
      ]
     },
     "metadata": {
      "needs_background": "light"
     },
     "output_type": "display_data"
    }
   ],
   "source": [
    "plt.plot(x_train.iloc[0,:186])\n",
    "plt.xticks([], [])\n",
    "plt.show()"
   ]
  },
  {
   "cell_type": "markdown",
   "metadata": {},
   "source": [
    "Visualization of the signal with the added noise."
   ]
  },
  {
   "cell_type": "code",
   "execution_count": 123,
   "metadata": {
    "scrolled": true
   },
   "outputs": [
    {
     "data": {
      "text/html": [
       "<div>\n",
       "<style scoped>\n",
       "    .dataframe tbody tr th:only-of-type {\n",
       "        vertical-align: middle;\n",
       "    }\n",
       "\n",
       "    .dataframe tbody tr th {\n",
       "        vertical-align: top;\n",
       "    }\n",
       "\n",
       "    .dataframe thead th {\n",
       "        text-align: right;\n",
       "    }\n",
       "</style>\n",
       "<table border=\"1\" class=\"dataframe\">\n",
       "  <thead>\n",
       "    <tr style=\"text-align: right;\">\n",
       "      <th></th>\n",
       "      <th>9.779411554336547852e-01</th>\n",
       "      <th>9.264705777168273926e-01</th>\n",
       "      <th>6.813725233078002930e-01</th>\n",
       "      <th>2.450980395078659058e-01</th>\n",
       "      <th>1.544117629528045654e-01</th>\n",
       "      <th>1.911764740943908691e-01</th>\n",
       "      <th>1.519607901573181152e-01</th>\n",
       "      <th>8.578431606292724609e-02</th>\n",
       "      <th>5.882352963089942932e-02</th>\n",
       "      <th>4.901960864663124084e-02</th>\n",
       "      <th>...</th>\n",
       "      <th>0.000000000000000000e+00.77</th>\n",
       "      <th>0.000000000000000000e+00.78</th>\n",
       "      <th>0.000000000000000000e+00.79</th>\n",
       "      <th>0.000000000000000000e+00.80</th>\n",
       "      <th>0.000000000000000000e+00.81</th>\n",
       "      <th>0.000000000000000000e+00.82</th>\n",
       "      <th>0.000000000000000000e+00.83</th>\n",
       "      <th>0.000000000000000000e+00.84</th>\n",
       "      <th>0.000000000000000000e+00.85</th>\n",
       "      <th>0.000000000000000000e+00.86</th>\n",
       "    </tr>\n",
       "  </thead>\n",
       "  <tbody>\n",
       "    <tr>\n",
       "      <th>80958</th>\n",
       "      <td>0.640362</td>\n",
       "      <td>0.992021</td>\n",
       "      <td>1.025826</td>\n",
       "      <td>0.367242</td>\n",
       "      <td>0.087397</td>\n",
       "      <td>0.089057</td>\n",
       "      <td>0.058321</td>\n",
       "      <td>0.008826</td>\n",
       "      <td>0.022454</td>\n",
       "      <td>0.001565</td>\n",
       "      <td>...</td>\n",
       "      <td>0.006356</td>\n",
       "      <td>0.021983</td>\n",
       "      <td>-0.011212</td>\n",
       "      <td>0.014179</td>\n",
       "      <td>-0.014744</td>\n",
       "      <td>0.019840</td>\n",
       "      <td>-0.024282</td>\n",
       "      <td>-0.013976</td>\n",
       "      <td>0.050402</td>\n",
       "      <td>-0.013914</td>\n",
       "    </tr>\n",
       "    <tr>\n",
       "      <th>80548</th>\n",
       "      <td>0.980594</td>\n",
       "      <td>0.842986</td>\n",
       "      <td>0.524502</td>\n",
       "      <td>0.255154</td>\n",
       "      <td>0.120241</td>\n",
       "      <td>0.178245</td>\n",
       "      <td>0.138592</td>\n",
       "      <td>0.115439</td>\n",
       "      <td>0.085533</td>\n",
       "      <td>0.072315</td>\n",
       "      <td>...</td>\n",
       "      <td>-0.025174</td>\n",
       "      <td>0.050808</td>\n",
       "      <td>0.035318</td>\n",
       "      <td>0.005446</td>\n",
       "      <td>0.010913</td>\n",
       "      <td>0.010883</td>\n",
       "      <td>-0.014863</td>\n",
       "      <td>0.008176</td>\n",
       "      <td>0.081281</td>\n",
       "      <td>0.017527</td>\n",
       "    </tr>\n",
       "    <tr>\n",
       "      <th>83804</th>\n",
       "      <td>0.753611</td>\n",
       "      <td>0.626220</td>\n",
       "      <td>0.533716</td>\n",
       "      <td>0.431734</td>\n",
       "      <td>0.278630</td>\n",
       "      <td>0.137910</td>\n",
       "      <td>0.025894</td>\n",
       "      <td>0.066815</td>\n",
       "      <td>0.031852</td>\n",
       "      <td>0.076591</td>\n",
       "      <td>...</td>\n",
       "      <td>0.016879</td>\n",
       "      <td>-0.049641</td>\n",
       "      <td>0.028025</td>\n",
       "      <td>-0.007058</td>\n",
       "      <td>0.021559</td>\n",
       "      <td>0.008358</td>\n",
       "      <td>-0.016582</td>\n",
       "      <td>0.026763</td>\n",
       "      <td>0.019314</td>\n",
       "      <td>0.042620</td>\n",
       "    </tr>\n",
       "    <tr>\n",
       "      <th>80610</th>\n",
       "      <td>1.022965</td>\n",
       "      <td>0.846689</td>\n",
       "      <td>0.417225</td>\n",
       "      <td>0.100174</td>\n",
       "      <td>-0.031708</td>\n",
       "      <td>0.103672</td>\n",
       "      <td>0.088950</td>\n",
       "      <td>0.073535</td>\n",
       "      <td>0.065826</td>\n",
       "      <td>0.029647</td>\n",
       "      <td>...</td>\n",
       "      <td>-0.023515</td>\n",
       "      <td>0.022263</td>\n",
       "      <td>-0.030630</td>\n",
       "      <td>0.004837</td>\n",
       "      <td>0.035332</td>\n",
       "      <td>-0.017145</td>\n",
       "      <td>-0.020126</td>\n",
       "      <td>0.024094</td>\n",
       "      <td>0.029696</td>\n",
       "      <td>0.025581</td>\n",
       "    </tr>\n",
       "    <tr>\n",
       "      <th>73544</th>\n",
       "      <td>0.962577</td>\n",
       "      <td>0.975299</td>\n",
       "      <td>0.368859</td>\n",
       "      <td>0.016085</td>\n",
       "      <td>0.255807</td>\n",
       "      <td>0.261146</td>\n",
       "      <td>0.264237</td>\n",
       "      <td>0.219974</td>\n",
       "      <td>0.291598</td>\n",
       "      <td>0.320075</td>\n",
       "      <td>...</td>\n",
       "      <td>0.102428</td>\n",
       "      <td>-0.036930</td>\n",
       "      <td>-0.051363</td>\n",
       "      <td>0.004568</td>\n",
       "      <td>-0.028535</td>\n",
       "      <td>-0.013406</td>\n",
       "      <td>0.036865</td>\n",
       "      <td>-0.020972</td>\n",
       "      <td>0.016510</td>\n",
       "      <td>0.008693</td>\n",
       "    </tr>\n",
       "    <tr>\n",
       "      <th>...</th>\n",
       "      <td>...</td>\n",
       "      <td>...</td>\n",
       "      <td>...</td>\n",
       "      <td>...</td>\n",
       "      <td>...</td>\n",
       "      <td>...</td>\n",
       "      <td>...</td>\n",
       "      <td>...</td>\n",
       "      <td>...</td>\n",
       "      <td>...</td>\n",
       "      <td>...</td>\n",
       "      <td>...</td>\n",
       "      <td>...</td>\n",
       "      <td>...</td>\n",
       "      <td>...</td>\n",
       "      <td>...</td>\n",
       "      <td>...</td>\n",
       "      <td>...</td>\n",
       "      <td>...</td>\n",
       "      <td>...</td>\n",
       "      <td>...</td>\n",
       "    </tr>\n",
       "    <tr>\n",
       "      <th>80338</th>\n",
       "      <td>0.554093</td>\n",
       "      <td>0.519308</td>\n",
       "      <td>0.278781</td>\n",
       "      <td>-0.033431</td>\n",
       "      <td>0.028184</td>\n",
       "      <td>0.077697</td>\n",
       "      <td>0.063217</td>\n",
       "      <td>0.136768</td>\n",
       "      <td>0.072865</td>\n",
       "      <td>0.042411</td>\n",
       "      <td>...</td>\n",
       "      <td>0.350874</td>\n",
       "      <td>0.247204</td>\n",
       "      <td>0.269027</td>\n",
       "      <td>0.270009</td>\n",
       "      <td>0.315503</td>\n",
       "      <td>0.317233</td>\n",
       "      <td>0.282435</td>\n",
       "      <td>0.302726</td>\n",
       "      <td>0.253477</td>\n",
       "      <td>0.289944</td>\n",
       "    </tr>\n",
       "    <tr>\n",
       "      <th>38189</th>\n",
       "      <td>1.014582</td>\n",
       "      <td>0.914427</td>\n",
       "      <td>0.473932</td>\n",
       "      <td>0.183519</td>\n",
       "      <td>0.138295</td>\n",
       "      <td>0.133184</td>\n",
       "      <td>0.136175</td>\n",
       "      <td>0.101307</td>\n",
       "      <td>0.100756</td>\n",
       "      <td>0.035411</td>\n",
       "      <td>...</td>\n",
       "      <td>0.002726</td>\n",
       "      <td>-0.013724</td>\n",
       "      <td>-0.006630</td>\n",
       "      <td>-0.008958</td>\n",
       "      <td>-0.023340</td>\n",
       "      <td>0.005009</td>\n",
       "      <td>-0.053728</td>\n",
       "      <td>-0.023784</td>\n",
       "      <td>0.012343</td>\n",
       "      <td>-0.005118</td>\n",
       "    </tr>\n",
       "    <tr>\n",
       "      <th>80964</th>\n",
       "      <td>0.911943</td>\n",
       "      <td>0.999652</td>\n",
       "      <td>0.593834</td>\n",
       "      <td>0.287097</td>\n",
       "      <td>0.268644</td>\n",
       "      <td>0.317319</td>\n",
       "      <td>0.227244</td>\n",
       "      <td>0.257149</td>\n",
       "      <td>0.286659</td>\n",
       "      <td>0.322571</td>\n",
       "      <td>...</td>\n",
       "      <td>0.022253</td>\n",
       "      <td>-0.008754</td>\n",
       "      <td>-0.002558</td>\n",
       "      <td>-0.016441</td>\n",
       "      <td>-0.005915</td>\n",
       "      <td>-0.023681</td>\n",
       "      <td>-0.015874</td>\n",
       "      <td>-0.027180</td>\n",
       "      <td>0.025914</td>\n",
       "      <td>-0.009374</td>\n",
       "    </tr>\n",
       "    <tr>\n",
       "      <th>63270</th>\n",
       "      <td>0.982813</td>\n",
       "      <td>1.016527</td>\n",
       "      <td>0.431314</td>\n",
       "      <td>0.027842</td>\n",
       "      <td>0.212198</td>\n",
       "      <td>0.320323</td>\n",
       "      <td>0.325658</td>\n",
       "      <td>0.353630</td>\n",
       "      <td>0.270173</td>\n",
       "      <td>0.332163</td>\n",
       "      <td>...</td>\n",
       "      <td>-0.022491</td>\n",
       "      <td>0.012514</td>\n",
       "      <td>-0.018372</td>\n",
       "      <td>0.001370</td>\n",
       "      <td>0.074163</td>\n",
       "      <td>0.027617</td>\n",
       "      <td>0.003724</td>\n",
       "      <td>-0.030932</td>\n",
       "      <td>-0.026770</td>\n",
       "      <td>0.040955</td>\n",
       "    </tr>\n",
       "    <tr>\n",
       "      <th>74040</th>\n",
       "      <td>0.981699</td>\n",
       "      <td>0.940972</td>\n",
       "      <td>0.368012</td>\n",
       "      <td>-0.014759</td>\n",
       "      <td>0.062628</td>\n",
       "      <td>0.063892</td>\n",
       "      <td>0.140129</td>\n",
       "      <td>0.210376</td>\n",
       "      <td>0.174788</td>\n",
       "      <td>0.239186</td>\n",
       "      <td>...</td>\n",
       "      <td>0.014199</td>\n",
       "      <td>0.014205</td>\n",
       "      <td>-0.000884</td>\n",
       "      <td>-0.018747</td>\n",
       "      <td>-0.003837</td>\n",
       "      <td>0.016226</td>\n",
       "      <td>0.016047</td>\n",
       "      <td>0.050677</td>\n",
       "      <td>-0.038542</td>\n",
       "      <td>0.022866</td>\n",
       "    </tr>\n",
       "  </tbody>\n",
       "</table>\n",
       "<p>67500 rows × 186 columns</p>\n",
       "</div>"
      ],
      "text/plain": [
       "       9.779411554336547852e-01  9.264705777168273926e-01  \\\n",
       "80958                  0.640362                  0.992021   \n",
       "80548                  0.980594                  0.842986   \n",
       "83804                  0.753611                  0.626220   \n",
       "80610                  1.022965                  0.846689   \n",
       "73544                  0.962577                  0.975299   \n",
       "...                         ...                       ...   \n",
       "80338                  0.554093                  0.519308   \n",
       "38189                  1.014582                  0.914427   \n",
       "80964                  0.911943                  0.999652   \n",
       "63270                  0.982813                  1.016527   \n",
       "74040                  0.981699                  0.940972   \n",
       "\n",
       "       6.813725233078002930e-01  2.450980395078659058e-01  \\\n",
       "80958                  1.025826                  0.367242   \n",
       "80548                  0.524502                  0.255154   \n",
       "83804                  0.533716                  0.431734   \n",
       "80610                  0.417225                  0.100174   \n",
       "73544                  0.368859                  0.016085   \n",
       "...                         ...                       ...   \n",
       "80338                  0.278781                 -0.033431   \n",
       "38189                  0.473932                  0.183519   \n",
       "80964                  0.593834                  0.287097   \n",
       "63270                  0.431314                  0.027842   \n",
       "74040                  0.368012                 -0.014759   \n",
       "\n",
       "       1.544117629528045654e-01  1.911764740943908691e-01  \\\n",
       "80958                  0.087397                  0.089057   \n",
       "80548                  0.120241                  0.178245   \n",
       "83804                  0.278630                  0.137910   \n",
       "80610                 -0.031708                  0.103672   \n",
       "73544                  0.255807                  0.261146   \n",
       "...                         ...                       ...   \n",
       "80338                  0.028184                  0.077697   \n",
       "38189                  0.138295                  0.133184   \n",
       "80964                  0.268644                  0.317319   \n",
       "63270                  0.212198                  0.320323   \n",
       "74040                  0.062628                  0.063892   \n",
       "\n",
       "       1.519607901573181152e-01  8.578431606292724609e-02  \\\n",
       "80958                  0.058321                  0.008826   \n",
       "80548                  0.138592                  0.115439   \n",
       "83804                  0.025894                  0.066815   \n",
       "80610                  0.088950                  0.073535   \n",
       "73544                  0.264237                  0.219974   \n",
       "...                         ...                       ...   \n",
       "80338                  0.063217                  0.136768   \n",
       "38189                  0.136175                  0.101307   \n",
       "80964                  0.227244                  0.257149   \n",
       "63270                  0.325658                  0.353630   \n",
       "74040                  0.140129                  0.210376   \n",
       "\n",
       "       5.882352963089942932e-02  4.901960864663124084e-02  ...  \\\n",
       "80958                  0.022454                  0.001565  ...   \n",
       "80548                  0.085533                  0.072315  ...   \n",
       "83804                  0.031852                  0.076591  ...   \n",
       "80610                  0.065826                  0.029647  ...   \n",
       "73544                  0.291598                  0.320075  ...   \n",
       "...                         ...                       ...  ...   \n",
       "80338                  0.072865                  0.042411  ...   \n",
       "38189                  0.100756                  0.035411  ...   \n",
       "80964                  0.286659                  0.322571  ...   \n",
       "63270                  0.270173                  0.332163  ...   \n",
       "74040                  0.174788                  0.239186  ...   \n",
       "\n",
       "       0.000000000000000000e+00.77  0.000000000000000000e+00.78  \\\n",
       "80958                     0.006356                     0.021983   \n",
       "80548                    -0.025174                     0.050808   \n",
       "83804                     0.016879                    -0.049641   \n",
       "80610                    -0.023515                     0.022263   \n",
       "73544                     0.102428                    -0.036930   \n",
       "...                            ...                          ...   \n",
       "80338                     0.350874                     0.247204   \n",
       "38189                     0.002726                    -0.013724   \n",
       "80964                     0.022253                    -0.008754   \n",
       "63270                    -0.022491                     0.012514   \n",
       "74040                     0.014199                     0.014205   \n",
       "\n",
       "       0.000000000000000000e+00.79  0.000000000000000000e+00.80  \\\n",
       "80958                    -0.011212                     0.014179   \n",
       "80548                     0.035318                     0.005446   \n",
       "83804                     0.028025                    -0.007058   \n",
       "80610                    -0.030630                     0.004837   \n",
       "73544                    -0.051363                     0.004568   \n",
       "...                            ...                          ...   \n",
       "80338                     0.269027                     0.270009   \n",
       "38189                    -0.006630                    -0.008958   \n",
       "80964                    -0.002558                    -0.016441   \n",
       "63270                    -0.018372                     0.001370   \n",
       "74040                    -0.000884                    -0.018747   \n",
       "\n",
       "       0.000000000000000000e+00.81  0.000000000000000000e+00.82  \\\n",
       "80958                    -0.014744                     0.019840   \n",
       "80548                     0.010913                     0.010883   \n",
       "83804                     0.021559                     0.008358   \n",
       "80610                     0.035332                    -0.017145   \n",
       "73544                    -0.028535                    -0.013406   \n",
       "...                            ...                          ...   \n",
       "80338                     0.315503                     0.317233   \n",
       "38189                    -0.023340                     0.005009   \n",
       "80964                    -0.005915                    -0.023681   \n",
       "63270                     0.074163                     0.027617   \n",
       "74040                    -0.003837                     0.016226   \n",
       "\n",
       "       0.000000000000000000e+00.83  0.000000000000000000e+00.84  \\\n",
       "80958                    -0.024282                    -0.013976   \n",
       "80548                    -0.014863                     0.008176   \n",
       "83804                    -0.016582                     0.026763   \n",
       "80610                    -0.020126                     0.024094   \n",
       "73544                     0.036865                    -0.020972   \n",
       "...                            ...                          ...   \n",
       "80338                     0.282435                     0.302726   \n",
       "38189                    -0.053728                    -0.023784   \n",
       "80964                    -0.015874                    -0.027180   \n",
       "63270                     0.003724                    -0.030932   \n",
       "74040                     0.016047                     0.050677   \n",
       "\n",
       "       0.000000000000000000e+00.85  0.000000000000000000e+00.86  \n",
       "80958                     0.050402                    -0.013914  \n",
       "80548                     0.081281                     0.017527  \n",
       "83804                     0.019314                     0.042620  \n",
       "80610                     0.029696                     0.025581  \n",
       "73544                     0.016510                     0.008693  \n",
       "...                            ...                          ...  \n",
       "80338                     0.253477                     0.289944  \n",
       "38189                     0.012343                    -0.005118  \n",
       "80964                     0.025914                    -0.009374  \n",
       "63270                    -0.026770                     0.040955  \n",
       "74040                    -0.038542                     0.022866  \n",
       "\n",
       "[67500 rows x 186 columns]"
      ]
     },
     "execution_count": 123,
     "metadata": {},
     "output_type": "execute_result"
    }
   ],
   "source": [
    "x_train"
   ]
  },
  {
   "cell_type": "code",
   "execution_count": 148,
   "metadata": {},
   "outputs": [],
   "source": [
    "x_train = np.expand_dims(np.array(x_train),axis = 2)\n",
    "x_test = np.expand_dims(np.array(x_test), axis = 2)"
   ]
  },
  {
   "cell_type": "code",
   "execution_count": 153,
   "metadata": {},
   "outputs": [],
   "source": [
    "y_train = to_categorical(y_train)\n",
    "y_test = to_categorical(y_test)"
   ]
  },
  {
   "cell_type": "code",
   "execution_count": 156,
   "metadata": {},
   "outputs": [],
   "source": [
    "model_1 = Sequential()\n",
    "model_1.add(Conv1D(32, 3, padding = \"same\", activation = \"relu\", kernel_initializer = \"glorot_uniform\", input_shape = (186,1)))\n",
    "model_1.add(BatchNormalization())\n",
    "model_1.add(MaxPool1D(pool_size = 2))\n",
    "\n",
    "\n",
    "model_1.add(Conv1D(64, 3, padding = \"same\", activation = \"relu\", kernel_initializer = \"glorot_uniform\"))\n",
    "model_1.add(BatchNormalization())\n",
    "model_1.add(MaxPool1D(pool_size = 2))\n",
    "\n",
    "\n",
    "model_1.add(Conv1D(128, 3, padding = \"same\", activation = \"relu\", kernel_initializer = \"glorot_uniform\"))\n",
    "model_1.add(BatchNormalization())\n",
    "model_1.add(MaxPool1D(pool_size = 2))\n",
    "\n",
    "model_1.add(Conv1D(128, 3, padding = \"same\", activation = \"relu\", kernel_initializer = \"glorot_uniform\"))\n",
    "model_1.add(BatchNormalization())\n",
    "model_1.add(MaxPool1D(pool_size = 2))\n",
    "\n",
    "\n",
    "model_1.add(Flatten())\n",
    "model_1.add(Dense(64, activation =\"relu\"))\n",
    "model_1.add(Dropout(0.5))\n",
    "model_1.add(Dense(5, activation='softmax'))"
   ]
  },
  {
   "cell_type": "code",
   "execution_count": 157,
   "metadata": {
    "scrolled": false
   },
   "outputs": [
    {
     "name": "stdout",
     "output_type": "stream",
     "text": [
      "Model: \"sequential_10\"\n",
      "_________________________________________________________________\n",
      "Layer (type)                 Output Shape              Param #   \n",
      "=================================================================\n",
      "conv1d_14 (Conv1D)           (None, 186, 32)           128       \n",
      "_________________________________________________________________\n",
      "batch_normalization_9 (Batch (None, 186, 32)           128       \n",
      "_________________________________________________________________\n",
      "max_pooling1d_9 (MaxPooling1 (None, 93, 32)            0         \n",
      "_________________________________________________________________\n",
      "conv1d_15 (Conv1D)           (None, 93, 64)            6208      \n",
      "_________________________________________________________________\n",
      "batch_normalization_10 (Batc (None, 93, 64)            256       \n",
      "_________________________________________________________________\n",
      "max_pooling1d_10 (MaxPooling (None, 46, 64)            0         \n",
      "_________________________________________________________________\n",
      "conv1d_16 (Conv1D)           (None, 46, 128)           24704     \n",
      "_________________________________________________________________\n",
      "batch_normalization_11 (Batc (None, 46, 128)           512       \n",
      "_________________________________________________________________\n",
      "max_pooling1d_11 (MaxPooling (None, 23, 128)           0         \n",
      "_________________________________________________________________\n",
      "conv1d_17 (Conv1D)           (None, 23, 128)           49280     \n",
      "_________________________________________________________________\n",
      "batch_normalization_12 (Batc (None, 23, 128)           512       \n",
      "_________________________________________________________________\n",
      "max_pooling1d_12 (MaxPooling (None, 11, 128)           0         \n",
      "_________________________________________________________________\n",
      "flatten_3 (Flatten)          (None, 1408)              0         \n",
      "_________________________________________________________________\n",
      "dense_2 (Dense)              (None, 64)                90176     \n",
      "_________________________________________________________________\n",
      "dropout_2 (Dropout)          (None, 64)                0         \n",
      "_________________________________________________________________\n",
      "main_output (Dense)          (None, 5)                 325       \n",
      "=================================================================\n",
      "Total params: 172,229\n",
      "Trainable params: 171,525\n",
      "Non-trainable params: 704\n",
      "_________________________________________________________________\n"
     ]
    }
   ],
   "source": [
    "model_1.summary()"
   ]
  },
  {
   "cell_type": "markdown",
   "metadata": {},
   "source": [
    "The main idea behind the created model is to use 1D convolutions to extract the most important features that will allow the feed-forward network to classify the different types of heartbeats correctly."
   ]
  },
  {
   "cell_type": "markdown",
   "metadata": {},
   "source": [
    "Willl use Adam optimizer to train the CNN."
   ]
  },
  {
   "cell_type": "code",
   "execution_count": 158,
   "metadata": {},
   "outputs": [],
   "source": [
    "Adam = tf.keras.optimizers.Adam(\n",
    "    learning_rate=0.001, beta_1=0.9, beta_2=0.999, epsilon=1e-07, amsgrad=False)"
   ]
  },
  {
   "cell_type": "code",
   "execution_count": 159,
   "metadata": {},
   "outputs": [],
   "source": [
    "model_1.compile(optimizer= Adam, loss='categorical_crossentropy',metrics = [tf.keras.metrics.Precision(), 'accuracy'])"
   ]
  },
  {
   "cell_type": "code",
   "execution_count": 160,
   "metadata": {},
   "outputs": [],
   "source": [
    "callbacks = [EarlyStopping(monitor='val_loss', patience=8),\n",
    "             ModelCheckpoint(filepath='best_model.h5', monitor='val_loss', save_best_only=False)]"
   ]
  },
  {
   "cell_type": "code",
   "execution_count": 161,
   "metadata": {},
   "outputs": [
    {
     "name": "stdout",
     "output_type": "stream",
     "text": [
      "Train on 67500 samples, validate on 7500 samples\n",
      "Epoch 1/40\n",
      "67500/67500 [==============================] - 13s 194us/step - loss: 0.4007 - precision_4: 0.8513 - accuracy: 0.8541 - val_loss: 0.1852 - val_precision_4: 0.8942 - val_accuracy: 0.9279\n",
      "Epoch 2/40\n",
      "  896/67500 [..............................] - ETA: 12s - loss: 0.2363 - precision_4: 0.8967 - accuracy: 0.9118"
     ]
    },
    {
     "name": "stderr",
     "output_type": "stream",
     "text": [
      "C:\\Users\\jpcar\\Anaconda3\\envs\\tensorflow\\lib\\site-packages\\keras\\engine\\saving.py:165: UserWarning: TensorFlow optimizers do not make it possible to access optimizer attributes or optimizer state after instantiation. As a result, we cannot save the optimizer as part of the model save file.You will have to compile your model again after loading it. Prefer using a Keras optimizer instead (see keras.io/optimizers).\n",
      "  'TensorFlow optimizers do not '\n"
     ]
    },
    {
     "name": "stdout",
     "output_type": "stream",
     "text": [
      "67500/67500 [==============================] - 13s 185us/step - loss: 0.2272 - precision_4: 0.9064 - accuracy: 0.9166 - val_loss: 0.1145 - val_precision_4: 0.9155 - val_accuracy: 0.9597\n",
      "Epoch 3/40\n",
      "67500/67500 [==============================] - 13s 185us/step - loss: 0.1712 - precision_4: 0.9221 - accuracy: 0.9384 - val_loss: 0.1489 - val_precision_4: 0.9270 - val_accuracy: 0.9420\n",
      "Epoch 4/40\n",
      "67500/67500 [==============================] - 13s 186us/step - loss: 0.1413 - precision_4: 0.9309 - accuracy: 0.9491 - val_loss: 0.1152 - val_precision_4: 0.9342 - val_accuracy: 0.9541\n",
      "Epoch 5/40\n",
      "67500/67500 [==============================] - 12s 185us/step - loss: 0.1179 - precision_4: 0.9374 - accuracy: 0.9579 - val_loss: 0.0808 - val_precision_4: 0.9402 - val_accuracy: 0.9717\n",
      "Epoch 6/40\n",
      "67500/67500 [==============================] - 12s 184us/step - loss: 0.1015 - precision_4: 0.9426 - accuracy: 0.9642 - val_loss: 0.0703 - val_precision_4: 0.9450 - val_accuracy: 0.9777\n",
      "Epoch 7/40\n",
      "67500/67500 [==============================] - 13s 185us/step - loss: 0.0917 - precision_4: 0.9470 - accuracy: 0.9675 - val_loss: 0.0699 - val_precision_4: 0.9488 - val_accuracy: 0.9784\n",
      "Epoch 8/40\n",
      "67500/67500 [==============================] - 12s 184us/step - loss: 0.0817 - precision_4: 0.9505 - accuracy: 0.9714 - val_loss: 0.0784 - val_precision_4: 0.9520 - val_accuracy: 0.9736\n",
      "Epoch 9/40\n",
      "67500/67500 [==============================] - 12s 184us/step - loss: 0.0764 - precision_4: 0.9534 - accuracy: 0.9726 - val_loss: 0.0601 - val_precision_4: 0.9546 - val_accuracy: 0.9829\n",
      "Epoch 10/40\n",
      "67500/67500 [==============================] - 12s 184us/step - loss: 0.0721 - precision_4: 0.9558 - accuracy: 0.9742 - val_loss: 0.0529 - val_precision_4: 0.9569 - val_accuracy: 0.9816\n",
      "Epoch 11/40\n",
      "67500/67500 [==============================] - 12s 183us/step - loss: 0.0639 - precision_4: 0.9580 - accuracy: 0.9775 - val_loss: 0.0626 - val_precision_4: 0.9590 - val_accuracy: 0.9819\n",
      "Epoch 12/40\n",
      "67500/67500 [==============================] - 13s 186us/step - loss: 0.0636 - precision_4: 0.9599 - accuracy: 0.9783 - val_loss: 0.0551 - val_precision_4: 0.9608 - val_accuracy: 0.9844\n",
      "Epoch 13/40\n",
      "67500/67500 [==============================] - 13s 185us/step - loss: 0.0572 - precision_4: 0.9616 - accuracy: 0.9801 - val_loss: 0.0498 - val_precision_4: 0.9624 - val_accuracy: 0.9841\n",
      "Epoch 14/40\n",
      "67500/67500 [==============================] - 12s 185us/step - loss: 0.0536 - precision_4: 0.9632 - accuracy: 0.9815 - val_loss: 0.0442 - val_precision_4: 0.9639 - val_accuracy: 0.9868\n",
      "Epoch 15/40\n",
      "67500/67500 [==============================] - 12s 184us/step - loss: 0.0529 - precision_4: 0.9646 - accuracy: 0.9823 - val_loss: 0.1080 - val_precision_4: 0.9651 - val_accuracy: 0.9588\n",
      "Epoch 16/40\n",
      "67500/67500 [==============================] - 12s 184us/step - loss: 0.0485 - precision_4: 0.9657 - accuracy: 0.9829 - val_loss: 0.0935 - val_precision_4: 0.9662 - val_accuracy: 0.9731\n",
      "Epoch 17/40\n",
      "67500/67500 [==============================] - 13s 187us/step - loss: 0.0479 - precision_4: 0.9668 - accuracy: 0.9839 - val_loss: 0.0516 - val_precision_4: 0.9673 - val_accuracy: 0.9855\n",
      "Epoch 18/40\n",
      "67500/67500 [==============================] - 12s 185us/step - loss: 0.0447 - precision_4: 0.9678 - accuracy: 0.9844 - val_loss: 0.0527 - val_precision_4: 0.9683 - val_accuracy: 0.9864\n",
      "Epoch 19/40\n",
      "67500/67500 [==============================] - 12s 184us/step - loss: 0.0462 - precision_4: 0.9688 - accuracy: 0.9851 - val_loss: 0.0519 - val_precision_4: 0.9693 - val_accuracy: 0.9869\n",
      "Epoch 20/40\n",
      "67500/67500 [==============================] - 12s 185us/step - loss: 0.0422 - precision_4: 0.9697 - accuracy: 0.9854 - val_loss: 0.0582 - val_precision_4: 0.9701 - val_accuracy: 0.9868\n",
      "Epoch 21/40\n",
      "67500/67500 [==============================] - 13s 186us/step - loss: 0.0421 - precision_4: 0.9705 - accuracy: 0.9850 - val_loss: 0.0456 - val_precision_4: 0.9709 - val_accuracy: 0.9891\n",
      "Epoch 22/40\n",
      "67500/67500 [==============================] - 12s 185us/step - loss: 0.0407 - precision_4: 0.9713 - accuracy: 0.9862 - val_loss: 0.0546 - val_precision_4: 0.9716 - val_accuracy: 0.9855\n"
     ]
    },
    {
     "data": {
      "text/plain": [
       "<keras.callbacks.callbacks.History at 0x23d2016cb08>"
      ]
     },
     "execution_count": 161,
     "metadata": {},
     "output_type": "execute_result"
    }
   ],
   "source": [
    "model_1.fit(x_train, y_train, epochs = 40, callbacks = callbacks, batch_size = 32, validation_data = (x_test, y_test), verbose = 1)"
   ]
  },
  {
   "cell_type": "markdown",
   "metadata": {},
   "source": [
    "As we can see the model created has good performance with up to 98.55% accuracy and 97.16% of precision in validation."
   ]
  },
  {
   "cell_type": "code",
   "execution_count": 168,
   "metadata": {},
   "outputs": [],
   "source": [
    "final_test = np.expand_dims(np.array(test_df.iloc[:,:186]), axis = 2)"
   ]
  },
  {
   "cell_type": "code",
   "execution_count": 173,
   "metadata": {},
   "outputs": [],
   "source": [
    "predictions = np.argmax(model_1.predict(final_test), axis = 1)"
   ]
  },
  {
   "cell_type": "code",
   "execution_count": 179,
   "metadata": {},
   "outputs": [],
   "source": [
    "from sklearn.metrics import classification_report\n",
    "from sklearn.metrics import confusion_matrix"
   ]
  },
  {
   "cell_type": "code",
   "execution_count": 178,
   "metadata": {
    "scrolled": true
   },
   "outputs": [
    {
     "name": "stdout",
     "output_type": "stream",
     "text": [
      "              precision    recall  f1-score   support\n",
      "\n",
      "           0       0.96      0.99      0.98     17555\n",
      "           1       0.86      0.49      0.63       977\n",
      "           2       0.94      0.93      0.93      1466\n",
      "           3       0.89      0.57      0.69       253\n",
      "           4       0.99      0.97      0.98      1640\n",
      "\n",
      "    accuracy                           0.96     21891\n",
      "   macro avg       0.93      0.79      0.84     21891\n",
      "weighted avg       0.96      0.96      0.96     21891\n",
      "\n"
     ]
    }
   ],
   "source": [
    "print(classification_report(predictions, test_df.iloc[:,187]))"
   ]
  },
  {
   "cell_type": "markdown",
   "metadata": {},
   "source": [
    "As we can see the model has bad recall for categories 1 and 3, with 0.49 and 0.57 of recall for those specific categories."
   ]
  },
  {
   "cell_type": "code",
   "execution_count": 181,
   "metadata": {
    "scrolled": false
   },
   "outputs": [
    {
     "name": "stdout",
     "output_type": "stream",
     "text": [
      "[[17440    66    31     8    10]\n",
      " [  472   480    21     3     1]\n",
      " [   91     7  1358     7     3]\n",
      " [   74     3    31   144     1]\n",
      " [   40     0     7     0  1593]]\n"
     ]
    }
   ],
   "source": [
    "print(confusion_matrix(predictions, test_df.iloc[:,187]))"
   ]
  },
  {
   "cell_type": "markdown",
   "metadata": {},
   "source": [
    "For this second model the idea is to increase the number of trainable parameters to increase the capacity and thus, try to achieve an even better accuracy"
   ]
  },
  {
   "cell_type": "code",
   "execution_count": 185,
   "metadata": {},
   "outputs": [],
   "source": [
    "model_2 = Sequential()\n",
    "model_2.add(Conv1D(32, 3, padding = \"same\", activation = \"relu\", kernel_initializer = \"glorot_uniform\", input_shape = (186,1)))\n",
    "model_2.add(BatchNormalization())\n",
    "model_2.add(MaxPool1D(pool_size = 2))\n",
    "\n",
    "model_2.add(Conv1D(64, 3, padding = \"same\", activation = \"relu\", kernel_initializer = \"glorot_uniform\"))\n",
    "model_2.add(BatchNormalization())\n",
    "model_2.add(MaxPool1D(pool_size = 2))\n",
    "\n",
    "model_2.add(Conv1D(128, 3, padding = \"same\", activation = \"relu\", kernel_initializer = \"glorot_uniform\"))\n",
    "model_2.add(BatchNormalization())\n",
    "model_2.add(MaxPool1D(pool_size = 2))\n",
    "\n",
    "model_2.add(Conv1D(128, 3, padding = \"same\", activation = \"relu\", kernel_initializer = \"glorot_uniform\"))\n",
    "model_2.add(BatchNormalization())\n",
    "model_2.add(MaxPool1D(pool_size = 2))\n",
    "\n",
    "model_2.add(Conv1D(256, 3, padding = \"same\", activation = \"relu\", kernel_initializer = \"glorot_uniform\"))\n",
    "model_2.add(BatchNormalization())\n",
    "model_2.add(MaxPool1D(pool_size = 2))\n",
    "\n",
    "\n",
    "model_2.add(Flatten())\n",
    "model_2.add(Dense(128, activation =\"relu\"))\n",
    "model_2.add(Dropout(0.5))\n",
    "model_2.add(Dense(64, activation =\"relu\"))\n",
    "model_2.add(Dropout(0.5))\n",
    "model_2.add(Dense(5, activation='softmax'))"
   ]
  },
  {
   "cell_type": "code",
   "execution_count": 188,
   "metadata": {},
   "outputs": [
    {
     "name": "stdout",
     "output_type": "stream",
     "text": [
      "Model: \"sequential_11\"\n",
      "_________________________________________________________________\n",
      "Layer (type)                 Output Shape              Param #   \n",
      "=================================================================\n",
      "conv1d_18 (Conv1D)           (None, 186, 32)           128       \n",
      "_________________________________________________________________\n",
      "batch_normalization_13 (Batc (None, 186, 32)           128       \n",
      "_________________________________________________________________\n",
      "max_pooling1d_13 (MaxPooling (None, 93, 32)            0         \n",
      "_________________________________________________________________\n",
      "conv1d_19 (Conv1D)           (None, 93, 64)            6208      \n",
      "_________________________________________________________________\n",
      "batch_normalization_14 (Batc (None, 93, 64)            256       \n",
      "_________________________________________________________________\n",
      "max_pooling1d_14 (MaxPooling (None, 46, 64)            0         \n",
      "_________________________________________________________________\n",
      "conv1d_20 (Conv1D)           (None, 46, 128)           24704     \n",
      "_________________________________________________________________\n",
      "batch_normalization_15 (Batc (None, 46, 128)           512       \n",
      "_________________________________________________________________\n",
      "max_pooling1d_15 (MaxPooling (None, 23, 128)           0         \n",
      "_________________________________________________________________\n",
      "conv1d_21 (Conv1D)           (None, 23, 128)           49280     \n",
      "_________________________________________________________________\n",
      "batch_normalization_16 (Batc (None, 23, 128)           512       \n",
      "_________________________________________________________________\n",
      "max_pooling1d_16 (MaxPooling (None, 11, 128)           0         \n",
      "_________________________________________________________________\n",
      "conv1d_22 (Conv1D)           (None, 11, 256)           98560     \n",
      "_________________________________________________________________\n",
      "batch_normalization_17 (Batc (None, 11, 256)           1024      \n",
      "_________________________________________________________________\n",
      "max_pooling1d_17 (MaxPooling (None, 5, 256)            0         \n",
      "_________________________________________________________________\n",
      "flatten_4 (Flatten)          (None, 1280)              0         \n",
      "_________________________________________________________________\n",
      "dense_3 (Dense)              (None, 128)               163968    \n",
      "_________________________________________________________________\n",
      "dropout_3 (Dropout)          (None, 128)               0         \n",
      "_________________________________________________________________\n",
      "dense_4 (Dense)              (None, 64)                8256      \n",
      "_________________________________________________________________\n",
      "dropout_4 (Dropout)          (None, 64)                0         \n",
      "_________________________________________________________________\n",
      "dense_5 (Dense)              (None, 5)                 325       \n",
      "=================================================================\n",
      "Total params: 353,861\n",
      "Trainable params: 352,645\n",
      "Non-trainable params: 1,216\n",
      "_________________________________________________________________\n"
     ]
    }
   ],
   "source": [
    "model_2.summary()"
   ]
  },
  {
   "cell_type": "code",
   "execution_count": 189,
   "metadata": {},
   "outputs": [],
   "source": [
    "Adam = tf.keras.optimizers.Adam(\n",
    "    learning_rate=0.01, beta_1=0.9, beta_2=0.999, epsilon=1e-07, amsgrad=False)"
   ]
  },
  {
   "cell_type": "code",
   "execution_count": 190,
   "metadata": {},
   "outputs": [],
   "source": [
    "model_2.compile(optimizer= Adam, loss='categorical_crossentropy',metrics = [tf.keras.metrics.Precision(), 'accuracy'])"
   ]
  },
  {
   "cell_type": "code",
   "execution_count": 191,
   "metadata": {},
   "outputs": [],
   "source": [
    "callbacks = [EarlyStopping(monitor='val_loss', patience=8),\n",
    "             ModelCheckpoint(filepath='best_model_2.h5', monitor='val_loss', save_best_only=False)]"
   ]
  },
  {
   "cell_type": "code",
   "execution_count": null,
   "metadata": {},
   "outputs": [],
   "source": []
  },
  {
   "cell_type": "code",
   "execution_count": 192,
   "metadata": {},
   "outputs": [
    {
     "name": "stdout",
     "output_type": "stream",
     "text": [
      "Train on 67500 samples, validate on 7500 samples\n",
      "Epoch 1/40\n",
      "67500/67500 [==============================] - 15s 228us/step - loss: 0.7222 - precision_6: 0.7736 - accuracy: 0.7540 - val_loss: 0.3889 - val_precision_6: 0.8461 - val_accuracy: 0.8787\n",
      "Epoch 2/40\n",
      "  800/67500 [..............................] - ETA: 14s - loss: 0.4669 - precision_6: 0.8504 - accuracy: 0.8425"
     ]
    },
    {
     "name": "stderr",
     "output_type": "stream",
     "text": [
      "C:\\Users\\jpcar\\Anaconda3\\envs\\tensorflow\\lib\\site-packages\\keras\\engine\\saving.py:165: UserWarning: TensorFlow optimizers do not make it possible to access optimizer attributes or optimizer state after instantiation. As a result, we cannot save the optimizer as part of the model save file.You will have to compile your model again after loading it. Prefer using a Keras optimizer instead (see keras.io/optimizers).\n",
      "  'TensorFlow optimizers do not '\n"
     ]
    },
    {
     "name": "stdout",
     "output_type": "stream",
     "text": [
      "67500/67500 [==============================] - 15s 215us/step - loss: 0.5339 - precision_6: 0.8568 - accuracy: 0.8298 - val_loss: 0.4983 - val_precision_6: 0.8623 - val_accuracy: 0.8667\n",
      "Epoch 3/40\n",
      "67500/67500 [==============================] - 14s 215us/step - loss: 0.5300 - precision_6: 0.8664 - accuracy: 0.8387 - val_loss: 0.4877 - val_precision_6: 0.8692 - val_accuracy: 0.8131\n",
      "Epoch 4/40\n",
      "67500/67500 [==============================] - 14s 215us/step - loss: 0.5690 - precision_6: 0.8704 - accuracy: 0.8261 - val_loss: 0.3767 - val_precision_6: 0.8717 - val_accuracy: 0.8665\n",
      "Epoch 5/40\n",
      "67500/67500 [==============================] - 15s 215us/step - loss: 0.5830 - precision_6: 0.8727 - accuracy: 0.8241 - val_loss: 0.4867 - val_precision_6: 0.8732 - val_accuracy: 0.8605\n",
      "Epoch 6/40\n",
      "67500/67500 [==============================] - 14s 214us/step - loss: 0.6031 - precision_6: 0.8734 - accuracy: 0.8171 - val_loss: 0.4030 - val_precision_6: 0.8737 - val_accuracy: 0.8689\n",
      "Epoch 7/40\n",
      "67500/67500 [==============================] - 14s 214us/step - loss: 0.5858 - precision_6: 0.8736 - accuracy: 0.8175 - val_loss: 0.4925 - val_precision_6: 0.8735 - val_accuracy: 0.8397\n",
      "Epoch 8/40\n",
      "67500/67500 [==============================] - 15s 216us/step - loss: 0.5992 - precision_6: 0.8735 - accuracy: 0.8162 - val_loss: 0.4030 - val_precision_6: 0.8735 - val_accuracy: 0.8619\n",
      "Epoch 9/40\n",
      "67500/67500 [==============================] - 15s 215us/step - loss: 0.6297 - precision_6: 0.8735 - accuracy: 0.8033 - val_loss: 0.4513 - val_precision_6: 0.8735 - val_accuracy: 0.8292\n",
      "Epoch 10/40\n",
      "67500/67500 [==============================] - 15s 216us/step - loss: 0.6230 - precision_6: 0.8735 - accuracy: 0.8066 - val_loss: 0.4403 - val_precision_6: 0.8735 - val_accuracy: 0.8420\n",
      "Epoch 11/40\n",
      "67500/67500 [==============================] - 15s 218us/step - loss: 0.6377 - precision_6: 0.8724 - accuracy: 0.8067 - val_loss: 0.6125 - val_precision_6: 0.8712 - val_accuracy: 0.7484\n",
      "Epoch 12/40\n",
      "67500/67500 [==============================] - 15s 217us/step - loss: 0.6482 - precision_6: 0.8710 - accuracy: 0.8003 - val_loss: 0.5493 - val_precision_6: 0.8698 - val_accuracy: 0.8125\n"
     ]
    },
    {
     "data": {
      "text/plain": [
       "<keras.callbacks.callbacks.History at 0x23d64912588>"
      ]
     },
     "execution_count": 192,
     "metadata": {},
     "output_type": "execute_result"
    }
   ],
   "source": [
    "model_2.fit(x_train, y_train, epochs = 40, callbacks = callbacks, batch_size = 32, validation_data = (x_test, y_test), verbose = 1)"
   ]
  },
  {
   "cell_type": "markdown",
   "metadata": {},
   "source": [
    "LR is too high in this experiment, model starts to diverge, shown by the increase of train and validation losses."
   ]
  },
  {
   "cell_type": "code",
   "execution_count": 197,
   "metadata": {},
   "outputs": [],
   "source": [
    "Adam = tf.keras.optimizers.Adam(\n",
    "    learning_rate=0.001, beta_1=0.9, beta_2=0.999, epsilon=1e-07, amsgrad=False)"
   ]
  },
  {
   "cell_type": "code",
   "execution_count": 198,
   "metadata": {},
   "outputs": [],
   "source": [
    "model_2.compile(optimizer= Adam, loss='categorical_crossentropy',metrics = [tf.keras.metrics.Precision(), 'accuracy'])"
   ]
  },
  {
   "cell_type": "code",
   "execution_count": 199,
   "metadata": {
    "scrolled": false
   },
   "outputs": [
    {
     "name": "stdout",
     "output_type": "stream",
     "text": [
      "Train on 67500 samples, validate on 7500 samples\n",
      "Epoch 1/40\n",
      "67500/67500 [==============================] - 15s 228us/step - loss: 0.5090 - precision_9: 0.8397 - accuracy: 0.8397 - val_loss: 0.3323 - val_precision_9: 0.8543 - val_accuracy: 0.8787\n",
      "Epoch 2/40\n",
      "  800/67500 [..............................] - ETA: 13s - loss: 0.4369 - precision_9: 0.8567 - accuracy: 0.8650"
     ]
    },
    {
     "name": "stderr",
     "output_type": "stream",
     "text": [
      "C:\\Users\\jpcar\\Anaconda3\\envs\\tensorflow\\lib\\site-packages\\keras\\engine\\saving.py:165: UserWarning: TensorFlow optimizers do not make it possible to access optimizer attributes or optimizer state after instantiation. As a result, we cannot save the optimizer as part of the model save file.You will have to compile your model again after loading it. Prefer using a Keras optimizer instead (see keras.io/optimizers).\n",
      "  'TensorFlow optimizers do not '\n"
     ]
    },
    {
     "name": "stdout",
     "output_type": "stream",
     "text": [
      "67500/67500 [==============================] - 15s 219us/step - loss: 0.4470 - precision_9: 0.8611 - accuracy: 0.8632 - val_loss: 0.3053 - val_precision_9: 0.8656 - val_accuracy: 0.8948\n",
      "Epoch 3/40\n",
      "67500/67500 [==============================] - 15s 219us/step - loss: 0.4092 - precision_9: 0.8692 - accuracy: 0.8748 - val_loss: 0.2915 - val_precision_9: 0.8722 - val_accuracy: 0.8965\n",
      "Epoch 4/40\n",
      "67500/67500 [==============================] - 15s 216us/step - loss: 0.3924 - precision_9: 0.8746 - accuracy: 0.8780 - val_loss: 0.2857 - val_precision_9: 0.8767 - val_accuracy: 0.8964\n",
      "Epoch 5/40\n",
      "67500/67500 [==============================] - 15s 217us/step - loss: 0.3799 - precision_9: 0.8785 - accuracy: 0.8827 - val_loss: 0.2667 - val_precision_9: 0.8802 - val_accuracy: 0.9063\n",
      "Epoch 6/40\n",
      "67500/67500 [==============================] - 15s 216us/step - loss: 0.3698 - precision_9: 0.8818 - accuracy: 0.8870 - val_loss: 0.2618 - val_precision_9: 0.8832 - val_accuracy: 0.9128\n",
      "Epoch 7/40\n",
      "67500/67500 [==============================] - 16s 240us/step - loss: 0.3602 - precision_9: 0.8845 - accuracy: 0.8880 - val_loss: 0.2673 - val_precision_9: 0.8855 - val_accuracy: 0.9125\n",
      "Epoch 8/40\n",
      "67500/67500 [==============================] - 16s 232us/step - loss: 0.3518 - precision_9: 0.8864 - accuracy: 0.8910 - val_loss: 0.2462 - val_precision_9: 0.8874 - val_accuracy: 0.9191\n",
      "Epoch 9/40\n",
      "67500/67500 [==============================] - 15s 220us/step - loss: 0.3479 - precision_9: 0.8884 - accuracy: 0.8929 - val_loss: 0.2550 - val_precision_9: 0.8892 - val_accuracy: 0.9203\n",
      "Epoch 10/40\n",
      "67500/67500 [==============================] - 15s 218us/step - loss: 0.3498 - precision_9: 0.8899 - accuracy: 0.8945 - val_loss: 0.2432 - val_precision_9: 0.8907 - val_accuracy: 0.9220\n",
      "Epoch 11/40\n",
      "67500/67500 [==============================] - 15s 223us/step - loss: 0.3367 - precision_9: 0.8915 - accuracy: 0.8983 - val_loss: 0.2408 - val_precision_9: 0.8923 - val_accuracy: 0.9229\n",
      "Epoch 12/40\n",
      "67500/67500 [==============================] - 15s 219us/step - loss: 0.3307 - precision_9: 0.8931 - accuracy: 0.9006 - val_loss: 0.2411 - val_precision_9: 0.8937 - val_accuracy: 0.9243\n",
      "Epoch 13/40\n",
      "67500/67500 [==============================] - 15s 218us/step - loss: 0.3318 - precision_9: 0.8943 - accuracy: 0.9007 - val_loss: 0.2587 - val_precision_9: 0.8949 - val_accuracy: 0.9151\n",
      "Epoch 14/40\n",
      "67500/67500 [==============================] - 15s 217us/step - loss: 0.3267 - precision_9: 0.8954 - accuracy: 0.9013 - val_loss: 0.2371 - val_precision_9: 0.8959 - val_accuracy: 0.9223\n",
      "Epoch 15/40\n",
      "67500/67500 [==============================] - 15s 222us/step - loss: 0.3197 - precision_9: 0.8965 - accuracy: 0.9044 - val_loss: 0.2269 - val_precision_9: 0.8970 - val_accuracy: 0.9267\n",
      "Epoch 16/40\n",
      "67500/67500 [==============================] - 15s 218us/step - loss: 0.3145 - precision_9: 0.8976 - accuracy: 0.9065 - val_loss: 0.2262 - val_precision_9: 0.8981 - val_accuracy: 0.9271\n",
      "Epoch 17/40\n",
      "67500/67500 [==============================] - 15s 216us/step - loss: 0.3099 - precision_9: 0.8986 - accuracy: 0.9063 - val_loss: 0.2249 - val_precision_9: 0.8992 - val_accuracy: 0.9231\n",
      "Epoch 18/40\n",
      "67500/67500 [==============================] - 15s 217us/step - loss: 0.2975 - precision_9: 0.8997 - accuracy: 0.9088 - val_loss: 0.2160 - val_precision_9: 0.9002 - val_accuracy: 0.9271\n",
      "Epoch 19/40\n",
      "67500/67500 [==============================] - 15s 218us/step - loss: 0.2916 - precision_9: 0.9007 - accuracy: 0.9097 - val_loss: 0.2064 - val_precision_9: 0.9012 - val_accuracy: 0.9297\n",
      "Epoch 20/40\n",
      "67500/67500 [==============================] - 15s 217us/step - loss: 0.2865 - precision_9: 0.9016 - accuracy: 0.9108 - val_loss: 0.2094 - val_precision_9: 0.9021 - val_accuracy: 0.9255\n",
      "Epoch 21/40\n",
      "67500/67500 [==============================] - 15s 216us/step - loss: 0.2819 - precision_9: 0.9025 - accuracy: 0.9119 - val_loss: 0.1938 - val_precision_9: 0.9030 - val_accuracy: 0.9321\n",
      "Epoch 22/40\n",
      "67500/67500 [==============================] - 15s 219us/step - loss: 0.2802 - precision_9: 0.9035 - accuracy: 0.9142 - val_loss: 0.1936 - val_precision_9: 0.9039 - val_accuracy: 0.9319\n",
      "Epoch 23/40\n",
      "67500/67500 [==============================] - 15s 222us/step - loss: 0.2717 - precision_9: 0.9044 - accuracy: 0.9143 - val_loss: 0.1782 - val_precision_9: 0.9048 - val_accuracy: 0.9349\n",
      "Epoch 24/40\n",
      "67500/67500 [==============================] - 15s 218us/step - loss: 0.2650 - precision_9: 0.9053 - accuracy: 0.9176 - val_loss: 0.1788 - val_precision_9: 0.9057 - val_accuracy: 0.9377\n",
      "Epoch 25/40\n",
      "67500/67500 [==============================] - 15s 218us/step - loss: 0.2645 - precision_9: 0.9061 - accuracy: 0.9188 - val_loss: 0.1762 - val_precision_9: 0.9066 - val_accuracy: 0.9376\n",
      "Epoch 26/40\n",
      "67500/67500 [==============================] - 15s 218us/step - loss: 0.2593 - precision_9: 0.9070 - accuracy: 0.9191 - val_loss: 0.1761 - val_precision_9: 0.9074 - val_accuracy: 0.9333\n",
      "Epoch 27/40\n",
      "67500/67500 [==============================] - 15s 217us/step - loss: 0.2585 - precision_9: 0.9078 - accuracy: 0.9195 - val_loss: 0.1677 - val_precision_9: 0.9082 - val_accuracy: 0.9376\n",
      "Epoch 28/40\n",
      "67500/67500 [==============================] - 15s 218us/step - loss: 0.2592 - precision_9: 0.9085 - accuracy: 0.9195 - val_loss: 0.1752 - val_precision_9: 0.9089 - val_accuracy: 0.9360\n",
      "Epoch 29/40\n",
      "67500/67500 [==============================] - 15s 216us/step - loss: 0.2498 - precision_9: 0.9093 - accuracy: 0.9217 - val_loss: 0.1691 - val_precision_9: 0.9096 - val_accuracy: 0.9423\n",
      "Epoch 30/40\n",
      "67500/67500 [==============================] - 15s 217us/step - loss: 0.2518 - precision_9: 0.9100 - accuracy: 0.9216 - val_loss: 0.1776 - val_precision_9: 0.9104 - val_accuracy: 0.9401\n",
      "Epoch 31/40\n",
      "67500/67500 [==============================] - 15s 220us/step - loss: 0.2447 - precision_9: 0.9107 - accuracy: 0.9232 - val_loss: 0.1622 - val_precision_9: 0.9111 - val_accuracy: 0.9409\n",
      "Epoch 32/40\n",
      "67500/67500 [==============================] - 15s 220us/step - loss: 0.2412 - precision_9: 0.9114 - accuracy: 0.9246 - val_loss: 0.1642 - val_precision_9: 0.9117 - val_accuracy: 0.9444\n",
      "Epoch 33/40\n",
      "67500/67500 [==============================] - 15s 221us/step - loss: 0.2413 - precision_9: 0.9121 - accuracy: 0.9258 - val_loss: 0.1551 - val_precision_9: 0.9124 - val_accuracy: 0.9445\n",
      "Epoch 34/40\n",
      "67500/67500 [==============================] - 15s 218us/step - loss: 0.2343 - precision_9: 0.9127 - accuracy: 0.9270 - val_loss: 0.1533 - val_precision_9: 0.9131 - val_accuracy: 0.9445\n",
      "Epoch 35/40\n",
      "67500/67500 [==============================] - 15s 218us/step - loss: 0.2333 - precision_9: 0.9134 - accuracy: 0.9274 - val_loss: 0.1668 - val_precision_9: 0.9137 - val_accuracy: 0.9419\n",
      "Epoch 36/40\n",
      "67500/67500 [==============================] - 15s 220us/step - loss: 0.2325 - precision_9: 0.9140 - accuracy: 0.9274 - val_loss: 0.1539 - val_precision_9: 0.9143 - val_accuracy: 0.9431\n",
      "Epoch 37/40\n",
      "67500/67500 [==============================] - 15s 222us/step - loss: 0.2311 - precision_9: 0.9145 - accuracy: 0.9279 - val_loss: 0.1542 - val_precision_9: 0.9148 - val_accuracy: 0.9453\n",
      "Epoch 38/40\n",
      "67500/67500 [==============================] - 15s 220us/step - loss: 0.2307 - precision_9: 0.9151 - accuracy: 0.9287 - val_loss: 0.1502 - val_precision_9: 0.9154 - val_accuracy: 0.9443\n",
      "Epoch 39/40\n",
      "67500/67500 [==============================] - 15s 223us/step - loss: 0.2261 - precision_9: 0.9157 - accuracy: 0.9296 - val_loss: 0.1585 - val_precision_9: 0.9160 - val_accuracy: 0.9411\n",
      "Epoch 40/40\n",
      "67500/67500 [==============================] - 15s 221us/step - loss: 0.2239 - precision_9: 0.9162 - accuracy: 0.9300 - val_loss: 0.1500 - val_precision_9: 0.9165 - val_accuracy: 0.9485\n"
     ]
    },
    {
     "data": {
      "text/plain": [
       "<keras.callbacks.callbacks.History at 0x23f9932f0c8>"
      ]
     },
     "execution_count": 199,
     "metadata": {},
     "output_type": "execute_result"
    }
   ],
   "source": [
    "model_2.fit(x_train, y_train, epochs = 40, callbacks = callbacks, batch_size = 32, validation_data = (x_test, y_test), verbose = 1)"
   ]
  },
  {
   "cell_type": "markdown",
   "metadata": {},
   "source": [
    "Callback triggers, stopping training due to a lack of improvement in the validation loss metric"
   ]
  },
  {
   "cell_type": "code",
   "execution_count": 200,
   "metadata": {},
   "outputs": [],
   "source": [
    "predictions = np.argmax(model_2.predict(final_test), axis = 1)"
   ]
  },
  {
   "cell_type": "code",
   "execution_count": 201,
   "metadata": {},
   "outputs": [
    {
     "name": "stdout",
     "output_type": "stream",
     "text": [
      "              precision    recall  f1-score   support\n",
      "\n",
      "           0       0.95      0.99      0.97     17369\n",
      "           1       0.78      0.56      0.65       777\n",
      "           2       0.94      0.89      0.91      1534\n",
      "           3       0.93      0.25      0.39       598\n",
      "           4       0.99      0.98      0.98      1613\n",
      "\n",
      "    accuracy                           0.95     21891\n",
      "   macro avg       0.92      0.73      0.78     21891\n",
      "weighted avg       0.95      0.95      0.94     21891\n",
      "\n"
     ]
    }
   ],
   "source": [
    "print(classification_report(predictions, test_df.iloc[:,187]))"
   ]
  },
  {
   "cell_type": "code",
   "execution_count": 202,
   "metadata": {
    "scrolled": false
   },
   "outputs": [
    {
     "name": "stdout",
     "output_type": "stream",
     "text": [
      "[[17208   102    39     7    13]\n",
      " [  340   435     2     0     0]\n",
      " [  156     8  1360     5     5]\n",
      " [  389    11    44   150     4]\n",
      " [   24     0     3     0  1586]]\n"
     ]
    }
   ],
   "source": [
    "print(confusion_matrix(predictions, test_df.iloc[:,187]))"
   ]
  },
  {
   "cell_type": "code",
   "execution_count": 204,
   "metadata": {},
   "outputs": [],
   "source": [
    "model_3 = Sequential()\n",
    "model_3.add(Conv1D(32, 3, padding = \"same\", activation = \"relu\", kernel_initializer = \"glorot_uniform\", input_shape = (186,1)))\n",
    "model_3.add(BatchNormalization())\n",
    "model_3.add(MaxPool1D(pool_size = 2))\n",
    "\n",
    "\n",
    "model_3.add(Conv1D(64, 3, padding = \"same\", activation = \"relu\", kernel_initializer = \"glorot_uniform\"))\n",
    "model_3.add(BatchNormalization())\n",
    "model_3.add(MaxPool1D(pool_size = 2))\n",
    "\n",
    "\n",
    "model_3.add(Conv1D(128, 3, padding = \"same\", activation = \"relu\", kernel_initializer = \"glorot_uniform\"))\n",
    "model_3.add(BatchNormalization())\n",
    "model_3.add(MaxPool1D(pool_size = 2))\n",
    "\n",
    "model_3.add(Conv1D(256, 3, padding = \"same\", activation = \"relu\", kernel_initializer = \"glorot_uniform\"))\n",
    "model_3.add(BatchNormalization())\n",
    "model_3.add(MaxPool1D(pool_size = 2))\n",
    "\n",
    "\n",
    "model_3.add(Flatten())\n",
    "model_3.add(Dense(128, activation =\"relu\"))\n",
    "model_3.add(Dense(64, activation =\"relu\"))\n",
    "model_3.add(Dropout(0.5))\n",
    "model_3.add(Dense(5, activation='softmax'))"
   ]
  },
  {
   "cell_type": "markdown",
   "metadata": {},
   "source": [
    "Last model is an attempt to further increase capacity of the model while maintaining some aspects that help regularize it, like Dropout and batch normalization between each convolutional layer."
   ]
  },
  {
   "cell_type": "code",
   "execution_count": 205,
   "metadata": {},
   "outputs": [
    {
     "name": "stdout",
     "output_type": "stream",
     "text": [
      "Model: \"sequential_13\"\n",
      "_________________________________________________________________\n",
      "Layer (type)                 Output Shape              Param #   \n",
      "=================================================================\n",
      "conv1d_27 (Conv1D)           (None, 186, 32)           128       \n",
      "_________________________________________________________________\n",
      "batch_normalization_22 (Batc (None, 186, 32)           128       \n",
      "_________________________________________________________________\n",
      "max_pooling1d_22 (MaxPooling (None, 93, 32)            0         \n",
      "_________________________________________________________________\n",
      "conv1d_28 (Conv1D)           (None, 93, 64)            6208      \n",
      "_________________________________________________________________\n",
      "batch_normalization_23 (Batc (None, 93, 64)            256       \n",
      "_________________________________________________________________\n",
      "max_pooling1d_23 (MaxPooling (None, 46, 64)            0         \n",
      "_________________________________________________________________\n",
      "conv1d_29 (Conv1D)           (None, 46, 128)           24704     \n",
      "_________________________________________________________________\n",
      "batch_normalization_24 (Batc (None, 46, 128)           512       \n",
      "_________________________________________________________________\n",
      "max_pooling1d_24 (MaxPooling (None, 23, 128)           0         \n",
      "_________________________________________________________________\n",
      "conv1d_30 (Conv1D)           (None, 23, 256)           98560     \n",
      "_________________________________________________________________\n",
      "batch_normalization_25 (Batc (None, 23, 256)           1024      \n",
      "_________________________________________________________________\n",
      "max_pooling1d_25 (MaxPooling (None, 11, 256)           0         \n",
      "_________________________________________________________________\n",
      "flatten_6 (Flatten)          (None, 2816)              0         \n",
      "_________________________________________________________________\n",
      "dense_9 (Dense)              (None, 128)               360576    \n",
      "_________________________________________________________________\n",
      "dense_10 (Dense)             (None, 64)                8256      \n",
      "_________________________________________________________________\n",
      "dropout_6 (Dropout)          (None, 64)                0         \n",
      "_________________________________________________________________\n",
      "dense_11 (Dense)             (None, 5)                 325       \n",
      "=================================================================\n",
      "Total params: 500,677\n",
      "Trainable params: 499,717\n",
      "Non-trainable params: 960\n",
      "_________________________________________________________________\n"
     ]
    }
   ],
   "source": [
    "model_3.summary()"
   ]
  },
  {
   "cell_type": "code",
   "execution_count": 206,
   "metadata": {},
   "outputs": [],
   "source": [
    "model_3.compile(optimizer= Adam, loss='categorical_crossentropy',metrics = [tf.keras.metrics.Precision(), 'accuracy'])"
   ]
  },
  {
   "cell_type": "code",
   "execution_count": 207,
   "metadata": {
    "scrolled": false
   },
   "outputs": [
    {
     "name": "stdout",
     "output_type": "stream",
     "text": [
      "Train on 67500 samples, validate on 7500 samples\n",
      "Epoch 1/40\n",
      "67500/67500 [==============================] - 13s 199us/step - loss: 0.4418 - precision_10: 0.8432 - accuracy: 0.8402 - val_loss: 0.1833 - val_precision_10: 0.9013 - val_accuracy: 0.9307\n",
      "Epoch 2/40\n",
      "  832/67500 [..............................] - ETA: 12s - loss: 0.2090 - precision_10: 0.9039 - accuracy: 0.9279"
     ]
    },
    {
     "name": "stderr",
     "output_type": "stream",
     "text": [
      "C:\\Users\\jpcar\\Anaconda3\\envs\\tensorflow\\lib\\site-packages\\keras\\engine\\saving.py:165: UserWarning: TensorFlow optimizers do not make it possible to access optimizer attributes or optimizer state after instantiation. As a result, we cannot save the optimizer as part of the model save file.You will have to compile your model again after loading it. Prefer using a Keras optimizer instead (see keras.io/optimizers).\n",
      "  'TensorFlow optimizers do not '\n"
     ]
    },
    {
     "name": "stdout",
     "output_type": "stream",
     "text": [
      "67500/67500 [==============================] - 13s 193us/step - loss: 0.1931 - precision_10: 0.9158 - accuracy: 0.9333 - val_loss: 0.1368 - val_precision_10: 0.9266 - val_accuracy: 0.9564\n",
      "Epoch 3/40\n",
      "67500/67500 [==============================] - 13s 190us/step - loss: 0.1294 - precision_10: 0.9339 - accuracy: 0.9573 - val_loss: 0.1171 - val_precision_10: 0.9396 - val_accuracy: 0.9573\n",
      "Epoch 4/40\n",
      "67500/67500 [==============================] - 13s 189us/step - loss: 0.0981 - precision_10: 0.9440 - accuracy: 0.9677 - val_loss: 0.0810 - val_precision_10: 0.9479 - val_accuracy: 0.9727\n",
      "Epoch 5/40\n",
      "67500/67500 [==============================] - 13s 191us/step - loss: 0.0795 - precision_10: 0.9512 - accuracy: 0.9745 - val_loss: 0.0810 - val_precision_10: 0.9540 - val_accuracy: 0.9748\n",
      "Epoch 6/40\n",
      "67500/67500 [==============================] - 13s 190us/step - loss: 0.0664 - precision_10: 0.9565 - accuracy: 0.9790 - val_loss: 0.0526 - val_precision_10: 0.9586 - val_accuracy: 0.9848\n",
      "Epoch 7/40\n",
      "67500/67500 [==============================] - 13s 190us/step - loss: 0.0574 - precision_10: 0.9606 - accuracy: 0.9822 - val_loss: 0.0521 - val_precision_10: 0.9623 - val_accuracy: 0.9843\n",
      "Epoch 8/40\n",
      "67500/67500 [==============================] - 13s 188us/step - loss: 0.0498 - precision_10: 0.9639 - accuracy: 0.9848 - val_loss: 0.0553 - val_precision_10: 0.9653 - val_accuracy: 0.9831\n",
      "Epoch 9/40\n",
      "67500/67500 [==============================] - 13s 190us/step - loss: 0.0463 - precision_10: 0.9665 - accuracy: 0.9853 - val_loss: 0.0522 - val_precision_10: 0.9677 - val_accuracy: 0.9859\n",
      "Epoch 10/40\n",
      "67500/67500 [==============================] - 13s 192us/step - loss: 0.0404 - precision_10: 0.9688 - accuracy: 0.9874 - val_loss: 0.0505 - val_precision_10: 0.9698 - val_accuracy: 0.9869\n",
      "Epoch 11/40\n",
      "67500/67500 [==============================] - 13s 190us/step - loss: 0.0374 - precision_10: 0.9707 - accuracy: 0.9890 - val_loss: 0.0454 - val_precision_10: 0.9716 - val_accuracy: 0.9880\n",
      "Epoch 12/40\n",
      "67500/67500 [==============================] - 13s 190us/step - loss: 0.0387 - precision_10: 0.9723 - accuracy: 0.9882 - val_loss: 0.0415 - val_precision_10: 0.9730 - val_accuracy: 0.9873\n",
      "Epoch 13/40\n",
      "67500/67500 [==============================] - 13s 189us/step - loss: 0.0332 - precision_10: 0.9738 - accuracy: 0.9900 - val_loss: 0.0401 - val_precision_10: 0.9744 - val_accuracy: 0.9884\n",
      "Epoch 14/40\n",
      "67500/67500 [==============================] - 13s 191us/step - loss: 0.0304 - precision_10: 0.9750 - accuracy: 0.9914 - val_loss: 0.0501 - val_precision_10: 0.9756 - val_accuracy: 0.9865\n",
      "Epoch 15/40\n",
      "67500/67500 [==============================] - 13s 190us/step - loss: 0.0308 - precision_10: 0.9762 - accuracy: 0.9910 - val_loss: 0.0472 - val_precision_10: 0.9767 - val_accuracy: 0.9883\n",
      "Epoch 16/40\n",
      "67500/67500 [==============================] - 13s 191us/step - loss: 0.0298 - precision_10: 0.9771 - accuracy: 0.9917 - val_loss: 0.0464 - val_precision_10: 0.9776 - val_accuracy: 0.9900\n",
      "Epoch 17/40\n",
      "67500/67500 [==============================] - 13s 191us/step - loss: 0.0267 - precision_10: 0.9781 - accuracy: 0.9921 - val_loss: 0.0449 - val_precision_10: 0.9785 - val_accuracy: 0.9881\n",
      "Epoch 18/40\n",
      "67500/67500 [==============================] - 13s 191us/step - loss: 0.0248 - precision_10: 0.9789 - accuracy: 0.9930 - val_loss: 0.0469 - val_precision_10: 0.9793 - val_accuracy: 0.9901\n",
      "Epoch 19/40\n",
      "67500/67500 [==============================] - 13s 191us/step - loss: 0.0256 - precision_10: 0.9797 - accuracy: 0.9927 - val_loss: 0.0580 - val_precision_10: 0.9800 - val_accuracy: 0.9875\n",
      "Epoch 20/40\n",
      "67500/67500 [==============================] - 13s 190us/step - loss: 0.0245 - precision_10: 0.9803 - accuracy: 0.9935 - val_loss: 0.0577 - val_precision_10: 0.9807 - val_accuracy: 0.9891\n",
      "Epoch 21/40\n",
      "67500/67500 [==============================] - 13s 191us/step - loss: 0.0238 - precision_10: 0.9810 - accuracy: 0.9937 - val_loss: 0.0595 - val_precision_10: 0.9813 - val_accuracy: 0.9863\n"
     ]
    },
    {
     "data": {
      "text/plain": [
       "<keras.callbacks.callbacks.History at 0x23fa4e03b08>"
      ]
     },
     "execution_count": 207,
     "metadata": {},
     "output_type": "execute_result"
    }
   ],
   "source": [
    "model_3.fit(x_train, y_train, epochs = 40, callbacks = callbacks, batch_size = 32, validation_data = (x_test, y_test), verbose = 1)"
   ]
  },
  {
   "cell_type": "code",
   "execution_count": 212,
   "metadata": {},
   "outputs": [],
   "source": [
    "predictions = np.argmax(model_3.predict(final_test), axis = 1)"
   ]
  },
  {
   "cell_type": "code",
   "execution_count": 213,
   "metadata": {},
   "outputs": [
    {
     "name": "stdout",
     "output_type": "stream",
     "text": [
      "              precision    recall  f1-score   support\n",
      "\n",
      "           0       0.96      0.99      0.98     17606\n",
      "           1       0.85      0.56      0.67       838\n",
      "           2       0.94      0.93      0.93      1470\n",
      "           3       0.90      0.49      0.63       297\n",
      "           4       0.99      0.95      0.97      1680\n",
      "\n",
      "    accuracy                           0.96     21891\n",
      "   macro avg       0.93      0.78      0.84     21891\n",
      "weighted avg       0.96      0.96      0.96     21891\n",
      "\n"
     ]
    }
   ],
   "source": [
    "print(classification_report(predictions, test_df.iloc[:,187]))"
   ]
  },
  {
   "cell_type": "markdown",
   "metadata": {},
   "source": [
    "Last model shows a small improvement in the predictions and f1 scores for all of the different classes, and thus is selected as the best model."
   ]
  },
  {
   "cell_type": "code",
   "execution_count": 210,
   "metadata": {
    "scrolled": true
   },
   "outputs": [
    {
     "name": "stdout",
     "output_type": "stream",
     "text": [
      "[[17478    72    36    11     9]\n",
      " [  358   470     9     0     1]\n",
      " [   94     9  1360     6     1]\n",
      " [  111     4    36   145     1]\n",
      " [   76     1     7     0  1596]]\n"
     ]
    }
   ],
   "source": [
    "print(confusion_matrix(predictions, test_df.iloc[:,187]))"
   ]
  },
  {
   "cell_type": "code",
   "execution_count": 217,
   "metadata": {},
   "outputs": [
    {
     "name": "stdout",
     "output_type": "stream",
     "text": [
      "WARNING:tensorflow:No training configuration found in save file: the model was *not* compiled. Compile it manually.\n"
     ]
    }
   ],
   "source": [
    "final_model = tf.keras.models.load_model('best_model.h5')"
   ]
  },
  {
   "cell_type": "code",
   "execution_count": 218,
   "metadata": {},
   "outputs": [],
   "source": [
    "final_model.compile(optimizer= 'adam', loss='categorical_crossentropy',metrics = [tf.keras.metrics.Precision(), 'accuracy'])"
   ]
  },
  {
   "cell_type": "code",
   "execution_count": 247,
   "metadata": {},
   "outputs": [
    {
     "data": {
      "text/plain": [
       "<tf.Tensor 'conv1d_14_input_2:0' shape=(None, 186, 1) dtype=float32>"
      ]
     },
     "execution_count": 247,
     "metadata": {},
     "output_type": "execute_result"
    }
   ],
   "source": [
    "final_model.input"
   ]
  },
  {
   "cell_type": "code",
   "execution_count": 252,
   "metadata": {},
   "outputs": [],
   "source": [
    "layer_outputs = [layer.output for layer in final_model.layers[:]] \n",
    "# Extracts the outputs of the top 12 layers\n",
    "activation_model = tf.keras.models.Model(inputs=final_model.input, outputs=layer_outputs)"
   ]
  },
  {
   "cell_type": "code",
   "execution_count": 263,
   "metadata": {},
   "outputs": [],
   "source": [
    "activations = activation_model.predict(final_test[0].reshape(1,186,1)) \n"
   ]
  },
  {
   "cell_type": "code",
   "execution_count": 272,
   "metadata": {
    "scrolled": true
   },
   "outputs": [
    {
     "name": "stdout",
     "output_type": "stream",
     "text": [
      "(1, 186, 32)\n"
     ]
    }
   ],
   "source": [
    "first_layer_activation = activations[0]\n",
    "print(first_layer_activation.shape)"
   ]
  },
  {
   "cell_type": "code",
   "execution_count": 324,
   "metadata": {},
   "outputs": [
    {
     "name": "stdout",
     "output_type": "stream",
     "text": [
      "(1, 93, 32)\n"
     ]
    }
   ],
   "source": [
    "second_layer_activation = activations[2]\n",
    "print(second_layer_activation.shape)"
   ]
  },
  {
   "cell_type": "code",
   "execution_count": null,
   "metadata": {},
   "outputs": [],
   "source": [
    "third_layer_activation = activations[3]\n",
    "print(third_layer_activation.shape)"
   ]
  },
  {
   "cell_type": "code",
   "execution_count": 295,
   "metadata": {
    "scrolled": true
   },
   "outputs": [
    {
     "data": {
      "text/plain": [
       "[<matplotlib.lines.Line2D at 0x23fb82edf48>]"
      ]
     },
     "execution_count": 295,
     "metadata": {},
     "output_type": "execute_result"
    },
    {
     "data": {
      "image/png": "[encoded data removed]",
      "text/plain": [
       "<Figure size 432x288 with 1 Axes>"
      ]
     },
     "metadata": {
      "needs_background": "light"
     },
     "output_type": "display_data"
    }
   ],
   "source": [
    "plt.plot(first_layer_activation[0][:,1])"
   ]
  },
  {
   "cell_type": "markdown",
   "metadata": {},
   "source": [
    "Example for how the activation looks for a single filter in the first layer activation"
   ]
  },
  {
   "cell_type": "code",
   "execution_count": 333,
   "metadata": {},
   "outputs": [
    {
     "data": {
      "image/png": "[encoded data removed]",
      "text/plain": [
       "<Figure size 720x360 with 32 Axes>"
      ]
     },
     "metadata": {
      "needs_background": "light"
     },
     "output_type": "display_data"
    }
   ],
   "source": [
    "figure, axes = plt.subplots(nrows=4, ncols=8)\n",
    "counter = -1\n",
    "for i in range(0,4):\n",
    "    for j in range(0,8):\n",
    "        counter += 1\n",
    "        axes[i,j].plot(first_layer_activation[0][:,counter])\n",
    "        axes[i,j].set_xticklabels([])\n",
    "        axes[i,j].set_yticklabels([])\n",
    "figure.suptitle(\"Relu activations for 1st Convolutional layer\")       \n",
    "figure.set_size_inches(10, 5)\n",
    "            "
   ]
  },
  {
   "cell_type": "code",
   "execution_count": 332,
   "metadata": {},
   "outputs": [
    {
     "data": {
      "image/png": "[encoded data removed]",
      "text/plain": [
       "<Figure size 720x360 with 32 Axes>"
      ]
     },
     "metadata": {
      "needs_background": "light"
     },
     "output_type": "display_data"
    }
   ],
   "source": [
    "figure, axes = plt.subplots(nrows=4, ncols=8)\n",
    "counter = -1\n",
    "for i in range(0,4):\n",
    "    for j in range(0,8):\n",
    "        counter += 1\n",
    "        axes[i,j].plot(second_layer_activation[0][:,counter])\n",
    "        axes[i,j].set_xticklabels([])\n",
    "        axes[i,j].set_yticklabels([])\n",
    "figure.suptitle(\"Max Pooling after 1st Convolutional layer\")       \n",
    "figure.set_size_inches(10, 5)\n",
    "            "
   ]
  },
  {
   "cell_type": "code",
   "execution_count": 331,
   "metadata": {},
   "outputs": [
    {
     "data": {
      "image/png": "[encoded data removed]",
      "text/plain": [
       "<Figure size 720x576 with 64 Axes>"
      ]
     },
     "metadata": {
      "needs_background": "light"
     },
     "output_type": "display_data"
    }
   ],
   "source": [
    "figure, axes = plt.subplots(nrows=8, ncols=8)\n",
    "counter = -1\n",
    "for i in range(0,8):\n",
    "    for j in range(0,8):\n",
    "        counter += 1\n",
    "        axes[i,j].plot(third_layer_activation[0][:,counter])\n",
    "        axes[i,j].set_xticklabels([])\n",
    "        axes[i,j].set_yticklabels([])\n",
    "figure.suptitle(\"Relu activations for 2nd Convolutional layer\")\n",
    "figure.set_size_inches(10, 8)\n"
   ]
  },
  {
   "cell_type": "markdown",
   "metadata": {},
   "source": [
    "## Conclusions:\n",
    "\n",
    "- Convolutional neural networks for 1 dimensional data yeild good results in terms of accuracy and precision.\n",
    "- Convolutional neural networks tend to have an inverse triangle structure on which they perform better, extracting general features in their first layers, and then combining these to correclty classify the data.\n",
    "- The visualization of what are the activations of the CNNs shows some patterns that resemble usual EKGs, with peaks of voltage at single points (Corresponding to the QRS complex)."
   ]
  }
 ],
 "metadata": {
  "kernelspec": {
   "display_name": "Python 3",
   "language": "python",
   "name": "python3"
  },
  "language_info": {
   "codemirror_mode": {
    "name": "ipython",
    "version": 3
   },
   "file_extension": ".py",
   "mimetype": "text/x-python",
   "name": "python",
   "nbconvert_exporter": "python",
   "pygments_lexer": "ipython3",
   "version": "3.7.3"
  }
 },
 "nbformat": 4,
 "nbformat_minor": 4
}
